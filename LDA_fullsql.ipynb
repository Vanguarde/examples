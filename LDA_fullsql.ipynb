{
 "cells": [
  {
   "cell_type": "code",
   "execution_count": 1,
   "metadata": {
    "ExecuteTime": {
     "end_time": "2021-01-19T08:03:30.913919Z",
     "start_time": "2021-01-19T08:02:43.133597Z"
    }
   },
   "outputs": [
    {
     "name": "stderr",
     "output_type": "stream",
     "text": [
      "D:\\Anaconda3\\lib\\site-packages\\scipy\\sparse\\sparsetools.py:21: DeprecationWarning: `scipy.sparse.sparsetools` is deprecated!\n",
      "scipy.sparse.sparsetools is a private module for scipy.sparse, and should not be used.\n",
      "  _deprecated()\n"
     ]
    }
   ],
   "source": [
    "from sqlalchemy import create_engine\n",
    "import pandas as pd\n",
    "import pymorphy2\n",
    "from nltk import word_tokenize, ngrams\n",
    "from tqdm.notebook import tqdm\n",
    "import artm\n",
    "from matplotlib import pyplot as plt\n",
    "%matplotlib inline\n",
    "import re\n",
    "from gensim.models import CoherenceModel\n",
    "from gensim.models import LdaMulticore\n",
    "import gensim\n",
    "import gensim.corpora as corpora\n",
    "from gensim.utils import simple_preprocess\n",
    "\n",
    "import pyLDAvis\n",
    "import pyLDAvis.gensim  # don't skip this\n",
    "import matplotlib.pyplot as plt\n",
    "%matplotlib inline\n",
    "\n",
    "from nltk.corpus import stopwords\n",
    "from multiprocessing.dummy import Pool as ThreadPool\n",
    "import pickle\n",
    "\n",
    "import warnings\n",
    "warnings.filterwarnings(\"ignore\")"
   ]
  },
  {
   "cell_type": "code",
   "execution_count": 2,
   "metadata": {
    "ExecuteTime": {
     "end_time": "2021-01-19T08:03:30.947502Z",
     "start_time": "2021-01-19T08:03:30.915585Z"
    }
   },
   "outputs": [],
   "source": [
    "def compute_coherence_values(corpus, dictionary, k, a, b):\n",
    "    \n",
    "    lda_model = gensim.models.LdaMulticore(corpus=corpus,\n",
    "                                           id2word=id2word,\n",
    "                                           num_topics=k, \n",
    "                                           random_state=100,\n",
    "                                           chunksize=100,\n",
    "                                           passes=10,\n",
    "                                           alpha=a,\n",
    "                                           eta=b,\n",
    "                                           per_word_topics=True)\n",
    "    \n",
    "    coherence_model_lda = CoherenceModel(model=lda_model, texts=data_lemmatized, dictionary=id2word, coherence='c_v')\n",
    "    \n",
    "    return coherence_model_lda.get_coherence()\n",
    "\n",
    "def remove_stopwords(text, check_status=True):\n",
    "    stop_list = stopwords.words('russian')\n",
    "    stop_list_2 = [\"c\",\"а\",\"алло\",\"без\",\"белый\",\"близко\",\"более\",\"больше\",\"большой\",\"будем\",\"будет\",\"будете\",\"будешь\",\"будто\",\"буду\",\"будут\",\"будь\",\"бы\",\"бывает\",\"бывь\",\"был\",\"была\",\"были\",\"было\",\"быть\",\"в\",\"важная\",\"важное\",\"важные\",\"важный\",\"вам\",\"вами\",\"вас\",\"ваш\",\"ваша\",\"ваше\",\"ваши\",\"вверх\",\"вдали\",\"вдруг\",\"ведь\",\"везде\",\"вернуться\",\"весь\",\"вечер\",\"взгляд\",\"взять\",\"вид\",\"видел\",\"видеть\",\"вместе\",\"вне\",\"вниз\",\"внизу\",\"во\",\"вода\",\"война\",\"вокруг\",\"вон\",\"вообще\",\"вопрос\",\"восемнадцатый\",\"восемнадцать\",\"восемь\",\"восьмой\",\"вот\",\"впрочем\",\"времени\",\"время\",\"все\",\"все еще\",\"всегда\",\"всего\",\"всем\",\"всеми\",\"всему\",\"всех\",\"всею\",\"всю\",\"всюду\",\"вся\",\"всё\",\"второй\",\"вы\",\"выйти\",\"г\",\"где\",\"главный\",\"глаз\",\"говорил\",\"говорит\",\"говорить\",\"год\",\"года\",\"году\",\"голова\",\"голос\",\"город\",\"да\",\"давать\",\"давно\",\"даже\",\"далекий\",\"далеко\",\"дальше\",\"даром\",\"дать\",\"два\",\"двадцатый\",\"двадцать\",\"две\",\"двенадцатый\",\"двенадцать\",\"дверь\",\"двух\",\"девятнадцатый\",\"девятнадцать\",\"девятый\",\"девять\",\"действительно\",\"дел\",\"делал\",\"делать\",\"делаю\",\"дело\",\"день\",\"деньги\",\"десятый\",\"десять\",\"для\",\"до\",\"довольно\",\"долго\",\"должен\",\"должно\",\"должный\",\"дом\",\"дорога\",\"друг\",\"другая\",\"другие\",\"других\",\"друго\",\"другое\",\"другой\",\"думать\",\"душа\",\"е\",\"его\",\"ее\",\"ей\",\"ему\",\"если\",\"есть\",\"еще\",\"ещё\",\"ею\",\"её\",\"ж\",\"ждать\",\"же\",\"жена\",\"женщина\",\"жизнь\",\"жить\",\"за\",\"занят\",\"занята\",\"занято\",\"заняты\",\"затем\",\"зато\",\"зачем\",\"здесь\",\"земля\",\"знать\",\"значит\",\"значить\",\"и\",\"иди\",\"идти\",\"из\",\"или\",\"им\",\"имеет\",\"имел\",\"именно\",\"иметь\",\"ими\",\"имя\",\"иногда\",\"их\",\"к\",\"каждая\",\"каждое\",\"каждые\",\"каждый\",\"кажется\",\"казаться\",\"как\",\"какая\",\"какой\",\"кем\",\"книга\",\"когда\",\"кого\",\"ком\",\"комната\",\"кому\",\"конец\",\"конечно\",\"которая\",\"которого\",\"которой\",\"которые\",\"который\",\"которых\",\"кроме\",\"кругом\",\"кто\",\"куда\",\"лежать\",\"лет\",\"ли\",\"лицо\",\"лишь\",\"лучше\",\"любить\",\"люди\",\"м\",\"маленький\",\"мало\",\"мать\",\"машина\",\"между\",\"меля\",\"менее\",\"меньше\",\"меня\",\"место\",\"миллионов\",\"мимо\",\"минута\",\"мир\",\"мира\",\"мне\",\"много\",\"многочисленная\",\"многочисленное\",\"многочисленные\",\"многочисленный\",\"мной\",\"мною\",\"мог\",\"могу\",\"могут\",\"мож\",\"может\",\"может быть\",\"можно\",\"можхо\",\"мои\",\"мой\",\"мор\",\"москва\",\"мочь\",\"моя\",\"моё\",\"мы\",\"на\",\"наверху\",\"над\",\"надо\",\"назад\",\"наиболее\",\"найти\",\"наконец\",\"нам\",\"нами\",\"народ\",\"нас\",\"начала\",\"начать\",\"наш\",\"наша\",\"наше\",\"наши\",\"не\",\"него\",\"недавно\",\"недалеко\",\"нее\",\"ней\",\"некоторый\",\"нельзя\",\"нем\",\"немного\",\"нему\",\"непрерывно\",\"нередко\",\"несколько\",\"нет\",\"нею\",\"неё\",\"ни\",\"нибудь\",\"ниже\",\"низко\",\"никакой\",\"никогда\",\"никто\",\"никуда\",\"ним\",\"ними\",\"них\",\"ничего\",\"ничто\",\"но\",\"новый\",\"нога\",\"ночь\",\"ну\",\"нужно\",\"нужный\",\"нх\",\"о\",\"об\",\"оба\",\"обычно\",\"один\",\"одиннадцатый\",\"одиннадцать\",\"однажды\",\"однако\",\"одного\",\"одной\",\"оказаться\",\"окно\",\"около\",\"он\",\"она\",\"они\",\"оно\",\"опять\",\"особенно\",\"остаться\",\"от\",\"ответить\",\"отец\",\"откуда\",\"отовсюду\",\"отсюда\",\"очень\",\"первый\",\"перед\",\"писать\",\"плечо\",\"по\",\"под\",\"подойди\",\"подумать\",\"пожалуйста\",\"позже\",\"пойти\",\"пока\",\"пол\",\"получить\",\"помнить\",\"понимать\",\"понять\",\"пор\",\"пора\",\"после\",\"последний\",\"посмотреть\",\"посреди\",\"потом\",\"потому\",\"почему\",\"почти\",\"правда\",\"прекрасно\",\"при\",\"про\",\"просто\",\"против\",\"процентов\",\"путь\",\"пятнадцатый\",\"пятнадцать\",\"пятый\",\"пять\",\"работа\",\"работать\",\"раз\",\"разве\",\"рано\",\"раньше\",\"ребенок\",\"решить\",\"россия\",\"рука\",\"русский\",\"ряд\",\"рядом\",\"с\",\"с кем\",\"сам\",\"сама\",\"сами\",\"самим\",\"самими\",\"самих\",\"само\",\"самого\",\"самой\",\"самом\",\"самому\",\"саму\",\"самый\",\"свет\",\"свое\",\"своего\",\"своей\",\"свои\",\"своих\",\"свой\",\"свою\",\"сделать\",\"сеаой\",\"себе\",\"себя\",\"сегодня\",\"седьмой\",\"сейчас\",\"семнадцатый\",\"семнадцать\",\"семь\",\"сидеть\",\"сила\",\"сих\",\"сказал\",\"сказала\",\"сказать\",\"сколько\",\"слишком\",\"слово\",\"случай\",\"смотреть\",\"сначала\",\"снова\",\"со\",\"собой\",\"собою\",\"советский\",\"совсем\",\"спасибо\",\"спросить\",\"сразу\",\"стал\",\"старый\",\"стать\",\"стол\",\"сторона\",\"стоять\",\"страна\",\"суть\",\"считать\",\"т\",\"та\",\"так\",\"такая\",\"также\",\"таки\",\"такие\",\"такое\",\"такой\",\"там\",\"твои\",\"твой\",\"твоя\",\"твоё\",\"те\",\"тебе\",\"тебя\",\"тем\",\"теми\",\"теперь\",\"тех\",\"то\",\"тобой\",\"тобою\",\"товарищ\",\"тогда\",\"того\",\"тоже\",\"только\",\"том\",\"тому\",\"тот\",\"тою\",\"третий\",\"три\",\"тринадцатый\",\"тринадцать\",\"ту\",\"туда\",\"тут\",\"ты\",\"тысяч\",\"у\",\"увидеть\",\"уж\",\"уже\",\"улица\",\"уметь\",\"утро\",\"хороший\",\"хорошо\",\"хотел бы\",\"хотеть\",\"хоть\",\"хотя\",\"хочешь\",\"час\",\"часто\",\"часть\",\"чаще\",\"чего\",\"человек\",\"чем\",\"чему\",\"через\",\"четвертый\",\"четыре\",\"четырнадцатый\",\"четырнадцать\",\"что\",\"чтоб\",\"чтобы\",\"чуть\",\"шестнадцатый\",\"шестнадцать\",\"шестой\",\"шесть\",\"эта\",\"эти\",\"этим\",\"этими\",\"этих\",\"это\",\"этого\",\"этой\",\"этом\",\"этому\",\"этот\",\"эту\",\"я\",\"являюсь\"]\n",
    "    with open('RussianStopWords.txt', encoding='utf-8') as stops:\n",
    "        heh = stops.read()\n",
    "        stop_list_3 = heh.split('\\n')\n",
    "    stops.close()\n",
    "    set_stop = set(stop_list)\n",
    "    set_stop.update(stop_list_2)\n",
    "    set_stop.update(stop_list_3)\n",
    "    # тут еще мои добавочки, слова связанные с регионами ниже убираю\n",
    "    set_stop.update(['россия', 'российский', 'рубль', 'нажать', 'ошибка', 'выделить', 'текст', 'наслать', 'версия', 'пожалуйста', \n",
    "                     'интересно', 'фрагмент', 'мочь', 'свой', 'весь', 'очень', 'подписаться', 'яндекс', 'дзен', 'новость', 'новости',\n",
    "                     'гугл', 'январь', 'февраль', 'март', 'апрель', 'май', 'июнь', 'июль', 'август', 'сентябрь', 'октябрь',\n",
    "                     'ноябрь', 'декабрь', 'область', 'район', 'регион', 'глава', 'региональный', 'летний', 'зимний', 'осенний',\n",
    "                     'зимний', 'тысяча', 'миллион', 'миллиард', 'триллион', 'президент', 'премьер-министр', 'губернатор',\n",
    "                     'город', 'зима', 'весна', 'лето', 'осень', 'число', 'поэтому', 'нижний', 'новгород', 'фото', 'рассказать',\n",
    "                     'сообщить', 'неделя', 'сутки', 'месяц', 'год', 'результат', 'млрд', 'млн', 'трлн', 'руб', 'нижний',\n",
    "                     'новгород', 'поделиться', 'например', 'многие', 'ранее', 'акция', 'сотрудник'])\n",
    "    locs = pd.read_csv('locs.csv', header=None)\n",
    "    city_list = list(locs[2])\n",
    "    for i in range(len(city_list)):\n",
    "        city_list[i] = city_list[i].replace('ж/д ', '').replace('с ', '').replace('п ', '').replace('рзд ', '').replace('ст ', '')\n",
    "        city_list[i] = city_list[i].lower()\n",
    "    set_stop.update(city_list)\n",
    "    prilag_stops = ['удмурт', 'нижегород', 'татар', 'мордв', 'марий', 'самар', 'киров', 'сарат', 'пенз', 'чуваш', 'ульян']\n",
    "    \n",
    "    morph = pymorphy2.MorphAnalyzer()\n",
    "    words = []\n",
    "    if check_status:\n",
    "        txt_news = tqdm(text)\n",
    "    else:\n",
    "        txt_news = text\n",
    "    for news_proc in txt_news:\n",
    "        news_proc = word_tokenize(news_proc[0])\n",
    "        words_lem = []\n",
    "        for word in news_proc:\n",
    "            p = morph.parse(word)\n",
    "            lem = word\n",
    "            #убираем мусор из стоп-листа и имена с фамилиями\n",
    "            if word not in set_stop and not ('Surn' in p[0].tag or 'Name' in p[0].tag) and len(lem) > 3:\n",
    "                if not any(prilag in lem for prilag in prilag_stops):\n",
    "                    words_lem.append(lem)\n",
    "        words.append(words_lem)\n",
    "    return words\n",
    "\n",
    "def make_bigrams(texts, save=False):\n",
    "    bigram = gensim.models.Phrases(texts, min_count=5, threshold=50)\n",
    "    bigram_mod = gensim.models.phrases.Phraser(bigram)\n",
    "    if save:\n",
    "        bigram.save('model/grams/bigrams.phs')\n",
    "        try:\n",
    "            bigram.save('model/grams/bigrams.pkl')\n",
    "        except:\n",
    "            pass\n",
    "    print('создаем биграммы')\n",
    "    return [bigram_mod[doc] for doc in tqdm(texts)]\n",
    "\n",
    "def make_trigrams(texts, save=False):\n",
    "    trigram = gensim.models.Phrases(texts, min_count=5, threshold=50)\n",
    "    trigram_mod = gensim.models.phrases.Phraser(trigram)\n",
    "    if save:\n",
    "        trigram.save('model/grams/trigrams.phs')\n",
    "        try:\n",
    "            trigram.save('model/grams/trigrams.pkl')\n",
    "        except:\n",
    "            pass\n",
    "    print('создаем триграммы')\n",
    "    return [trigram_mod[doc] for doc in tqdm(texts)]"
   ]
  },
  {
   "cell_type": "code",
   "execution_count": 45,
   "metadata": {
    "ExecuteTime": {
     "end_time": "2021-01-17T09:53:04.799905Z",
     "start_time": "2021-01-17T09:53:04.797485Z"
    }
   },
   "outputs": [],
   "source": [
    "import csv"
   ]
  },
  {
   "cell_type": "code",
   "execution_count": null,
   "metadata": {
    "ExecuteTime": {
     "start_time": "2021-01-18T06:30:06.457Z"
    }
   },
   "outputs": [],
   "source": [
    "bigram = gensim.models.Phrases(text, min_count=5, threshold=50)"
   ]
  },
  {
   "cell_type": "code",
   "execution_count": null,
   "metadata": {},
   "outputs": [],
   "source": [
    "bigram.save('model/grams/bigrams.phs')"
   ]
  },
  {
   "cell_type": "code",
   "execution_count": 47,
   "metadata": {
    "ExecuteTime": {
     "end_time": "2021-01-17T10:08:22.982266Z",
     "start_time": "2021-01-17T09:54:09.438367Z"
    }
   },
   "outputs": [],
   "source": [
    "with open('model/text_ready_full/text_full.txt', 'w') as tx:\n",
    "    writer = csv.writer(tx)\n",
    "    writer.writerows(text)\n",
    "    tx.close()"
   ]
  },
  {
   "cell_type": "code",
   "execution_count": 52,
   "metadata": {
    "ExecuteTime": {
     "end_time": "2021-01-17T16:25:17.437309Z",
     "start_time": "2021-01-17T15:45:48.072211Z"
    }
   },
   "outputs": [
    {
     "ename": "MemoryError",
     "evalue": "",
     "output_type": "error",
     "traceback": [
      "\u001b[1;31m---------------------------------------------------------------------------\u001b[0m",
      "\u001b[1;31mTypeError\u001b[0m                                 Traceback (most recent call last)",
      "\u001b[1;32mD:\\Anaconda3\\lib\\site-packages\\gensim\\utils.py\u001b[0m in \u001b[0;36msave\u001b[1;34m(self, fname_or_handle, separately, sep_limit, ignore, pickle_protocol)\u001b[0m\n\u001b[0;32m    700\u001b[0m         \u001b[1;32mtry\u001b[0m\u001b[1;33m:\u001b[0m\u001b[1;33m\u001b[0m\u001b[1;33m\u001b[0m\u001b[0m\n\u001b[1;32m--> 701\u001b[1;33m             \u001b[0m_pickle\u001b[0m\u001b[1;33m.\u001b[0m\u001b[0mdump\u001b[0m\u001b[1;33m(\u001b[0m\u001b[0mself\u001b[0m\u001b[1;33m,\u001b[0m \u001b[0mfname_or_handle\u001b[0m\u001b[1;33m,\u001b[0m \u001b[0mprotocol\u001b[0m\u001b[1;33m=\u001b[0m\u001b[0mpickle_protocol\u001b[0m\u001b[1;33m)\u001b[0m\u001b[1;33m\u001b[0m\u001b[1;33m\u001b[0m\u001b[0m\n\u001b[0m\u001b[0;32m    702\u001b[0m             \u001b[0mlogger\u001b[0m\u001b[1;33m.\u001b[0m\u001b[0minfo\u001b[0m\u001b[1;33m(\u001b[0m\u001b[1;34m\"saved %s object\"\u001b[0m\u001b[1;33m,\u001b[0m \u001b[0mself\u001b[0m\u001b[1;33m.\u001b[0m\u001b[0m__class__\u001b[0m\u001b[1;33m.\u001b[0m\u001b[0m__name__\u001b[0m\u001b[1;33m)\u001b[0m\u001b[1;33m\u001b[0m\u001b[1;33m\u001b[0m\u001b[0m\n",
      "\u001b[1;31mTypeError\u001b[0m: file must have a 'write' attribute",
      "\nDuring handling of the above exception, another exception occurred:\n",
      "\u001b[1;31mMemoryError\u001b[0m                               Traceback (most recent call last)",
      "\u001b[1;32m<ipython-input-52-5b8bb14bfadd>\u001b[0m in \u001b[0;36m<module>\u001b[1;34m\u001b[0m\n\u001b[1;32m----> 1\u001b[1;33m \u001b[0mtext_text\u001b[0m \u001b[1;33m=\u001b[0m \u001b[0mmake_bigrams\u001b[0m\u001b[1;33m(\u001b[0m\u001b[0mtext\u001b[0m\u001b[1;33m,\u001b[0m \u001b[0msave\u001b[0m\u001b[1;33m=\u001b[0m\u001b[1;32mTrue\u001b[0m\u001b[1;33m)\u001b[0m\u001b[1;33m\u001b[0m\u001b[1;33m\u001b[0m\u001b[0m\n\u001b[0m\u001b[0;32m      2\u001b[0m \u001b[0mtext_text\u001b[0m \u001b[1;33m=\u001b[0m \u001b[0mmake_trigrams\u001b[0m\u001b[1;33m(\u001b[0m\u001b[0mtext_text\u001b[0m\u001b[1;33m,\u001b[0m \u001b[0msave\u001b[0m\u001b[1;33m=\u001b[0m\u001b[1;32mTrue\u001b[0m\u001b[1;33m)\u001b[0m\u001b[1;33m\u001b[0m\u001b[1;33m\u001b[0m\u001b[0m\n",
      "\u001b[1;32m<ipython-input-50-957ba33a44ef>\u001b[0m in \u001b[0;36mmake_bigrams\u001b[1;34m(texts, save)\u001b[0m\n\u001b[0;32m     65\u001b[0m     \u001b[0mbigram_mod\u001b[0m \u001b[1;33m=\u001b[0m \u001b[0mgensim\u001b[0m\u001b[1;33m.\u001b[0m\u001b[0mmodels\u001b[0m\u001b[1;33m.\u001b[0m\u001b[0mphrases\u001b[0m\u001b[1;33m.\u001b[0m\u001b[0mPhraser\u001b[0m\u001b[1;33m(\u001b[0m\u001b[0mbigram\u001b[0m\u001b[1;33m)\u001b[0m\u001b[1;33m\u001b[0m\u001b[1;33m\u001b[0m\u001b[0m\n\u001b[0;32m     66\u001b[0m     \u001b[1;32mif\u001b[0m \u001b[0msave\u001b[0m\u001b[1;33m:\u001b[0m\u001b[1;33m\u001b[0m\u001b[1;33m\u001b[0m\u001b[0m\n\u001b[1;32m---> 67\u001b[1;33m         \u001b[0mbigram\u001b[0m\u001b[1;33m.\u001b[0m\u001b[0msave\u001b[0m\u001b[1;33m(\u001b[0m\u001b[1;34m'./model/bigram_mod_full.phs'\u001b[0m\u001b[1;33m)\u001b[0m\u001b[1;33m\u001b[0m\u001b[1;33m\u001b[0m\u001b[0m\n\u001b[0m\u001b[0;32m     68\u001b[0m         \u001b[1;32mtry\u001b[0m\u001b[1;33m:\u001b[0m\u001b[1;33m\u001b[0m\u001b[1;33m\u001b[0m\u001b[0m\n\u001b[0;32m     69\u001b[0m             \u001b[0mbigram\u001b[0m\u001b[1;33m.\u001b[0m\u001b[0msave\u001b[0m\u001b[1;33m(\u001b[0m\u001b[1;34m'./model/bigram_mod_full.pkl'\u001b[0m\u001b[1;33m)\u001b[0m\u001b[1;33m\u001b[0m\u001b[1;33m\u001b[0m\u001b[0m\n",
      "\u001b[1;32mD:\\Anaconda3\\lib\\site-packages\\gensim\\utils.py\u001b[0m in \u001b[0;36msave\u001b[1;34m(self, fname_or_handle, separately, sep_limit, ignore, pickle_protocol)\u001b[0m\n\u001b[0;32m    702\u001b[0m             \u001b[0mlogger\u001b[0m\u001b[1;33m.\u001b[0m\u001b[0minfo\u001b[0m\u001b[1;33m(\u001b[0m\u001b[1;34m\"saved %s object\"\u001b[0m\u001b[1;33m,\u001b[0m \u001b[0mself\u001b[0m\u001b[1;33m.\u001b[0m\u001b[0m__class__\u001b[0m\u001b[1;33m.\u001b[0m\u001b[0m__name__\u001b[0m\u001b[1;33m)\u001b[0m\u001b[1;33m\u001b[0m\u001b[1;33m\u001b[0m\u001b[0m\n\u001b[0;32m    703\u001b[0m         \u001b[1;32mexcept\u001b[0m \u001b[0mTypeError\u001b[0m\u001b[1;33m:\u001b[0m  \u001b[1;31m# `fname_or_handle` does not have write attribute\u001b[0m\u001b[1;33m\u001b[0m\u001b[1;33m\u001b[0m\u001b[0m\n\u001b[1;32m--> 704\u001b[1;33m             \u001b[0mself\u001b[0m\u001b[1;33m.\u001b[0m\u001b[0m_smart_save\u001b[0m\u001b[1;33m(\u001b[0m\u001b[0mfname_or_handle\u001b[0m\u001b[1;33m,\u001b[0m \u001b[0mseparately\u001b[0m\u001b[1;33m,\u001b[0m \u001b[0msep_limit\u001b[0m\u001b[1;33m,\u001b[0m \u001b[0mignore\u001b[0m\u001b[1;33m,\u001b[0m \u001b[0mpickle_protocol\u001b[0m\u001b[1;33m=\u001b[0m\u001b[0mpickle_protocol\u001b[0m\u001b[1;33m)\u001b[0m\u001b[1;33m\u001b[0m\u001b[1;33m\u001b[0m\u001b[0m\n\u001b[0m\u001b[0;32m    705\u001b[0m \u001b[1;33m\u001b[0m\u001b[0m\n\u001b[0;32m    706\u001b[0m \u001b[1;33m\u001b[0m\u001b[0m\n",
      "\u001b[1;32mD:\\Anaconda3\\lib\\site-packages\\gensim\\utils.py\u001b[0m in \u001b[0;36m_smart_save\u001b[1;34m(self, fname, separately, sep_limit, ignore, pickle_protocol)\u001b[0m\n\u001b[0;32m    556\u001b[0m                                        compress, subname)\n\u001b[0;32m    557\u001b[0m         \u001b[1;32mtry\u001b[0m\u001b[1;33m:\u001b[0m\u001b[1;33m\u001b[0m\u001b[1;33m\u001b[0m\u001b[0m\n\u001b[1;32m--> 558\u001b[1;33m             \u001b[0mpickle\u001b[0m\u001b[1;33m(\u001b[0m\u001b[0mself\u001b[0m\u001b[1;33m,\u001b[0m \u001b[0mfname\u001b[0m\u001b[1;33m,\u001b[0m \u001b[0mprotocol\u001b[0m\u001b[1;33m=\u001b[0m\u001b[0mpickle_protocol\u001b[0m\u001b[1;33m)\u001b[0m\u001b[1;33m\u001b[0m\u001b[1;33m\u001b[0m\u001b[0m\n\u001b[0m\u001b[0;32m    559\u001b[0m         \u001b[1;32mfinally\u001b[0m\u001b[1;33m:\u001b[0m\u001b[1;33m\u001b[0m\u001b[1;33m\u001b[0m\u001b[0m\n\u001b[0;32m    560\u001b[0m             \u001b[1;31m# restore attribs handled specially\u001b[0m\u001b[1;33m\u001b[0m\u001b[1;33m\u001b[0m\u001b[1;33m\u001b[0m\u001b[0m\n",
      "\u001b[1;32mD:\\Anaconda3\\lib\\site-packages\\gensim\\utils.py\u001b[0m in \u001b[0;36mpickle\u001b[1;34m(obj, fname, protocol)\u001b[0m\n\u001b[0;32m   1376\u001b[0m     \"\"\"\n\u001b[0;32m   1377\u001b[0m     \u001b[1;32mwith\u001b[0m \u001b[0mopen\u001b[0m\u001b[1;33m(\u001b[0m\u001b[0mfname\u001b[0m\u001b[1;33m,\u001b[0m \u001b[1;34m'wb'\u001b[0m\u001b[1;33m)\u001b[0m \u001b[1;32mas\u001b[0m \u001b[0mfout\u001b[0m\u001b[1;33m:\u001b[0m  \u001b[1;31m# 'b' for binary, needed on Windows\u001b[0m\u001b[1;33m\u001b[0m\u001b[1;33m\u001b[0m\u001b[0m\n\u001b[1;32m-> 1378\u001b[1;33m         \u001b[0m_pickle\u001b[0m\u001b[1;33m.\u001b[0m\u001b[0mdump\u001b[0m\u001b[1;33m(\u001b[0m\u001b[0mobj\u001b[0m\u001b[1;33m,\u001b[0m \u001b[0mfout\u001b[0m\u001b[1;33m,\u001b[0m \u001b[0mprotocol\u001b[0m\u001b[1;33m=\u001b[0m\u001b[0mprotocol\u001b[0m\u001b[1;33m)\u001b[0m\u001b[1;33m\u001b[0m\u001b[1;33m\u001b[0m\u001b[0m\n\u001b[0m\u001b[0;32m   1379\u001b[0m \u001b[1;33m\u001b[0m\u001b[0m\n\u001b[0;32m   1380\u001b[0m \u001b[1;33m\u001b[0m\u001b[0m\n",
      "\u001b[1;31mMemoryError\u001b[0m: "
     ]
    }
   ],
   "source": [
    "text_text = make_bigrams(text, save=True)\n",
    "text_text = make_trigrams(text_text, save=True)"
   ]
  },
  {
   "cell_type": "code",
   "execution_count": 5,
   "metadata": {
    "ExecuteTime": {
     "end_time": "2021-01-15T14:07:39.840840Z",
     "start_time": "2021-01-15T14:02:56.467775Z"
    },
    "collapsed": true
   },
   "outputs": [
    {
     "data": {
      "application/vnd.jupyter.widget-view+json": {
       "model_id": "8575aebdb4c54e76953a232191421b5a",
       "version_major": 2,
       "version_minor": 0
      },
      "text/plain": [
       "HBox(children=(HTML(value=''), FloatProgress(value=0.0, max=691191.0), HTML(value='')))"
      ]
     },
     "metadata": {},
     "output_type": "display_data"
    },
    {
     "name": "stdout",
     "output_type": "stream",
     "text": [
      "\n"
     ]
    },
    {
     "ename": "TypeError",
     "evalue": "expected string or bytes-like object",
     "output_type": "error",
     "traceback": [
      "\u001b[1;31m---------------------------------------------------------------------------\u001b[0m",
      "\u001b[1;31mTypeError\u001b[0m                                 Traceback (most recent call last)",
      "\u001b[1;32m<ipython-input-5-a635a08551ce>\u001b[0m in \u001b[0;36m<module>\u001b[1;34m\u001b[0m\n\u001b[0;32m      2\u001b[0m \u001b[0msqlite_connection\u001b[0m \u001b[1;33m=\u001b[0m \u001b[0mengine\u001b[0m\u001b[1;33m.\u001b[0m\u001b[0mconnect\u001b[0m\u001b[1;33m(\u001b[0m\u001b[1;33m)\u001b[0m\u001b[1;33m\u001b[0m\u001b[1;33m\u001b[0m\u001b[0m\n\u001b[0;32m      3\u001b[0m \u001b[0mtext\u001b[0m \u001b[1;33m=\u001b[0m \u001b[0msqlite_connection\u001b[0m\u001b[1;33m.\u001b[0m\u001b[0mexecute\u001b[0m\u001b[1;33m(\u001b[0m\u001b[1;34m\"SELECT stemmed FROM news_db\"\u001b[0m\u001b[1;33m)\u001b[0m\u001b[1;33m.\u001b[0m\u001b[0mfetchall\u001b[0m\u001b[1;33m(\u001b[0m\u001b[1;33m)\u001b[0m\u001b[1;33m\u001b[0m\u001b[1;33m\u001b[0m\u001b[0m\n\u001b[1;32m----> 4\u001b[1;33m \u001b[0mtext\u001b[0m \u001b[1;33m=\u001b[0m \u001b[0mremove_stopwords\u001b[0m\u001b[1;33m(\u001b[0m\u001b[0mtext\u001b[0m\u001b[1;33m)\u001b[0m\u001b[1;33m\u001b[0m\u001b[1;33m\u001b[0m\u001b[0m\n\u001b[0m",
      "\u001b[1;32m<ipython-input-2-1533818aa116>\u001b[0m in \u001b[0;36mremove_stopwords\u001b[1;34m(text, check_status)\u001b[0m\n\u001b[0;32m     49\u001b[0m         \u001b[0mtxt_news\u001b[0m \u001b[1;33m=\u001b[0m \u001b[0mtext\u001b[0m\u001b[1;33m\u001b[0m\u001b[1;33m\u001b[0m\u001b[0m\n\u001b[0;32m     50\u001b[0m     \u001b[1;32mfor\u001b[0m \u001b[0mnews_proc\u001b[0m \u001b[1;32min\u001b[0m \u001b[0mtxt_news\u001b[0m\u001b[1;33m:\u001b[0m\u001b[1;33m\u001b[0m\u001b[1;33m\u001b[0m\u001b[0m\n\u001b[1;32m---> 51\u001b[1;33m         \u001b[0mnews_proc\u001b[0m \u001b[1;33m=\u001b[0m \u001b[0mword_tokenize\u001b[0m\u001b[1;33m(\u001b[0m\u001b[0mnews_proc\u001b[0m\u001b[1;33m)\u001b[0m\u001b[1;33m\u001b[0m\u001b[1;33m\u001b[0m\u001b[0m\n\u001b[0m\u001b[0;32m     52\u001b[0m         \u001b[0mwords_lem\u001b[0m \u001b[1;33m=\u001b[0m \u001b[1;33m[\u001b[0m\u001b[1;33m]\u001b[0m\u001b[1;33m\u001b[0m\u001b[1;33m\u001b[0m\u001b[0m\n\u001b[0;32m     53\u001b[0m         \u001b[1;32mfor\u001b[0m \u001b[0mword\u001b[0m \u001b[1;32min\u001b[0m \u001b[0mnews_proc\u001b[0m\u001b[1;33m:\u001b[0m\u001b[1;33m\u001b[0m\u001b[1;33m\u001b[0m\u001b[0m\n",
      "\u001b[1;32mD:\\Anaconda3\\lib\\site-packages\\nltk\\tokenize\\__init__.py\u001b[0m in \u001b[0;36mword_tokenize\u001b[1;34m(text, language, preserve_line)\u001b[0m\n\u001b[0;32m    127\u001b[0m     \u001b[1;33m:\u001b[0m\u001b[0mtype\u001b[0m \u001b[0mpreserve_line\u001b[0m\u001b[1;33m:\u001b[0m \u001b[0mbool\u001b[0m\u001b[1;33m\u001b[0m\u001b[1;33m\u001b[0m\u001b[0m\n\u001b[0;32m    128\u001b[0m     \"\"\"\n\u001b[1;32m--> 129\u001b[1;33m     \u001b[0msentences\u001b[0m \u001b[1;33m=\u001b[0m \u001b[1;33m[\u001b[0m\u001b[0mtext\u001b[0m\u001b[1;33m]\u001b[0m \u001b[1;32mif\u001b[0m \u001b[0mpreserve_line\u001b[0m \u001b[1;32melse\u001b[0m \u001b[0msent_tokenize\u001b[0m\u001b[1;33m(\u001b[0m\u001b[0mtext\u001b[0m\u001b[1;33m,\u001b[0m \u001b[0mlanguage\u001b[0m\u001b[1;33m)\u001b[0m\u001b[1;33m\u001b[0m\u001b[1;33m\u001b[0m\u001b[0m\n\u001b[0m\u001b[0;32m    130\u001b[0m     return [\n\u001b[0;32m    131\u001b[0m         \u001b[0mtoken\u001b[0m \u001b[1;32mfor\u001b[0m \u001b[0msent\u001b[0m \u001b[1;32min\u001b[0m \u001b[0msentences\u001b[0m \u001b[1;32mfor\u001b[0m \u001b[0mtoken\u001b[0m \u001b[1;32min\u001b[0m \u001b[0m_treebank_word_tokenizer\u001b[0m\u001b[1;33m.\u001b[0m\u001b[0mtokenize\u001b[0m\u001b[1;33m(\u001b[0m\u001b[0msent\u001b[0m\u001b[1;33m)\u001b[0m\u001b[1;33m\u001b[0m\u001b[1;33m\u001b[0m\u001b[0m\n",
      "\u001b[1;32mD:\\Anaconda3\\lib\\site-packages\\nltk\\tokenize\\__init__.py\u001b[0m in \u001b[0;36msent_tokenize\u001b[1;34m(text, language)\u001b[0m\n\u001b[0;32m    105\u001b[0m     \"\"\"\n\u001b[0;32m    106\u001b[0m     \u001b[0mtokenizer\u001b[0m \u001b[1;33m=\u001b[0m \u001b[0mload\u001b[0m\u001b[1;33m(\u001b[0m\u001b[1;34m\"tokenizers/punkt/{0}.pickle\"\u001b[0m\u001b[1;33m.\u001b[0m\u001b[0mformat\u001b[0m\u001b[1;33m(\u001b[0m\u001b[0mlanguage\u001b[0m\u001b[1;33m)\u001b[0m\u001b[1;33m)\u001b[0m\u001b[1;33m\u001b[0m\u001b[1;33m\u001b[0m\u001b[0m\n\u001b[1;32m--> 107\u001b[1;33m     \u001b[1;32mreturn\u001b[0m \u001b[0mtokenizer\u001b[0m\u001b[1;33m.\u001b[0m\u001b[0mtokenize\u001b[0m\u001b[1;33m(\u001b[0m\u001b[0mtext\u001b[0m\u001b[1;33m)\u001b[0m\u001b[1;33m\u001b[0m\u001b[1;33m\u001b[0m\u001b[0m\n\u001b[0m\u001b[0;32m    108\u001b[0m \u001b[1;33m\u001b[0m\u001b[0m\n\u001b[0;32m    109\u001b[0m \u001b[1;33m\u001b[0m\u001b[0m\n",
      "\u001b[1;32mD:\\Anaconda3\\lib\\site-packages\\nltk\\tokenize\\punkt.py\u001b[0m in \u001b[0;36mtokenize\u001b[1;34m(self, text, realign_boundaries)\u001b[0m\n\u001b[0;32m   1270\u001b[0m         \u001b[0mGiven\u001b[0m \u001b[0ma\u001b[0m \u001b[0mtext\u001b[0m\u001b[1;33m,\u001b[0m \u001b[0mreturns\u001b[0m \u001b[0ma\u001b[0m \u001b[0mlist\u001b[0m \u001b[0mof\u001b[0m \u001b[0mthe\u001b[0m \u001b[0msentences\u001b[0m \u001b[1;32min\u001b[0m \u001b[0mthat\u001b[0m \u001b[0mtext\u001b[0m\u001b[1;33m.\u001b[0m\u001b[1;33m\u001b[0m\u001b[1;33m\u001b[0m\u001b[0m\n\u001b[0;32m   1271\u001b[0m         \"\"\"\n\u001b[1;32m-> 1272\u001b[1;33m         \u001b[1;32mreturn\u001b[0m \u001b[0mlist\u001b[0m\u001b[1;33m(\u001b[0m\u001b[0mself\u001b[0m\u001b[1;33m.\u001b[0m\u001b[0msentences_from_text\u001b[0m\u001b[1;33m(\u001b[0m\u001b[0mtext\u001b[0m\u001b[1;33m,\u001b[0m \u001b[0mrealign_boundaries\u001b[0m\u001b[1;33m)\u001b[0m\u001b[1;33m)\u001b[0m\u001b[1;33m\u001b[0m\u001b[1;33m\u001b[0m\u001b[0m\n\u001b[0m\u001b[0;32m   1273\u001b[0m \u001b[1;33m\u001b[0m\u001b[0m\n\u001b[0;32m   1274\u001b[0m     \u001b[1;32mdef\u001b[0m \u001b[0mdebug_decisions\u001b[0m\u001b[1;33m(\u001b[0m\u001b[0mself\u001b[0m\u001b[1;33m,\u001b[0m \u001b[0mtext\u001b[0m\u001b[1;33m)\u001b[0m\u001b[1;33m:\u001b[0m\u001b[1;33m\u001b[0m\u001b[1;33m\u001b[0m\u001b[0m\n",
      "\u001b[1;32mD:\\Anaconda3\\lib\\site-packages\\nltk\\tokenize\\punkt.py\u001b[0m in \u001b[0;36msentences_from_text\u001b[1;34m(self, text, realign_boundaries)\u001b[0m\n\u001b[0;32m   1324\u001b[0m         \u001b[0mfollows\u001b[0m \u001b[0mthe\u001b[0m \u001b[0mperiod\u001b[0m\u001b[1;33m.\u001b[0m\u001b[1;33m\u001b[0m\u001b[1;33m\u001b[0m\u001b[0m\n\u001b[0;32m   1325\u001b[0m         \"\"\"\n\u001b[1;32m-> 1326\u001b[1;33m         \u001b[1;32mreturn\u001b[0m \u001b[1;33m[\u001b[0m\u001b[0mtext\u001b[0m\u001b[1;33m[\u001b[0m\u001b[0ms\u001b[0m\u001b[1;33m:\u001b[0m\u001b[0me\u001b[0m\u001b[1;33m]\u001b[0m \u001b[1;32mfor\u001b[0m \u001b[0ms\u001b[0m\u001b[1;33m,\u001b[0m \u001b[0me\u001b[0m \u001b[1;32min\u001b[0m \u001b[0mself\u001b[0m\u001b[1;33m.\u001b[0m\u001b[0mspan_tokenize\u001b[0m\u001b[1;33m(\u001b[0m\u001b[0mtext\u001b[0m\u001b[1;33m,\u001b[0m \u001b[0mrealign_boundaries\u001b[0m\u001b[1;33m)\u001b[0m\u001b[1;33m]\u001b[0m\u001b[1;33m\u001b[0m\u001b[1;33m\u001b[0m\u001b[0m\n\u001b[0m\u001b[0;32m   1327\u001b[0m \u001b[1;33m\u001b[0m\u001b[0m\n\u001b[0;32m   1328\u001b[0m     \u001b[1;32mdef\u001b[0m \u001b[0m_slices_from_text\u001b[0m\u001b[1;33m(\u001b[0m\u001b[0mself\u001b[0m\u001b[1;33m,\u001b[0m \u001b[0mtext\u001b[0m\u001b[1;33m)\u001b[0m\u001b[1;33m:\u001b[0m\u001b[1;33m\u001b[0m\u001b[1;33m\u001b[0m\u001b[0m\n",
      "\u001b[1;32mD:\\Anaconda3\\lib\\site-packages\\nltk\\tokenize\\punkt.py\u001b[0m in \u001b[0;36m<listcomp>\u001b[1;34m(.0)\u001b[0m\n\u001b[0;32m   1324\u001b[0m         \u001b[0mfollows\u001b[0m \u001b[0mthe\u001b[0m \u001b[0mperiod\u001b[0m\u001b[1;33m.\u001b[0m\u001b[1;33m\u001b[0m\u001b[1;33m\u001b[0m\u001b[0m\n\u001b[0;32m   1325\u001b[0m         \"\"\"\n\u001b[1;32m-> 1326\u001b[1;33m         \u001b[1;32mreturn\u001b[0m \u001b[1;33m[\u001b[0m\u001b[0mtext\u001b[0m\u001b[1;33m[\u001b[0m\u001b[0ms\u001b[0m\u001b[1;33m:\u001b[0m\u001b[0me\u001b[0m\u001b[1;33m]\u001b[0m \u001b[1;32mfor\u001b[0m \u001b[0ms\u001b[0m\u001b[1;33m,\u001b[0m \u001b[0me\u001b[0m \u001b[1;32min\u001b[0m \u001b[0mself\u001b[0m\u001b[1;33m.\u001b[0m\u001b[0mspan_tokenize\u001b[0m\u001b[1;33m(\u001b[0m\u001b[0mtext\u001b[0m\u001b[1;33m,\u001b[0m \u001b[0mrealign_boundaries\u001b[0m\u001b[1;33m)\u001b[0m\u001b[1;33m]\u001b[0m\u001b[1;33m\u001b[0m\u001b[1;33m\u001b[0m\u001b[0m\n\u001b[0m\u001b[0;32m   1327\u001b[0m \u001b[1;33m\u001b[0m\u001b[0m\n\u001b[0;32m   1328\u001b[0m     \u001b[1;32mdef\u001b[0m \u001b[0m_slices_from_text\u001b[0m\u001b[1;33m(\u001b[0m\u001b[0mself\u001b[0m\u001b[1;33m,\u001b[0m \u001b[0mtext\u001b[0m\u001b[1;33m)\u001b[0m\u001b[1;33m:\u001b[0m\u001b[1;33m\u001b[0m\u001b[1;33m\u001b[0m\u001b[0m\n",
      "\u001b[1;32mD:\\Anaconda3\\lib\\site-packages\\nltk\\tokenize\\punkt.py\u001b[0m in \u001b[0;36mspan_tokenize\u001b[1;34m(self, text, realign_boundaries)\u001b[0m\n\u001b[0;32m   1314\u001b[0m         \u001b[1;32mif\u001b[0m \u001b[0mrealign_boundaries\u001b[0m\u001b[1;33m:\u001b[0m\u001b[1;33m\u001b[0m\u001b[1;33m\u001b[0m\u001b[0m\n\u001b[0;32m   1315\u001b[0m             \u001b[0mslices\u001b[0m \u001b[1;33m=\u001b[0m \u001b[0mself\u001b[0m\u001b[1;33m.\u001b[0m\u001b[0m_realign_boundaries\u001b[0m\u001b[1;33m(\u001b[0m\u001b[0mtext\u001b[0m\u001b[1;33m,\u001b[0m \u001b[0mslices\u001b[0m\u001b[1;33m)\u001b[0m\u001b[1;33m\u001b[0m\u001b[1;33m\u001b[0m\u001b[0m\n\u001b[1;32m-> 1316\u001b[1;33m         \u001b[1;32mfor\u001b[0m \u001b[0msl\u001b[0m \u001b[1;32min\u001b[0m \u001b[0mslices\u001b[0m\u001b[1;33m:\u001b[0m\u001b[1;33m\u001b[0m\u001b[1;33m\u001b[0m\u001b[0m\n\u001b[0m\u001b[0;32m   1317\u001b[0m             \u001b[1;32myield\u001b[0m \u001b[1;33m(\u001b[0m\u001b[0msl\u001b[0m\u001b[1;33m.\u001b[0m\u001b[0mstart\u001b[0m\u001b[1;33m,\u001b[0m \u001b[0msl\u001b[0m\u001b[1;33m.\u001b[0m\u001b[0mstop\u001b[0m\u001b[1;33m)\u001b[0m\u001b[1;33m\u001b[0m\u001b[1;33m\u001b[0m\u001b[0m\n\u001b[0;32m   1318\u001b[0m \u001b[1;33m\u001b[0m\u001b[0m\n",
      "\u001b[1;32mD:\\Anaconda3\\lib\\site-packages\\nltk\\tokenize\\punkt.py\u001b[0m in \u001b[0;36m_realign_boundaries\u001b[1;34m(self, text, slices)\u001b[0m\n\u001b[0;32m   1355\u001b[0m         \"\"\"\n\u001b[0;32m   1356\u001b[0m         \u001b[0mrealign\u001b[0m \u001b[1;33m=\u001b[0m \u001b[1;36m0\u001b[0m\u001b[1;33m\u001b[0m\u001b[1;33m\u001b[0m\u001b[0m\n\u001b[1;32m-> 1357\u001b[1;33m         \u001b[1;32mfor\u001b[0m \u001b[0msl1\u001b[0m\u001b[1;33m,\u001b[0m \u001b[0msl2\u001b[0m \u001b[1;32min\u001b[0m \u001b[0m_pair_iter\u001b[0m\u001b[1;33m(\u001b[0m\u001b[0mslices\u001b[0m\u001b[1;33m)\u001b[0m\u001b[1;33m:\u001b[0m\u001b[1;33m\u001b[0m\u001b[1;33m\u001b[0m\u001b[0m\n\u001b[0m\u001b[0;32m   1358\u001b[0m             \u001b[0msl1\u001b[0m \u001b[1;33m=\u001b[0m \u001b[0mslice\u001b[0m\u001b[1;33m(\u001b[0m\u001b[0msl1\u001b[0m\u001b[1;33m.\u001b[0m\u001b[0mstart\u001b[0m \u001b[1;33m+\u001b[0m \u001b[0mrealign\u001b[0m\u001b[1;33m,\u001b[0m \u001b[0msl1\u001b[0m\u001b[1;33m.\u001b[0m\u001b[0mstop\u001b[0m\u001b[1;33m)\u001b[0m\u001b[1;33m\u001b[0m\u001b[1;33m\u001b[0m\u001b[0m\n\u001b[0;32m   1359\u001b[0m             \u001b[1;32mif\u001b[0m \u001b[1;32mnot\u001b[0m \u001b[0msl2\u001b[0m\u001b[1;33m:\u001b[0m\u001b[1;33m\u001b[0m\u001b[1;33m\u001b[0m\u001b[0m\n",
      "\u001b[1;32mD:\\Anaconda3\\lib\\site-packages\\nltk\\tokenize\\punkt.py\u001b[0m in \u001b[0;36m_pair_iter\u001b[1;34m(it)\u001b[0m\n\u001b[0;32m    312\u001b[0m     \u001b[0mit\u001b[0m \u001b[1;33m=\u001b[0m \u001b[0miter\u001b[0m\u001b[1;33m(\u001b[0m\u001b[0mit\u001b[0m\u001b[1;33m)\u001b[0m\u001b[1;33m\u001b[0m\u001b[1;33m\u001b[0m\u001b[0m\n\u001b[0;32m    313\u001b[0m     \u001b[1;32mtry\u001b[0m\u001b[1;33m:\u001b[0m\u001b[1;33m\u001b[0m\u001b[1;33m\u001b[0m\u001b[0m\n\u001b[1;32m--> 314\u001b[1;33m         \u001b[0mprev\u001b[0m \u001b[1;33m=\u001b[0m \u001b[0mnext\u001b[0m\u001b[1;33m(\u001b[0m\u001b[0mit\u001b[0m\u001b[1;33m)\u001b[0m\u001b[1;33m\u001b[0m\u001b[1;33m\u001b[0m\u001b[0m\n\u001b[0m\u001b[0;32m    315\u001b[0m     \u001b[1;32mexcept\u001b[0m \u001b[0mStopIteration\u001b[0m\u001b[1;33m:\u001b[0m\u001b[1;33m\u001b[0m\u001b[1;33m\u001b[0m\u001b[0m\n\u001b[0;32m    316\u001b[0m         \u001b[1;32mreturn\u001b[0m\u001b[1;33m\u001b[0m\u001b[1;33m\u001b[0m\u001b[0m\n",
      "\u001b[1;32mD:\\Anaconda3\\lib\\site-packages\\nltk\\tokenize\\punkt.py\u001b[0m in \u001b[0;36m_slices_from_text\u001b[1;34m(self, text)\u001b[0m\n\u001b[0;32m   1328\u001b[0m     \u001b[1;32mdef\u001b[0m \u001b[0m_slices_from_text\u001b[0m\u001b[1;33m(\u001b[0m\u001b[0mself\u001b[0m\u001b[1;33m,\u001b[0m \u001b[0mtext\u001b[0m\u001b[1;33m)\u001b[0m\u001b[1;33m:\u001b[0m\u001b[1;33m\u001b[0m\u001b[1;33m\u001b[0m\u001b[0m\n\u001b[0;32m   1329\u001b[0m         \u001b[0mlast_break\u001b[0m \u001b[1;33m=\u001b[0m \u001b[1;36m0\u001b[0m\u001b[1;33m\u001b[0m\u001b[1;33m\u001b[0m\u001b[0m\n\u001b[1;32m-> 1330\u001b[1;33m         \u001b[1;32mfor\u001b[0m \u001b[0mmatch\u001b[0m \u001b[1;32min\u001b[0m \u001b[0mself\u001b[0m\u001b[1;33m.\u001b[0m\u001b[0m_lang_vars\u001b[0m\u001b[1;33m.\u001b[0m\u001b[0mperiod_context_re\u001b[0m\u001b[1;33m(\u001b[0m\u001b[1;33m)\u001b[0m\u001b[1;33m.\u001b[0m\u001b[0mfinditer\u001b[0m\u001b[1;33m(\u001b[0m\u001b[0mtext\u001b[0m\u001b[1;33m)\u001b[0m\u001b[1;33m:\u001b[0m\u001b[1;33m\u001b[0m\u001b[1;33m\u001b[0m\u001b[0m\n\u001b[0m\u001b[0;32m   1331\u001b[0m             \u001b[0mcontext\u001b[0m \u001b[1;33m=\u001b[0m \u001b[0mmatch\u001b[0m\u001b[1;33m.\u001b[0m\u001b[0mgroup\u001b[0m\u001b[1;33m(\u001b[0m\u001b[1;33m)\u001b[0m \u001b[1;33m+\u001b[0m \u001b[0mmatch\u001b[0m\u001b[1;33m.\u001b[0m\u001b[0mgroup\u001b[0m\u001b[1;33m(\u001b[0m\u001b[1;34m\"after_tok\"\u001b[0m\u001b[1;33m)\u001b[0m\u001b[1;33m\u001b[0m\u001b[1;33m\u001b[0m\u001b[0m\n\u001b[0;32m   1332\u001b[0m             \u001b[1;32mif\u001b[0m \u001b[0mself\u001b[0m\u001b[1;33m.\u001b[0m\u001b[0mtext_contains_sentbreak\u001b[0m\u001b[1;33m(\u001b[0m\u001b[0mcontext\u001b[0m\u001b[1;33m)\u001b[0m\u001b[1;33m:\u001b[0m\u001b[1;33m\u001b[0m\u001b[1;33m\u001b[0m\u001b[0m\n",
      "\u001b[1;31mTypeError\u001b[0m: expected string or bytes-like object"
     ]
    }
   ],
   "source": [
    "engine = create_engine('sqlite:///D:/Work/Pycharm_projects/Text_analysis/news_base.db', echo=False)\n",
    "sqlite_connection = engine.connect()\n",
    "text = sqlite_connection.execute(\"SELECT stemmed FROM news_db\").fetchall()"
   ]
  },
  {
   "cell_type": "code",
   "execution_count": 20,
   "metadata": {
    "ExecuteTime": {
     "end_time": "2021-01-15T18:47:33.837871Z",
     "start_time": "2021-01-15T14:12:32.143569Z"
    }
   },
   "outputs": [
    {
     "data": {
      "application/vnd.jupyter.widget-view+json": {
       "model_id": "c33c3e1e429d44368e48717f5a3db5f5",
       "version_major": 2,
       "version_minor": 0
      },
      "text/plain": [
       "HBox(children=(HTML(value=''), FloatProgress(value=0.0, max=691191.0), HTML(value='')))"
      ]
     },
     "metadata": {},
     "output_type": "display_data"
    },
    {
     "name": "stdout",
     "output_type": "stream",
     "text": [
      "\n"
     ]
    }
   ],
   "source": [
    "text = remove_stopwords(text)"
   ]
  },
  {
   "cell_type": "code",
   "execution_count": 21,
   "metadata": {
    "ExecuteTime": {
     "end_time": "2021-01-16T04:09:28.570298Z",
     "start_time": "2021-01-15T18:47:34.611710Z"
    }
   },
   "outputs": [
    {
     "name": "stdout",
     "output_type": "stream",
     "text": [
      "биграммы\n",
      "создаем биграммы\n"
     ]
    },
    {
     "data": {
      "application/vnd.jupyter.widget-view+json": {
       "model_id": "9a19fd2055964ea7af25c5bbdf50cab2",
       "version_major": 2,
       "version_minor": 0
      },
      "text/plain": [
       "HBox(children=(HTML(value=''), FloatProgress(value=0.0, max=691191.0), HTML(value='')))"
      ]
     },
     "metadata": {},
     "output_type": "display_data"
    },
    {
     "name": "stdout",
     "output_type": "stream",
     "text": [
      "\n",
      "создаем триграммы\n"
     ]
    },
    {
     "data": {
      "application/vnd.jupyter.widget-view+json": {
       "model_id": "7f700badf9be4b359759542d3e243c37",
       "version_major": 2,
       "version_minor": 0
      },
      "text/plain": [
       "HBox(children=(HTML(value=''), FloatProgress(value=0.0, max=691191.0), HTML(value='')))"
      ]
     },
     "metadata": {},
     "output_type": "display_data"
    },
    {
     "name": "stdout",
     "output_type": "stream",
     "text": [
      "\n",
      "сохранение\n",
      "модель\n"
     ]
    }
   ],
   "source": [
    "print('биграммы')\n",
    "text_grams = make_bigrams(text, save=True)\n",
    "text_grams = make_trigrams(text_grams, save=True)\n",
    "id2word = corpora.Dictionary(text_grams)\n",
    "\n",
    "id2word.filter_extremes(no_below=20, no_above=0.7)\n",
    "\n",
    "corpus = [id2word.doc2bow(txt) for txt in text_grams]\n",
    "print('сохранение')\n",
    "pickle.dump(corpus, open('model/corpus_full.pkl', 'wb'))\n",
    "id2word.save('model/dictionary_full.gensim')\n",
    "print('модель')"
   ]
  },
  {
   "cell_type": "code",
   "execution_count": 22,
   "metadata": {
    "ExecuteTime": {
     "end_time": "2021-01-16T04:40:28.317814Z",
     "start_time": "2021-01-16T04:09:30.489604Z"
    }
   },
   "outputs": [
    {
     "name": "stdout",
     "output_type": "stream",
     "text": [
      "0: 0.044*\"водитель\" + 0.036*\"автомобиль\" + 0.024*\"произойти\" + 0.022*\"пострадать\" + 0.016*\"мужчина\" + 0.014*\"авария\" + 0.012*\"происшествие\" + 0.011*\"гибдд\" + 0.010*\"погибнуть\" + 0.010*\"травма\"\n",
      "\n",
      "1: 0.031*\"команда\" + 0.019*\"матч\" + 0.013*\"спорт\" + 0.013*\"клуб\" + 0.009*\"сезон\" + 0.009*\"спортивный\" + 0.008*\"тренер\" + 0.008*\"игрок\" + 0.008*\"спортсмен\" + 0.008*\"чемпионат\"\n",
      "\n",
      "2: 0.005*\"проблема\" + 0.004*\"ребёнок\" + 0.004*\"стоить\" + 0.003*\"помочь\" + 0.003*\"любой\" + 0.003*\"животное\" + 0.003*\"использовать\" + 0.002*\"разный\" + 0.002*\"семья\" + 0.002*\"больший\"\n",
      "\n",
      "3: 0.015*\"объект\" + 0.013*\"проект\" + 0.012*\"строительство\" + 0.012*\"территория\" + 0.010*\"коронавирусный_инфекция\" + 0.009*\"городской\" + 0.008*\"администрация\" + 0.006*\"ремонт\" + 0.006*\"отметить\" + 0.006*\"участок\"\n",
      "\n",
      "4: 0.019*\"житель\" + 0.012*\"квартира\" + 0.008*\"сообщать\" + 0.006*\"здание\" + 0.006*\"пожарный\" + 0.006*\"градус\" + 0.006*\"пресс_служба\" + 0.005*\"произойти\" + 0.005*\"ночью\" + 0.005*\"жилой\"\n",
      "\n",
      "5: 0.021*\"ребёнок\" + 0.019*\"школа\" + 0.016*\"проект\" + 0.012*\"развитие\" + 0.010*\"образование\" + 0.009*\"центр\" + 0.009*\"социальный\" + 0.008*\"поддержка\" + 0.008*\"программа\" + 0.007*\"организация\"\n",
      "\n",
      "6: 0.008*\"проект\" + 0.008*\"фестиваль\" + 0.007*\"конкурс\" + 0.007*\"театр\" + 0.006*\"онлайн\" + 0.006*\"программа\" + 0.006*\"участник\" + 0.006*\"выставка\" + 0.006*\"история\" + 0.006*\"пройти\"\n",
      "\n",
      "7: 0.041*\"коронавирус\" + 0.023*\"пациент\" + 0.015*\"врач\" + 0.015*\"заболеть\" + 0.013*\"медицинский\" + 0.011*\"выявить\" + 0.011*\"больница\" + 0.011*\"заболевание\" + 0.008*\"находиться\" + 0.008*\"житель\"\n",
      "\n",
      "8: 0.014*\"депутат\" + 0.010*\"решение\" + 0.008*\"власть\" + 0.007*\"председатель\" + 0.007*\"заявить\" + 0.007*\"заседание\" + 0.007*\"правительство\" + 0.007*\"дума\" + 0.006*\"закон\" + 0.006*\"принять\"\n",
      "\n",
      "9: 0.014*\"компания\" + 0.010*\"банк\" + 0.008*\"бизнес\" + 0.007*\"услуга\" + 0.006*\"предприятие\" + 0.006*\"клиент\" + 0.006*\"составить\" + 0.005*\"цена\" + 0.005*\"сумма\" + 0.005*\"пандемия\"\n",
      "\n",
      "10: 0.010*\"военный\" + 0.008*\"история\" + 0.007*\"ветеран\" + 0.007*\"памятник\" + 0.007*\"память\" + 0.006*\"волонтёр\" + 0.005*\"великий_отечественный\" + 0.005*\"республика\" + 0.005*\"праздник\" + 0.005*\"исторический\"\n",
      "\n",
      "11: 0.020*\"мужчина\" + 0.012*\"полиция\" + 0.010*\"житель\" + 0.009*\"задержать\" + 0.008*\"прокуратура\" + 0.008*\"отношение\" + 0.008*\"сообщать\" + 0.007*\"пресс_служба\" + 0.007*\"полицейский\" + 0.007*\"факт\"\n",
      "\n",
      "12: 0.014*\"пандемия\" + 0.012*\"транспорт\" + 0.011*\"маршрут\" + 0.011*\"ограничение\" + 0.009*\"движение\" + 0.008*\"сообщать\" + 0.008*\"далее\" + 0.008*\"напомнить\" + 0.007*\"пассажир\" + 0.007*\"связь\"\n",
      "\n"
     ]
    },
    {
     "data": {
      "text/plain": [
       "0.5633891365324437"
      ]
     },
     "execution_count": 22,
     "metadata": {},
     "output_type": "execute_result"
    }
   ],
   "source": [
    "lda_model = LdaMulticore(corpus=corpus,\n",
    "                         id2word=id2word,\n",
    "                         num_topics=13,\n",
    "                         chunksize=1000,\n",
    "                         passes=5,\n",
    "                         random_state=100,\n",
    "                         alpha='symmetric',\n",
    "                         per_word_topics=True,\n",
    "                         decay=0.5)\n",
    "for num, params in lda_model.print_topics():\n",
    "    print(f'{num}: {params}\\n')\n",
    "coherence_model_lda = CoherenceModel(model=lda_model, texts=text_grams, dictionary=id2word, coherence='c_v')\n",
    "coherence_model_lda.get_coherence()"
   ]
  },
  {
   "cell_type": "code",
   "execution_count": 23,
   "metadata": {
    "ExecuteTime": {
     "end_time": "2021-01-16T04:40:49.950329Z",
     "start_time": "2021-01-16T04:40:28.644139Z"
    }
   },
   "outputs": [],
   "source": [
    "lda_model.save('model/model_full.gensim')"
   ]
  },
  {
   "cell_type": "code",
   "execution_count": 24,
   "metadata": {
    "ExecuteTime": {
     "end_time": "2021-01-16T19:09:36.659396Z",
     "start_time": "2021-01-16T08:52:18.506310Z"
    }
   },
   "outputs": [
    {
     "data": {
      "application/vnd.jupyter.widget-view+json": {
       "model_id": "3777e1ac165f4fbf938da58be219eb74",
       "version_major": 2,
       "version_minor": 0
      },
      "text/plain": [
       "HBox(children=(HTML(value=''), FloatProgress(value=0.0, max=20.0), HTML(value='')))"
      ]
     },
     "metadata": {},
     "output_type": "display_data"
    },
    {
     "name": "stdout",
     "output_type": "stream",
     "text": [
      "ERROR! Session/line number was not unique in database. History logging moved to new session 54\n",
      "\n"
     ]
    },
    {
     "data": {
      "image/png": "[encoded data removed]",
      "text/plain": [
       "<Figure size 1080x720 with 1 Axes>"
      ]
     },
     "metadata": {
      "needs_background": "light"
     },
     "output_type": "display_data"
    }
   ],
   "source": [
    "coh_score = []\n",
    "for i in tqdm(range(5, 25)):\n",
    "    lda_model = LdaMulticore(corpus=corpus,\n",
    "                         id2word=id2word,\n",
    "                         num_topics=i,\n",
    "                         chunksize=1000,\n",
    "                         passes=5,\n",
    "                         random_state=100,\n",
    "                         alpha='symmetric',\n",
    "                         per_word_topics=True)\n",
    "    coherence_model_lda = CoherenceModel(model=lda_model, texts=text_grams, dictionary=id2word, coherence='c_v')\n",
    "    coh_score.append(coherence_model_lda.get_coherence())\n",
    "fig = plt.figure(figsize = [15,10])\n",
    "ax_1 = fig.add_subplot(1, 1, 1)\n",
    "ax_1.set_title('Когерентность в зависимости от количества тем')\n",
    "ax_1.set_xlabel('количество тем')\n",
    "ax_1.set_ylabel('Coherence')\n",
    "ax_1.plot(range(5, 25), coh_score, linestyle='dashed', label = 'Когерентность')\n",
    "ax_1.legend()\n",
    "fig.show()"
   ]
  },
  {
   "cell_type": "code",
   "execution_count": 27,
   "metadata": {
    "ExecuteTime": {
     "end_time": "2021-01-16T20:15:24.575781Z",
     "start_time": "2021-01-16T20:15:23.964121Z"
    }
   },
   "outputs": [
    {
     "name": "stdout",
     "output_type": "stream",
     "text": [
      "4 0.48\n",
      "5 0.53\n",
      "6 0.51\n",
      "7 0.52\n",
      "8 0.54\n",
      "9 0.55\n",
      "10 0.54\n",
      "11 0.59\n",
      "12 0.57\n",
      "13 0.56\n",
      "14 0.59\n",
      "15 0.59\n",
      "16 0.59\n",
      "17 0.6\n",
      "18 0.58\n",
      "19 0.6\n",
      "20 0.58\n",
      "21 0.59\n",
      "22 0.6\n",
      "23 0.58\n"
     ]
    }
   ],
   "source": [
    "for i in range(len(coh_score)):\n",
    "    print(i+4, round(coh_score[i],2))"
   ]
  },
  {
   "cell_type": "code",
   "execution_count": 3,
   "metadata": {
    "ExecuteTime": {
     "end_time": "2021-01-19T08:05:03.594357Z",
     "start_time": "2021-01-19T08:03:47.419600Z"
    }
   },
   "outputs": [],
   "source": [
    "corpus = pickle.load(open('model/corpus_full.pkl', 'rb'))\n",
    "id2word = corpora.Dictionary.load(f'model/dictionary_full.gensim')\n",
    "with open('model/text_ready_full/text_full.txt', 'r', encoding='utf-8') as text_train:\n",
    "    text_train = text_train.readlines()"
   ]
  },
  {
   "cell_type": "code",
   "execution_count": 8,
   "metadata": {
    "ExecuteTime": {
     "end_time": "2021-01-19T08:36:25.503499Z",
     "start_time": "2021-01-19T08:07:44.661931Z"
    }
   },
   "outputs": [
    {
     "data": {
      "application/vnd.jupyter.widget-view+json": {
       "model_id": "598195e98a684091805cd763bbb2f836",
       "version_major": 2,
       "version_minor": 0
      },
      "text/plain": [
       "HBox(children=(HTML(value=''), FloatProgress(value=0.0, max=1382382.0), HTML(value='')))"
      ]
     },
     "metadata": {},
     "output_type": "display_data"
    },
    {
     "name": "stdout",
     "output_type": "stream",
     "text": [
      "\n"
     ]
    }
   ],
   "source": [
    "text_grams = [line.split(',') for line in tqdm(text_train) if line != '\\n']"
   ]
  },
  {
   "cell_type": "code",
   "execution_count": null,
   "metadata": {
    "ExecuteTime": {
     "start_time": "2021-01-19T08:26:11.177Z"
    }
   },
   "outputs": [],
   "source": [
    "lda_model = LdaMulticore(corpus=corpus,\n",
    "                         id2word=id2word,\n",
    "                         num_topics=11,\n",
    "                         chunksize=1000,\n",
    "                         passes=20,\n",
    "                         random_state=100,\n",
    "                         alpha='symmetric',\n",
    "                         per_word_topics=True,\n",
    "                         decay=0.5)\n",
    "for num, params in lda_model.print_topics():\n",
    "    print(f'{num}: {params}\\n')\n",
    "coherence_model_lda = CoherenceModel(model=lda_model, texts=text_grams, dictionary=id2word, coherence='c_v')\n",
    "coherence_model_lda.get_coherence()"
   ]
  },
  {
   "cell_type": "code",
   "execution_count": 28,
   "metadata": {
    "ExecuteTime": {
     "end_time": "2021-01-16T20:50:09.375755Z",
     "start_time": "2021-01-16T20:17:53.826307Z"
    }
   },
   "outputs": [
    {
     "name": "stdout",
     "output_type": "stream",
     "text": [
      "0: 0.042*\"водитель\" + 0.032*\"автомобиль\" + 0.018*\"движение\" + 0.016*\"произойти\" + 0.014*\"авария\" + 0.014*\"пострадать\" + 0.014*\"транспорт\" + 0.013*\"пассажир\" + 0.011*\"маршрут\" + 0.010*\"гибдд\"\n",
      "\n",
      "1: 0.013*\"мужчина\" + 0.011*\"полиция\" + 0.010*\"прокуратура\" + 0.010*\"задержать\" + 0.009*\"отношение\" + 0.009*\"житель\" + 0.008*\"нарушение\" + 0.007*\"сообщать\" + 0.007*\"проверка\" + 0.007*\"полицейский\"\n",
      "\n",
      "2: 0.005*\"проблема\" + 0.004*\"стоить\" + 0.003*\"ребёнок\" + 0.003*\"любой\" + 0.003*\"помочь\" + 0.003*\"разный\" + 0.002*\"больший\" + 0.002*\"ситуация\" + 0.002*\"использовать\" + 0.002*\"специалист\"\n",
      "\n",
      "3: 0.014*\"объект\" + 0.013*\"проект\" + 0.012*\"строительство\" + 0.011*\"территория\" + 0.011*\"администрация\" + 0.010*\"житель\" + 0.009*\"городской\" + 0.008*\"участок\" + 0.008*\"ремонт\" + 0.006*\"здание\"\n",
      "\n",
      "4: 0.021*\"мужчина\" + 0.013*\"ребёнок\" + 0.013*\"произойти\" + 0.011*\"житель\" + 0.011*\"квартира\" + 0.009*\"пострадать\" + 0.009*\"сообщать\" + 0.007*\"происшествие\" + 0.006*\"тело\" + 0.006*\"информация\"\n",
      "\n",
      "5: 0.022*\"ребёнок\" + 0.019*\"школа\" + 0.017*\"проект\" + 0.010*\"развитие\" + 0.010*\"образование\" + 0.009*\"центр\" + 0.008*\"социальный\" + 0.007*\"программа\" + 0.007*\"организация\" + 0.007*\"поддержка\"\n",
      "\n",
      "6: 0.011*\"команда\" + 0.007*\"матч\" + 0.007*\"пройти\" + 0.006*\"клуб\" + 0.006*\"спорт\" + 0.006*\"участник\" + 0.005*\"конкурс\" + 0.005*\"фестиваль\" + 0.005*\"состояться\" + 0.005*\"театр\"\n",
      "\n",
      "7: 0.036*\"коронавирус\" + 0.018*\"пациент\" + 0.012*\"заболеть\" + 0.012*\"врач\" + 0.011*\"медицинский\" + 0.010*\"коронавирусный_инфекция\" + 0.010*\"выявить\" + 0.009*\"больница\" + 0.009*\"пандемия\" + 0.008*\"заболевание\"\n",
      "\n",
      "8: 0.013*\"депутат\" + 0.010*\"решение\" + 0.008*\"председатель\" + 0.008*\"власть\" + 0.008*\"заседание\" + 0.007*\"правительство\" + 0.007*\"заявить\" + 0.007*\"дума\" + 0.006*\"принять\" + 0.006*\"закон\"\n",
      "\n",
      "9: 0.013*\"компания\" + 0.010*\"банк\" + 0.009*\"бизнес\" + 0.007*\"услуга\" + 0.007*\"предприятие\" + 0.006*\"составить\" + 0.005*\"клиент\" + 0.005*\"цена\" + 0.005*\"рост\" + 0.004*\"сумма\"\n",
      "\n",
      "10: 0.010*\"военный\" + 0.010*\"животное\" + 0.006*\"ветеран\" + 0.005*\"память\" + 0.005*\"история\" + 0.005*\"сообщать\" + 0.005*\"пропасть\" + 0.004*\"великий_отечественный\" + 0.004*\"памятник\" + 0.004*\"служба\"\n",
      "\n"
     ]
    }
   ],
   "source": [
    "lda_model = LdaMulticore(corpus=corpus,\n",
    "                         id2word=id2word,\n",
    "                         num_topics=11,\n",
    "                         chunksize=1000,\n",
    "                         passes=5,\n",
    "                         random_state=100,\n",
    "                         alpha='symmetric',\n",
    "                         per_word_topics=True,\n",
    "                         decay=0.5)\n",
    "for num, params in lda_model.print_topics():\n",
    "    print(f'{num}: {params}\\n')\n",
    "coherence_model_lda = CoherenceModel(model=lda_model, texts=text_grams, dictionary=id2word, coherence='c_v')\n",
    "coherence_model_lda.get_coherence()\n",
    "lda_model.save('model/model_full_11.gensim')"
   ]
  },
  {
   "cell_type": "code",
   "execution_count": 29,
   "metadata": {
    "ExecuteTime": {
     "end_time": "2021-01-16T21:20:00.895748Z",
     "start_time": "2021-01-16T20:50:10.106528Z"
    }
   },
   "outputs": [
    {
     "name": "stdout",
     "output_type": "stream",
     "text": [
      "0: 0.041*\"водитель\" + 0.032*\"автомобиль\" + 0.018*\"произойти\" + 0.017*\"движение\" + 0.017*\"пострадать\" + 0.013*\"авария\" + 0.012*\"транспорт\" + 0.011*\"пассажир\" + 0.010*\"мужчина\" + 0.010*\"гибдд\"\n",
      "\n",
      "1: 0.030*\"команда\" + 0.020*\"матч\" + 0.018*\"спорт\" + 0.014*\"клуб\" + 0.014*\"спортивный\" + 0.011*\"сезон\" + 0.009*\"тренер\" + 0.009*\"игрок\" + 0.008*\"спортсмен\" + 0.008*\"чемпионат\"\n",
      "\n",
      "2: 0.005*\"ребёнок\" + 0.004*\"проблема\" + 0.004*\"стоить\" + 0.003*\"любой\" + 0.003*\"помочь\" + 0.003*\"разный\" + 0.002*\"использовать\" + 0.002*\"больший\" + 0.002*\"специалист\" + 0.002*\"магазин\"\n",
      "\n",
      "3: 0.014*\"объект\" + 0.013*\"проект\" + 0.011*\"строительство\" + 0.011*\"территория\" + 0.010*\"администрация\" + 0.008*\"городской\" + 0.007*\"житель\" + 0.007*\"ремонт\" + 0.007*\"участок\" + 0.006*\"предприятие\"\n",
      "\n",
      "4: 0.016*\"житель\" + 0.012*\"квартира\" + 0.010*\"произойти\" + 0.009*\"сообщать\" + 0.007*\"пострадать\" + 0.007*\"градус\" + 0.007*\"пожарный\" + 0.007*\"причина\" + 0.006*\"пресс_служба\" + 0.006*\"ночью\"\n",
      "\n",
      "5: 0.021*\"ребёнок\" + 0.018*\"школа\" + 0.015*\"проект\" + 0.010*\"развитие\" + 0.010*\"образование\" + 0.009*\"центр\" + 0.008*\"социальный\" + 0.008*\"поддержка\" + 0.007*\"программа\" + 0.007*\"организация\"\n",
      "\n",
      "6: 0.008*\"история\" + 0.007*\"проект\" + 0.007*\"конкурс\" + 0.006*\"мероприятие\" + 0.006*\"пройти\" + 0.006*\"участник\" + 0.006*\"фестиваль\" + 0.006*\"театр\" + 0.006*\"праздник\" + 0.006*\"музей\"\n",
      "\n",
      "7: 0.037*\"коронавирус\" + 0.019*\"пациент\" + 0.013*\"заболеть\" + 0.013*\"врач\" + 0.011*\"медицинский\" + 0.010*\"выявить\" + 0.010*\"больница\" + 0.009*\"заболевание\" + 0.008*\"житель\" + 0.007*\"находиться\"\n",
      "\n",
      "8: 0.013*\"депутат\" + 0.010*\"решение\" + 0.008*\"власть\" + 0.007*\"председатель\" + 0.007*\"заявить\" + 0.007*\"заседание\" + 0.007*\"правительство\" + 0.007*\"закон\" + 0.006*\"дума\" + 0.006*\"принять\"\n",
      "\n",
      "9: 0.014*\"пандемия\" + 0.013*\"компания\" + 0.011*\"банк\" + 0.011*\"коронавирусный_инфекция\" + 0.008*\"бизнес\" + 0.007*\"составить\" + 0.007*\"услуга\" + 0.006*\"клиент\" + 0.006*\"рост\" + 0.005*\"цена\"\n",
      "\n",
      "10: 0.011*\"животное\" + 0.011*\"военный\" + 0.008*\"сообщать\" + 0.006*\"волонтёр\" + 0.006*\"пропасть\" + 0.005*\"служба\" + 0.005*\"информация\" + 0.005*\"собака\" + 0.005*\"поезд\" + 0.005*\"уйти\"\n",
      "\n",
      "11: 0.020*\"мужчина\" + 0.012*\"полиция\" + 0.010*\"житель\" + 0.009*\"прокуратура\" + 0.009*\"задержать\" + 0.009*\"отношение\" + 0.008*\"сообщать\" + 0.007*\"полицейский\" + 0.007*\"проверка\" + 0.007*\"пресс_служба\"\n",
      "\n"
     ]
    }
   ],
   "source": [
    "lda_model = LdaMulticore(corpus=corpus,\n",
    "                         id2word=id2word,\n",
    "                         num_topics=12,\n",
    "                         chunksize=1000,\n",
    "                         passes=5,\n",
    "                         random_state=100,\n",
    "                         alpha='symmetric',\n",
    "                         per_word_topics=True,\n",
    "                         decay=0.5)\n",
    "for num, params in lda_model.print_topics():\n",
    "    print(f'{num}: {params}\\n')\n",
    "coherence_model_lda = CoherenceModel(model=lda_model, texts=text_grams, dictionary=id2word, coherence='c_v')\n",
    "coherence_model_lda.get_coherence()\n",
    "lda_model.save('model/model_full_12.gensim')"
   ]
  },
  {
   "cell_type": "code",
   "execution_count": 30,
   "metadata": {
    "ExecuteTime": {
     "end_time": "2021-01-16T21:52:34.506629Z",
     "start_time": "2021-01-16T21:20:02.909700Z"
    }
   },
   "outputs": [
    {
     "name": "stdout",
     "output_type": "stream",
     "text": [
      "0: 0.050*\"водитель\" + 0.039*\"автомобиль\" + 0.022*\"произойти\" + 0.021*\"пострадать\" + 0.016*\"авария\" + 0.013*\"мужчина\" + 0.012*\"гибдд\" + 0.011*\"травма\" + 0.011*\"движение\" + 0.010*\"происшествие\"\n",
      "\n",
      "1: 0.034*\"команда\" + 0.022*\"матч\" + 0.015*\"клуб\" + 0.012*\"сезон\" + 0.011*\"спорт\" + 0.010*\"игрок\" + 0.010*\"тренер\" + 0.009*\"чемпионат\" + 0.008*\"счёт\" + 0.008*\"спортсмен\"\n",
      "\n",
      "2: 0.004*\"проблема\" + 0.004*\"стоить\" + 0.003*\"ребёнок\" + 0.003*\"любой\" + 0.003*\"разный\" + 0.002*\"помочь\" + 0.002*\"больший\" + 0.002*\"использовать\" + 0.002*\"заниматься\" + 0.002*\"учёный\"\n",
      "\n",
      "3: 0.014*\"объект\" + 0.013*\"проект\" + 0.012*\"строительство\" + 0.011*\"территория\" + 0.009*\"администрация\" + 0.009*\"городской\" + 0.008*\"житель\" + 0.008*\"ремонт\" + 0.008*\"участок\" + 0.006*\"здание\"\n",
      "\n",
      "4: 0.015*\"квартира\" + 0.012*\"житель\" + 0.012*\"произойти\" + 0.011*\"сообщать\" + 0.009*\"пожарный\" + 0.008*\"градус\" + 0.008*\"пострадать\" + 0.008*\"мужчина\" + 0.008*\"пресс_служба\" + 0.008*\"причина\"\n",
      "\n",
      "5: 0.017*\"ребёнок\" + 0.016*\"школа\" + 0.015*\"проект\" + 0.011*\"развитие\" + 0.009*\"поддержка\" + 0.009*\"образование\" + 0.008*\"программа\" + 0.008*\"центр\" + 0.008*\"социальный\" + 0.008*\"организация\"\n",
      "\n",
      "6: 0.011*\"конкурс\" + 0.011*\"проект\" + 0.008*\"участник\" + 0.008*\"история\" + 0.007*\"пройти\" + 0.007*\"фестиваль\" + 0.007*\"театр\" + 0.006*\"музей\" + 0.006*\"мероприятие\" + 0.006*\"онлайн\"\n",
      "\n",
      "7: 0.039*\"коронавирус\" + 0.021*\"пациент\" + 0.014*\"заболеть\" + 0.014*\"врач\" + 0.013*\"медицинский\" + 0.011*\"коронавирусный_инфекция\" + 0.011*\"выявить\" + 0.010*\"больница\" + 0.010*\"заболевание\" + 0.008*\"житель\"\n",
      "\n",
      "8: 0.014*\"депутат\" + 0.011*\"решение\" + 0.008*\"власть\" + 0.008*\"заявить\" + 0.008*\"заседание\" + 0.007*\"закон\" + 0.007*\"дума\" + 0.007*\"принять\" + 0.007*\"ситуация\" + 0.006*\"гражданин\"\n",
      "\n",
      "9: 0.015*\"пандемия\" + 0.014*\"компания\" + 0.012*\"банк\" + 0.008*\"бизнес\" + 0.007*\"составить\" + 0.007*\"клиент\" + 0.006*\"рост\" + 0.006*\"услуга\" + 0.006*\"цена\" + 0.005*\"вырасти\"\n",
      "\n",
      "10: 0.025*\"ребёнок\" + 0.011*\"помощь\" + 0.011*\"животное\" + 0.010*\"семья\" + 0.009*\"девочка\" + 0.008*\"волонтёр\" + 0.008*\"житель\" + 0.007*\"информация\" + 0.007*\"мужчина\" + 0.007*\"пропасть\"\n",
      "\n",
      "11: 0.018*\"мужчина\" + 0.011*\"полиция\" + 0.010*\"житель\" + 0.010*\"прокуратура\" + 0.009*\"задержать\" + 0.009*\"отношение\" + 0.008*\"сообщать\" + 0.007*\"проверка\" + 0.007*\"нарушение\" + 0.007*\"полицейский\"\n",
      "\n",
      "12: 0.013*\"транспорт\" + 0.012*\"маршрут\" + 0.010*\"ограничение\" + 0.009*\"движение\" + 0.008*\"мероприятие\" + 0.008*\"далее\" + 0.008*\"сообщать\" + 0.008*\"спортивный\" + 0.007*\"пассажир\" + 0.007*\"проведение\"\n",
      "\n",
      "13: 0.021*\"республика\" + 0.011*\"заместитель\" + 0.011*\"руководитель\" + 0.008*\"управление\" + 0.008*\"должность\" + 0.008*\"государственный\" + 0.007*\"военный\" + 0.007*\"председатель\" + 0.007*\"служба\" + 0.007*\"директор\"\n",
      "\n"
     ]
    }
   ],
   "source": [
    "lda_model = LdaMulticore(corpus=corpus,\n",
    "                         id2word=id2word,\n",
    "                         num_topics=14,\n",
    "                         chunksize=1000,\n",
    "                         passes=5,\n",
    "                         random_state=100,\n",
    "                         alpha='symmetric',\n",
    "                         per_word_topics=True,\n",
    "                         decay=0.5)\n",
    "for num, params in lda_model.print_topics():\n",
    "    print(f'{num}: {params}\\n')\n",
    "coherence_model_lda = CoherenceModel(model=lda_model, texts=text_grams, dictionary=id2word, coherence='c_v')\n",
    "coherence_model_lda.get_coherence()\n",
    "lda_model.save('model/model_full_14.gensim')"
   ]
  },
  {
   "cell_type": "code",
   "execution_count": 31,
   "metadata": {
    "ExecuteTime": {
     "end_time": "2021-01-16T22:25:49.568754Z",
     "start_time": "2021-01-16T21:52:37.094119Z"
    }
   },
   "outputs": [
    {
     "name": "stdout",
     "output_type": "stream",
     "text": [
      "0: 0.043*\"водитель\" + 0.033*\"автомобиль\" + 0.017*\"произойти\" + 0.017*\"движение\" + 0.015*\"пострадать\" + 0.014*\"пассажир\" + 0.014*\"авария\" + 0.013*\"транспорт\" + 0.011*\"маршрут\" + 0.010*\"гибдд\"\n",
      "\n",
      "1: 0.028*\"республика\" + 0.024*\"конкурс\" + 0.020*\"участник\" + 0.015*\"пройти\" + 0.014*\"мероприятие\" + 0.012*\"участие\" + 0.011*\"мордовия\" + 0.010*\"управление\" + 0.010*\"принять_участие\" + 0.009*\"проведение\"\n",
      "\n",
      "2: 0.008*\"компания\" + 0.007*\"магазин\" + 0.007*\"продукт\" + 0.007*\"цена\" + 0.006*\"товар\" + 0.006*\"продукция\" + 0.005*\"производство\" + 0.005*\"использовать\" + 0.004*\"торговый\" + 0.004*\"сеть\"\n",
      "\n",
      "3: 0.015*\"объект\" + 0.013*\"строительство\" + 0.013*\"житель\" + 0.012*\"администрация\" + 0.012*\"территория\" + 0.011*\"проект\" + 0.010*\"городской\" + 0.010*\"участок\" + 0.009*\"ремонт\" + 0.007*\"здание\"\n",
      "\n",
      "4: 0.013*\"произойти\" + 0.010*\"пострадать\" + 0.010*\"сообщать\" + 0.009*\"квартира\" + 0.009*\"градус\" + 0.009*\"пожарный\" + 0.008*\"ночью\" + 0.008*\"причина\" + 0.008*\"погибнуть\" + 0.008*\"житель\"\n",
      "\n",
      "5: 0.020*\"проект\" + 0.018*\"школа\" + 0.015*\"развитие\" + 0.012*\"ребёнок\" + 0.011*\"программа\" + 0.010*\"поддержка\" + 0.009*\"образование\" + 0.008*\"центр\" + 0.008*\"бизнес\" + 0.007*\"отметить\"\n",
      "\n",
      "6: 0.009*\"проект\" + 0.009*\"фестиваль\" + 0.009*\"театр\" + 0.007*\"программа\" + 0.007*\"онлайн\" + 0.007*\"зритель\" + 0.006*\"выставка\" + 0.006*\"музей\" + 0.006*\"история\" + 0.006*\"фильм\"\n",
      "\n",
      "7: 0.018*\"пациент\" + 0.018*\"коронавирус\" + 0.016*\"врач\" + 0.015*\"медицинский\" + 0.013*\"коронавирусный_инфекция\" + 0.012*\"больница\" + 0.009*\"помощь\" + 0.008*\"находиться\" + 0.008*\"роспотребнадзор\" + 0.007*\"лечение\"\n",
      "\n",
      "8: 0.017*\"депутат\" + 0.011*\"решение\" + 0.009*\"заседание\" + 0.009*\"власть\" + 0.009*\"заявить\" + 0.009*\"председатель\" + 0.008*\"дума\" + 0.007*\"правительство\" + 0.006*\"принять\" + 0.006*\"отметить\"\n",
      "\n",
      "9: 0.042*\"коронавирус\" + 0.022*\"пандемия\" + 0.018*\"заболеть\" + 0.014*\"выявить\" + 0.012*\"количество\" + 0.011*\"данные\" + 0.009*\"общий\" + 0.009*\"рост\" + 0.009*\"житель\" + 0.009*\"заражение\"\n",
      "\n",
      "10: 0.014*\"военный\" + 0.010*\"ветеран\" + 0.010*\"история\" + 0.009*\"память\" + 0.009*\"памятник\" + 0.007*\"великий_отечественный\" + 0.006*\"праздник\" + 0.006*\"герой\" + 0.005*\"исторический\" + 0.005*\"самолёт\"\n",
      "\n",
      "11: 0.025*\"мужчина\" + 0.014*\"полиция\" + 0.012*\"житель\" + 0.011*\"задержать\" + 0.009*\"сообщать\" + 0.008*\"полицейский\" + 0.008*\"отношение\" + 0.007*\"подозревать\" + 0.007*\"факт\" + 0.007*\"пресс_служба\"\n",
      "\n",
      "12: 0.031*\"команда\" + 0.022*\"матч\" + 0.020*\"спорт\" + 0.015*\"клуб\" + 0.015*\"спортивный\" + 0.012*\"сезон\" + 0.010*\"игрок\" + 0.010*\"тренер\" + 0.009*\"спортсмен\" + 0.009*\"чемпионат\"\n",
      "\n",
      "13: 0.014*\"ребёнок\" + 0.007*\"семья\" + 0.005*\"проблема\" + 0.004*\"родитель\" + 0.003*\"написать\" + 0.003*\"животное\" + 0.003*\"ситуация\" + 0.003*\"помочь\" + 0.003*\"рассказывать\" + 0.003*\"появиться\"\n",
      "\n",
      "14: 0.014*\"банк\" + 0.009*\"компания\" + 0.008*\"сумма\" + 0.008*\"гражданин\" + 0.008*\"документ\" + 0.007*\"услуга\" + 0.007*\"выплата\" + 0.007*\"организация\" + 0.007*\"размер\" + 0.006*\"средство\"\n",
      "\n"
     ]
    }
   ],
   "source": [
    "lda_model = LdaMulticore(corpus=corpus,\n",
    "                         id2word=id2word,\n",
    "                         num_topics=15,\n",
    "                         chunksize=1000,\n",
    "                         passes=5,\n",
    "                         random_state=100,\n",
    "                         alpha='symmetric',\n",
    "                         per_word_topics=True,\n",
    "                         decay=0.5)\n",
    "for num, params in lda_model.print_topics():\n",
    "    print(f'{num}: {params}\\n')\n",
    "coherence_model_lda = CoherenceModel(model=lda_model, texts=text_grams, dictionary=id2word, coherence='c_v')\n",
    "coherence_model_lda.get_coherence()\n",
    "lda_model.save('model/model_full_15.gensim')"
   ]
  },
  {
   "cell_type": "code",
   "execution_count": 32,
   "metadata": {
    "ExecuteTime": {
     "end_time": "2021-01-16T22:54:57.742488Z",
     "start_time": "2021-01-16T22:25:50.664070Z"
    }
   },
   "outputs": [
    {
     "name": "stdout",
     "output_type": "stream",
     "text": [
      "0: 0.048*\"водитель\" + 0.037*\"автомобиль\" + 0.022*\"произойти\" + 0.020*\"пострадать\" + 0.016*\"движение\" + 0.016*\"авария\" + 0.013*\"мужчина\" + 0.012*\"гибдд\" + 0.011*\"травма\" + 0.010*\"происшествие\"\n",
      "\n",
      "1: 0.013*\"военный\" + 0.010*\"ветеран\" + 0.009*\"история\" + 0.009*\"семья\" + 0.009*\"память\" + 0.008*\"праздник\" + 0.006*\"великий_отечественный\" + 0.006*\"герой\" + 0.005*\"памятник\" + 0.005*\"волонтёр\"\n",
      "\n",
      "2: 0.005*\"ребёнок\" + 0.005*\"проблема\" + 0.005*\"стоить\" + 0.003*\"любой\" + 0.003*\"помочь\" + 0.003*\"разный\" + 0.003*\"магазин\" + 0.003*\"прийтись\" + 0.002*\"ситуация\" + 0.002*\"больший\"\n",
      "\n",
      "3: 0.016*\"объект\" + 0.014*\"строительство\" + 0.014*\"проект\" + 0.012*\"территория\" + 0.011*\"житель\" + 0.011*\"администрация\" + 0.010*\"городской\" + 0.010*\"участок\" + 0.009*\"ремонт\" + 0.007*\"здание\"\n",
      "\n",
      "4: 0.012*\"квартира\" + 0.012*\"произойти\" + 0.011*\"житель\" + 0.010*\"сообщать\" + 0.009*\"пожарный\" + 0.009*\"градус\" + 0.008*\"пострадать\" + 0.008*\"ночью\" + 0.008*\"причина\" + 0.007*\"происшествие\"\n",
      "\n",
      "5: 0.024*\"ребёнок\" + 0.021*\"проект\" + 0.021*\"школа\" + 0.013*\"развитие\" + 0.011*\"образование\" + 0.009*\"программа\" + 0.009*\"центр\" + 0.008*\"поддержка\" + 0.007*\"социальный\" + 0.007*\"родитель\"\n",
      "\n",
      "6: 0.009*\"фестиваль\" + 0.009*\"конкурс\" + 0.008*\"театр\" + 0.008*\"проект\" + 0.007*\"музей\" + 0.007*\"история\" + 0.006*\"выставка\" + 0.006*\"программа\" + 0.006*\"зритель\" + 0.006*\"онлайн\"\n",
      "\n",
      "7: 0.016*\"медицинский\" + 0.013*\"помощь\" + 0.011*\"врач\" + 0.008*\"гражданин\" + 0.008*\"больница\" + 0.007*\"учреждение\" + 0.007*\"нарушение\" + 0.007*\"организация\" + 0.007*\"центр\" + 0.006*\"маска\"\n",
      "\n",
      "8: 0.016*\"депутат\" + 0.011*\"решение\" + 0.008*\"власть\" + 0.008*\"заседание\" + 0.008*\"заявить\" + 0.008*\"дума\" + 0.007*\"ситуация\" + 0.007*\"отметить\" + 0.007*\"закон\" + 0.006*\"председатель\"\n",
      "\n",
      "9: 0.050*\"коронавирус\" + 0.024*\"пациент\" + 0.018*\"пандемия\" + 0.018*\"заболеть\" + 0.015*\"коронавирусный_инфекция\" + 0.014*\"выявить\" + 0.012*\"заболевание\" + 0.010*\"заражение\" + 0.009*\"количество\" + 0.009*\"житель\"\n",
      "\n",
      "10: 0.027*\"предприятие\" + 0.022*\"компания\" + 0.021*\"производство\" + 0.012*\"продукция\" + 0.011*\"цена\" + 0.008*\"крупный\" + 0.007*\"товар\" + 0.007*\"оборудование\" + 0.006*\"рост\" + 0.006*\"составить\"\n",
      "\n",
      "11: 0.023*\"мужчина\" + 0.013*\"полиция\" + 0.012*\"житель\" + 0.010*\"задержать\" + 0.010*\"прокуратура\" + 0.009*\"отношение\" + 0.008*\"сообщать\" + 0.008*\"полицейский\" + 0.008*\"факт\" + 0.007*\"пресс_служба\"\n",
      "\n",
      "12: 0.021*\"республика\" + 0.016*\"мероприятие\" + 0.013*\"сообщать\" + 0.012*\"информ\" + 0.012*\"ограничение\" + 0.011*\"проведение\" + 0.011*\"пройти\" + 0.009*\"пресс_служба\" + 0.008*\"напомнить\" + 0.008*\"далее\"\n",
      "\n",
      "13: 0.014*\"заместитель\" + 0.013*\"руководитель\" + 0.011*\"управление\" + 0.011*\"пост\" + 0.010*\"министр\" + 0.010*\"должность\" + 0.010*\"информация\" + 0.010*\"администрация\" + 0.009*\"директор\" + 0.009*\"бывший\"\n",
      "\n",
      "14: 0.014*\"банк\" + 0.010*\"компания\" + 0.009*\"услуга\" + 0.008*\"сумма\" + 0.007*\"выплата\" + 0.007*\"клиент\" + 0.007*\"бизнес\" + 0.006*\"размер\" + 0.006*\"средство\" + 0.006*\"доход\"\n",
      "\n",
      "15: 0.033*\"команда\" + 0.022*\"матч\" + 0.018*\"спорт\" + 0.015*\"клуб\" + 0.013*\"спортивный\" + 0.011*\"сезон\" + 0.010*\"игрок\" + 0.010*\"тренер\" + 0.009*\"спортсмен\" + 0.009*\"чемпионат\"\n",
      "\n"
     ]
    }
   ],
   "source": [
    "lda_model = LdaMulticore(corpus=corpus,\n",
    "                         id2word=id2word,\n",
    "                         num_topics=16,\n",
    "                         chunksize=1000,\n",
    "                         passes=5,\n",
    "                         random_state=100,\n",
    "                         alpha='symmetric',\n",
    "                         per_word_topics=True,\n",
    "                         decay=0.5)\n",
    "for num, params in lda_model.print_topics():\n",
    "    print(f'{num}: {params}\\n')\n",
    "coherence_model_lda = CoherenceModel(model=lda_model, texts=text_grams, dictionary=id2word, coherence='c_v')\n",
    "coherence_model_lda.get_coherence()\n",
    "lda_model.save('model/model_full_16.gensim')"
   ]
  },
  {
   "cell_type": "code",
   "execution_count": 33,
   "metadata": {
    "ExecuteTime": {
     "end_time": "2021-01-16T23:25:39.147124Z",
     "start_time": "2021-01-16T22:54:58.372838Z"
    }
   },
   "outputs": [
    {
     "name": "stdout",
     "output_type": "stream",
     "text": [
      "0: 0.057*\"водитель\" + 0.044*\"автомобиль\" + 0.022*\"произойти\" + 0.021*\"пострадать\" + 0.018*\"авария\" + 0.013*\"гибдд\" + 0.013*\"мужчина\" + 0.012*\"движение\" + 0.012*\"травма\" + 0.010*\"происшествие\"\n",
      "\n",
      "1: 0.061*\"республика\" + 0.024*\"управление\" + 0.023*\"нарушение\" + 0.022*\"мордовия\" + 0.017*\"проверка\" + 0.012*\"территория\" + 0.012*\"провести\" + 0.011*\"выявить\" + 0.011*\"обязательный\" + 0.011*\"служба\"\n",
      "\n",
      "2: 0.013*\"магазин\" + 0.009*\"товар\" + 0.009*\"продукт\" + 0.008*\"торговый\" + 0.006*\"продукция\" + 0.006*\"маска\" + 0.006*\"использовать\" + 0.005*\"покупатель\" + 0.004*\"материал\" + 0.004*\"стоить\"\n",
      "\n",
      "3: 0.023*\"проект\" + 0.015*\"территория\" + 0.013*\"предприятие\" + 0.011*\"житель\" + 0.011*\"развитие\" + 0.010*\"городской\" + 0.009*\"отметить\" + 0.008*\"благоустройство\" + 0.008*\"реализация\" + 0.007*\"программа\"\n",
      "\n",
      "4: 0.017*\"произойти\" + 0.016*\"житель\" + 0.013*\"мужчина\" + 0.012*\"квартира\" + 0.012*\"пострадать\" + 0.010*\"происшествие\" + 0.010*\"обнаружить\" + 0.010*\"сообщать\" + 0.009*\"причина\" + 0.009*\"погибнуть\"\n",
      "\n",
      "5: 0.031*\"ребёнок\" + 0.028*\"школа\" + 0.015*\"проект\" + 0.014*\"образование\" + 0.009*\"центр\" + 0.009*\"развитие\" + 0.009*\"родитель\" + 0.008*\"школьник\" + 0.008*\"социальный\" + 0.008*\"детский\"\n",
      "\n",
      "6: 0.013*\"конкурс\" + 0.012*\"проект\" + 0.009*\"фестиваль\" + 0.008*\"участник\" + 0.008*\"театр\" + 0.008*\"музей\" + 0.008*\"история\" + 0.007*\"мероприятие\" + 0.007*\"онлайн\" + 0.007*\"программа\"\n",
      "\n",
      "7: 0.023*\"строительство\" + 0.019*\"объект\" + 0.015*\"ремонт\" + 0.014*\"участок\" + 0.013*\"здание\" + 0.009*\"администрация\" + 0.009*\"проект\" + 0.008*\"подрядчик\" + 0.007*\"построить\" + 0.007*\"детский\"\n",
      "\n",
      "8: 0.010*\"проблема\" + 0.010*\"ситуация\" + 0.007*\"власть\" + 0.007*\"заявить\" + 0.006*\"мнение\" + 0.004*\"решение\" + 0.004*\"подобный\" + 0.004*\"отношение\" + 0.004*\"бизнес\" + 0.003*\"происходить\"\n",
      "\n",
      "9: 0.045*\"коронавирус\" + 0.025*\"пациент\" + 0.017*\"заболеть\" + 0.017*\"врач\" + 0.014*\"медицинский\" + 0.012*\"выявить\" + 0.012*\"больница\" + 0.012*\"заболевание\" + 0.009*\"заражение\" + 0.009*\"находиться\"\n",
      "\n",
      "10: 0.033*\"помощь\" + 0.029*\"телефон\" + 0.020*\"волонтёр\" + 0.019*\"информация\" + 0.015*\"житель\" + 0.015*\"размещение_реклама\" + 0.015*\"центр\" + 0.014*\"сообщать\" + 0.013*\"горячий\" + 0.013*\"номер\"\n",
      "\n",
      "11: 0.025*\"мужчина\" + 0.015*\"полиция\" + 0.013*\"задержать\" + 0.013*\"житель\" + 0.010*\"полицейский\" + 0.010*\"отношение\" + 0.009*\"подозревать\" + 0.009*\"следствие\" + 0.008*\"сообщать\" + 0.008*\"деньга\"\n",
      "\n",
      "12: 0.013*\"транспорт\" + 0.012*\"ограничение\" + 0.011*\"маршрут\" + 0.009*\"напомнить\" + 0.009*\"режим\" + 0.008*\"движение\" + 0.008*\"связь\" + 0.007*\"администрация\" + 0.007*\"общественный_транспорт\" + 0.007*\"далее\"\n",
      "\n",
      "13: 0.023*\"депутат\" + 0.014*\"председатель\" + 0.013*\"заседание\" + 0.012*\"дума\" + 0.011*\"правительство\" + 0.011*\"решение\" + 0.009*\"голосование\" + 0.008*\"отметить\" + 0.008*\"областной\" + 0.008*\"заместитель\"\n",
      "\n",
      "14: 0.015*\"банк\" + 0.009*\"сумма\" + 0.009*\"выплата\" + 0.009*\"услуга\" + 0.009*\"гражданин\" + 0.008*\"документ\" + 0.008*\"средство\" + 0.008*\"организация\" + 0.008*\"размер\" + 0.007*\"компания\"\n",
      "\n",
      "15: 0.033*\"команда\" + 0.022*\"матч\" + 0.020*\"спорт\" + 0.016*\"клуб\" + 0.015*\"спортивный\" + 0.012*\"сезон\" + 0.010*\"тренер\" + 0.010*\"игрок\" + 0.010*\"спортсмен\" + 0.009*\"чемпионат\"\n",
      "\n",
      "16: 0.012*\"градус\" + 0.012*\"ветеран\" + 0.011*\"военный\" + 0.010*\"память\" + 0.008*\"погода\" + 0.008*\"праздник\" + 0.008*\"ожидаться\" + 0.008*\"великий_отечественный\" + 0.008*\"ночью\" + 0.007*\"памятник\"\n",
      "\n",
      "17: 0.013*\"ребёнок\" + 0.008*\"семья\" + 0.005*\"девушка\" + 0.004*\"рассказывать\" + 0.004*\"написать\" + 0.004*\"появиться\" + 0.004*\"видео\" + 0.004*\"молодой\" + 0.004*\"помочь\" + 0.003*\"родитель\"\n",
      "\n",
      "18: 0.016*\"компания\" + 0.010*\"бизнес\" + 0.009*\"рост\" + 0.008*\"цена\" + 0.008*\"уровень\" + 0.007*\"составить\" + 0.006*\"вырасти\" + 0.006*\"система\" + 0.005*\"показатель\" + 0.005*\"эксперт\"\n",
      "\n"
     ]
    }
   ],
   "source": [
    "lda_model = LdaMulticore(corpus=corpus,\n",
    "                         id2word=id2word,\n",
    "                         num_topics=19,\n",
    "                         chunksize=1000,\n",
    "                         passes=5,\n",
    "                         random_state=100,\n",
    "                         alpha='symmetric',\n",
    "                         per_word_topics=True,\n",
    "                         decay=0.5)\n",
    "for num, params in lda_model.print_topics():\n",
    "    print(f'{num}: {params}\\n')\n",
    "coherence_model_lda = CoherenceModel(model=lda_model, texts=text_grams, dictionary=id2word, coherence='c_v')\n",
    "coherence_model_lda.get_coherence()\n",
    "lda_model.save('model/model_full_19.gensim')"
   ]
  },
  {
   "cell_type": "code",
   "execution_count": 34,
   "metadata": {
    "ExecuteTime": {
     "end_time": "2021-01-16T23:59:06.933349Z",
     "start_time": "2021-01-16T23:25:40.334306Z"
    }
   },
   "outputs": [
    {
     "name": "stdout",
     "output_type": "stream",
     "text": [
      "0: 0.055*\"водитель\" + 0.043*\"автомобиль\" + 0.021*\"произойти\" + 0.019*\"пострадать\" + 0.017*\"авария\" + 0.013*\"гибдд\" + 0.013*\"движение\" + 0.011*\"травма\" + 0.011*\"мужчина\" + 0.010*\"происшествие\"\n",
      "\n",
      "1: 0.057*\"республика\" + 0.023*\"мордовия\" + 0.013*\"управление\" + 0.012*\"служба\" + 0.012*\"территория\" + 0.010*\"военный\" + 0.010*\"обязательный\" + 0.010*\"мордовмедиа_использование_материал_гиперссылка\" + 0.009*\"мероприятие\" + 0.009*\"йошкара\"\n",
      "\n",
      "2: 0.011*\"цена\" + 0.008*\"магазин\" + 0.008*\"продукт\" + 0.007*\"товар\" + 0.006*\"использовать\" + 0.005*\"продукция\" + 0.005*\"продажа\" + 0.005*\"стоимость\" + 0.005*\"специалист\" + 0.004*\"компания\"\n",
      "\n",
      "3: 0.016*\"проект\" + 0.014*\"развитие\" + 0.012*\"бизнес\" + 0.010*\"предприятие\" + 0.010*\"компания\" + 0.009*\"поддержка\" + 0.008*\"отметить\" + 0.008*\"программа\" + 0.007*\"бюджет\" + 0.007*\"уровень\"\n",
      "\n",
      "4: 0.025*\"житель\" + 0.015*\"квартира\" + 0.010*\"администрация\" + 0.007*\"компания\" + 0.007*\"нарушение\" + 0.007*\"проверка\" + 0.007*\"прокуратура\" + 0.006*\"местный\" + 0.006*\"проблема\" + 0.005*\"управлять\"\n",
      "\n",
      "5: 0.047*\"ребёнок\" + 0.034*\"школа\" + 0.015*\"образование\" + 0.012*\"родитель\" + 0.012*\"детский\" + 0.012*\"семья\" + 0.009*\"школьник\" + 0.009*\"социальный\" + 0.009*\"класс\" + 0.009*\"студент\"\n",
      "\n",
      "6: 0.014*\"конкурс\" + 0.012*\"проект\" + 0.009*\"участник\" + 0.007*\"фестиваль\" + 0.007*\"театр\" + 0.007*\"история\" + 0.007*\"онлайн\" + 0.007*\"музей\" + 0.007*\"пройти\" + 0.007*\"программа\"\n",
      "\n",
      "7: 0.019*\"объект\" + 0.017*\"строительство\" + 0.015*\"проект\" + 0.014*\"территория\" + 0.012*\"городской\" + 0.012*\"участок\" + 0.011*\"администрация\" + 0.011*\"ремонт\" + 0.009*\"здание\" + 0.008*\"благоустройство\"\n",
      "\n",
      "8: 0.007*\"проблема\" + 0.006*\"ситуация\" + 0.004*\"деньга\" + 0.004*\"мнение\" + 0.003*\"стоить\" + 0.003*\"отношение\" + 0.003*\"история\" + 0.003*\"любой\" + 0.003*\"бизнес\" + 0.003*\"происходить\"\n",
      "\n",
      "9: 0.041*\"коронавирус\" + 0.022*\"пациент\" + 0.015*\"заболеть\" + 0.015*\"врач\" + 0.013*\"медицинский\" + 0.012*\"коронавирусный_инфекция\" + 0.012*\"выявить\" + 0.011*\"больница\" + 0.010*\"заболевание\" + 0.008*\"житель\"\n",
      "\n",
      "10: 0.023*\"мужчина\" + 0.015*\"произойти\" + 0.013*\"пострадать\" + 0.012*\"ребёнок\" + 0.010*\"сообщать\" + 0.010*\"информация\" + 0.010*\"животное\" + 0.010*\"помощь\" + 0.010*\"происшествие\" + 0.010*\"погибнуть\"\n",
      "\n",
      "11: 0.022*\"мужчина\" + 0.014*\"полиция\" + 0.013*\"задержать\" + 0.012*\"житель\" + 0.011*\"отношение\" + 0.010*\"полицейский\" + 0.009*\"подозревать\" + 0.008*\"следствие\" + 0.008*\"сообщать\" + 0.008*\"деньга\"\n",
      "\n",
      "12: 0.013*\"ограничение\" + 0.012*\"маршрут\" + 0.011*\"транспорт\" + 0.009*\"напомнить\" + 0.008*\"режим\" + 0.008*\"сообщать\" + 0.007*\"пассажир\" + 0.007*\"коронавирус\" + 0.007*\"связь\" + 0.007*\"общественный_транспорт\"\n",
      "\n",
      "13: 0.024*\"депутат\" + 0.014*\"председатель\" + 0.012*\"заседание\" + 0.012*\"дума\" + 0.011*\"решение\" + 0.009*\"голосование\" + 0.008*\"заместитель\" + 0.008*\"власть\" + 0.008*\"правительство\" + 0.008*\"областной\"\n",
      "\n",
      "14: 0.015*\"банк\" + 0.009*\"гражданин\" + 0.009*\"услуга\" + 0.008*\"документ\" + 0.008*\"выплата\" + 0.008*\"сумма\" + 0.007*\"клиент\" + 0.007*\"организация\" + 0.007*\"компания\" + 0.007*\"размер\"\n",
      "\n",
      "15: 0.033*\"команда\" + 0.022*\"матч\" + 0.019*\"спорт\" + 0.015*\"клуб\" + 0.014*\"спортивный\" + 0.012*\"сезон\" + 0.010*\"игрок\" + 0.010*\"тренер\" + 0.009*\"спортсмен\" + 0.009*\"чемпионат\"\n",
      "\n",
      "16: 0.011*\"градус\" + 0.011*\"ветеран\" + 0.009*\"память\" + 0.009*\"праздник\" + 0.008*\"погода\" + 0.008*\"ожидаться\" + 0.007*\"ночью\" + 0.007*\"житель\" + 0.007*\"великий_отечественный\" + 0.006*\"памятник\"\n",
      "\n"
     ]
    }
   ],
   "source": [
    "lda_model = LdaMulticore(corpus=corpus,\n",
    "                         id2word=id2word,\n",
    "                         num_topics=17,\n",
    "                         chunksize=1000,\n",
    "                         passes=5,\n",
    "                         random_state=100,\n",
    "                         alpha='symmetric',\n",
    "                         per_word_topics=True,\n",
    "                         decay=0.5)\n",
    "for num, params in lda_model.print_topics():\n",
    "    print(f'{num}: {params}\\n')\n",
    "coherence_model_lda = CoherenceModel(model=lda_model, texts=text_grams, dictionary=id2word, coherence='c_v')\n",
    "coherence_model_lda.get_coherence()\n",
    "lda_model.save('model/model_full_17.gensim')"
   ]
  },
  {
   "cell_type": "code",
   "execution_count": 35,
   "metadata": {
    "ExecuteTime": {
     "end_time": "2021-01-17T02:00:41.856350Z",
     "start_time": "2021-01-16T23:59:11.091163Z"
    }
   },
   "outputs": [
    {
     "name": "stdout",
     "output_type": "stream",
     "text": [
      "0: 0.057*\"водитель\" + 0.044*\"автомобиль\" + 0.022*\"произойти\" + 0.019*\"пострадать\" + 0.019*\"авария\" + 0.014*\"гибдд\" + 0.013*\"движение\" + 0.012*\"мужчина\" + 0.011*\"травма\" + 0.010*\"происшествие\"\n",
      "\n",
      "1: 0.106*\"республика\" + 0.033*\"мордовия\" + 0.019*\"территория\" + 0.015*\"обязательный\" + 0.014*\"мордовмедиа_использование_материал_гиперссылка\" + 0.012*\"йошкара\" + 0.011*\"пресс_служба\" + 0.011*\"управление\" + 0.010*\"сообщать\" + 0.009*\"информ\"\n",
      "\n",
      "2: 0.009*\"магазин\" + 0.008*\"продукт\" + 0.008*\"товар\" + 0.006*\"использовать\" + 0.005*\"специалист\" + 0.004*\"продукция\" + 0.004*\"качество\" + 0.004*\"материал\" + 0.004*\"стоить\" + 0.004*\"являться\"\n",
      "\n",
      "3: 0.016*\"объект\" + 0.015*\"строительство\" + 0.013*\"проект\" + 0.012*\"житель\" + 0.012*\"территория\" + 0.010*\"администрация\" + 0.010*\"ремонт\" + 0.010*\"участок\" + 0.010*\"городской\" + 0.007*\"здание\"\n",
      "\n",
      "4: 0.021*\"квартира\" + 0.019*\"произойти\" + 0.016*\"мужчина\" + 0.015*\"ребёнок\" + 0.014*\"пострадать\" + 0.011*\"происшествие\" + 0.011*\"обнаружить\" + 0.010*\"тело\" + 0.010*\"погибнуть\" + 0.009*\"пожарный\"\n",
      "\n",
      "5: 0.023*\"проект\" + 0.023*\"школа\" + 0.020*\"ребёнок\" + 0.014*\"развитие\" + 0.012*\"образование\" + 0.010*\"программа\" + 0.009*\"поддержка\" + 0.009*\"центр\" + 0.007*\"социальный\" + 0.007*\"организация\"\n",
      "\n",
      "6: 0.012*\"конкурс\" + 0.010*\"проект\" + 0.009*\"фестиваль\" + 0.008*\"участник\" + 0.008*\"история\" + 0.008*\"театр\" + 0.008*\"музей\" + 0.007*\"онлайн\" + 0.007*\"пройти\" + 0.007*\"мероприятие\"\n",
      "\n",
      "7: 0.032*\"медицинский\" + 0.032*\"врач\" + 0.024*\"пациент\" + 0.022*\"больница\" + 0.020*\"помощь\" + 0.012*\"лечение\" + 0.011*\"здравоохранение\" + 0.010*\"лекарство\" + 0.010*\"учреждение\" + 0.010*\"медик\"\n",
      "\n",
      "8: 0.017*\"депутат\" + 0.010*\"решение\" + 0.010*\"власть\" + 0.009*\"заявить\" + 0.008*\"голосование\" + 0.007*\"дума\" + 0.007*\"закон\" + 0.007*\"выборы\" + 0.007*\"отметить\" + 0.006*\"ситуация\"\n",
      "\n",
      "9: 0.062*\"коронавирус\" + 0.023*\"заболеть\" + 0.018*\"выявить\" + 0.018*\"пациент\" + 0.014*\"заболевание\" + 0.012*\"заражение\" + 0.011*\"житель\" + 0.011*\"подтвердить\" + 0.010*\"количество\" + 0.010*\"находиться\"\n",
      "\n",
      "10: 0.030*\"телефон\" + 0.022*\"информация\" + 0.020*\"житель\" + 0.020*\"волонтёр\" + 0.018*\"размещение_реклама\" + 0.017*\"сообщать\" + 0.014*\"номер\" + 0.014*\"горячий\" + 0.014*\"помощь\" + 0.013*\"сообщение\"\n",
      "\n",
      "11: 0.025*\"мужчина\" + 0.016*\"полиция\" + 0.013*\"задержать\" + 0.013*\"житель\" + 0.010*\"полицейский\" + 0.010*\"отношение\" + 0.009*\"подозревать\" + 0.009*\"следствие\" + 0.008*\"деньга\" + 0.008*\"сообщать\"\n",
      "\n",
      "12: 0.012*\"транспорт\" + 0.011*\"ограничение\" + 0.010*\"маршрут\" + 0.009*\"режим\" + 0.008*\"безопасность\" + 0.008*\"напомнить\" + 0.007*\"связь\" + 0.007*\"мероприятие\" + 0.007*\"движение\" + 0.007*\"роспотребнадзор\"\n",
      "\n",
      "13: 0.018*\"заместитель\" + 0.018*\"руководитель\" + 0.017*\"правительство\" + 0.016*\"председатель\" + 0.015*\"министр\" + 0.012*\"заседание\" + 0.012*\"управление\" + 0.012*\"администрация\" + 0.010*\"государственный\" + 0.010*\"директор\"\n",
      "\n",
      "14: 0.010*\"гражданин\" + 0.009*\"документ\" + 0.009*\"выплата\" + 0.009*\"сумма\" + 0.009*\"банк\" + 0.008*\"организация\" + 0.008*\"размер\" + 0.008*\"услуга\" + 0.008*\"право\" + 0.007*\"средство\"\n",
      "\n",
      "15: 0.033*\"команда\" + 0.022*\"матч\" + 0.020*\"спорт\" + 0.016*\"клуб\" + 0.015*\"спортивный\" + 0.012*\"сезон\" + 0.010*\"тренер\" + 0.010*\"игрок\" + 0.009*\"спортсмен\" + 0.009*\"чемпионат\"\n",
      "\n",
      "16: 0.016*\"военный\" + 0.012*\"градус\" + 0.012*\"ветеран\" + 0.010*\"память\" + 0.009*\"погода\" + 0.008*\"ожидаться\" + 0.008*\"праздник\" + 0.008*\"великий_отечественный\" + 0.008*\"ночью\" + 0.007*\"житель\"\n",
      "\n",
      "17: 0.010*\"ребёнок\" + 0.006*\"семья\" + 0.005*\"проблема\" + 0.004*\"написать\" + 0.004*\"рассказывать\" + 0.003*\"появиться\" + 0.003*\"ситуация\" + 0.003*\"стоить\" + 0.003*\"деньга\" + 0.003*\"прийтись\"\n",
      "\n",
      "18: 0.017*\"компания\" + 0.012*\"бизнес\" + 0.009*\"предприятие\" + 0.008*\"рост\" + 0.007*\"банк\" + 0.007*\"составить\" + 0.007*\"цена\" + 0.007*\"уровень\" + 0.007*\"производство\" + 0.005*\"вырасти\"\n",
      "\n"
     ]
    }
   ],
   "source": [
    "lda_model = LdaMulticore(corpus=corpus,\n",
    "                         id2word=id2word,\n",
    "                         num_topics=19,\n",
    "                         chunksize=1000,\n",
    "                         passes=5,\n",
    "                         random_state=100,\n",
    "                         alpha='symmetric',\n",
    "                         per_word_topics=True,\n",
    "                         decay=0.5)\n",
    "for num, params in lda_model.print_topics():\n",
    "    print(f'{num}: {params}\\n')\n",
    "coherence_model_lda = CoherenceModel(model=lda_model, texts=text_grams, dictionary=id2word, coherence='c_v')\n",
    "coherence_model_lda.get_coherence()\n",
    "lda_model.save('model/model_full_19.gensim')"
   ]
  },
  {
   "cell_type": "code",
   "execution_count": 36,
   "metadata": {
    "ExecuteTime": {
     "end_time": "2021-01-17T02:29:14.600932Z",
     "start_time": "2021-01-17T02:00:43.745610Z"
    }
   },
   "outputs": [
    {
     "name": "stdout",
     "output_type": "stream",
     "text": [
      "3: 0.019*\"проект\" + 0.016*\"развитие\" + 0.015*\"предприятие\" + 0.011*\"бизнес\" + 0.010*\"компания\" + 0.009*\"поддержка\" + 0.008*\"отметить\" + 0.008*\"производство\" + 0.008*\"правительство\" + 0.007*\"реализация\"\n",
      "\n",
      "10: 0.022*\"музей\" + 0.014*\"пропасть\" + 0.013*\"волонтёр\" + 0.011*\"информация\" + 0.011*\"сообщать\" + 0.010*\"поиск\" + 0.009*\"самолёт\" + 0.009*\"турист\" + 0.007*\"выставка\" + 0.007*\"находиться\"\n",
      "\n",
      "19: 0.067*\"коронавирус\" + 0.025*\"заболеть\" + 0.021*\"пациент\" + 0.019*\"выявить\" + 0.014*\"пандемия\" + 0.014*\"заболевание\" + 0.013*\"заражение\" + 0.011*\"подтвердить\" + 0.011*\"житель\" + 0.011*\"находиться\"\n",
      "\n",
      "18: 0.007*\"ситуация\" + 0.007*\"проблема\" + 0.005*\"мнение\" + 0.004*\"эксперт\" + 0.004*\"специалист\" + 0.004*\"стоить\" + 0.004*\"учёный\" + 0.004*\"бизнес\" + 0.003*\"уровень\" + 0.003*\"являться\"\n",
      "\n",
      "0: 0.056*\"водитель\" + 0.043*\"автомобиль\" + 0.023*\"произойти\" + 0.021*\"пострадать\" + 0.017*\"авария\" + 0.013*\"гибдд\" + 0.013*\"мужчина\" + 0.012*\"травма\" + 0.011*\"движение\" + 0.010*\"происшествие\"\n",
      "\n",
      "2: 0.012*\"магазин\" + 0.010*\"товар\" + 0.010*\"продукт\" + 0.007*\"цена\" + 0.007*\"торговый\" + 0.007*\"продукция\" + 0.005*\"использовать\" + 0.005*\"покупатель\" + 0.005*\"маска\" + 0.004*\"продажа\"\n",
      "\n",
      "5: 0.051*\"ребёнок\" + 0.040*\"школа\" + 0.017*\"образование\" + 0.014*\"родитель\" + 0.012*\"семья\" + 0.012*\"детский\" + 0.011*\"школьник\" + 0.010*\"класс\" + 0.010*\"студент\" + 0.010*\"обучение\"\n",
      "\n",
      "6: 0.018*\"конкурс\" + 0.015*\"проект\" + 0.011*\"участник\" + 0.009*\"мероприятие\" + 0.009*\"фестиваль\" + 0.009*\"онлайн\" + 0.009*\"пройти\" + 0.009*\"театр\" + 0.008*\"программа\" + 0.007*\"состояться\"\n",
      "\n",
      "15: 0.033*\"команда\" + 0.022*\"матч\" + 0.020*\"спорт\" + 0.016*\"клуб\" + 0.015*\"спортивный\" + 0.012*\"сезон\" + 0.010*\"тренер\" + 0.010*\"игрок\" + 0.010*\"спортсмен\" + 0.009*\"чемпионат\"\n",
      "\n",
      "8: 0.024*\"депутат\" + 0.012*\"заседание\" + 0.012*\"дума\" + 0.011*\"решение\" + 0.010*\"голосование\" + 0.010*\"председатель\" + 0.009*\"власть\" + 0.009*\"заявить\" + 0.009*\"выборы\" + 0.008*\"отметить\"\n",
      "\n",
      "14: 0.013*\"нарушение\" + 0.012*\"гражданин\" + 0.011*\"документ\" + 0.010*\"прокуратура\" + 0.010*\"право\" + 0.009*\"организация\" + 0.009*\"проверка\" + 0.008*\"выплата\" + 0.008*\"размер\" + 0.007*\"требование\"\n",
      "\n",
      "16: 0.018*\"градус\" + 0.015*\"ветеран\" + 0.014*\"погода\" + 0.013*\"ожидаться\" + 0.013*\"память\" + 0.012*\"великий_отечественный\" + 0.012*\"ночью\" + 0.011*\"житель\" + 0.010*\"памятник\" + 0.009*\"пройти\"\n",
      "\n",
      "12: 0.012*\"транспорт\" + 0.011*\"ограничение\" + 0.009*\"режим\" + 0.009*\"маршрут\" + 0.009*\"движение\" + 0.008*\"связь\" + 0.008*\"безопасность\" + 0.008*\"напомнить\" + 0.007*\"мероприятие\" + 0.007*\"общественный_транспорт\"\n",
      "\n",
      "9: 0.019*\"банк\" + 0.012*\"компания\" + 0.010*\"клиент\" + 0.008*\"услуга\" + 0.008*\"составить\" + 0.007*\"сервис\" + 0.007*\"кредит\" + 0.007*\"доход\" + 0.006*\"карта\" + 0.006*\"рост\"\n",
      "\n",
      "11: 0.028*\"мужчина\" + 0.016*\"полиция\" + 0.014*\"задержать\" + 0.013*\"житель\" + 0.011*\"полицейский\" + 0.009*\"подозревать\" + 0.009*\"отношение\" + 0.009*\"следствие\" + 0.009*\"сообщать\" + 0.008*\"деньга\"\n",
      "\n",
      "17: 0.008*\"ребёнок\" + 0.007*\"семья\" + 0.005*\"написать\" + 0.004*\"рассказывать\" + 0.004*\"девушка\" + 0.004*\"видео\" + 0.004*\"появиться\" + 0.004*\"соцсеть\" + 0.004*\"история\" + 0.003*\"ходить\"\n",
      "\n",
      "13: 0.013*\"заместитель\" + 0.012*\"руководитель\" + 0.010*\"должность\" + 0.009*\"министр\" + 0.009*\"республика\" + 0.009*\"государственный\" + 0.008*\"председатель\" + 0.008*\"директор\" + 0.008*\"управление\" + 0.007*\"пост\"\n",
      "\n",
      "1: 0.078*\"республика\" + 0.038*\"мордовия\" + 0.019*\"военный\" + 0.016*\"обязательный\" + 0.015*\"мордовмедиа_использование_материал_гиперссылка\" + 0.012*\"йошкара\" + 0.010*\"служба\" + 0.010*\"территория\" + 0.007*\"армия\" + 0.007*\"беларусь\"\n",
      "\n",
      "7: 0.033*\"медицинский\" + 0.032*\"врач\" + 0.024*\"помощь\" + 0.022*\"пациент\" + 0.021*\"больница\" + 0.012*\"лечение\" + 0.011*\"здравоохранение\" + 0.010*\"учреждение\" + 0.010*\"медик\" + 0.010*\"лекарство\"\n",
      "\n",
      "20: 0.018*\"объект\" + 0.018*\"строительство\" + 0.015*\"проект\" + 0.013*\"территория\" + 0.012*\"ремонт\" + 0.012*\"администрация\" + 0.011*\"городской\" + 0.011*\"участок\" + 0.011*\"житель\" + 0.009*\"здание\"\n",
      "\n"
     ]
    }
   ],
   "source": [
    "lda_model = LdaMulticore(corpus=corpus,\n",
    "                         id2word=id2word,\n",
    "                         num_topics=21,\n",
    "                         chunksize=1000,\n",
    "                         passes=5,\n",
    "                         random_state=100,\n",
    "                         alpha='symmetric',\n",
    "                         per_word_topics=True,\n",
    "                         decay=0.5)\n",
    "for num, params in lda_model.print_topics():\n",
    "    print(f'{num}: {params}\\n')\n",
    "coherence_model_lda = CoherenceModel(model=lda_model, texts=text_grams, dictionary=id2word, coherence='c_v')\n",
    "coherence_model_lda.get_coherence()\n",
    "lda_model.save('model/model_full_21.gensim')"
   ]
  },
  {
   "cell_type": "code",
   "execution_count": 37,
   "metadata": {
    "ExecuteTime": {
     "end_time": "2021-01-17T03:04:14.871055Z",
     "start_time": "2021-01-17T02:29:17.657605Z"
    }
   },
   "outputs": [
    {
     "name": "stdout",
     "output_type": "stream",
     "text": [
      "16: 0.018*\"военный\" + 0.014*\"градус\" + 0.013*\"ветеран\" + 0.011*\"память\" + 0.010*\"погода\" + 0.010*\"ожидаться\" + 0.009*\"великий_отечественный\" + 0.009*\"ночью\" + 0.008*\"житель\" + 0.007*\"пройти\"\n",
      "\n",
      "13: 0.019*\"заместитель\" + 0.019*\"руководитель\" + 0.016*\"управление\" + 0.013*\"должность\" + 0.013*\"директор\" + 0.012*\"министр\" + 0.011*\"администрация\" + 0.011*\"начальник\" + 0.011*\"председатель\" + 0.010*\"государственный\"\n",
      "\n",
      "4: 0.019*\"произойти\" + 0.016*\"квартира\" + 0.015*\"мужчина\" + 0.014*\"пострадать\" + 0.012*\"житель\" + 0.012*\"происшествие\" + 0.011*\"сообщать\" + 0.010*\"погибнуть\" + 0.010*\"пожарный\" + 0.009*\"причина\"\n",
      "\n",
      "19: 0.068*\"коронавирус\" + 0.026*\"заболеть\" + 0.020*\"выявить\" + 0.019*\"пациент\" + 0.014*\"заболевание\" + 0.014*\"заражение\" + 0.012*\"житель\" + 0.012*\"подтвердить\" + 0.011*\"данные\" + 0.011*\"зарегистрировать\"\n",
      "\n",
      "0: 0.059*\"водитель\" + 0.045*\"автомобиль\" + 0.022*\"произойти\" + 0.020*\"пострадать\" + 0.018*\"авария\" + 0.014*\"гибдд\" + 0.013*\"мужчина\" + 0.012*\"движение\" + 0.012*\"травма\" + 0.010*\"происшествие\"\n",
      "\n",
      "15: 0.033*\"команда\" + 0.022*\"матч\" + 0.020*\"спорт\" + 0.016*\"клуб\" + 0.015*\"спортивный\" + 0.012*\"сезон\" + 0.010*\"тренер\" + 0.010*\"игрок\" + 0.010*\"спортсмен\" + 0.009*\"чемпионат\"\n",
      "\n",
      "14: 0.013*\"гражданин\" + 0.012*\"нарушение\" + 0.011*\"документ\" + 0.010*\"прокуратура\" + 0.010*\"право\" + 0.010*\"выплата\" + 0.009*\"размер\" + 0.009*\"организация\" + 0.008*\"сумма\" + 0.007*\"проверка\"\n",
      "\n",
      "2: 0.015*\"магазин\" + 0.009*\"товар\" + 0.008*\"маска\" + 0.008*\"торговый\" + 0.006*\"использовать\" + 0.005*\"покупатель\" + 0.005*\"материал\" + 0.005*\"продукция\" + 0.005*\"стоить\" + 0.005*\"храм\"\n",
      "\n",
      "17: 0.005*\"проблема\" + 0.004*\"семья\" + 0.004*\"написать\" + 0.004*\"ситуация\" + 0.004*\"рассказывать\" + 0.003*\"ребёнок\" + 0.003*\"появиться\" + 0.003*\"история\" + 0.003*\"стоить\" + 0.003*\"деньга\"\n",
      "\n",
      "10: 0.039*\"проект\" + 0.022*\"развитие\" + 0.015*\"поддержка\" + 0.014*\"программа\" + 0.011*\"центр\" + 0.011*\"федеральный\" + 0.010*\"реализация\" + 0.009*\"правительство\" + 0.009*\"рамка\" + 0.009*\"бизнес\"\n",
      "\n",
      "7: 0.032*\"медицинский\" + 0.031*\"врач\" + 0.025*\"пациент\" + 0.023*\"помощь\" + 0.022*\"больница\" + 0.012*\"лечение\" + 0.011*\"здравоохранение\" + 0.010*\"лекарство\" + 0.010*\"медик\" + 0.010*\"учреждение\"\n",
      "\n",
      "6: 0.012*\"конкурс\" + 0.009*\"фестиваль\" + 0.009*\"история\" + 0.008*\"театр\" + 0.008*\"участник\" + 0.008*\"музей\" + 0.008*\"проект\" + 0.007*\"пройти\" + 0.007*\"мероприятие\" + 0.007*\"онлайн\"\n",
      "\n",
      "21: 0.017*\"животное\" + 0.012*\"специалист\" + 0.011*\"учёный\" + 0.009*\"исследование\" + 0.008*\"собака\" + 0.007*\"организм\" + 0.007*\"продукт\" + 0.006*\"являться\" + 0.005*\"обнаружить\" + 0.004*\"эксперт\"\n",
      "\n",
      "8: 0.023*\"депутат\" + 0.012*\"решение\" + 0.011*\"заседание\" + 0.011*\"дума\" + 0.010*\"власть\" + 0.010*\"заявить\" + 0.009*\"голосование\" + 0.009*\"председатель\" + 0.008*\"отметить\" + 0.008*\"принять\"\n",
      "\n",
      "18: 0.011*\"компания\" + 0.011*\"рост\" + 0.010*\"составить\" + 0.010*\"бизнес\" + 0.010*\"цена\" + 0.009*\"уровень\" + 0.007*\"вырасти\" + 0.007*\"показатель\" + 0.007*\"процент\" + 0.006*\"доход\"\n",
      "\n",
      "3: 0.013*\"предприятие\" + 0.011*\"компания\" + 0.009*\"система\" + 0.009*\"безопасность\" + 0.008*\"объект\" + 0.007*\"оборудование\" + 0.007*\"житель\" + 0.007*\"управление\" + 0.006*\"провести\" + 0.006*\"контроль\"\n",
      "\n",
      "9: 0.028*\"банк\" + 0.014*\"клиент\" + 0.013*\"услуга\" + 0.012*\"компания\" + 0.011*\"сервис\" + 0.010*\"карта\" + 0.010*\"сайт\" + 0.009*\"онлайн\" + 0.009*\"кредит\" + 0.008*\"интернет\"\n",
      "\n",
      "20: 0.020*\"строительство\" + 0.019*\"объект\" + 0.014*\"территория\" + 0.013*\"житель\" + 0.013*\"проект\" + 0.012*\"ремонт\" + 0.012*\"администрация\" + 0.012*\"городской\" + 0.011*\"участок\" + 0.011*\"здание\"\n",
      "\n",
      "12: 0.015*\"транспорт\" + 0.013*\"маршрут\" + 0.013*\"ограничение\" + 0.011*\"движение\" + 0.009*\"напомнить\" + 0.008*\"связь\" + 0.008*\"сообщать\" + 0.008*\"пассажир\" + 0.008*\"общественный_транспорт\" + 0.008*\"далее\"\n",
      "\n",
      "1: 0.153*\"республика\" + 0.042*\"мордовия\" + 0.019*\"обязательный\" + 0.018*\"мордовмедиа_использование_материал_гиперссылка\" + 0.016*\"йошкара\" + 0.014*\"информ\" + 0.012*\"сообщать\" + 0.011*\"территория\" + 0.010*\"край\" + 0.010*\"округ\"\n",
      "\n"
     ]
    }
   ],
   "source": [
    "lda_model = LdaMulticore(corpus=corpus,\n",
    "                         id2word=id2word,\n",
    "                         num_topics=22,\n",
    "                         chunksize=1000,\n",
    "                         passes=5,\n",
    "                         random_state=100,\n",
    "                         alpha='symmetric',\n",
    "                         per_word_topics=True,\n",
    "                         decay=0.5)\n",
    "for num, params in lda_model.print_topics():\n",
    "    print(f'{num}: {params}\\n')\n",
    "coherence_model_lda = CoherenceModel(model=lda_model, texts=text_grams, dictionary=id2word, coherence='c_v')\n",
    "coherence_model_lda.get_coherence()\n",
    "lda_model.save('model/model_full_22.gensim')"
   ]
  }
 ],
 "metadata": {
  "kernelspec": {
   "display_name": "Python 3",
   "language": "python",
   "name": "python3"
  },
  "language_info": {
   "codemirror_mode": {
    "name": "ipython",
    "version": 3
   },
   "file_extension": ".py",
   "mimetype": "text/x-python",
   "name": "python",
   "nbconvert_exporter": "python",
   "pygments_lexer": "ipython3",
   "version": "3.8.5"
  }
 },
 "nbformat": 4,
 "nbformat_minor": 4
}
