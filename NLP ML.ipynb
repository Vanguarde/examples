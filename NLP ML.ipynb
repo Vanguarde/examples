{
 "cells": [
  {
   "cell_type": "markdown",
   "metadata": {
    "ExecuteTime": {
     "end_time": "2021-04-05T11:41:29.634543Z",
     "start_time": "2021-04-05T11:41:29.627007Z"
    },
    "heading_collapsed": true
   },
   "source": [
    "# Imports"
   ]
  },
  {
   "cell_type": "code",
   "execution_count": 2,
   "metadata": {
    "ExecuteTime": {
     "end_time": "2021-04-13T11:15:18.069126Z",
     "start_time": "2021-04-13T11:15:14.741147Z"
    },
    "hidden": true
   },
   "outputs": [
    {
     "name": "stderr",
     "output_type": "stream",
     "text": [
      "Using TensorFlow backend.\n"
     ]
    }
   ],
   "source": [
    "import pandas as pd\n",
    "import nltk\n",
    "from nltk.corpus import stopwords\n",
    "import numpy as np\n",
    "from sklearn.model_selection import train_test_split\n",
    "from numpy import array\n",
    "from keras.preprocessing.text import one_hot\n",
    "from keras.preprocessing.sequence import pad_sequences\n",
    "from keras.models import Sequential, Model\n",
    "from keras.layers.core import Activation, Dropout, Dense\n",
    "from keras.layers import Flatten, Input, concatenate\n",
    "from keras.layers import GlobalMaxPooling1D, Conv1D\n",
    "from keras.layers.embeddings import Embedding\n",
    "from sklearn.model_selection import train_test_split\n",
    "from keras.preprocessing.text import Tokenizer\n",
    "import gensim\n",
    "from gensim.models import Word2Vec\n",
    "from navec import Navec\n",
    "from sklearn.metrics import classification_report\n",
    "from IPython.display import Image\n",
    "from IPython.core.display import HTML \n",
    "\n",
    "from sklearn.svm import SVC\n",
    "from sklearn.model_selection import cross_val_score, ShuffleSplit, GridSearchCV, train_test_split, RandomizedSearchCV\n",
    "from sklearn.feature_extraction.text import TfidfVectorizer \n",
    "from sklearn.naive_bayes import MultinomialNB\n",
    "\n",
    "from sklearn.utils import class_weight\n",
    "\n",
    "from matplotlib import pyplot as plt\n",
    "\n",
    "import io\n",
    "\n",
    "import seaborn as sns"
   ]
  },
  {
   "cell_type": "markdown",
   "metadata": {
    "ExecuteTime": {
     "end_time": "2021-04-05T11:48:44.674291Z",
     "start_time": "2021-04-05T11:48:44.671351Z"
    },
    "heading_collapsed": true
   },
   "source": [
    "# Defs"
   ]
  },
  {
   "cell_type": "code",
   "execution_count": 12,
   "metadata": {
    "ExecuteTime": {
     "end_time": "2021-04-13T11:17:35.906061Z",
     "start_time": "2021-04-13T11:17:35.875139Z"
    },
    "hidden": true
   },
   "outputs": [],
   "source": [
    "class MeanEmbeddingVectorizer(object):\n",
    "    def __init__(self, navec):\n",
    "        self.navec = navec\n",
    "        self.dim = 300\n",
    "\n",
    "    def fit(self, X, y):\n",
    "        return self\n",
    "\n",
    "    def transform(self, X):\n",
    "        return np.array([\n",
    "            np.mean([self.navec[w] for w in words.split() if w in self.navec]\n",
    "                    or [np.zeros(self.dim)], axis=0)\n",
    "            for words in X\n",
    "        ])\n",
    "    \n",
    "# загружаем предобученные embeddings NAVEC. В теории с предобученными можно эксперементировать как угодно, пробовать вообще\n",
    "# все что есть. Эта не тяжелая (по количеству нейронов, слоев) модель, можно выбрать куда внушительнее, но уже ее хватает.\n",
    "class embedding:\n",
    "    def __init__(self):\n",
    "        self.navec = Navec.load(....tar')\n",
    "    def get_weight_matrix(self, word_index):\n",
    "        vocab_size = len(word_index) + 1\n",
    "        weight_matrix = np.zeros((vocab_size, 300))\n",
    "        for word, i in word_index.items():\n",
    "            vector = self.navec.get(word)\n",
    "            if vector is not None:\n",
    "                weight_matrix[i] = vector\n",
    "        return weight_matrix\n",
    "        \n",
    "    \n",
    "        \n",
    "def cnn_fit_save_show(model, X, y, tokenizer, name): \n",
    "    model_history = model.fit(X, y, batch_size=128, epochs=20, \n",
    "                           verbose=0, validation_split=0.2, class_weight=weight)\n",
    "    model.save(name)\n",
    "    tokenizer_json = tokenizer.to_json()\n",
    "    with io.open(f'{name}/tokenizer.json', 'w', encoding='utf-8') as f:\n",
    "        f.write(json.dumps(tokenizer_json, ensure_ascii=False))\n",
    "        \n",
    "    figure, axis = plt.subplots(2, 1)\n",
    "    axis[0].plot(model_history.history['acc'], label='acc', color='green')\n",
    "    axis[0].plot(model_history.history['val_acc'], label='val_acc', color='red')\n",
    "    \n",
    "    axis[1].plot(model_history.history['loss'], label='loss', color='green')\n",
    "    axis[1].plot(model_history.history['val_loss'], label='val_loss', color='red')\n",
    "    plt.legend()\n",
    "    plt.show()\n",
    "    \n",
   ]
  },
  {
   "cell_type": "markdown",
   "metadata": {
    "ExecuteTime": {
     "end_time": "2021-04-05T11:41:40.617048Z",
     "start_time": "2021-04-05T11:41:40.602669Z"
    },
    "heading_collapsed": true
   },
   "source": [
    "# Data checking"
   ]
  },
  {
   "cell_type": "code",
   "execution_count": 516,
   "metadata": {
    "ExecuteTime": {
     "end_time": "2021-04-06T16:28:32.918413Z",
     "start_time": "2021-04-06T16:28:32.885407Z"
    },
    "hidden": true
   },
   "outputs": [],
   "source": [
    "df = pd.read_csv('model_data.csv', sep=';', header=None)\n",
    "df = df[[1,2]]\n",
    "df.columns = ['text', 'class']"
   ]
  },
  {
   "cell_type": "markdown",
   "metadata": {
    "ExecuteTime": {
     "end_time": "2021-03-19T11:13:06.523234Z",
     "start_time": "2021-03-19T11:13:06.520048Z"
    },
    "hidden": true
   },
   "source": [
    "есть деление на 0, 1, а также новости без разметки. От них пользы понятно никакой"
   ]
  },
  {
   "cell_type": "markdown",
   "metadata": {
    "ExecuteTime": {
     "end_time": "2021-03-19T11:13:53.763206Z",
     "start_time": "2021-03-19T11:13:53.759187Z"
    },
    "hidden": true
   },
   "source": [
    "разбиение классов. получается примерно 1:3, не критично, но баланса нет"
   ]
  },
  {
   "cell_type": "code",
   "execution_count": 48,
   "metadata": {
    "ExecuteTime": {
     "end_time": "2021-03-22T07:21:12.002851Z",
     "start_time": "2021-03-22T07:21:11.894653Z"
    },
    "hidden": true
   },
   "outputs": [
    {
     "data": {
      "text/plain": [
       "<AxesSubplot:xlabel='class', ylabel='count'>"
      ]
     },
     "execution_count": 48,
     "metadata": {},
     "output_type": "execute_result"
    },
    {
     "data": {
      "image/png": "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\n",
      "text/plain": [
       "<Figure size 432x288 with 1 Axes>"
      ]
     },
     "metadata": {
      "needs_background": "light"
     },
     "output_type": "display_data"
    }
   ],
   "source": [
    "import seaborn as sns\n",
    "\n",
    "sns.countplot(x='class', data=df)"
   ]
  },
  {
   "cell_type": "markdown",
   "metadata": {
    "ExecuteTime": {
     "end_time": "2021-03-17T09:18:23.775404Z",
     "start_time": "2021-03-17T09:18:23.770418Z"
    },
    "hidden": true
   },
   "source": [
    "train 0-4704\n",
    "test 4705-4855 собственно убираем пустые и готовим данные для обучения. Убираем пробелы непонятные"
   ]
  },
  {
   "cell_type": "markdown",
   "metadata": {
    "ExecuteTime": {
     "end_time": "2021-03-22T11:37:09.276246Z",
     "start_time": "2021-03-22T11:37:09.174378Z"
    },
    "hidden": true
   },
   "source": [
    "filters соответствуют по сути n-граммам. Num_filters понятно, это просто количество различных ядер, применяемых к тексту. Padding=Same, то есть заполняет нулями границы для сохранения размера слоя, valid - не сохраняет. Шаг(strides) оставляем 1. Max-pooling по сути извлекает самые значимые n-граммы, полученные при свертки."
   ]
  },
  {
   "cell_type": "markdown",
   "metadata": {
    "ExecuteTime": {
     "end_time": "2021-04-07T10:23:50.713772Z",
     "start_time": "2021-04-07T10:23:50.703649Z"
    }
   },
   "source": [
    "# 3 classes"
   ]
  },
  {
   "cell_type": "code",
   "execution_count": 74,
   "metadata": {
    "ExecuteTime": {
     "end_time": "2021-04-13T11:32:04.001057Z",
     "start_time": "2021-04-13T11:32:03.800705Z"
    }
   },
   "outputs": [],
   "source": [
    "data = pd.read_excel('3cat.xlsx')\n",
    "data['news'] = data['news'].str.replace('?', '', regex=False)\n",
    "data['news'] = data['news'].str.replace('[a-zA-Z]', '')\n",
    "#дезинфляционные - 1, проинфляционные - 2\n",
    "data_test = data.drop_duplicates()\n",
    "data_test.columns = ['news', 'class']\n",
    "\n",
    "X = data_test['news'].to_list()\n",
    "y = data_test['class'].to_list()\n",
    "X_proc = []\n",
    "for sent in X:\n",
    "    sent = sent.split()\n",
    "    sent = ' '.join(sent)\n",
    "    X_proc.append(sent)\n",
    "\n",
    "X_train, X_test, y_train, y_test = train_test_split(X_proc, y, test_size=0.2)"
   ]
  },
  {
   "cell_type": "code",
   "execution_count": 75,
   "metadata": {
    "ExecuteTime": {
     "end_time": "2021-04-13T11:32:05.569814Z",
     "start_time": "2021-04-13T11:32:04.406096Z"
    }
   },
   "outputs": [],
   "source": [
    "Tfidf_vect = TfidfVectorizer()\n",
    "Tfidf_vect.fit(X_train)\n",
    "X_train_tfidf = Tfidf_vect.transform(X_train)\n",
    "X_test_tfidf = Tfidf_vect.transform(X_test)\n",
    "\n",
    "tokenizer = Tokenizer()\n",
    "tokenizer.fit_on_texts(X_train)\n",
    "X_train_tokens = tokenizer.texts_to_sequences(X_train)\n",
    "X_test_tokens = tokenizer.texts_to_sequences(X_test)\n",
    "X_train_tokens = pad_sequences(X_train_tokens, padding='post', maxlen=30)\n",
    "X_test_tokens = pad_sequences(X_test_tokens, padding='post', maxlen=30)\n",
    "\n",
    "\n",
    "clf = SVC(class_weight='balanced', probability=True)\n",
    "Naive = MultinomialNB()\n",
    "\n",
    "filters = 64\n",
    "kernel_size = 10\n",
    "strides = 1\n",
    "dropout_rate = 0.5\n",
    "maxlen = 30\n",
    "max_features = 10000\n",
    "embedding_dims = 50\n",
    "hidden_dims = 32\n",
    "\n",
    "model_cnn = Sequential()\n",
    "model_cnn.add(Embedding(input_dim = max_features, output_dim = embedding_dims, input_length = maxlen))\n",
    "model_cnn.add(Dropout(0.5))\n",
    "model_cnn.add(Conv1D(filters, kernel_size, padding = \"same\", activation = \"relu\", strides = strides))\n",
    "model_cnn.add(GlobalMaxPooling1D())\n",
    "model_cnn.add(Dense(hidden_dims))\n",
    "model_cnn.add(Dropout(0.5))\n",
    "model_cnn.add(Activation('relu'))\n",
    "model_cnn.add(Dense(3))\n",
    "model_cnn.add(Activation('softmax'))\n",
    "model_cnn.compile(optimizer='adam', loss=keras.losses.SparseCategoricalCrossentropy(from_logits=False),\n",
    "                  metrics=[keras.metrics.SparseCategoricalAccuracy()])\n",
    "\n",
    "\n",
    "emb = embedding()\n",
    "embedding_matrix = emb.get_weight_matrix(tokenizer.word_index)\n",
    "vocab_size = len(tokenizer.word_index) + 1\n",
    "class_weights = class_weight.compute_class_weight('balanced',\n",
    "                                                 np.unique(y_train),\n",
    "                                                 y_train)\n",
    "weight = {i : class_weights[i] for i in range(2)}\n",
    "num_filters = 50\n",
    "dropout_rate = 0.5\n",
    "maxlen_new = 300\n",
    "input_sent = Input(shape=(30,), dtype='int32')\n",
    "Embed_sent = Embedding(vocab_size, 300, input_length=maxlen_new, trainable=False)(input_sent)\n",
    "conv_blocks = []\n",
    "for kernel_size in range(2,6):\n",
    "    # Добавляем слой свертки\n",
    "    branch = Conv1D(filters=num_filters, kernel_size=kernel_size, padding='valid', activation='relu')(Embed_sent)\n",
    "    branch = GlobalMaxPooling1D()(branch)\n",
    "    conv_blocks.append(branch)\n",
    "# Конкатенируем карты признаков\n",
    "x = concatenate(conv_blocks, axis=1)\n",
    "x = Dropout(dropout_rate)(x)\n",
    "x = Dense(30, activation='relu')(x)\n",
    "x = Dense(3)(x)\n",
    "output = Activation('softmax')(x)\n",
    "model_cnn_new = Model(inputs=[input_sent], outputs=[output])\n",
    "model_cnn_new.compile(optimizer='adam', loss=keras.losses.SparseCategoricalCrossentropy(from_logits=False),\n",
    "                  metrics=[keras.metrics.SparseCategoricalAccuracy()])"
   ]
  },
  {
   "cell_type": "code",
   "execution_count": 68,
   "metadata": {
    "ExecuteTime": {
     "end_time": "2021-04-13T11:31:02.421966Z",
     "start_time": "2021-04-13T11:31:02.363122Z"
    }
   },
   "outputs": [
    {
     "name": "stdout",
     "output_type": "stream",
     "text": [
      "              precision    recall  f1-score   support\n",
      "\n",
      "           0       0.78      0.34      0.48       303\n",
      "           1       0.94      0.37      0.53       185\n",
      "           2       0.60      0.97      0.74       458\n",
      "\n",
      "    accuracy                           0.65       946\n",
      "   macro avg       0.77      0.56      0.58       946\n",
      "weighted avg       0.72      0.65      0.61       946\n",
      "\n"
     ]
    }
   ],
   "source": [
    "Naive.fit(X_train_tfidf,y_train)\n",
    "y_pred_naive = Naive.predict(X_test_tfidf)\n",
    "print(classification_report(y_test, y_pred_naive))"
   ]
  },
  {
   "cell_type": "code",
   "execution_count": null,
   "metadata": {
    "ExecuteTime": {
     "start_time": "2021-04-12T19:59:04.887Z"
    }
   },
   "outputs": [],
   "source": [
    "cv = ShuffleSplit(n_splits=5, test_size=0.1, random_state=42)\n",
    "grid = {\n",
    "    'kernel': ['linear', 'poly', 'rbf', 'sigmoid'],\n",
    "    'gamma': [1e-2, 1e-3, 1e-4, 1e-5],\n",
    "    'C': [1, 10, 100, 1000, 10000]},\n",
    "svm_model = GridSearchCV(estimator=clf, param_grid=grid, cv=cv, scoring='accuracy', n_jobs=-1)\n",
    "svm_model.fit(X_train_tfidf, y_train)"
   ]
  },
  {
   "cell_type": "code",
   "execution_count": 818,
   "metadata": {
    "ExecuteTime": {
     "end_time": "2021-04-08T07:17:32.454223Z",
     "start_time": "2021-04-08T07:17:29.390899Z"
    }
   },
   "outputs": [
    {
     "name": "stdout",
     "output_type": "stream",
     "text": [
      "              precision    recall  f1-score   support\n",
      "\n",
      "           0       0.89      0.87      0.88       286\n",
      "           1       0.90      0.94      0.92       195\n",
      "           2       0.95      0.94      0.94       465\n",
      "\n",
      "    accuracy                           0.92       946\n",
      "   macro avg       0.91      0.92      0.91       946\n",
      "weighted avg       0.92      0.92      0.92       946\n",
      "\n"
     ]
    }
   ],
   "source": [
    "y_pred_svm = svm_model.predict(X_test_tfidf)\n",
    "print(classification_report(y_test, y_pred_svm))"
   ]
  },
  {
   "cell_type": "code",
   "execution_count": 84,
   "metadata": {
    "ExecuteTime": {
     "end_time": "2021-04-13T11:33:43.656566Z",
     "start_time": "2021-04-13T11:33:37.208704Z"
    },
    "scrolled": true
   },
   "outputs": [
    {
     "name": "stdout",
     "output_type": "stream",
     "text": [
      "Epoch 1/8\n",
      "54/54 [==============================] - 1s 14ms/step - loss: 1.0806 - sparse_categorical_accuracy: 0.4130 - val_loss: 1.0361 - val_sparse_categorical_accuracy: 0.4749\n",
      "Epoch 2/8\n",
      "54/54 [==============================] - 1s 15ms/step - loss: 1.0312 - sparse_categorical_accuracy: 0.4768 - val_loss: 0.8561 - val_sparse_categorical_accuracy: 0.6412\n",
      "Epoch 3/8\n",
      "54/54 [==============================] - 1s 13ms/step - loss: 0.7622 - sparse_categorical_accuracy: 0.6744 - val_loss: 0.4910 - val_sparse_categorical_accuracy: 0.8865\n",
      "Epoch 4/8\n",
      "54/54 [==============================] - 1s 11ms/step - loss: 0.4555 - sparse_categorical_accuracy: 0.8485 - val_loss: 0.3012 - val_sparse_categorical_accuracy: 0.9103\n",
      "Epoch 5/8\n",
      "54/54 [==============================] - 1s 12ms/step - loss: 0.2663 - sparse_categorical_accuracy: 0.9257 - val_loss: 0.2139 - val_sparse_categorical_accuracy: 0.9340\n",
      "Epoch 6/8\n",
      "54/54 [==============================] - 1s 14ms/step - loss: 0.1825 - sparse_categorical_accuracy: 0.9469 - val_loss: 0.2127 - val_sparse_categorical_accuracy: 0.9340\n",
      "Epoch 7/8\n",
      "54/54 [==============================] - 1s 14ms/step - loss: 0.1314 - sparse_categorical_accuracy: 0.9668 - val_loss: 0.2131 - val_sparse_categorical_accuracy: 0.9261\n",
      "Epoch 8/8\n",
      "54/54 [==============================] - 1s 13ms/step - loss: 0.0911 - sparse_categorical_accuracy: 0.9776 - val_loss: 0.2248 - val_sparse_categorical_accuracy: 0.9340\n"
     ]
    }
   ],
   "source": [
    "tokenizer = Tokenizer()\n",
    "tokenizer.fit_on_texts(X_train)\n",
    "X_train_tokens = tokenizer.texts_to_sequences(X_train)\n",
    "X_test_tokens = tokenizer.texts_to_sequences(X_test)\n",
    "X_train_tokens = pad_sequences(X_train_tokens, padding='post', maxlen=30)\n",
    "X_test_tokens = pad_sequences(X_test_tokens, padding='post', maxlen=30)\n",
    "\n",
    "filters = 64\n",
    "kernel_size = 10\n",
    "strides = 1\n",
    "dropout_rate = 0.5\n",
    "maxlen = 30\n",
    "max_features = 10000\n",
    "embedding_dims = 50\n",
    "hidden_dims = 32\n",
    "\n",
    "model_cnn = Sequential()\n",
    "model_cnn.add(Embedding(input_dim = max_features, output_dim = embedding_dims, input_length = maxlen))\n",
    "model_cnn.add(Dropout(0.5))\n",
    "model_cnn.add(Conv1D(filters, kernel_size, padding = \"same\", activation = \"relu\", strides = strides))\n",
    "model_cnn.add(GlobalMaxPooling1D())\n",
    "model_cnn.add(Dense(hidden_dims))\n",
    "model_cnn.add(Dropout(0.5))\n",
    "model_cnn.add(Activation('relu'))\n",
    "model_cnn.add(Dense(3))\n",
    "model_cnn.add(Activation('softmax'))\n",
    "model_cnn.compile(optimizer='adam', loss=keras.losses.SparseCategoricalCrossentropy(from_logits=False),\n",
    "                  metrics=[keras.metrics.SparseCategoricalAccuracy()])\n",
    "\n",
    "model_history = model_cnn.fit(X_train_tokens, np.array(y_train), batch_size=64, epochs=8, validation_split = 0.1)"
   ]
  },
  {
   "cell_type": "code",
   "execution_count": 86,
   "metadata": {
    "ExecuteTime": {
     "end_time": "2021-04-13T11:33:58.959378Z",
     "start_time": "2021-04-13T11:33:58.860753Z"
    }
   },
   "outputs": [
    {
     "name": "stdout",
     "output_type": "stream",
     "text": [
      "              precision    recall  f1-score   support\n",
      "\n",
      "           0       0.91      0.89      0.90       290\n",
      "           1       0.94      0.94      0.94       187\n",
      "           2       0.95      0.97      0.96       469\n",
      "\n",
      "    accuracy                           0.94       946\n",
      "   macro avg       0.93      0.93      0.93       946\n",
      "weighted avg       0.94      0.94      0.94       946\n",
      "\n"
     ]
    }
   ],
   "source": [
    "y_pred_cnn = model_cnn.predict(X_test_tokens).argmax(axis=1)\n",
    "print(classification_report(y_test, y_pred_cnn))"
   ]
  },
  {
   "cell_type": "code",
   "execution_count": 141,
   "metadata": {
    "ExecuteTime": {
     "end_time": "2021-04-13T11:57:03.253501Z",
     "start_time": "2021-04-13T11:57:03.099004Z"
    }
   },
   "outputs": [
    {
     "data": {
      "image/png": "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\n",
      "text/plain": [
       "<Figure size 576x288 with 1 Axes>"
      ]
     },
     "metadata": {
      "needs_background": "light"
     },
     "output_type": "display_data"
    }
   ],
   "source": [
    "figure = plt.figure(figsize=(8, 4))\n",
    "plt.plot(model_history.history['sparse_categorical_accuracy'], label='доля верных ответов на обучающей выборке')\n",
    "plt.plot(model_history.history['val_sparse_categorical_accuracy'], label='доля верных ответов на валидационной выборке')\n",
    "plt.legend(loc='lower right')\n",
    "plt.ylabel('Доля верных ответов',fontweight='bold', loc='center', fontsize=10)\n",
    "plt.xlabel('Эпоха', fontweight='bold', loc='center', fontsize=10)\n",
    "plt.show()"
   ]
  },
  {
   "cell_type": "code",
   "execution_count": 71,
   "metadata": {
    "ExecuteTime": {
     "end_time": "2021-04-13T11:31:50.137852Z",
     "start_time": "2021-04-13T11:31:50.033112Z"
    }
   },
   "outputs": [
    {
     "data": {
      "image/png": "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\n",
      "text/plain": [
       "<Figure size 432x288 with 1 Axes>"
      ]
     },
     "metadata": {
      "needs_background": "light"
     },
     "output_type": "display_data"
    }
   ],
   "source": [
    "plt.plot(model_history.history['loss'], label='loss', color='green')\n",
    "plt.plot(model_history.history['val_loss'], label='val_loss', color='red')\n",
    "plt.show()"
   ]
  },
  {
   "cell_type": "markdown",
   "metadata": {
    "ExecuteTime": {
     "end_time": "2021-04-13T11:25:13.348829Z",
     "start_time": "2021-04-13T11:25:13.338695Z"
    }
   },
   "source": [
    "# New"
   ]
  },
  {
   "cell_type": "code",
   "execution_count": 61,
   "metadata": {
    "ExecuteTime": {
     "end_time": "2021-04-13T11:30:30.122114Z",
     "start_time": "2021-04-13T11:30:30.117718Z"
    }
   },
   "outputs": [],
   "source": [
    "from sklearn.metrics import plot_confusion_matrix\n",
    "import tensorflow\n",
    "import json\n",
    "from keras.preprocessing.text import tokenizer_from_json"
   ]
  },
  {
   "cell_type": "code",
   "execution_count": 62,
   "metadata": {
    "ExecuteTime": {
     "end_time": "2021-04-13T11:30:31.800182Z",
     "start_time": "2021-04-13T11:30:30.533734Z"
    }
   },
   "outputs": [],
   "source": [
    "model = tensorflow.keras.models.load_model('...')\n",
    "with open('....json') as f:\n",
    "    data = json.load(f)\n",
    "    tokenizer = tokenizer_from_json(data)"
   ]
  },
  {
   "cell_type": "code",
   "execution_count": 89,
   "metadata": {
    "ExecuteTime": {
     "end_time": "2021-04-13T11:36:20.929587Z",
     "start_time": "2021-04-13T11:36:20.823413Z"
    }
   },
   "outputs": [
    {
     "name": "stdout",
     "output_type": "stream",
     "text": [
      "              precision    recall  f1-score   support\n",
      "\n",
      "           0       0.91      0.89      0.90       290\n",
      "           1       0.94      0.94      0.94       187\n",
      "           2       0.95      0.97      0.96       469\n",
      "\n",
      "    accuracy                           0.94       946\n",
      "   macro avg       0.93      0.93      0.93       946\n",
      "weighted avg       0.94      0.94      0.94       946\n",
      "\n"
     ]
    }
   ],
   "source": [
    "y_pred_cnn = model_cnn.predict(X_test_tokens).argmax(axis=1)\n",
    "print(classification_report(y_test, y_pred_cnn))"
   ]
  },
  {
   "cell_type": "code",
   "execution_count": 143,
   "metadata": {
    "ExecuteTime": {
     "end_time": "2021-04-13T12:15:01.140897Z",
     "start_time": "2021-04-13T12:15:01.133841Z"
    }
   },
   "outputs": [],
   "source": [
    "from sklearn.metrics import confusion_matrix"
   ]
  },
  {
   "cell_type": "code",
   "execution_count": 144,
   "metadata": {
    "ExecuteTime": {
     "end_time": "2021-04-13T12:15:17.603834Z",
     "start_time": "2021-04-13T12:15:17.584191Z"
    }
   },
   "outputs": [],
   "source": [
    "cm = confusion_matrix(y_test, y_pred_cnn)"
   ]
  },
  {
   "cell_type": "code",
   "execution_count": 91,
   "metadata": {
    "ExecuteTime": {
     "end_time": "2021-04-13T11:36:54.472270Z",
     "start_time": "2021-04-13T11:36:54.465781Z"
    }
   },
   "outputs": [],
   "source": [
    "import sklearn"
   ]
  },
  {
   "cell_type": "code",
   "execution_count": 162,
   "metadata": {
    "ExecuteTime": {
     "end_time": "2021-04-13T12:19:45.979617Z",
     "start_time": "2021-04-13T12:19:45.509124Z"
    }
   },
   "outputs": [
    {
     "data": {
      "text/plain": [
       "Text(0.5, 112.59999999999997, 'Предсказанные классы')"
      ]
     },
     "execution_count": 162,
     "metadata": {},
     "output_type": "execute_result"
    },
    {
     "data": {
      "image/png": "iVBORw0KGgoAAAANSUhEUgAAAtMAAALICAYAAAC95XxpAAAAOXRFWHRTb2Z0d2FyZQBNYXRwbG90bGliIHZlcnNpb24zLjMuMiwgaHR0cHM6Ly9tYXRwbG90bGliLm9yZy8vihELAAAACXBIWXMAAAsTAAALEwEAmpwYAAChBklEQVR4nOzdd5gUVdbH8e8BEVDJoOCrEhRdQUBdzDlizjmirrrmuOvqrq5hzTmtawZMgBjImHNWRJIBA0EBAwgMWeC8f1RNT3UzoatnmKqZ+X18+pkKt2/d6S6H07fPvdfcHRERERERia9e0g0QEREREampFEyLiIiIiBRIwbSIiIiISIEUTIuIiIiIFEjBtIiIiIhIgVZLugEiIiIiUrj6Tdu7L1uUdDPwRb++5O77JN2O6qZgWkRERKQG82WLaLjJUUk3g8Vj7m+ddBuSoDQPEREREZECKZgWERERESmQ0jxEREREajQDU/9oUvTKi4iIiIgUSD3TIiIiIjWZAWZJt6LOUs+0iIiIiEiBFEyLiIiIiBRIaR4iIiIiNZ0GICZGr7yIiIiISIEUTIuIiIiIFEhpHiIiIiI1nWbzSIx6pkVERERECqSeaREREZEaTSsgJkmvvIiIiIhIgRRMi4iIiIgUSGkeIiIiIjWdBiAmRj3TIiIiIiIFUjAtIiIiIlIgpXmIiIiI1GSGZvNIkF55EREREZECqWdaREREpEYzDUBMkHqmRUREREQKpGBaRERERKRASvMQERERqek0ADExeuVFRERERAqknmkRERGRmk4DEBOjnmkRERERkQKpZ1pEROoMM6sPrAV0BH539ykJN0lEajgF0yIiUquYWQdgL2B7oDPQHmgCrEn2v3v/A86q7vaJVD3TAMQEKZgWEZFawcz2AP4B7JnnUw4zs3PdffkqbJaI1HL6GCNVwsw6mJmX8phmVtjHZTP7Rxl13lbV7ReRmsvMGptZH+BV8g+kAZYC662SRolInaGeaVnV1gN2J/hHLq4Tq7gtIlLLmNlawHBg55xTM4DHgc+ACcCSnPNLgJnu7qu8kSKrmqHZPBKkYFqqw0nEDKbNrCfQZdU0R0RqkcfJDqSXA1cAd7t7bgAtIlLlFEzLqvIH0CDcPszMznL3BTGef1IZdYmIAGBmpwJHRA7NBQ5399cSapJIcjQAMTF65WVVeRNYFG6vCRye7xPNrAFwTOTQiKprlojUBma2JvCfyKFlwBEKpEWkuimYllVlHjA4sh8n/3k/oE24vQx4uqoaJSK1xqlAu8j+te5eyNgMEZFKUTAtq1K/yPbuZvZ/eT4vmuLxEvBL1TVJRGqJ4yPbvwB3JNUQkeSF80wn/aijlDMtq9LLwEygLcEHtxOAm8t7gpm1APaPHHqiso0ws04EgxnbA00JertnAz8AH7r7wspeo7qYWUNgJ4LfpQ0wC5gEvKO5crOFaQCbAZsArYHGBDm1vwKfuvt3CbatDbADQc9qC2AOwf8r77q7PjxWwMyaAD0jh4YWj8kI/x/ZBtgYaEUw5uJnYIK7j6mi668PbAusQ7AYzGxgOsH/h3Oq4hoiUnMomJZVxt2Xm9kzwEXhoROpIJgmyJVuGG7PJUgV2TbOdcOc672BowjmnF23nOJ/mNlQ4Hp3H11BvZMJgtiq1NHdJ0eu0YEgyC92jbtfHQYPVwGnEAQIuX4xs9uB2/MJqsM5eU8u3nf3CudUMrPVgM8JAtQyf4fKXify3N4EMzUU283d36zgOe0J7qEDga0pZ+CqmU0B7gIedPdFZZWrSma2J3A1sB2lfzPoZvYRwfs+Ks86+xD/vXwT2CXcneLuHfJ4zmRK7v+33H3XcspGp5vr6+6986h/O+A9gkm+ipV1nU2A+pH9D8xsA+BygteicRnX+Ilg1cPbC3nPzewogplCepRRZFn42l7p7h/mWeebxH8vLgduiBz6EthVH8REklF3++SlukRTPbqa2Z8rKB9N8XjW3RcXcM0rgWFhXeUF0hAEW4cBH5vZJQVca5ULe8E+AS6l9EAaYG2CDyrvmlmzVdSUc1k5kE4NM6tP8EHkJoJe34pmgGkP3EkQiFX1h6Tctq1uZk8Cr4RtK+tvrxF8eBxpZgPDXtZaL1zY6T6yA+ny5P5/vQUwDvgrZQTSof8DrgO+MrO872Uza2pmrwIDKDuQhqCDak+Ce+quQhesqqAtfyM7kP4G2EOBtFDPkn/UUeqZllXK3ceY2Vige3joJIJFFFZiZhuT3Qvdr7Ryecj9B6wIGE+QVzkfWAPYiCD1o7h3qz5wm5ktcPf/FXjdVaERwYIUm4T7S4APCRakaEHQ+9oiUn5bYJSZ7VbgB5FSmdnaBD2qaWZkB2NOEFxPIkijcIJ0j83Dn8V6AK+a2ZbuXlTljQp69IcAvXJOLQA+IEg7aU3w3jWJnD8SaG1mvdz9j6puV8qcAWwZo/yaOfvn5Ow7MBr4nuCbrs2ATpHzGwBvm9ke7v55eRcKvxV6i+C+ifod+Dj82Y7g/Yt++LmA4H09oYLfJW9mdiFwS+TQtwTf2MyoqmuISHwKpqU6PAHcGm4fa2aXuPuyUspFe6V/AN6txDV/AB4jCGLGlbbKmZm1BS4ELqHk/4U7zWyEu08tpc4dKf//mfWAdyL7fwMGVdDOHys4fybQnCA4uAf4t7vPLT5pZqsTBCI3E3xIgOAf9X8TfOVdVW4BVlWPd1VaBrwIPAu8FH2tioW9hXsBt1HS074RQY92blBWFf5JdiC9FLgWuDOar29mjYHzw3Orh4d3C/er8r1MFTNrSfYUd/kob9XCEcC57h5Nl8LMdgUeAjqHh1oA/c1siwrGTdxDdiBdRPD/9mPRDznhN0JXEaS1FX+oO97M3nH3Byv6hSpiZucSfJNS7HuCQHp6ZeuWWsCo0wMAk6ZXXqrDUwSrkkEwaG6f3AJmZmT34DxRiWV+/wds5O7/cfexZdXj7jPd/R9kz2ndiDICKnf/0d0nl/Vg5cD4t/LKh4/SPlRENQ9//t3dL8wNDt19qbvfBxxKMNCq2KVmtmEFdefFzLYl+4PO5KqodxVYDmzo7ke6+8DSAmkAd1/h7i8RfOiI5rWeEgZ2VcbMOgL/ihxaARzn7tfnBnDuvsjdbybI9Y/mvf/dzP5Ule1KmRsoSV+aS9DTW5GyVjZ8CjggN5AGCPPttwe+jhzemHI+qJjZjkDvyKFFwL7u/mDutwXuPtfdLyH4QBR1eziwumBmdiZBUF9sCrC7u1f0YVxEqoGCaVnlwq8go/O/nlRKsV3IHtxX8CweYdC7Ikb554DnI4eOLvTaq8ib7n5beQXc/WWy/7FdjaBXu1JKyWUdTRXMsLIqeKC0bxTKKr+AoFe/WGPgoCpu1tlkf5vxUHi/ldeuwcADkUP1CPLVax0z2wI4PXLoaoI56itS2uDBqcAZ5X0Id/ffCAZCR/8+/NXMGpXxlAty9q9x9/fKa1j44XZY5NCawGnlPac8ZvYXgvuh+P/BaQQ90lMKrVNEqpaCaaku0fznA82sec75aID9vrt/u+qblCW6wEx7M1unmq9fnny/Ar+R7N7p48sqGMPpQPGgUScI6vL+oJJ27j6O7NlTtqniS0Tfg+UEKRv5uIac9zL89qbWCH+f+yj5d2hCuJ+P0nqmb85nmkt3/4Qg/atYa1bOZy+eWvGQyKHfCWZ/yce/cvYLyps2s5MJUlOK3/ufCALplXreRTBL/lFHKZiW6vIiQa4hBKkURxWfMLM1gCMiZQsdeFguM6tnZs3MbD0z6xB9kP21OkBavlb/DXgjn4LuPguILqW8bjhdWEHClIfrI4f6ufsHhdaXJDNrZGZrm1n7Ut77WZGiVfa+h3VHV+h7K9+BYmEP6iuRQ82BTauqbSlxEkHaRbHz8kh7KrY0Z98JZtrIV+6qqjuUUmYrsr9VeMHdy0ovyW6M+xfAxMihbuFAxryZ2fEE4z6KI5TpBIF0YvOji0jpFExLtQh7jKJfb0eXFz+UklkMlgADq+KaZtbQzA4zs6fMbCLBP8BzCL4m/SHn8WTO0yuV41iFPouTskIwhV5URVMRlud6SnJZ5wGXVaKuamVmnc3s32b2ppnNIkgL+Jkg3zv3vY8u/lGV73vua/9RzOfnzlNcmfcyVcysKdlzzg9w97w+NIZyg+lvww+T+crnta3K968eK88GUiYzOwboS/a/0b3dfVLMNohINdBsHlKd+lEymGdHM+vk7t+TneIxzN3zGYBULjPbn+Ar4w4FVtG0sm2oInF7oXLTY9Yu5KJhLms0n/hqd/+5kLqqU5g+dBtwKvnPWRxVle97m5z9uIHQ1zn7ufXVZNcQrB4IwRSBl8Z8fm4wHeu1dfdpZraIkjmpS3ttE3n/zOwIgnEJ9XNO/dPMXov54VrqDNNsHgnSKy/V6U2CQULFTjSzdYE9IscqneJhZqcCQyk8kIb0/L+Rz2CsqNwZLJrHvWAZuaz3xq2nuoUzJrxOMNir0OS9qnzfm+fsV/a9TMu3JZViZl3JHlB5fQGzUuTOoR73tYXs17e017Z5Ja9RyPu3DkEKSnFHV3Qw5S4E03iKSMqkJWCQOiAcZR9NpziRYGBOcQ/Mb8DIylzDzDqTPfIdgmDwCoKgfSOC3seG7m7FD4L5fNMo7vSAVTEC5EQKz2VN0h0EK+EVW0zw4ezE8Pg6BDMr1M9579+qpvYl8V6m0T2UBIuTgNsLqCM3paOQaTTjvr7V8f41omTlzjnATmTnXv/HzMpbgVHqsqQHH9bhAYhK85Dq1o8gsAXYkOw5Xp+pgpXeLqNkwQsIvvL/ex5zVscaHFSN4i6UkpumMCfOk0vJZR0YM5c1EeGS6ydHDk0nmIc396v20qyq935Ozn5l38tKpz8lzcyOAnaPHLrA3XNTNvIxm2BWmeIOoUIWFIq+vqW9tnNy9qvz/ZsH9HL3j83sBIL869XDx5Nm1jPfwZAisuqpZ1qqVRjcfBw51DyyXRWzeOwf2f4GuCzPxV/aVsG1V4W4C69slLP/S8znX03Ja7GQ+LmsSdmP7J7Av+cZSMOqe+9/zdnPfW8qsnEF9dUo4aw90fnSh7p7Qd9EhXnD0dSQWK+tma1HSb40lP7aJvX+zSdYGOZjAA+WO78qcn4zgmkwRSQlFExLEkoLmr90908rU2n4j3U0MHolxmCdbStz7VXoz+HCKfnaKmf/s3yfaGZdgPMih65392kxrp2k3EDnpXyeFPZor1v1zQFWfu3jzmGde0/m/V6m1L+A9cPtxcCFlawvOltG55irV+bz2lbl+7cCGJPHc5YA+7n7+znHbwXeiexfaGZ7IBJl9ZJ/1FF19zeXJPUne0EKqJpe6eY5+3kNGAqD8EOq4PqrQmvyzOc2s1ZkD+acHmdFQIJBhsWpX99SWC5rUnK/gs93sFhVLGxTqnCJ+ei80rvmuxhQ+F7uHTk0B/iyyhpXzcxsI+DiyKFbw5l8KuPd6CWIzF2fh+Ny9kubP/0TIDpW4FAzW72Ucisxs25A18ih8e5eVFb5iJnu/k7uwbBT4ERK7msD+pSy+JWIJEDBtFS7cD7YbQgG1xQ//lsFVc/J2c/9mrUslwJxerWqW+5qamW5nJLBSwBP5XuBMnJZa1JO5pyc/QrfezNrDVy0SlpTIro4SH1KxgtU5Eqy38un80xXSqu7gYbh9hSqJk1hANlT5F1mZo3LKlzMzLYEDo4cmgWMyi0XLjcfXRm1JXBOnm27Lmc/dx772MLlw6PfHK1H9rLzIpIQBdOSCHf/3N3fjTwKmdoqt86FQLS364Bwdo8ymdkBBIFLmu1qZuXmLpvZXsD5kUPLCJYhzlduLuuIGM9Ng3E5+xeXWioUfhsxgALn4Y7hv2SvrnmOmR1Y3hPC89Gp41aQ/zLbabQ7QU57sYvdfVFlK3X3X4BnI4c6AA+Ut+x62OP/JNn/9j1cTnvuydm/zsxyU6lyr3EW2cH6AuDR8p6TL3fvR/bvfIyZ5fayS12U9CwedXw2DwXTUtsMimw3BF42sx1zC4XLil8HvECQ2vBbNbUvrjnhz1vM7E4zy0pnMLPVzewcguXaoz2Zt7l77gIu5SnOZV3Cqu+tXRVGEgyYLHaKmd1R2hLOZrYT8B5BkOesPM1alQlTGW6IHKoPPGtmK/Wihkue/40gWIou2HGbu9fYFA9K7i2AV939+Sqs++9kfytxMvBiuJR7FjPbmeB9jy7L/j3BSp+lcve3CRZQKbYm8IqZnWZm0f/fMLOmZnYLK3/w+Zu7z674V8nbXwlmqyl2f5j7LyIJ0dR4UtvcRrBoR/Ey2B2Ad8zsK2A8QS/h/xGkmRT/Y/gbQapHn+psaJ4eBA4gyL+8EDjLzN4HZhIsArENKy8G8RHBCnOFuNXd4666mDczmx+jeO7fp5FmVtzL2yWaD+7uv5nZ7WR/y3ARcLqZfUiwlHhToAewQaTM7QSDNneJ0a64rgW2A/YM9xsCNwH/MrMPCO6/VmGZ3OD/bWJ+c5LnaxwN5DfI8zlrxGlHKf4gO02h0tx9upmdRvAtQ/H9chBwoJl9SrBc/OoEM2DkDlKdBxzr7hX97ucS3Dfdw/1mwCPAzWb2MUEw35bg/WuU89z+7l6lqRjuPtvMehMMsjWCsSJ9zWyPGp4KJJVVhwcAJk3BtNQq7v6rmR0KDCN7ntc/hY9cPxNMp5fWeaYXE7TvVYJgoCHlD0j8kGBardwV4vIxlVU/5daalXhuNFAp7V+Nawh6HY+IHFuLkiA210ME85K/Xok2Vcjdl4XpRH2Bo3Patlc5T30eOL6AeZjjvsZWwHMKcbe7f1XVlbr782Z2OMEYgbXCw0bwIamslIyfgAPDaecqqn+eme1C8H5E/99rBexbzlPvJzv1qsq4+ytmdm+k/t0IUptq0qBhkVpDH2Ok1glHw/ckCKjL6qmZTfCPXTd3T/WUY+HAo57AXZS98MMvwD+Andx9ToGXujjMO6+R3H05wYwOFxD03JflA+Bwdz8zxtSJlW3bEnc/BtgHeJ+y70snmIf9QHc/vMAPRWk0g6CHfpVw9yFAZ4IPSOWNv5hB8KFrk3wC6Uj9cwhmyjkOGFtO0eXAa8AO7n7uKr6/LiN7dcTrw1lERKSamb4VktrMzNYlmC1kPYJvYmYS9MC+V+DKa6tUmOv5Q+TQNe5+deR8Q2BnoD3QhiDfdxLwdhhM1lpm9iYl6Rgdw6nnyirbANia4Kv5FgQB1gxgtLv/UNbzqouZrQ3sSJAe0ByYS3Bvvufu5X0QkAqE7/32BAsetSEYjPsLMAH4vCpSIcxsA4J5pNch+FZrNkEe8zvuXuNXqpSap16z9b3h9uWOu64Wi0dd/Jm790y6HdVNaR5Sq7n7dIJ8ylohnK7ulaTbkXbhsvTvhY/UCWeiqMqBeBIK3/u3wsequsZUgg/lIiJK8xARERERKZR6pkVERERqNNNsHgnSKy8iIiIiUiD1TIuIiIjUdHV4BcKkKZgWkZpiX0pWBlyQZENERESKKZgWkRrB3Rcl3QYREZFctS6YttXXdGvUMulmiBRmzbawoGSa4XXatvv3Fn/u+e8EWyRSpVas0NoGUntMmzqF2bN+Sz6/wtAAxATVvmC6UUsabntB0s0QqRLfDEl+En6RqrRgybKkmyBSZfbZdbukmyApoI8xIiIiIiIFqnU90yIiIiJ1i+aZTpJeeRERERGRAqlnWkRERKSm0zzTiVHPtIiIiIhIgRRMi4iIiIgUSGkeIiIiIjWdBiAmRq+8iIiIiEiBFEyLiIiIiBRIaR4iIiIiNZ1m80iMeqZFRERERAqknmkRERGRmsy0AmKS9MqLiIiIiBRIwbSIiIiISIGU5iEiIiJS02kAYmLUMy0iIiIiUiAF0yIiIiIiBVKah4iIiEgNZ0rzSIx6pkVERERECqSeaREREZEazFDPdJLUMy0iIiIiUiAF0yIiIiIiBVKah4iIiEhNZuFDEqGeaRERERGRAimYFhEREREpkNI8RERERGo002weCVLPtIiIiIhIgdQzLSIiIlLDqWc6OeqZFhEREREpkIJpEREREZECKc1DREREpIZTmkdy1DMtIiIiIlIgBdMiIiIiIgVSmoeIiIhIDac0j+SoZ1pEREREpEDqmRYRERGpySx8SCLUMy0iIiIiUiAF0yIiIiIiBVIwLSIiIlKDGYZZ8o/Y7Q4cbWbDzOxHM1tiZjPM7DUz+4uZVXk6spntb2ZPm9kkM5tvZkvN7Dcze9/MbjCzDePWmcqcaQvekXbAL+6+LOn2iIiIiEjVMbMWwCBg95xTbcPH7sBZZnaou0+tguu1Bp4Fdi3ldCtgu/BxiZld6e635Ft3qnqmzWw/M/sIWAxMBbqHxx8ysxMSbZyIiIiIVJqZrQ4MpiSQngZcCRwL/A34Mjy+JTDSzJpW8nqrASMpCaQXAw8D5wDHAZcB74bnVgduNrOz860/NcG0mZ0EDAG+As4gu22TgNOSaJeIiIhI2iWd4hEzzeMsYKdwezTQw93/4+793f02giD6pfB8F4JAuzKOBXqG29OAP7n7Ge7+X3d/xt1vcfedCOLPYtfkm2aSmmAa+Cdwq7ufDDyZc24CwYspIiIiIjVUGKD+M9x14CR3/z1axt0XAycBC8JD55lZq0pctldk+yZ3n1JaIXd/GPgs3G0NbJpP5WkKptsDr5RxbjFQqS5+ERERkdoq6V7pGD3TuwNtwu3X3H1CaYXc/Regf7jbEDi4Ei/P2pHtSRWU/SayvWY+lacpmJ4GbFHGuZ7At9XYFhERERGpentHtkdVUDZ6fp9KXPPnyHbnCsoWn19OdmBdpjQF048C/w4HGjYOj5mZ7QH8nSBRXERERERqrs0i25+VWSrwaRnPi2twZPsfZta+tEJm9hdKcqufcPfZ+VSepqnxbgbWB/oSfBoAeB+oDzzo7vck1TARERGRNCtknueEbBzZnlxB2R8JYsL6QGczM3f3Aq75HPACcChBrPmVmfUDxgC/h8cOAnYMy78AnJdv5akJpsMX5xwzuxPYg2DOv9nA6+6eVze7iIiIiKRa88j2b+UVdPdlZjYPaEEQs64JzI97QXd3MzsSuJYgSG5C9swdxUYDVwEj4gTtqQmmi7n7tyg/WkRERKSmaW1m0dSMh9z9oZwya0W2F+dR5yKCYBqCIDh2MA3g7svN7FaCjtrrCQY15toS+AdBb/X7+dadmmDazParqIy7j6iOtoiIiIjUGBY+kvebu/esuFj1M7N9CGYHaQa8CdwIfEQQrG8AHEkwZd+OwGtmdoy7Dy69tmypCaaBYQTzDZZ1OzhBzoyIiIiI1EzzKelpbkTFPc2NI9tFhVwwDKSHE0y8MQg42t1XRIp8C9xoZq8Bb4ftesLMNnb3mRXVn6ZgumPSDRARERGpiWrQAMQ5lATTrSgnmA4XeCleZ2QZJYu4xHU7QSC9ArggJ5DOcPePzawPcCZBSklv4KaKKk/N1HjuPiX6AKYSTNB9FXBAuC8iIiIiNVd0UokOFZRdj5KshEmFzORhZh0pWUV7ortPr+Apr0a2t87nGqkJpktxE3Ab0CP8eV2yzRERERGRShof2a4ovzp6fnyZpcq3bmR7Xh7l50a2a9wKiLmOA/4WJrKfG+6LiIiISISR/FLiMdJMXops96qgbHTVw4pWSyxLNIBeP4/y0QVdZuVzgVQG0xa8I+2AD8JDHwL/l1yLRERERKQKvAH8Gm7vaWZdSytkZmsDx4S7i8lexTCObymZgm99M9u+gvLHRLY/LbNURCqDaYJ21SNINif8mabBkiIiIiISk7svI5jnGYIZ3PqZWYtoGTNrRLAidnGaxX3uXmovsZn1MTMPH1eXcr1FZAfifc1sgzLquoJg4UCAJcDAfH6n1ASoZnZLdDf8eYGZ/Qy0TKBJIiIiIjVCDZrNA+AB4HBgJ4KFUr4wswcJepHXA04DNg3LTgT+U8nrXQHsRRBPbgSMN7MnCTIfovNMbxN5zjXu/mM+lacmmCb4JaKmADtH9jWbh4iIiEgN5+5LzexggjmfdyfIZS4tYB4NHOruc0s5F+d635vZXgSLtnQmmPburPCRaxlwtbvfmG/9qQmm3V3zTIuIiIgUokZ1TIO7/25mewJHAScCWwCtCZbynkAQ+D4epoVUxfVGm1n38HqHhNdbG1idYAaPSQQrIz7s7t/HqTs1wbSIiIiI1B3hvNEDwkehdfQmWFwln7KLgX7ho8qkJpg2s5MqKuPuVfrLi4iIiIhURmqCaaBPzr6T/aWFU8WfJERERERqPKtxAxBrlTQF000i26sR5MzsBIxJpDUiIiIiIhVITTDt7guKt82seB32RdHjIiIiIiJpkppgWkREREQKozSP5KR1BcRinnQDRERERETKkpqeaTOLLtlY/PHqFjP7Pdx2dz+6mpslIiIiknrqmU5OaoJpoE3O/lsE7cs9LiIiIiKSCqkJpt19t6TbICIiIiISR2qCaRERERGJzzCleSQotQMQzWwTMxttZkvN7BMz2yjpNomIiIiIRKU2mAbuBBoCFxO087ZkmyMiIiIiki3NaR7bASe5+1AzmwAMrOgJIiIiInWSsjwSk8qeaTOrBzQDfgoPTQdaJtciEREREZGVpbVnuvjzlRZtqQItmzTigiN6st+2G9KhbTMAJs+cy4gPv+PuQZ8yu2hx7Do3bd+Ksw/Zkh27rcd6bZrQaPXVWLD4D36YMYfXR0/h/hdGM33W/JWet/lGa3POoX9mx27r0bblmiz9YznfTZ/DkPcncd/znzF/0R+V/n2ldps9axb33n0Ho0YMY8rkHwBo36Ej++x3AOddcDEtW7WKXae7M2jAMzz5RB/GfjGG+UVFtGrVmm2334FzzruQrbbZdqXnDHjmSV4aOYIJ48fx66+/MHfOHBo0aMA6bdux+RZbcuzxJ7LPfgdU+veV2m/27Fk8eN9dvDJqOFOnTAZgg/Yd2Guf/Tnz3Atp2bKwe/qFQQMY8FRfxo/9ggXzi2jZqjVbbbs9Z5x9Pn/eaptSn/fJRx/Q99EHGf3JR8ycOYM/li6lSZOmdNxwI/bYe19OPfNsmjdvUZlfV1YF0zzTSTL3dMSrZvYr2cFza2AOsAyoDzR39/oV1VOv6frecNsLVkkba6IuHVoz7MYjaNdqrVLPz5g1nwMuH8TEyb/lXWevrToy4N8H03D1sj+LzZ63iN0veoavp83OHPvrQVtw61m7sVr90r8Q+e6n39nvH88y9ed5ebeltvt5yMVJNyFVJk4Yz6EH7MPMmTNKPd+2bTteGDaKLl03y7vOP/74g1NOPJahg18os8x/bryV8y7Mfi/233t33n3nrXLrPv+iS7nuhpvzbktdsGDJsqSbkCpfTZzAsYftz89l3NPrtG3HM88P509duuZd5x9//MFZp57AiKEvllnmqutu4q/nXZR17Km+j/L3C8+hvLhgvfXbM/y1d2iz9jp5t6c222fX7fji888Sj2JXX3sjb3P4rUk3g+n/O+wzd++ZdDuqW5qC6aupoCfa3a+pqB4F0yUarb4aH//vJDqvF2TI/F60mMdHjsUdTt2vOy2aNALgm2mz2fqvfVnyx/K86v3sod506dAagCVLl9Hv5fH89Nt8dt18A3bdfINMub6jxvHXO14CYIvO6/DuvSdQr17wN+f76XMY8MaXrNW4ASf16kazNRsC8OlXM9j5gqdIyW2ZOAXTJRYtWsQOW2/Bd99OAqBZ8+acfMpfMDP6PPYwc+fMAWCjzhvz3sef06hRo7zq/c81V3HrTddn9g865DC699icEcOGMvqzT4Cgx+eFYaPYbfc9M+WOOuxAFi9eQpcuXWnVujXLly9n7JjPGTF8aCYYqVevHl9+O5W27dpVxUtQKyiYLrFo0SL22rEn33/3LQDNmjXnuJNPxcx4qs+jzJ07B4BOG3Xm1Xc/zfuevuU/V3PXbTdm9vc/6FC6duvByyOHMWb0p0BwTz/zwnB23nUPIAjAu234f8ybNxeAJk2bcszxJ9O8RUtGDR/CuC8+z9R36eVXcfFl/6z0718bKJjOVleD6dSkebj71Um3obY5ZvdNM4E0QO+bhvPyJ8HX4u+MncaL1x8OwMbrt+SYPTal76jxedXbsV2zzPbjI8dx0f2vAXBr/4/4adA5NF8r+IPfuvkamXIn79MtE0ivWOHs87cBTPu1CIBPv5pJ3yuCr8N7/qkd+27TiREffl/Q7yy118D+T2UCaYBH+zzJXr32BWDHnXbmyEMPBODbSd8wsP9TnNT7tArrnDt3Lv+9967M/qGHH0mfJ/sDcN6Fl9Cz+6ZMmzYVd+fm66/LCqYHPj+01DrPO/sM+j3+KAArVqzgx2kKpqV0zz/7TCaQBrj/kb7svtc+AGy3w06ceNQhAHz/7SSeH/gMx510SoV1zps7l4ceuCezf+ChR/Dg408B8NfzLmKnnt346cfgnr7j5uszwfSc32dnAmmAC/92OWedF3yYP/kvZ7JZp3Uz52b99muBv7GsSkrzSE4qByBK1Thoh86Z7bkLlmQCaYCXP/2BeQuWZPYP3mHjvOv9cuqszPY2XdalQ9tmrN6gPvts3ZEmjVfPnHslcr1OkQB8dtGiTCAN8MV3v2TVv/+2mlJcVjZsyIuZ7aZNm7Ln3vtk9vfcex+aNGmS2S8vZSPq9VdfZsGCBZn9Qw8/MrPdqFGjrJznD95/l99+LTuImD9/Pu+/+w7vvl2S+tGwYUM6bdS5zOdI3TZq2ODMdpOmTdltz16Z/d327MVakXt65LAX86rzrTdeZWHknj7okCMy240aNWKvfffL7H/8wXuZwLh1m7Vp2ap15ty7b73BzBnTWbRoEcNefC7rGrvusVdebRGpK1LTM21mFXZFunun6mhLbdFjwzaZ7ckz52adcw+Odd9wbQC6d2pDvi69/3Weu+4wWjRpxBad1+HLfqdnnZ+3YAn3Pv8ZDw0bkzk2d35J4N6ySWPWb9MkE1D3CNtQbLOOrRHJNe6LLzLb7Tt0zOqFqVevHu07dGT8uLEAjB87Nr86x36Rtd+x04bl7o8b90VW7zRAt006MXXqlJXqrl+/PjfccjstW2oiIindhHEl9+n6G3RY6Z7eYIMOTJwwDoCJ48flWWf2Pd2+Y/Y/mx06ZO9PGD+WnXfdAzPj5jvu49wzTmbJkiW88erLbLlpx6yyLVu15tLLr2SvffbPqy0idUVqgmmgA/A0UPooDImtZdPGme2ihUtWOl+0cGlmu1WzxiudL8sHE6ez43lP0v+qg+lWShD+zrgfGfzepKy852EffMsRu/4JgHr1jFG3Hs2AN75kzUYNOHmfblnPL04TEYmaPbvkG5EmTZqudD56bNas/AbURuuEoHcwe79J1v6s3/Krt1nz5txz/4McctgRFReWOuv3Cu7ptSL34+w87+nfV7qns+/htXKuM3tWSfn9Dz6U/1t/fU4/6Vh++nHqSnXvsdc+7B7pPZd0UZpHctIUTAPc4+4fJ92I2shKmc09+v9dnIGou22xAf2uOIDWzdZg0ZI/ePq1ifz063x27rE+u26+AftvuyG7bb4BB14+iPcnBFOFD3jjKw7YbqNMQN1p3eZcfvx2pdaf70BIqbtKu1+jx/L9RyW3nor2S6v3kssuZ+6cucya9Rsfvv8eH334PnPnzOHk44/mr2efx82335VXW6Ru81LG36+Se5qy7+nnBz7D3y48m0ULF9K0aTOOPPYEmjVvwasvjWDsmNE82/9JXn15JENefpMNN8o/NVCktktbzrTmcKhCs+ctymw3WWP1lc43WaNhpGx+c023bNKIp/51EK2bBYMLL7zvNc696xVufOoD9v37QN4ZOw2ANRo14LrTdsp67ok3DOPM20fx/vgfmbdgCfMXLeXzST/ztwdez5qab0Yp81OLROfaLSpaefrE6LF85+Vt1So7paho3ryc/aKs/dLmsO596ulccPGlXHv9Tbz8xjtcdsWVmXP/+++9jBxe+kBFkRaR+3T+vJXv6eixFnne0y1Xuqez7+Hc67QI05C+nfQ1F51zOosWLgTgkScGcN3Nd3Dp5Vcy5OW36BCmi/w+exZ33nJDXm2RamYpeNRRaQum+5jZ+2b2hpkNMrPbzOwwM2tY8VMl1xfflQyW6tC2WVZPtBmZBVwAxn6f3+jsbbuum5lSD+DjL7Ozcj75qmS/e04uNEC/l8azx8X9WefQe2lz8D1sf84TPPvmV2y8fkle6QcTf1rpeSLdevTIbE+Z/AMrVqzI7K9YsSKzgAvAZt2751dn9x5Z+9GZFQB++OG77PLdssuX5sCDD83af/vNN/Jqi9Q9XbuV3KdTp05e6Z6eOnVyZr/LZtnpcGXXmX2PTs65hydPzh6e1HWzoA1vvf4qf/xRsmjWlpFFXVZffXW69dgis5+bly1S16UpmO4LfAx8D8wGWgFHAoOAcWb2fwm2rUYa+n7JNGJN12xIr61KBp702qpTVm/1kPdKym6wTlMWvXxp5nHCXiWLBTSon71uztabZk/5tdWfSvYX5cwn26rpynnZjRuuxgMX75NZyOWPZct56uUJef1+Urfsf+DBme2ioiJeeWlkZv+Vl0Yyf37JNxoHHHRIZnvKlMk0a1w/83jqiT6Zc7vvuTdrrFEyheMLzz2b2V68eDGjhg/L7G+73Q60bhOMEfhy4gTGfjGm1HaOGjk8a195jFKWffY/KLM9v6iI118Zldl//ZVRLIjc0/scUHL/T5symXWbN8w8BjzVL3Nul932pHHknh76wqDM9uLFi3ll1IjM/lbbbk+r1sE9veyP7NVnR3/yUWZ76dKlWfNMN2qU/xgbkbogNTnT7l7qBJpm1gV4HrgZOKFaG1XDPfPal1x05FaZuaYf/8d+PDo8GD1+6n4lPSKTfpxN/9e/zKvODyb8xJKlyzKrH9517h5s9ad2/PRbEbv02ICduq+fKRudig/guWsPpX4945OvZvDznIWs22ot9t2mE+uvXTIg5qanP8yaNk+k2NHHnsA9d96emWv69FNOpPdpZwDQ57GHM+U23KgzRx1zfF51NmvWjHPOvyizaMvgF57jxGOPpPvmWzB8yGB+/HFapuw//nVVZnv0Z59w9hmn0a3H5my//Y6s064dC+bP55OPP+Kdt7J7ovc94MDCfmGp9Q476jgeuOeOzDci557emxNO+QsAT/V5NFOu04YbcdiRx+ZVZ9NmzTjz7Asyi7YMG/w8p590DJt135xRw4cwPXJPX/KPf2W2t99p16x6/nLi0Vk505N/KOnR3k2DEFNJH9yTk5pguizuPtHM/gn8Lem21DSLly7jmGuHZJYTb75WIy45euusMjNmzeeYa4eweGl+q5L9Mmchlz34Jnecswf16hmNGzbgL/uv/NX3DzPmcNVj72QdMwsWZen5p9IXsLh70Kfc+NQHef52Utc0btyYJ/sP4pADevHzzJnMnTuXu+/IXvFrnbZtebL/IBo3zr/n7LIrruTLiRMy81gPefF5hrz4fFaZ6264ZaUp8QDGfTGGcWX0UJsZV1x5NTvtvGvebZG6pXHjxjzyxECOOXQ/fvl5JvPmzeW/d9+eVWbtddryyBMDY93TF132T77+aiIjw3mshw95geFDsudev/K6GzMLtgB067E5Z51/MQ/ccwcA8+bN5dEH71+p7u6bb8nZ52tlVpGo1AfTAO7+HPBcWefN7Awg6KJq1Lx6GlVDTJz8Gz3P6MOFR27F/ttuSPswT3rKzLkM//A77nr2E2YX5Tf4sNiDQ8cwetJMTj9gc7br+n+s22otVm9Qn6KFS/lm2myGf/gdDwwezfxF2V8bPjJ8LLPmLaZrh9a0Dqfimzl7Ae+O+5GHho7hs29mVs0vLbVWl66b8eGnY7nnrtsZOXwoU6dMBmCD9h3Yd/8DOf/CS0odJFieBg0a8GT/QTzb/2me6NeHcWPHML+oiFatWrPt9jtwznkXsvW22TPPbL/jzlx62RV89OEHTP7+O2bPnsWSJUtYc6216NCxE9tuuz0nnXIam3XLL3db6q4/denK6x+M5n/33snLI4cxLZyzfP0N2rP3vgfw1/MuyntAbbEGDRrwyBMDeOHZ/vR/sg8Txo1l/vwiWrZqzdbbbs/pZ59Pz623Xel5V157IzvtshvPPNGHMaM/5ZefZ7J8+XKaNmvOJn/qwn4HHcIJvf9Cw4YaxpQ2Zqae6QRZnCnRqoOZrQdsDORONuzuPrKUp2Sp13R9b7jtBaukbSLV7ech6gGS2mXBkvy+BROpCfbZdTu++PyzxKPYhut09rZH35F0M5h670GfuXvPpNtR3VLTM21mTYCBwN7Fh8Kf0Wg/e/SbiIiIiEiCUhNMAzcCGwA7Ae8ChwK/Eww63B3Ib/SFiIiISB2jNI/kpGlqvP2A64Hi+Ximu/vb7n4GMBgNQBQRERGRlElTML0OMM3dlwMLgJaRcyMoSf8QEREREUmFNKV5TAOK10GdBBwAvBTubwPEm3JCREREpI5Qmkdy0hRMvwLsCbwA3An0NbM/A0uAnYHby3muiIiIiEi1S1MwfRmwBoC7P2Fm84EjgMbAucCDCbZNREREJL3UMZ2Y1ATT7r4QWBjZf4Ggl1pEREREJJVSE0wXM7NNgK2AdsB04FN3/zrZVomIiIiIrCw1wbSZNQUeBg4nmGVkPrAWsMLMngf+4u7zEmyiiIiISCppAGJy0jQ13n8Jpr87CVjD3ZsS5FCfDOwVnhcRERERSY3U9EwDBwMXufvTxQfcfTHwlJmtASS/6LyIiIiISESagun5wIwyzk0nWMhFRERERKJMaR5JSlOax/3ApWbWOHow7JW+FKV5iIiIiEjKpKlnuhnQGZhmZq8AvwBrE+RLLwI+NbNbwrLu7pcl00wRERGR9DBAHdPJSVMwfQTwR/jYNnK8KHK+mBMs8iIiIiIikpjUBNPu3jHpNoiIiIiIxJGaYNrMdgZGu/v8pNsiIiIiUnOYBiAmKE0DEN8AuiTdCBERERGRfKUpmNZHKhERERGpUVKT5hHypBsgIiIiUtMoyyM5aQumPywv58fd61djW0REREREypW2YPp64LukGyEiIiJSk2gAYnLSFkwPc/ePk26EiIiIiEg+0jQAUURERESkRklTz3Rf4NekGyEiIiJSo5gGICYpNcG0u5+SdBtEREREROJITTBtZldVVMbdr62OtoiIiIiI5CPRYNrMNnX3L8Pdq4FlwI+UvoCLAwqmRURERCIMqFdPeR5JSXoA4mAzey7cvhX4g2BqvMPdvWPOo1NyzRQRERERWVnSwfQuwCFm1t7dLwM6Az8AH5jZM2amAFpERESkAmbJP+qqpINpJ/h2wgDcfbq7nwF0B1YHvjSz+8xs7QTbKCIiIiJSqqSD6ZeBIe4+OXrQ3b9298OBnYAuwHdmdk0C7RMRERERKVPSs3kc5+7jAczsB4Ke6lwGNAb+Bfy7GtsmIiIiUiNoOfHkJBpMFwfSob6UHkyLiIiIiKRS0j3TGe5+ddJtEBERERGJIzXBdDEzawFsBqwPjHT3382sEbDU3Vck2zoRERGRlKnjs2kkLekBiBlmtpqZ3UKwaMtbwBNAx/D0cyhfWkRERERSJjXBNHA9cDpwLtCJ7FUQBwMHJtEoERERkTQzggGIST/qqjSleZwE/MPdHzez+jnnviMIsEVEREREUiNNPdPNCYLm0qwO5AbYIiIiIiKJSlPP9HjgYODVUs7tC4yu3uaIiIiI1AR1O80iaWkKpv8DPGdmjYFnCeac3tzMDgXOBA5KsnEiIiIiIrlSk+bh7oOB44A9gZEE+fSPAL2BE939peRaJyIiIiKysjT1TOPuA4GBZrYx0BqYDXzt7loZUURERKQMyvJITmqCaTO7qpxzAO7u11Vfi0REREREypeaYBo4L2e/JTAPWBbuO6BgWkRERCSHBiAmJzXBtLu3Kd42s9WApcAe7q5ZPEREREQklVIzADGHcqRFREREJPVS0zMtIiIiIgUwDUBMUlp7pouph1pEREREUis1PdNm9gkrB89PmNnC4h1337p6WyUiIiIiUrbUBNPABLKD6QlJNURERESkpjA0m0eSUhNMu3vvpNsgIiIiIhJHaoJpERERESmMOqaTk/YBiCIiIiIiqaVgWkRERESkQErzEBEREanhNAAxOeqZFhEREREpkIJpEREREZECKc1DREREpIZTlkdy1DMtIiIiIlIg9UyLiIiI1GSmAYhJUs+0iIiIiEiBFEyLiIiIiBRIaR4iIiIiNZihAYhJUs+0iIiIiEiBFEyLiIiIiBRIaR4iIiIiNZppNo8EqWdaRERERKRA6pkWERERqeHUMZ0c9UyLiIiIiBRIwbSIiIiISIGU5iEiIiJSw2kAYnLUMy0iIiIiUiAF0yIiIiIiBVKah4iIiEhNZprNI0nqmRYRERERKVCsnmkzeyzPou7upxXQHhERERGJwdAAxCTFTfPoDXgFZSwso2BaRERERGq1QnOmy/r4U1GgLSIiIiJSa8QNpqeigFlEREQkVZTmkZxYwbS7d1hF7RARERERqXEqPZuHmZ1pZt+Y2aLw51+romEiIiIiImlXqXmmzexQ4AGC1A8DNgLuN7MZ7j64CtonIiIiIhVQlkdyKtszXdwLHX0LDTi7kvWKiIiIiKReZYPpLQh6pScBBwPPRo6LiIiISDUws8QfdVVllxNvGf58wt2Hmtlk4EigRSXrLVj3jdbmtRcuTOryIlVqnV3/kXQTRKrUrLdvTroJIlWmfr26G0BKicr2TBc/f2HOTy1TLiIiIiJlssDRZjbMzH40syVmNsPMXjOzv5hZZTt9y7pufTM70sz6m9m3ZjbfzOaZ2SQzG2lmfzezzvnWF3c58ZPKONUzPLd2nPpEREREpJKs5g1ANLMWwCBg95xTbcPH7sBZZnaou0+twutuATxK6SnJTQgm09gHWBe4MJ8640b8fchetKV4Fo+jw4eIiIiISJnMbHVgMLBTeGga8BDwLbAecCqwKbAlMNLMtnP3eVVw3e2BkUDT8NAnwFDgh3B//fC6+8Wptyq6z7UiooiIiIjk6yxKAunRwJ7u/nvxSTO7D3gR6AV0Aa4E/laZC5rZOsAQgkB6MXCKu/cvo2x9YmRbFJLbbBU8RERERKSaGMnP5JHvbB5hHvQ/w10HTooG0gDuvhg4CVgQHjrPzFpV8mW6Gyiuo3dZgXR4/eXuPiPfiuP2THeMWV5EREREpNjuQJtw+zV3n1BaIXf/xcz6A6cBDQmmYH6skAuaWXuC2eYA3nb3AYXUU5ZYwbS7T6nKi4uIiIhI5dWgAYh7R7ZHVVB2FEEwDcGgwIKCaeBkSrIxHimwjjJpCjsRERERqS6bRbY/q6Dsp2U8L66dI9uvm1krM7vGzMZFpsWbYGb3mtnGcSuPFUyb2ZVmNtvMfjWzjjnnOoTHZ5vZlXEbIiIiIiK1XjRYnVxB2R+B5eF2Zyt8mcWe4c+5QHtgPHAVQYC+JsGUeF2Ac4GJZhZrsGPcnul9gObAZ+7+Q/SEu08GPgjP7x+zXhEREREpUD2zxB95ah7Z/q28gu6+DCieEm81gsA3FjNrCDQLd5cDwwjmsf4e+BdwDMHsIsUpJ/WBW8zsgnyvETeY3pBg5OXoMs6PDX92ilmviIiIiNRsrc3s08jjjFLKrBXZXpxHnYsi200KaFOLyHbLcH8U0NXdr3f3Ae7+P3ffF/hrpOwtZrZePheIO5tHiwrOF38saVZuKRERERGpbX5z954VF6tWuR3HRcAJ4fR7Wdz9QTPbCzgcWJ2gx/qfueUqukBFisKfuUs/knO8qIzzIiIiIlLFzJJ/5Gl+ZLtRHuUbR7YLiS9zn/O8u88qp/xDke0987lA3GB6IkHv81Zmdo+ZNQUws6ZmdhewDUEayMSY9YqIiIhI7Tcnsl3uQizhAi/FS38vo2QRlzjmh88tVlaqcrHoDCMb5nOBuMH00Mj2OcDvZvYb8DtwXuTckJj1ioiIiEgBgp7hmrECIvBNZLtDBWXXIxgQCDDJ3T3mS0P4nEmRQ3MreEr0fF5py3GD6f8RTFNSzAiSuaOv4DTgwZj1ioiIiEjtNz6yXVF+dfT8+DJLVWxsZLtpmaUC0QC6osAbiBlMu3sRcAAwg+wAmnD/J+CgsJyIiIiISNRLke1eFZTdJ7Jd0WqJ5RkZ2f5zBWWj578ps1RE3Nk8cPex4eowvQlWlGkJzAbeBvq6eyH5LCIiIiJSoHo1ZznxN4BfgTbAnmbW1d0n5BYys7UJ5oCGYAq9wZW45mBgIbAGcKiZXVLOIMTodH55BfAFLSfu7gvd/b/ufoy77x3+/K8CaREREREpS7gQy/XhrgH9zCxr6mUzawT0pWSRlvvKCn7NrI+Zefi4uoxrzgFuD3ebAk+E18it6wyCafEgGOz4QD6/U6ye6XBU5RrFF3H35ZFz9Sn5pReGL1Zs4VKR7YBfCq1DRERERFLrAYKgdSdgS+ALM3sQ+JZg0OFpwKZh2YnAf6rgmjcB+xLkYe8LjDezx8JrtgAODo8XO9Pdf82n4rg90zcRzNzxM0HAG7VOePz3sFwsZrafmX1E0JU/FegeHn/IzE6IW5+IiIhIXZH0TB4xZvPA3ZcSBK+vh4fWJwiY+wO3URJIjwb2dfe8BgJWcM2FwH7Am+GhDQl6yAcQTLBRHEgvAnq7+1P51h03mN6VoEt+pLtHZ/XA3acTTIlnlL2oS6nM7KTwuV8R5KpE2zWJ4BOKiIiIiNQC7v47waIoxwDDgenAUoKO2dcJ4sFt3H1qFV7zV4IY9SiCPOpp4TXnAp8DNwIbuXvfOPXGHYDYnmBRlrKmJ/kyUi6OfwK3uvvlYbrI45FzE4BLY9YnIiIiUmfE6BhOjXAO6AHho9A6ehNMihHnms+GjyoRt2e6eG6+xmWcL86nXitmve2BV8o4t5iK5wQUEREREal2cYPpOeHPfcMe5Ixwf7+ccvmaBmxRxrmeBMnhIiIiIiKpEjeYHkuQE70p8KyZdTOztcysGzAQ6EKQBjK2nDpK8yjw73CgYXGvt5nZHsDfgYdj1iciIiJSJxhgKfivroqbM/0csEe4fXD4KM2gmPXeTDCSsy9QPN3e+wTrsT/o7vfErE9EREREZJWLG0w/BpxLSQ909GOIhz8nkD2AsEJhMvg5ZnYnQbDeimBVxdfdPa+lHEVEREREqlusYNrdl5pZL4Jp7HJznI1gWpGDw/kDY3P3b1F+tIiIiEgsNWg58Vonbs807v6TmRWvHrMz0JKgF/ltgvmnvbznl8bM9quojLuPiFuviIiIiMiqFDuYhkxaxojwURWGsXLaSNYlCfKnRURERCQq5gqEUrUKCqZXgY5JN0BEREREJK7YwbSZNQbOIkjzWA9oWEoxd/cN863T3afkXMOA84AeBOuy/zduO0VEREREVrVYwbSZNSLIjd6y+FAZRWPnTee4CbiIYL7q44B2wL8qWaeIiIhIraQsj+TEXbTlXODP4bYRBM3FgXN0u7KOA/7m7j3Dax5XRfWKiIiIiFSZuGkeh4Y/lwNfAZsRBNDPArsRzA/9MjCj0AaFKR7tgA/CQx8C/1dofSIiIiK1mQH11DWdmLg905tQEjz3LT7o7kcTBNYzCBZ0uaKSbaoHLAv3l5GegZIiIiIiIhlxg9Sm4c8viaR0mJm5+y9m9gRwGUHO88n5Vmpmt0R3w58XmNnPBPNYi4iIiIikTtxgeiHQBFgKLIoc7wD8QEkg3CtmvUfm7E8hWBCm2NSY9YmIiIjUGcrySE7cYHo2QTDdAvg6cvxhMxsGnB7uN49TqbtrnmkRERERqXHiBtPfAu2BdYBPKEn12C18FM/w8W1VNVBEREREJK3iBtOjgT2Bbdx9upkNBQ5i5Snx7opTqZmdVFEZd+8Xp04RERGRukLLiScnbjB9M/AEsCLc7w08BhwI1AfmADe4+yMx6+2Ts+9kLwjjgIJpEREREUmVWMG0u/8O/B7ZnwMcFi4x3hz4xd2XF9COJjlt+h3YCRhTQF0iIiIidYaZBiAmqUrmb3b3RWTP7hH3+QuKt82sfri5KHpcRERERCRtYgXT+eQ2F1OOs4iIiIjUdnF7pvuw8mDDslQ2mM73OiIiIiJ1mpYTT06haR7FU+DFPVf6E8wG5jwf4BYzK87P9nDJchERERGR1KhMznRVfgRqk7P/FkHbco+LiIiIiKRGocH09UDc6e/K5O67VVVdIiIiInWNkjySU2gw/bu7T6nSloiIiIiI1DCFBtM9zew4YCnBQi0zgG/c/Y9CKjOzqyoq4+7XFlK3iIiISG2nFRCTU2gwfXT4iFpiZv2Ai919Ycz6zsvZbwnMA5aF+w4omBYRERGRVKmKRVuKPwo1Ak4HuprZzu6e94we7p4ZaGhmqxH0eO/h7qOroH0iIiIiIqtEvQKeYzmP3HPbA6dVok2aX1pEREQkTwbUs+QfdVXcnumO4c96QH2gIdAEWA84CyieleMYqnC2DxERERGRNIoVTJc3g4eZDQG+ATYAulSyXaAeahERERFJuarImQbA3Zea2d+B7SgZOJgXM/uElYPnJ8wsM5DR3beufCtFREREahkzzeaRoCoLpgHcfSAwsMKCK5tAdjA9oWpaJCIiIiKy6sQKps1sJ3d/p4IyzYEn3f2AfOt1995x2iEiIiIiJdQxnZy4s3kMM7OtyjppZlsCnwP7FtogM2ttZp3NrFWhdYiIiIiIVIe4wXQTYKSZdc89YWanA+8C7QtpiJkdbWZfAj8DXwG/mNmXZnZkIfWJiIiIiKxqheRMtwBeMbNd3P0rM2sI/A84KVLmyzgVmtmxwFPASOBGgoB6HYJVFvubWX13719AW0VERERqPQ1ATE7cnum+BHODtwFeNbNewIcEgXTxIi4DgG1i1vtP4CF339/d+7n7S+HP/YGHgX/FrE9EREREZJWLG0yfSslsHe2AEUAPgiD6D+BCdz/W3RfErHcj4Lkyzj0XnhcRERERSZW4i7a4mR0PNAYOjJz6ETja3T8osB0/Az2BV0o51zM8LyIiIiI5ipcTl2TEzpl29+XhoMBhwJ4E80PPJRg0WKjHgavNrD4wiCB4Xhs4kiDF48ZK1C0iIiIiskrEnWd6eWmHCZYP/y2S/O7uHqfua4EGwD+AayLHFwG3hedFREREpBQagJicuD3TRtATXfzTc84VxN1XAP80s9uAzQjysWcA493990LrFRERERFZlQqZGs9yflaZMHAud4VFEREREZG0iBtMX1NxkfjM7KSKyrh7v1VxbREREZGaTkkeyYk7m8cqCaaBPpSkjJR2PzigYFpEREREUiXuPNOryrPAcuBRYD13r5fzqJ9w+0REREREVpKKYNrdjwa2AzoAk8zsRjNrmmyrRERERNLPDOqZJf6oq1IRTAO4+2fuvjdwMMH81T+Y2aVm1jDhpomIiIiIlCo1wXQxd3/V3bcC/gqcTtBTfUrCzRIRERFJLbPkH3VVIVPjVTkze72MU78QpH88QrBKooiIiIhIaqQimAamlHPu22prhYiIiIhIDKkIpt1daRyr0OxZs/jvvXfy0ohhTJ0yGYAN2neg134HcPZ5F9GyVavYdbo7zz3bn2ee6Mu4L8Ywf34RLVu1ZpvtduCsc8+n59bbrvScc888lf5PPVFuvXvtsx/PDBocuz1Sd7RsugYXHLcz++24KR3WbQnA5OmzGfHul9z99NvMnrcwdp0brt+a847Zkd16dma9dZrhDlNmzGbU+19x11Nv8evvCyqs44g9e/DEf47POrbJoTcydYYWcZXyzZo1i3vuup0Rw4cxZfIPALTv0JH99j+A8y+8hFYF/o0eOOAZnujbh7FffE5RURGtWrdm++135NzzL2TrbVb+G/3Vl1/y7MBn+Hz0aMaMGc3PM2dmzl3xr6v455VXF/w7yqqn5cSTk4pgujxm1gjYOtxd6O6fJtmemubLCeM54uD9+HnmjOzjEyfw5cQJPPNkPwYNHsGmXTfLu84//viD008+nmFDXsg6PnPGdAY//yyDn3+Wa264hXPOv6hKfgeRYl06rcOwu0+nXZvsyX4226gdm23UjhP378kBFzzMxO9/zrvOg3bpSp9rjqNxowY512pLl05tOWG/nhx80aOM+fqnMutYp+Va3PW3Q2L9LiIAEyaM56D9ezFzRvbf6IkTxjNxwniefKIvQ4a/RNeYf6NPPuFYBr/4fNbxGdOn89yggTw3aCA33HQrF1x0Sdb5V195iZtu+E/hv4xIHVVQMG1mHYDzgR2BNsANwEfA5mGRp9x9eYz6di7n9AZAX+AtYCrQO3aD66hFixZx8vFHZQLpZs2bc2Lv0zAz+j3+CHPnzOHnmTPofcLRvPXBZzRq1Civem+78T9ZgfSBBx/GZt17MGrEUD7/LPisc/U/L2Ozbt3ZZbc9Sq3jkMOPYvMt/7zS8Y4dO8X9NaWOaNRwNfrfdFImkP593kIeH/Ix7s6pB29Di6Zr0K5NU5658SS2PvFOlixdVmGd/9emGY9dfWwmkP55dhFPDPsUd+fEA7aibasmrN1yLfrfdCJ/Pu4OFixaWmo9/73iSFo1W7PqflmpExYtWsRxRx2eCaSbN29O71P/gpnx+KMPM2fOHGbOmMHxRx/Bh5+Oyftv9I3XX5sVSB9y6OF079GD4cOG8tmnnwDwz8v/TrfuPdh9jz2zntusWTO699icHptvwX333FU1v6hILRc7mDazQ4EngUYEqxU60ARoTMlKhtOAN2JU+2b4vLK+o3B33z1uW+u6QQOe5vtvJ2X2H3zsCfbcex8Att9xZ449/CAAvpv0DYMGPM0JJ59aYZ3z5s7lf/ffndk/+LAjebTf0wCcc8HFbLtFV36cNhV359YbriszmN5jr7059oSTC/7dpO45pteWdN6gTWa/97+f4eUPvgbgndE/8OKdwf27cfs2HNNrC/oO/aTCOo/utTlrNl49s3/c5U/w/heTARj+zkTefORcANq3a8lJB/TkgWffX6mO3gdtzX47bgrAi2+M45DduhX2C0qdM+CZp/g28jf6sb5P0WuffQHYcaddOPyQAwCYNOkbBjzzFCefclqFdc6dOzcrCD78iKPo91R/AC646FI27/Ynpk0N/kbfeP21WcH0aaefyTnnXZBJF1AwXbMoyyM5sabGM7ONgacIAucs7v4R8GO4e2DMdnQDuoc/cx8Hx6xLQsOHluQeN2nalD326pXZ32OvXqzVpElmf9iQF/Oq843XXmHBgpL80UMOOyKz3ahRI3rtu39m/8MP3uO3X38ttZ4brv037du24P9arcUWXTbir6edxOejlcEjZTtol66Z7bnzF2UCaYCXP/yaeQsWZ/YP3jW/r8Q7/l92LuoX30wv2Z40Pevc/jt1Wen5G7Rtzs0XBAHP40M+Zvi7E/O6rgjAkMEvZrabNm3K3r32yezv3WsfmkT+Rg9+MTutriyvvfpy1t/ow444MrPdqFEj9tvvgMz++++9y6+Rv9GNGzdW3q1IAeLOM30pQY+0UxI4R71F0Lu8XZxK3X1CWQ/gm5htlND4sV9kttu375D1R7JevXq0b98hsz9h3NjYdQJ06NSp3P0J40uvd8b0n1gwfz5Llixh2tQpDBrwDPvstiN9Hn0or3ZI3dOj87qZ7cnTswf1uTuTp8/O7Hfv3C6vOufOX5R9jY1LrhG9HkDXDVeu86Erj6bpmo2YPH02f79raF7XFCk2duyYzHb7Dh1X/hvdoWNmf9y47L+9Zdb5xZis/Y6dNix3f9zY/OqVdDOSX/2wLq+AGDfNYw+CQHoMQcC8OOd88TR2/1e5ZklV+H32rMz2Wk1WXp29SeTY7Fm/5VXn7EiduXWUtj/rt+x6m7dowS677kGHTp2oX68+77/3Dh++/y4Ay5cv57KLz2fb7XbgT126IhLVstkame2iBbl/eqBowZLMdr75y8PensglJ+6W2X/6xhMzOdMn7N8zq2yLJtlfyJ179I7s8ucNWb58BX+5dgDzFy5BJI7Zs0r+njZtuvLf6Oix3L+l+dQJ0DTnb3LudWbl+bdfRMoWN5guDpIHu/vSUr4O+iP8uXalWiVVz33lQ5Qcy/erPc+pp6L9aL2XXPZP7rzvQRo0yJ414dqrruCeO24FgoD6maf6cc31N+fVHqmbSrtfo4dKud1L9eG4Kdz55FtcdMIuAKzTsgmXnrRbqWWX/FEyoLHzBm245qzgK/l7+7/De2N+yLPlIqXL/duZe6w6/kaLSGHiBtNLgQZAwzLOF39/tHK3UTnM7JZyTreMU5eUaNGyFTNnBHmfRUXzVjpfNG9eVtl8tGrVOruOnHpz96NzWOd+vVjszHPOzwTTAF9/9WVebZG6Zfbchay7djMAmqy58p+gJmuWzHQwe17F80IXu+K+4XwwdjJnHrEdW/5pPRqt3oDvf5rFC2+MY7vu7dlj640BmPFryb1920UHsUaj1Znw3Uz+/b9Rhf5KUse1bNWKGdODv9Hz5q38Nzp6LN/1AFq1zv4bPS/nb3LudVrm+bdfUq6OL+edtLjB9A8EgwKPMrMboyfMbBPgCII0kEmlPLc8R1ZwfmrM+gTYrHuPTDA9ZcpkVqxYQb16QZr8ihUrmBIu4ALQtVv3vOuM+uG77+jeY4vM/uTvv88633Wziuu1nElcitsoEvXFpOmZYLrDui0xs0wvm5nRoV3J5+6xk2aUWkdZhr49gaFvT8g61qjhanzz4hWZ/Q/GTs5sr9MqGBjWdcO2zH0n609hlq9fuByAvc/+H++M/r7MclI3de++eSaYnjL5h5X/Rk8u+cajW7cepdaxUp09Ns/a//67b9l885K/0T98/13W+W7d86tXRMoWN2p5OfzZCfg6cvxcYDTBFHnRcnlx944VPWK2U4D9Djgosz2/qIhXXy7pQXv15VEsmD8/s7//gSWTpkydMpnWazXIPJ55sm/m3G577MUaa5Tkrg5+flBme/Hixbw0cnhmf5vttqd1m2Aqs28nfcNtN13P3DlzVmpndKo9gC4xFieQuiMa7DZdsxG9ttsks99ru02yequHvFVSdoN2LVj04S2Zxwn7Z89v3iqSi12sfv163H7xwbRpsVbmWJ8hH1fJ7yFS7MCDSv7uFhUV8fKokZn9l0eNZH7kb/RBBx+S2Z4yeTJrNqyXeTzRr0/m3B577p31N/r5Qc9mthcvXsyIEcMy+9ttvwNt2pRMNykihYnbM303cAawFtAOMkm37SmZI7oIuL9KWieVcuQxx3Pf3Xdk5pr+62kncfKppwPQ7/FHMuU6bdSZI44+Lq86mzZrxlnnXsjtt9wAwJAXn+OU44+mW4/NGTFsMD/9OC1T9u9XXJXZXrRoITf952ruueMWdtl9Tzbr1oMVy5fz3rtvZwYgAjRs2DCv+a6l7nlm1GguOn6XzFzTj19zLI+++CEApx68TabcpKm/0v+l0XnXe+elh9B1w7a8O+YHpv86l7VbrMXuW3fmTx3WyZTpN+wTPhpf8gXZ6x9P4vsfVx64tUHbFvy5y/qZ/VHvf8WixUv5LY/lyKXuOea4E7jrjtsyc02f2vsETv3LGQA8/ujDmXIbbdSZo489vtQ6cjVr1ozzLriIm2+8HoAXnh/E8cccSY/NN2fokMH8OK3kb/QV//p31nNHf/Ypzw7sX2q9r736Sia4b9myJX+77IpSy0lylP+enFjBtLv/aGbHAgOBNShZtKX4HVwEHOvu08uoolRmdnYe1/5vnDolmDO071MDOfygffnl55nMmzuXe++8LavM2uu0pe9TA2nceKWpw8t06eX/4qsvJzJ86IsADB38PEMHZy9be/X1N5e6YMvChQsZOWwII4cNWencGmuswQOP9KWDVkGUUixesoxj/tGPYfecTrvWTWnepHHWTBwAM36bxzH/6MfiJRWvfhhVvHR4aQa89Dnn35I9x+8V9w0vtewJ+/+Zh7scndm/4NYXmDrj91LLijRu3JinBz7Hgfvtzc8zZzJ37lzuvP3WrDLrtG3L0wOfi/U3+vJ/XsWXEycyZHBw3774wnO8+MJzWWWuv/GWlVY/nDBhPPfcdUepdX704Qd89OEHAGzQvr2CaZGI2CsguvsIM+tCyXLiLYHZwLvAve4+pYB23Jd7GbJXQ3SgzGDazM4g6DFnvfU3KODytdemXTfj3Y/HcP89dzBq+DCmTZ0MwPobdGCf/Q/gnPMvzntgS7EGDRrQ5+mBDBr4DE/368P4cV8wv6iIlq1as+12O/DXc89nq22ypxr/06ZdGfDCMF59aSQfffg+v/z8M7N++5XVGzakQ4eO7LzbHpz+13PYIDL3tUiuid//TM/j7uDC43dm/5260D7Mk54yYzbD35nIXU+9zex5C2PVOfDlMTRYrT7dO69LmxZrsXqD+vwyu4iPxk/l8SEf8/rHcYeAiOSva9fN+GT0OO6+8zZGDBuaGcvSvn0H9jvgQC646FJaFfA3+ukBgxjQ/2n69XmccWPHUFRURKvWrdl++x059/wL2WbbWMtBSA2g0UbJsdKm46n2RpitALZ194/NbDWCWUN6unv+39WGNt/yz/7aOx9VeRtFkrDeHur9kdpl1tua9lJqjx2324rRn32aeH7F2htt5kff+mzFBVex+w7r8pm796y4ZO2Sxg8yxdG95qoWERERkVSLleZhZo/lWdTd/bQYVf8GrA98HP4EeDGcf/o/7r40Rl0iIiIidYahAYhJipsz3RuoKC+keFBinGD6XeAWM9sQOBj4BriYIE/6KDM7w93fjtlWEREREZFVqtA0DyvjUagLCRZmuQpoBvR29xFAV+AV4NVK1C0iIiIiskrE7ZmeSsU907G5+1Rgt1KOLwDOM7Mnq/qaIiIiIrVFPWV5JCbuPNMdVlE7KrqupucQERERkdSJPc90LjM7E7iEYODgNOAOd/9fzDpOqqiMu/crrIUiIiIitZt6ppNTqWDazA4FHqBkkZWNgPvNbIa7D45RVR9WXqglygEF0yIiIiKSKpWdZ/qv4c9oEGxAhcuDl2J3oEkZj6aVaKOIiIiIyCpR2TSPLQh6jb8FLgVOAI4Mj8e1KBxwKCIiIiJ5MtM800mqbDDdMvz5hLsPNbPJBMF0iwLq2t7MmgNLgFnAFHcvqmT7RERERERWmcoG0/UIeqYXhvsLI8fjuiOy7QBmNhG4y90fLbiFIiIiIiKrSNzlxMuadaNneG7tAtvRMfzZAGhM0OPdCdgXeMjMlrt7nwLrFhEREanVNJtHcuL2TPche9GW4hk4jg4fBXH3KaUcfgt43MzuJVghsU+h9YuIiIiIrAqVnmeaVbAiYo4bgJ1X8TVEREREaiyNP0xOIcH0Knu7zKwxsCFBusivwHfuPgMYsKquKSIiIiJSqLjBdMeKi8QXBtE3AKcBaxIE7A4sMrPHgH+4+8JyqhARERERqXaxgukycpurwmPAPsDlwHtAEdAK2BH4F0FP9TGr6NoiIiIiNZYB9ZTnkZiqyJmuCgcBZ7l7dMnw74CPzWwW8N9kmiUiIiIiUra4U+M9lmdRd/fTYlT9EdCwjHOrh+dFRERERFIlbs90byqevaM437ncYNrMzo7svgncaGbrEgw8LNYGOBe4O1Le3f2BGG0WERERqdUKWS1PqkahaR5lJebEmSbvvlKO/buMstfmXEPBtIiIiIgkLm4wPZXsgLl9uD8HmBenInfPfIgys8OBs4Fj3P3XyPE2wDPA/e7+Qsy2ioiIiNQJGn+YnLizeXSI7pvZinDzene/oxLtuA84ORpIh9f71cxuAfoCCqZFREREJFXSkmKzAji8jHOHh+dFRERERFIlLVPj/R3oY2bbA+8D84GWwPYEKyL2Tq5pIiIiIullZppnOkFVNTXe0Wa2WWQ/1tR47v6UmY0myJvuQcly4q8Bh7n7hDjtFBERERGpDpWdGq94u2f4gDynxsvl7l8C58Vsj4iIiIhIYio7NZ7nHIszNZ6IiIiIVAFleSSnslPjVQkz+6Giet29U1VfV0RERESkMio1NV4Veo6SYLoecBHwJPDzKrqeiIiISK1RTz3TiUnFbB7ufmnxtpmtRhBM3+Xuo5NrlYiIiIhI+ao0mDazLpQMRCw2PmZQrLxrEREREakRqrpnel/glpxjtwPqYRYRERFZBQw0z3SCqmqe6WJdKZnpI069XSK79cOfncxscfFBd58Yt14RERERkVWpsvNMl8WB4tk35uZRfnwp9Q4MjxVPuVc/90kiIiIiIkmq7DzTuTIBsbtPiVHfbgW2Q0RERKTOU5ZHcgoNpn8H5pVyvCnQIm5l7v5Wge0QEREREUlMocH09e5+R+5BM7sEuLVyTRIRERGRvJnmmU5SKuaZNrPlFZVxd+VMi4iIiEiqFBpMH21mGwMLCVYp/A74uBLtWAg0AvoA71aiHhERERGRalNoMN2TlRdngdLzqPPREbgKOANYG7hcU+GJiIiI5Mfiz0wsVaReFdVj4aNZIU9299/c/XxgU6AI+NzMHjWz/6ui9omIiIiIVLm4wfTU8PEjQXrHIrKnyavUUuDu/oO7nwBsDbQFJpnZLWYWe4YQEREREZFVLVaah7t3yD1mZmsBPYDLgAMIA+rIoMLb3P2y8uo1s5NKOTyAIGC/GPgL0DJOW0VERETqgmA58aRbUXdVejYPd58PvAccZGYjgH1yiuTz9vap4Hzz+C0TEREREVm1qnpqvOuAj3KOvV/Rk9y9qnK3RUREROoc9Uwnp0qDaXf/APigKusUEREREUmrgoNpM+sB7ECQyzwbeM/dvyiwLgP+CmwCPARMI+jl3gAY7u6PFtpOEREREUmfMP47CjgR2BxoQxBTTgSeAfq4+7JV3IaW4fXWiRzu6O6T860jdjBtZq2Ap4C9Sjn3KnCCu/8as9qrgEsJpsU7AniNYDaPxsBDZtbA3f8Xt60iIiIidUEQl9Yc4Uxtg4Ddc061DR+7A2eZ2aHuPnUVNuUOsgPp2GLlKpvZ6sArBIF07rtmwJ7Ay2G5OE4mmA1kf2BdYIq793L3nYFHCXqtRURERKSGC+PEwZQE0tOAK4Fjgb8BX4bHtwRGmlnTVdSOvQhi0BXA4kLriTvw73SCbvhMOyKP4v3uYbk41gXGAhPC/VGRc88CnWLWJyIiIiLpdBawU7g9Gujh7v9x9/7ufhtBEP1SeL4LQaBdpcxsTeDBcPd+gumYCxI3mD4yst0P2BX4U/jzici5o2LWOxdYA1gGvAVE00QaEHxiEBEREZEcxfNMJ/3Iq61mqwH/DHcdOMndf4+WcffFwEnAgvDQeWGacVX6D9AR+CnSnoLEDaY3I/jFR7h7b3d/292/CX+eDAwneE+7xqx3IrCxu69w993cfVLk3HbheRERERGp2XYnGGgI8Jq7TyitkLv/AvQPdxsCB1dVA8xsa+D8cPc8dy+qTH1xg+ninJVPyjj/afizScx6DyDIjS7N+8AFMesTERERqRsMLAWPPO0d2R5VZqmVz+cuClgQM2tAEHPWAwa7+wuVrTPubB5zCabC27aM88XH58Wp1N0XlHNuZJy6RERERCS1Notsf1ZB2U8j25uVWSqey8O65gPnVkWFcXumxxGkcfQys75mtpuZbRr+7Af0IkgDGRe3IWa2tpndbGavmdk3ZtY1PH6BmW0Xtz4RERERSZ2NI9uTKyj7I7A83O5slZz/z8w2Ba4Id//p7j9Wpr5icXumBxIMNgQ4IXyU5tk4lYa5K68QDDx8K7xGw/B0O+ASgvmnRURERCRHvZozz3TzyPZv5RV092VmNg9oQRCzrknQoxybmdUDHiGILz8F7iukntLE7Zl+FPic7KnwolPjAYwhaGwcdwJvEHxaOTOnvo+BrWPWJyIiIiLVq7WZfRp5nFFKmbUi2/nM7bwosh13TF7UOcD2BD3dZ7h7lc0UF6tn2t3/MLO9gScJUjqiDHiZYAXEP2K2Y0vgYHdfUUoX/ixg7Zj1iYiIiEj1+s3deybdiFxmtgFwQ7h7l7t/XpX1x15O3N1nAfua2WbAjgQDEmcD77l77Fzp0FxKpknJ1YlKTKQtIiIiUpsVzzNdQ8wnSNsAaETFaRuNI9uFTmH3AEGP+BTg3wXWUaZYwbSZ1SvuFnf38cD4Msq1dPfZMaoeDFxjZh8Q/KIAbmatgUuB5+O0U0RERERSaQ4lwXQrygmmwwVeiqdlXkbJIi55M7MTgP3C3XPKm0GuUHF7pt8ys2Pc/aeyCpjZLgRpIOvHqPcfwGsEi7MUT5PyP2AjgpGeV8Vsp4iIiEidUXPGH/INwcqDAB0o6UQtzXpA/XB7krt7Adc7Lfw5E9jCzLYoo1yzyPa5ZjYn3H7Y3cvNkIgbTO8AjDGzU919aPREmOv8b4IlGWMNbHT3381sW+BEYA+CTx6zCQYy9nP3JTHbKSIiIiLpM56ScXc9CWZxK0s0/7rUbIg8FH/MaAtcl+dzLolsD6OCdOO4s3lAkCP9opndGa4ig5mtSzAbx5WUfIKIxd2Xuvuj7n6cu+/t7se4+8PAumb2WPio1NrpIiIiIpKolyLbuZNZ5IqueljRaomJidsz/S1B6gUEa5rvaGYPAjcSBNnF0f+IOJWaWXlpHOsBJwPXEnTRi4iIiEiGUY8ak+fxBsG6Im2APc2sq7tPyC1kZmsDx4S7iwnG18Xm7rvmU87MJgPtw92O7j4532vEDaZ7AHdQMhf0n4EHKQmiFwF/c/f/xqz3aoIZPZaV1UZ3vyZmnSIiIiKSIuFCLNcDdxHEj/3MbE93/724jJk1AvoSLNICcF84m9xKzKwPQacrwDXufvUqanqZ4s4zvQg4y8xeJFjlcE1KAulvgIPc/ZsC29LL3T/OPRjmUr9XYJ0iIiIiki4PAIcDOxGsNfJFmOnwLUFGwmnApmHZicB/kmhkvmLPM21mLYDeBPP1efgwgpGZR5nZDVW5qkxYv4iIiIiUwqhRs3ng7kvN7GBgELA7wQxwpQXMo4FD3X1udbYvrlgDEM1sX4LRlEdREkQXz9e3GnAN8I6ZdSqgLdubWS8z29nMNike3CgiIiIitUuY1rEnQV70cGA6sJRg5ozXgTOAbdx9amKNzFPcnunhlATRSwnmh36MYE7oY8Jz2wGfkz1fXz7uiGw7sMTM3gbej1mPiIiISN1hNWoFxIxw3ugB4aPQOnoTZExUti0dCn1u7DQPgkD6O+AYdy9eYOU4M3sNuBtYgyAFJI7iybtXD5/fDuhCMCXK1SjVQ0RERERSqJB5pp8GtogE0gC4+6PAVsC4uBW6+5TwMcndv3D3Ue5+h7vvDVxAsCbM92b2XAHtFRERERFZJeL2TJ/m7o+XddLdvzSzbYDbK9esLH2AseH2vCqsV0RERKRWqFeTRiDWMnGnxiszkI6UWQycU3CLVq6viPKXmhQRERERSUSsYNrMtiCYExBgkLtPj5xbFzgi3H3X3UdXTRNFREREpCw1bWq82iZumselBLN2TAdyVzn8GbiQYCnGAcBxlW2ciIiIiEiaxR2AuHX4c5S7Zy397e7LgVEEH5C2rYK2iYiIiIikWtye6XbhzyllnC9O+1insOaIiIiISFwagJicQqbGA+hQxvH2BdYnIiIiIlLjxA2mZxCkcRxtZh2jJ8L94lUQp5fyXBERERGRWiVumsf7wIbAmsBoM3sM+IFgBcNTw+OOlgAXERERqTbK8khO3GD6IeBEgoC5GcHsHcUsp5yIiIiISK0WK83D3d8D7iEInD33dPjznrCciIiIiKxiRhDQJf2oq2L/7u5+IXAx8AvhPOHh4xfgIne/qCobKCIiIiKSVnHTPABw97vM7G5gE6AlMBv42t1ze6tFRERERGqtgoJpgDBw/qoK2yIiIiIicRmYRiAmpuBgOq3MjAb163LmjtQmv797S9JNEKlSLbY6N+kmiFSZJV9PTboJkgIVBtNmtryAet3da12gLiIiIiISlU/Aq+8NRERERFJMwVpy8u09jg4s1PslIiIiIkJhOdM/Aa9WdUNEREREJD4D6mkAYmLyCaZvAi4AGhP0UK9LsKT439z9o1XYNhERERGRVKtw2gt3vwLoDPQhCKYN2AF438wGmtmGq7SFIiIiIiIpldcccu4+3d1PBTYHRlGy6uHhwEQzu8fMWq+yVoqIiIhImSwFj7oq1oTM7j7e3fcD9gA+I3jtGgDnAN+a2RVm1rjqmykiIiIikj4FrW7i7m+4+1bAccAPBEF1U+A6YJKZnVp1TRQRERERSad8Fm25qoIi/YHeQFuCoHpd4GHgsco2TkREREQqpsk8kpPPbB5Xkz3PdHmKByiKiIiIiNR6WvJbREREpEYzTF3Tick3mNY7JCIiIiKSI59guuMqb4WIiIiISA1UYTDt7lOqoyEiIiIiEp9R4PRsUiX02ouIiIiIFEjBtIiIiIhIgTSbh4iIiEgNp9k8kqOeaRERERGRAqWuZ9qCj1brAesDX7j7goSbJCIiIpJq6pdOTqp6ps3sbOAnYArwDrBJePx5M7swwaaJiIiIiKwkNcG0mf0NuAN4GNid7A9ZbwJHJ9AsEREREZEypSnN4xzgKne/xczq55z7Gtg4gTaJiIiIpJtpAGKSUtMzDbQFPivj3AqgUTW2RURERESkQmkKpr8Fdinj3M7AxGpsi4iIiIhIhdKU5nEX8F8zWwoMCo+tbWanARcDpyfVMBEREZG00nLiyUpNMO3uj5hZC+Aq4Jrw8AhgIXC1uz+dWONEREREREqRmmAawN1vNbP/AdsDrYDZwAfuPjfZlomIiIiklwYgJidVwTSAuxcBLyXdDhERERGRiqQmmA4XbCmPu/sD1dIYEREREZE8pCaYBu6r4LwDCqZFREREcijJIzmpCabdXQNRRURERKRGSW0Aa2ZrmNkdZvaamd1qZo2TbpOIiIiISFRqeqZLcRdwDPAycBqwBsGS4yIiIiISock8kpPanmngIOB8dz8COCPcFxERERFJjVT2TFswWWIbYHx4aALQNrkWiYiIiKRTsAKiuqaTktae6XoE98bycH8F6W2riIiIiNRRqemZNrOB0d3w5y1m9jvQJIEmiYiIiIiUKzXBNEFaR9RbBO0rPv529TZHREREpGbQAMTkpCaYdvfdkm6DiIiIiEgcykMWERERESlQanqmzeyqisq4+7XV0RYRERGRmsMwzeaRmNQE08B5OfstgXnAsnDfAQXTIiIiIpIaqQmm3T0zANHMVgOWAnu4++jkWiUiIiKSfhqAmJy05kx70g0QEREREalIWoNpEREREZHUS02aRxnUQy0iIiJSDi0nnqzUBNNm9gkrB89PmNnC4h1337p6WyUiIiIiUrbUBNPABLKD6QlJNUREREREJB+pCabdvXfSbRARERGpcUyzeSRJAxBFRERERAqUmp5pM3usojLufmp1tEVERESkJlHPdHJSE0wD3XL2twS+AooHIGpmDxERERFJldQE0+6+VfF2ZAXEE7UCooiIiIikVWqC6RzqhRYRERHJk2me6cRoAKKIiIiISIHSHkyrh1pEREREUis1aR5m9isrB8+vmdmy4h13X7t6WyUiIiKSbgbUU5ZHYlITTAP3o55oEREREalBUhNMu/vVSbdBREREpCbSAMTkpCaYLmZmqxPMOd0SmA2Mc/elybZKRERERGRlqRqAaGZ/B34GPgZeAj4BfjazvyXaMBERERGRUqSmZ9rMLgRuBP4HDCAIqtcBjgZuNLMl7n5Pci0UERERSSctJ56c1ATTwDnATe7+z8ixr4G3zWwOcD6gYFpEREREUiNNaR7rA2+Uce5NYL3qa4qIiIiISMXSFExPBfYu49xe4XkRERERyWEp+K+uSlOaxz3APWbWEhhEkDO9NnAk0JsgzUNEREREJDVSE0y7+31mtgT4N3AqwQIuBkwH/urujyTZPhEREZE00gqIyUpNMA3g7g+b2SME+dHtgBnAj+6ulRFFREREJHVSFUwDhIHztPAhIiIiIpJaqQmmzeyqisq4+7XV0RYRERGRmqNuDwBMWmqCaeBqYBnwI5R6RzigYFpEREREUiNNU+PdCvwBfAcc7u4dcx6dEm6fiIiIiEiW1ATT7n4Z0Bn4AfjAzJ4xMwXQIiIiIuWxYDnxpB91VWqCaQB3n+7uZwDdgdWBL83sPjNbO+GmiYiIiIisJFXBdDF3/9rdDwd2AroA35nZNQk3S0RERCSVLAWPuio1AxDN7AeCQYYrnQIaA/8iWNBFRERERCQVUhNMA30pPZiWSpo9axb33n0Ho0YMY8rkHwBo36Ej++x3AOddcDEtW7WKXae7M2jAMzz5RB/GfjGG+UVFtGrVmm2334FzzruQrbbZdqXnDHjmSV4aOYIJ48fx66+/MHfOHBo0aMA6bdux+RZbcuzxJ7LPfgdU+veVumvWrFncfeftjBg2lMnhvd6hQ0f2O+BALrjoEloVeK8P6P8MT/R9nC/GfE5RURGtWrdm+x125LzzL2KbbVe+10XiaNlsTS44cXf227kbHf4vuEcn/zSLEW+P4+4nXmf23AWx69xwgzacd/xu7Lb1Jqy3TgscZ8r02Yx6Zzx39XuNX3+fn1X+hAO34eFrT8yr7ieGfMgZ/34ydptEaiurbYsLbvHnnv7Wex8n3YzUmDhhPIcesA8zZ84o9Xzbtu14YdgounTdLO86//jjD0458ViGDn6hzDL/ufFWzrvw4qxj+++9O+++81a5dZ9/0aVcd8PNebeltlt9tVRmYqXShPHjOWC/vZk5o4x7vV07ho14ma6bxbvXTzz+GAa/8HyZZW685TYuvOiS2O2tq1psdW7STUiVLhu2Y9gD59KuTbNSz8/4dS4HnHUfE78r/b4uzUG7dafPDb1p3Gj1Us//MruIg8+5nzFf/Zg5FieY7jf4Q868WsE0wJKvB7Ji4S+JZzhs2m0Lf+yFN5JuBtt3bvGZu/dMuh3VrUYE02bWBDg03J3r7oPLKqtgusSiRYvYYest+O7bSQA0a96ck0/5C2ZGn8ceZu6cOQBs1Hlj3vv4cxo1apRXvf+55ipuven6zP5BhxxG9x6bM2LYUEZ/9gkAZsYLw0ax2+57ZsodddiBLF68hC5dutKqdWuWL1/O2DGfM2L4UIrvw3r16vHlt1Np265dVbwENZ6C6fwsWrSIrf/cg28nBfd68+bNOeW00zEzHnvkIeaE93rnjTfm48++yPtev+bfV3LTDf/J7B9y2OH06LE5w4YO4bNPS+71YSNfZvc99iyrGolQMF2iUcMGfDzgcjq3D8bY/z5vIY8//x7ucOrhO9Ci6RoAfDP5Z7Y++kaWLF1WYZ3/t3ZzvnjxStZs3BCAn2fN44khH+IOJx60LW1bNwVgyvRZ/PmI61mwaCkAm3ZqS68dupZa5y5bb8w+O5acO+5vj/DCq2MK/r1rEwXT2epqMJ2aNA8zO6mc0+2AG4B+wHSgzGBaSgzs/1QmkAZ4tM+T7NVrXwB23Glnjjz0QAC+nfQNA/s/xUm9T6uwzrlz5/Lfe+/K7B96+JH0ebI/AOddeAk9u2/KtGlTcXduvv66rGB64PNDS63zvLPPoN/jjwKwYsUKfpymYFri6f/0U5lAGqDPE0/Ta5/gXt9p51049KD9AZj0zTf0f/opep+a371+7913ZvYPP/Ionnx6AAAXXnwp3btuwrSpwb1+/XXXKJiW2I7Zr2cmkAbofUUfXn5vIgDvjJ7Ei/eeDcDGHdbhmP22ou+LH1RY59H79swE0gDHXfoI74/5HoDhb43jzb7Btyjt123FSQdvxwP9g28Lv/x+Jl9+P7PUOk84aJvM9qQpv/Dia1/E+TVFar00dXv1KedxI4C7n+Lu/6z+ptVMw4a8mNlu2rQpe+69T2Z/z733oUmTJpn98lI2ol5/9WUWLCjJ3zv08CMz240aNcrKef7g/Xf57ddfy6xr/vz5vP/uO7z7dknqR8OGDem0Uee82iJSbEjk/m3atCl79yq51/fulX2vD36x7JSNqFdfyb7XDz/iqMx2o0aN2G//AzP777/3Lr+Wc6+LlOag3XpktucWLcoE0gAvv/cl8+YvyuwfvHsP8tFxvdZZ+198/WOp2wD779Ktwvr223kzum60bmb/jr6vUBO+0a6Lkp7JI/Hu+QSlKZhuUs6jzn1lUBXGfVHSe9C+Q0csMqN6vXr1aN+hY2Z//Nix+dU5NrtHomOnDcvdHzdu5R6Mbpt0olnj+vxfm2bsu9eufP/dtwDUr1+fG265nZYtW+bVFpFiX3wxJrPdoZR7vUPkXh87duV7sjRjI3UCdMq5t3P3c//fEKlIj03Wy2xPnj4r65y7Zx3rvvH/5VXn3KJFWfvRa0S3gawguSyX9N4rsz39lzk8NVRplCK5UpPm4e5lDlc2s/hDmYXZs0v+EDdp0nSl89Fjs2b9FrtOgCZNm+bsN8nan/VbfvU2a96ce+5/kEMOOyKv8iJRs2dF7vWmpdzrkWP53pPROiHo8S5v/7c86xUp1rLZmpntogWLVzpfNL/kWKvma+VV57C3xnLJKSUB8NO3/SWTM33CgdtklW3RtHG5dW3XoxPbb1HyofHeJ9/gj2XL82qHJKAudw0nLDXBtKxapX0tFz1mea4DmltPRful1XvJZZczd85cZs36jQ/ff4+PPnyfuXPmcPLxR/PXs8/j5tvvyqstIqVJ070ukq/S7p7oPZVvasWHX/zAnX1f5aKTgxz+dVo15dJT9i61bEUDGqNB+e/zFvLIc+/m1QaRukbBdC3WsmUrZsyYDkBR0byVzkePtWyZ3/y7rVpl5+MVzZuXs1+U3YZS5vXtferpWfs3XHc1N99wHQD/+++97Lr7HuwbyUcVqUjLVq2YMT281+eVcq9HjuU7r3qr1tn3+rycenP3C5nDWuq22XMXsO7azQFostbKM8w0WbNRVtl8XXHXi3ww5nvOPHpntuyyAY1WX43vf/yNF14dw3abd2KPbf8EBNPulaXLhu3Yd6eSGTweHPA28xcuybsNInVJaoJpMxtYzukm5ZyTMnTr0SMTTE+Z/AMrVqygXr0gTX7FihWZBVwANuvePb86u2cPgvn+u2/psfkWmf0ffvguu3y3igfNHHjwoZlgGuDtN99QMC2x9OixeSaYnlzKvT45cq93757fQK7uPTbP2v/uu2/ZfIvIvf59zr2eZ70ixb74+sdMMN1h3VaYWaYH2swyC7gAjP3mp1h1D31zLEPfzB4L06hhA74ZeW1m/4Mvvi/z+Rf33jPz/9DCRUu5/5k3Y11fqp8pzyMxaRqA2KacRyPg7eSaVjPtf+DBme2ioiJeeWlkZv+Vl0Yyf37JClgHHHRIZnvKlMk0a1w/83jqiT6Zc7vvuTdrrLFGZv+F557NbC9evJhRw4dl9rfdbgdat2kDwJcTJ6w0oKvYqJHDs/b1dbnEdWDk/i0qKuKlUSX3+kujsu/1gw4+NLM9ZfJkGjewzOOJvn0y5/bcK/tef25Qyef9xYsXM3x4yVSP222/A23Ce10kX0PfKAl2m67VmF47dMns99qhS1bP9JA3Sga4btCuJYs+vy/zyM2FbtV8TXLVr1+P2/9+BG1alPRN9Xmh9Kn21m/bgqN6lYz77zf4A37LWTFRREqkpmfa3XdLug21zdHHnsA9d96emWv69FNOpPdpZwDQ57GHM+U23KgzRx1zfF51NmvWjHPOvyizaMvgF57jxGOPpPvmWzB8yGB+/HFapuw//nVVZnv0Z59w9hmn0a3H5my//Y6s064dC+bP55OPP+Kdt7Inmt/3APVKSzzHHn8Cd95xa2au6VNOOp7TTj8TgMceeShTbqPOnTnmuPzv9fMvvDizaMsLzw3i2KOPYPPNt2DI4Bf5cVrJvf6vq66uot9E6pJnRnzCRSfvmZlr+vEbTubRQe8BwaItxSZN+YX+Iz7Nu947/3EUXTdal3dHf8v0X+awdssm7L7Nn/hTp7aZMv0Gf8hHY38o9fkXnLg7DRrUB+CPP5ZzZ7/XYv9uInVJaoJpqXqNGzfmyf6DOOSAXvw8cyZz587l7jtuzSqzTtu2PNl/EI0blz+qO+qyK67ky4kTMvNYD3nxeYbkzN173Q23ZC3YUmzcF2MYV0YPtZlxxZVXs9POu+bdFhEI7vX+A5/ngH33YmZ4r99x2y1ZZdq2bUv/gc/Hutev+NdVTJw4gSEvBvNYv/j8c7z4/HNZZW64+VYt2CIFWbzkD4655OHMcuLNm6yRNegPgrzmYy55mMVL/ohVd5cN29Flw9IXvxow8lPOv6F/qedaNluT3odun9kf9PJnTJ0xO9a1JRn6Ujc5qQmmzeyWisq4+9/LeO4ZwBkA66+/QRW3rGbr0nUzPvx0LPfcdTsjhw9l6pTJAGzQvgP77n8g5194Sd4Dsoo1aNCAJ/sP4tn+T/NEvz6MGzuG+UVFtGrVmm2334FzzruQrbfdLus52++4M5dedgUfffgBk7//jtmzZ7FkyRLWXGstOnTsxLbbbs9Jp5zGZt3yy90WydV1s834dMx47rrjNoYPG8KUyZMBaN+hA/sfcBAXXnxp7EGCDRo0oP/A5+j/zNP06/MYY78YQ1FREa1at2b7HXbkvPMvYtvttqu4IpEyTPxuBj2PvIELT9qD/XfpRvt1g3n2p0yfzfC3xnFXv9diDT4EGDjqUxqsVp/uG/8fbVo2YfUG9fllVhEfjf2Bx1/4gNc/+qrM5551zC6ZFRRXrFjB7X1eLfyXE6kjLC0rGZnZCmAmUDxceINwf2m47+7eqaJ6tvhzT3/rPU0qL7XD6qulaViDSOW12OrcpJsgUmWWfD2QFQt/SbxPeNNuW3i/wW8m3Qy23rD5Z+5e5xbaS03PdOgQd//YzFYjCKIPdPfRSTdKRERERKQ0aer2claet75raQVFRERERNIgTcH0z0DncHvj8OcjZtbPzLQagoiIiEhZLAWPOipNwfTLwF1m9l/gReBTYCtgU+ArMzspwbaJiIiIiKwkTcH0RcBQYGfgG+AEdx8LbAPcBNyfYNtERERERFaSmgGI7v47cEopx1cAt5vZoOpvlYiIiEi6BVkWdTjPImFp6pkul7tPSboNIiIiIiJRqemZNrOrKiji7n5dtTRGREREpKYwrYCYpNQE08DVwFxgWRnnHVAwLSIiIlILmJkBRwEnApsDbYDZwETgGaCPu5cVF8a91gbAvgRj83oQLA7YiCD2/Bp4HXjE3afGrTtNwTRAL3fX8oUiIiIitZiZtQAGAbvnnGobPnYHzjKzQwsJcHOu9SJwEKVP4Nc6fOwA/N3M/uXut8WpP23BdDrWNhcRERGpQWpSloeZrQ4MBnYKD00DHgK+BdYDTiWYGnlLYKSZbefu8ypxyc0oeYk+Ad4gmDluXni9wwmC6YbArWbW0N2vz7fytAXTR5jZFsASYBYwGfjS3Zcn2ioRERERqSpnURJIjwb2DGd1A8DM7iNYc6QX0AW4EvhbJa63mGCK5Xvd/etSzt9pZhcCd4b7V5vZs+7+TT6Vpy2Yzn2hHJhrZve7+5VJNEhEREREqoaZrQb8M9x14KRoIA3g7ovDxfq+B9YEzjOzm9x9VoGX3Sn3Grnc/S4z25Ggl3o14Hjg3/lUnpqp8dy9nrvXA1YHmgEdgT2BR4B/mNmlSbZPREREJLWSXko8/zyT3QkGGgK85u4TSivk7r8A/cPdhsDBeV9h5brKDaQjno1sd8u3/tQE08XcfZm7F7n7FHd/w93/DtwA/CXptomIiIhIpewd2R5VQdno+X1WQVtyFUW2G+f7pLSleZTldip+wUVERETqIKtJKyBuFtn+rIKyn5bxvFUleo28FwtMXTBtZu0JutbXBn4FJrj798AHiTZMRERERCpr48j25ArK/ggsB+oDnc3M3H2VzPwW5nKfEjk0PN/npiaYNrPWwMPAgWSnn6wwsxHAX8L8GRERERGpmZpHtn8rr6C7LzOzeUALgph1TWD+KmrXpcCfwu1xxAim05Qz/RTwZ4IE85ZAA4JJu48CugNPJNc0ERERkfQyS/4BtDazTyOPM0pp6lqR7cV5/GqLIttNKvESlcnMdqNkle1lwJnuviLf56emZ5pgvsET3D36SeAX4Plwucl+yTRLRERERPLwm7v3TLoRcZjZnwhm8SiOia9w91ipxWkKpoeTnUcT1ZkY3e0iIiIidUW8mekSN58gbQOgERWnbURn1Sgqs1QBzKwj8ArQKjx0l7vfGreeRINpM7slsjsTuCL8hBDNjW4DHAb0iZR3d7+smpopIiIiIlVjDiXBdCvKCabDQYFNw91lwIKqaoSZrQ+8TrCcOMD/3P2iQupKumf6yJz91YD9yX5h1yLInz4ocswBBdMiIiIiNcs3BAvzAXSg/Cno1iOYyQNgUlXN5GFm6xIE0h3CQ48BZxdaX6LBtLsXv5iY2TkEE3kf7e6LI8cbEayA85K7P1D9rRQRERFJuZqT5zEe6BVu9wTeKqdsNP96fFVc3MzaEgTSG4WHngJOr0ygnqbZPK4F7osG0hCszw78F7g+kVaJiIiISFV5KbLdq8xSgeiqh5VevM/M2gCvAZuEhwYAJ8eZuaM0aQqm5wBnhfkxGWHP9F+B2Uk0SkRERESqzBsEi/IB7GlmXUsrZGZrA8eEu4uBwZW5qJm1BF4FuoSHnieYRW55ZeqFdAXTZwJ7AjPM7CUze87M3gBmEKR/nJVo60RERERSylLwXz7cfRkl2QYG9DOzFtEyYUdqX4JFWiDIXJhV6u9t1sfMPHxcXUaZZsDLBOuWAAwBjgnbUmlJD0DMcPdXw6XETyP4ZdcmWEZyJPBoWS+iiIiIiNQoDwCHE6wxsiXwhZk9CHxLMOjwNGDTsOxE4D+VvN5IgoUBAaYT5Envb1buB4CF7v5yPpWnJpgGcPffgduSboeIiIhITVJ+XJgu7r7UzA4GBgG7A+tTesA8GjjU3edW8pLbRbbXJciVrsgUSmb7KFea0jxEREREpA4IO1D3JMiLHk7QY7wU+Jlgto0zgG3cfWpijcxTanqmzWwFwfzRZXL3+uWdFxEREZGaIZyObgD59RSXVUdvoHcFZVZpv31qgmngfEqC6frAXcCtQOo/kYiIiIgkqQZledQ6qQmm3f2+4m0zKw6mB7j76MQaJSIiIiJSDuVMi4iIiIgUKDU90yIiIiJSAEN5HglKTTBtZvtFdusR5E/vEK6hDoC7j6j2homIiIiIlCE1wTQwjCCAjn62ujuy7QQDE0VEREQkIt8VCKXqpSmY7ph0A0RERERE4khNMO3uU5Jug4iIiIhIHKkJps1sg4rK1IRVcERERESqk1GzlhOvbVITTAOTKXsFREM50yIiIiKSMmkKpqcB6wKPA88AK5JtjoiIiIhI+dIUTHcGzgUuB7YC/uHuLyXbJBEREZH0U5ZHclKzAqK7L3X3O4BOwHBgkJm9bmZbJdw0EREREZFSpSaYLubuRe7+L2Aj4EvgHTMbaGYbJ9w0ERERkXSyFDzqqNSkeZjZVaUc/hl4FjgWOBhoWK2NEhEREREpR2qCaeCUcs5Nq7ZWiIiIiIjkKTXBtLtrBUQRERGRAmg58eSkLmdaRERERKSmSFUwbWadzOwBMxtnZj+FP/9rZp2SbpuIiIiISK7UpHmY2Z+BN4DFwDCCwYfrAIcDx5vZbu4+OsEmioiIiKSSlhNPTmqCaeA24HNgX3dfWHzQzNYARoTnd0+obSIiIiIiK0lTML01cFQ0kAZw94VmdhswIJlmiYiIiKSbOqaTk6ac6UVAqzLOtSRI/xARERERSY00BdPDgZvMbMfowXD/RmBoIq0SERERESlDmtI8LgYGA2+Z2a8EAxDXDh/vA5ck2DYRERGR9FKeR2JSE0y7+yxgRzPbB9gKaAfMAD5y95cTbZyIiIiISClSE0wXc/dRwKik2yEiIiIiUpHUBdNmtjfBzB7RnulXkm2ViIiISDoZWk48SakJps1sXeAFghSPX8LH2sC1ZvYpcKi7/5RgE0VEREREsqRpNo+HCHqjd3T3tu7e3d3bAjsBbYEHE22diIiISBpZsAJi0o+6Kk3B9O7A3939/ehBd38P+AewWyKtEhEREREpQ5qC6Z8JFm4pzSLgt2psi4iIiIhIhdIUTN9AkB+9XvRguP9v4PpEWiUiIiKScpaCR12VmgGIwN4Ey4l/Z2ajKRmAuGW4vaeZ7RmWdXc/OplmioiIiIgE0hRMtwYmhQ+ApsBigtUPAdok0SgRERERkbKkJph2dw0wFBERESlEXc6zSFhqgmkzu6qCIu7u11VLY0RERERE8pCaYBq4GpgLLCvjvAMKpkVERESymFZATFCagmmAXu7+cdKNEBERERHJR5qmxhMRERERqVHS1jMtIiIiIjHV5eW8k5a2nmlPugEiIiIiIvlKW890HzNbUNZJd9+6OhsjIiIiIlKeNAXTfZNugIiIiEhNU9eX805aaoJpdz8l6TaIiIiIiMSRmmBaRERERAqkrunEpG0AooiIiIhIjaFgWkRERESkQErzEBEREanhtJx4ctQzLSIiIiJSIAXTIiIiIiIFUpqHiIiISA2n5cSTo55pEREREZECqWdaREREpIZTx3Ry1DMtIiIiIlIgBdMiIiIiIgVSmoeIiIhITWYagJikWhdMjxn92W/NGtefknQ76oDWwG9JN0KkCumeltpE93P1aJ90AyR5tS6Ydvc2SbehLjCzT929Z9LtEKkquqelNtH9LFJ9al0wLSIiIlL3KM8jKRqAKCIiIiJSIPVMS6EeSroBIlVM97TUJrqf6xBDAxCTpJ5pKYi76w+11Cq6p6U20f0sUn0UTIuIiIiIFEhpHiIiIiI1nLI8kqOe6RrKzLqZ2Tgz+//27jxOjqL+//jrHYIkASOBhENDwqEoAiKIIF5gBOWUQ8FbbhBB5RAPFAngD5FDQFEURQOCXy4FlUvOiHKIHKLcBEgggkkg4Q4JMZ/fH1XD1nbm2J3d7GaT9zOPeWSmu7qrdrpm+jPVVdWr5sfDktbt73KZLWySQtJB/V0Os94iabKkk/q7HGbWHgfTA9c9wGPAk/lxL3Bfv5bIzMzMbAnjbh4DVEQE8DFJa+aXj/V3mczMzKx/eDaP/uOW6T4kaYKk2+ssf1rS+OL1jpJul/SKpP9KOkHS0sX68ZImA0TEoxHxmKQf5Mvf44u8oslji5xusqSTJB2Z83pR0nmS3lDkt6yk0yU9KOllSY9J+omk4Q3+xmpekytlb3qLW0kTJV1cWbZc3tcexbKGl0YlrZ7Tb18sGyTpm5ImSZoj6SFJuzcry+KkeE+qj/FFmhUk/VzStFz/bpa0abF+uXx8puf38LF8TAcVaarHaZSkFyRFsWyLnG69ShlPKutLXvZZSU/mMn0iL15R0g25Pp4vadku/q1lucZK+r2kGZU0BxVpFqhjktYrP0N52QRJEyvpLqiT51L5/Xo8v3/3SvpMZbuufk8ssZ+TBt8znepz7f2RtF9+D2ZLulzSmyr7GinpbEnP5Po0UdLGlTSTK+/9MpKm5PxWz8sWeC/z8oPKup+XbSnpEUmzivo2JJd3tqSrJa1U5+/uyud3gqSnJM0v0pxUpOlqvXntPFMs+0E1z+JvfDjXl0mSDqmsr/u9r3Sem1C8brvu13mfDqos2yd/3ubkY/f1RtubdZeD6UWMpN2A3wO3AR8Djgb2A77fZJs3AV8G/lcsPhbYLD++l5dtVjzuLNJ+GtgS2Bc4FNgO+GWxfhiwFPBtYBvgSGAccFGDIj1Q5PPbJn9uX/sx8B3S/KvbAZcAv6qe/JYAX6Pj+DxXWyhpGeBaYCvgcGAnYAZwraRVcrL5pPr5hZzu5Ly/A5rkdyQwtJ2CSloHOBu4Atgd+FJe9VXg/Px6a+C4Bruo/a3j6qybAGwIHEjH+9ErJL0L2KXOqmNIn6MzSZ/vm4DzJH26t/LuBQPlc1J+zyxQn7PNSN+NhwJ7A+8ALq2kuRT4KKmufJJ0XrxB0pub5H0g8KYm6xuStALpPb0H+BTwEWBlYA/S9/LngXWAXzTYxck0/ntPJtWrbwLvy2n+204565S73nkGSfuS6swfgR1I54WTJX2zN/LtDZIOB84gHevt8/NjqwH3QKdF4N+Syt08FiGSBJwInBMRXyqWzwF+Iun7EfFMnU3HA7cAa9UWRMQjwCN5+7flZbc2yHoosF1EvJjTvwT8RtI6EXF/RMygCJYkDSb11/6bpDER8Xixr6WB52p5qaMlsV/lE+MBwJ4RcXZefK2kVYGjgMv6rXB953X5//uK4zOvWP85YD1g3Yh4OK+/FngQOAw4PCJeBn4kaSnS98cL+fHWehlKWgPYnxQQ79VGmQ8EHoyIffL+7gSmAadHxM/zsuWA4yUdEREv5e1qV3LujYhbc5qqTYBjI+LCorxtFLGu40l/897FvlcADga+FxG1H7h/ljSa9Bn+v97KvF0D7HPyUvU7rVKfAVYC3hsRU/L6KaTvra0j4ipJW5OCzi0i4i85zfXAZNIPyv2rmSpdkTuC9GNs7+r6LtgLmAvsFhFzJN0IPAFcERHH5TxeAf4oaY1aFz51XJ2c1ODzC6lOX1gcu9r5ozeMp3KeUboiNR6YEBGH5cVXK13Z/JakUyPilV7Kvy35eB1F+twdnRdfI2kY8B1JZ0TE/xrvwaw1t0z3A0mDy0exam1gDHBhZf31wBBSoFPd11tJLRrf6EGRrqkF0tnvSbPsvLvI5/OS7pL0IvAq8LeizKWhQMsv7/y3LdU8Saf3oFHaWrpWdfnDpFbVSyr7vQ54Z4uyLC6G5f9nN1i/JXAH8Filbv4F2LiS9jrgFVJLWtD4bmvHAlcDf22wfqnK8ahGsxsAN9deRMT0/HR6keYmYFmKkzwdLeHN6uJkYEdJa9T5LLZN0pbA+0lBRmk90jGoXtG5AFhblcv6Tb4nKsn8OWnizlogDRARN5HqziZ50SbAjFogndO8RPrR8P4G+/w68B8aX3UbVHnvqu/5Brlcc3J+s4EXWbBOC1i/WNbVOr2lpHUlLd2LdbrReWY08Ebq1+nhdC5/V+t0d+t+qzq9Gen74aI659WV899g1iNume577yIFo/WMzP9f0WD9anWWHQdcEhG396BVrfwSJyJm56B5VQBJOwPnkC6NHQHMzOsuIQX5pRWAeq3npRXJ74Gk50itHYdExANFml1o/D6VDs2P+ZKeIp3gvlUn3UhSoFG9LFqzKjC1C/kNZKvm/6c1WD8SeA/13/dHKq/3B0aRuliMJbWsdSJpA9Jl8w1ZMBiv+WedZVOK5ysBC/ShrHihSFuzQv6/WV3ch9R6/GiL/XdZvrp0PPDjiJha+Uw2ev9rr0fQ8Vls9j1R8uekuekNltWOxarU/zxMo6MOvUapu9PBwG6kHx31/KFFmVYiBc/NtFunDwXOI3Uh6U2NzjOt6nT5Hr72vV9RLWt3635ImkHqZnJIpWEIOs6r9zbYz2p0/s4ZuJbcXhb9zsF037uf1N+0dG3+f2b+fz/grjrbdpqxQ2lg2A5AT+eXrraIDQWWA57Ki3YF/l7perJ5g32tSef+2PU8R2oFhdTv8Puk/q/vLNJcT+dWkKHAjXX2dS5wGqkubwacQJoq8NJKupnAPNIl3XonwXon3cXN20mtWo2Cx5mkwLVe/+dOrWER8SCp+8ffJF1NaoH+SmWb7wPnRcQ9qgzoKnyKzoH6V4EPFK9nUCeoqVixSFuzZv6/4UkyIm5RGih1CbAzKQD4R4u8WtmV1EK+VZ11tc/TSnQOiFbO/88sljX7nij5c9LcAoP48rLasXiqQZqV6Xw8ar4L3B4RV6gYgFpxCB1X7iAF3ocXr2dQv2Gk1KxOT260UUQ8KGlv0ud4X1Kg+scWeTXV4jxT1ulSvTpdfu/XnFNnn92t+4NIV31OA14i/dgp1cqwPfV/OD1YZ5lZtziY7nsvR0Snlrai39uDpMuHq0dEo8EnpeOBs2r9W3tgK0nLFb/odyFduq+Vs17Xjc9WdyLp7aSTxC0t8ptXvAe3SxoDnCJpUETUTuCzyvepQZ9XgGlFulslfY50GfXSSrrrSS1ub4iIa1qUb3G1NXBj7fJyHdeRBkM9XnSn6IqhpO5Jpc1Jg/6q3YCq7o2I11qmJFVPdv+mOAFLGpWfjirSvI/UdaUMyrcm9Q1v1MJaq1M/BU6MiMvzshbFbWowabDv8RExq876e4CXSQH3McXy3YCH8tiEmmbfEyV/TprbSMW4DknvIwV+t+X1fweOlvTBiLgxpxlGx8DL0ptJx+qDLfKcVDkm76ms/zewg6RhEfGypCGkxotqnQ46t6ZuTQpI72+Uce6G80tSv+kJedncFuVtpdl5ZirpR9muwJXF8t2A50l/a828OnX65Tr7bKfu3yZpO1KdrrqF9P3wxtrn3Ky3OZhehETEfEmHkQb/DSd9Oc0ltUjsBHwiDwCDFLSOIs3E0VOzgcslnUi6bHci6ZJe7SYw15AGQH6bdPLZltS38jWSPk66FPgorQcpLaU8KDLntyfwryKQ7o4V8r4GA5uSWijOribKLTY/A86XdALph8IQUmvL2rUBboujXJd2JwWlR1dO7oOB0ZLWIrUSfRGYqDSV1qOkFrJNgP9GxCmStgXeSzpBvQp8gtS3tDpQ6wvAqZXBqe34CbCfpDOB35H6qwIcJOk/pB95RwK/jogXJb2R1H1h1zplqvp+3v7YFulWKOorwBr5/zG1gCi/3ozUUvejejuJiJmSTiUNeppHqoO7kD5PC3s2jyX1czIduExpWrUhwA9I/ZWvAoiIP0u6CbhAafaJZ0izegwlfQ+WPg1c2mQgd1edRWrhPi+/118i9endRdIDwEPAD4ErI2KS0mC+WjedEyKiWReIg0nni21blOH1lTpdG0+xqqQ3FD9Cm55n8jlrPPBzSc+QzhWbk65uHbGQBx/W/oZBpKtu44Bf1ynjs7mMp0kaS7pyM4j0Q/9DEbHzQixjn3Ivj/7jYHoRExEXSHqe1Dd5L9I0RLUAtWxhGAScEhG9Me3R+aQ+emeRWkj+SOdL/T8nfUF/lXRCugb4DFCeVL5O6t7x9Tygppnl6WhdmUkaYHZYw9TN7Zkf80it+j8kBWD1LqMeSDpR7UtqGXyedNfIs9rMe6DYiI4A76j8KO0NDI6IPSR9iPTeHE26VDud1IpXu1T8NOmH1FdIdfBR4KCIqA5AfJHG09V1We4isicpCNqRFHiMI13S/TSpj/dldHR1+CDpZL5PRDQ8rvkHxQHAVl044dfqWNXZwOPAxPx6EDC+Rf3/LqmuHkB6fycBn4uI81uUoaeW1M/JLaQuAqeSgsKJpG50pZ1JU8qdSvp+uw0YFxGTKumCNK1hj0TE05J2IY1BuSDvcwPgT6T+wt8lDUCszRSyLqmuf5sFA/zXKM13fQzp8zijUbrsI9Rv4T6O9INwQn7d8jwTEb9QmlbzYNI5YipwWESc0qIMPVX7G+aTpv+7gPTDul4ZT5D0JKkLzmGkwdMP5W3MekwR0TqVLbaUJuW/OCK+1t9lsYUj9+2cEBGrN1g/ntS1aI8+K1QPKN0A48sRcXo/l2MiKXie2J/lsPry8Xk6IhaJ6TmbWVS+h5VuoDKx1kXEBo53bvSuuPovPb1o0nMrD3/dHRHRaIzMYsst02aLv+epP6C1ZiqVGzFYlzxO6gNttrh4isYzuZhZAw6mzRZzEXEn6VJ2o/W/bLTOGouI6owDZgNaRNSbLtHMWnAwvYRrdOnfbFEVER5nYy1FxBb9XYau8vew9YYl+Xbe/c13QDQzMzMza5ODaTMzMzOzNrmbh5mZmdlA514e/cYt02ZmZmZmbXLLtC0x8k0NHuvmZlM8OMjMzBZ1bpjuP26ZNjMzMzNrk1umbUl2O/VvJ3sEMKKPy2JmZmYDkFumbUl2b0ScVH2Q7hhYl6QJkiI/JksaLulkSVMkzZH0iKTxkpZpsP2mks6R9Kik2ZJekvQvScdIWqGL+TZ6TG6y/XaSLs7lnC3peUkPSDpL0lpFuonF/iYWy0dKurNYd7+kN+Z1gyUdK+lySZMkzZT0qqRnJd2e1y3w40TSDyXdJmlafu/mSnoy72fbStp286j793RhXfm+ju/KOklbVNZt0eh4tMojr19H0hn5OL2Uj9uDkk6R9KZm+66zr071tlg+VNJVxbqnJK1b2bb6dzV6bFFss3ou5425zr2Qj+90SddL2k/SUg3KOlzS4ZL+KumZvN00STdL+m6d9CsrfX5ukzSrqEc3SPpSk79ji+q+KvttenzMFjVS/z+WVG6ZNmvfMOCvwDuKZWsCRwHvlbRNRLx2m+4cCIxnwa5t6+fH7pI+EhEP9lYBJS0N/Bb4RGXVEOCt+fEn4JEm+1gFuBaoBVn/AraKiOnFvr5TZ9M3AO/Kj89Lek9E/LdYv1dOU1o1P7aVtG1EXNnDPAYkSXsDPwVeV1m1dn7sLmmHiLipB3ksB1wGbJ4XPQF8OCIebnefhfWAg+ssHwV8KD92krR9RMwvyvSOXKbVKtutlB9vB44p0n8YuBCo/hCt1aMRpPfRzGyhcTBt1r5RwPLAL4Cngd2AWivvVsCBwI8AJH0COLrY9ibgGmBZ4PPAKsAY4BJJ65dBeFZeRZoFHJeffxLYuEkZT6RzID2TFHw8BbwZ2L7ZHyhpDHBdTgvwD2DriJhZJAvSwM5bgf/k8i0FrJHLNwwYSwqGDyq2u48UmE8DZpPeg88CI/P6HYBaMN1uHgOOpE2BM+k45v8G/kD6EfYpUh0bQaorb4mI59rIYwTpvd00L3oUGBcRU+okr17BPCOnXwv4YoMs5gF3k7pSzQCeA4YCG5LqnIBtgF2Ai3OZlgWuAMpW938A1+fnG1HUdUmjgUuB5Yr01wM3kz5Xm+T/zcwWKgfTZj2zd0T8BkDSSaQW3uXzui+Sg2ngm8U2VwDbR0Tk7X5NCiwB1iEFkZdW8lm6eP507o6CpPVoEExLWh74UrHocWDjiJhRpFmOFIjWsyqp5X1Mfn0TsG1EdOoGExEvAWtKGkkKzlbL+7yPFEx9MCfdprLde4tyLE0KotYFtsyLpxRp28pjgDqcjgD2bmCTiJgLqWsM6cfEENKPuT2BU7u5/2GkoPOd+fUDpBbpJxukr3bH+G1E/C13k6gbTEfEVcBVSl2INiK1Kr8K3Jhf1wLmbcjBNLAHnQPpnwIH1T4nACq6JAFfpXMg/Y2IOKEsRyW92WJMvp14P3Iwbda+V0ldKACIiJmS/kRqaQZYJ7e2BSmAqNkWmK/GHczez4LB9PDi+ctdLN9mdA7Cf1gG0rnMLwIvNth+7UqeO1YDaQBJQ4DTScFQ3X6w2QL9fCX9DNi/svhV4KK8zx7nUdhcUjRZ38hRko5qY7sb8jGeR7pycRtwSkRMbLHdB4rnGwBzWtSVU7tZrlH5AalufrxJIA1Q7f8/t1UGksYCv6Hz31LP6OL5Byvrvl0G0gAR8UiD9DOBk6o7r6Svavf4mJl14gGIZu17pk53jGmV18uTLsl3p8lgVJ1lqzTJo5FqP9LuzrFdGgYc32DdccDeNA9yYcGgrJGXSK2v8xZiHn1pMOn4fQy4TlLTrjUseNyaqVdXukPAKZKanQteX3n9bBf2ewmtA2nofLzKv3tWRLTKp0w/pex73U3dPT5mixzR/4MPPQDRzNqxoqSlKgH1ypU0z5Ja/4KOgPp6OvoC13Nf+ULS64C3FYuatbaVZlZer9HF7Uo3kIKiwcA+km6OiF9X0nyqeH4P8BnggYh4VdIJpG4LjVwMTCJ1WxhD6t89Im8zGDi0F/KoeZTU37fmANKA0VauAa4uXp/YhW0AfkY6Vm8A9iEFbINIA/Mua7LdTFK3CIC7KK5+1DG1i2WpupXUpeb1wEdIg2Ybtb6PrrxuOsBT0tqkvtE155OOz5MRMV/SbcC762xa1tcRkpZvEVCX6cdKGtTNgLrd42Nm1omDabP2LU0K6mp9plcg9XeuuT/39UXSXXR09VgF+FnuYvGa3G94B+CWSj4H0blf821dLN8tpC4Tta4eh0g6NyKeKfIcBixXzMxR+hdpIOWhQK0v6k8k3RUR/yzSjSye3xAR/877Hkpq7VuApOHACxFxLWmmkNryvwDn5pdb9SSPOp6o9TXP225P14LpmyvbdTWYvqDWZUDSDOC0vLw6U0XV30gD8wDeCJxbnaEktyR/mPRDpLtmAONIAwEvzMuOlHRrMXtKLZ/lSV1raibX6+pTMbLy+qKImJr3tw6p60o9N5IG8dYcI+mrlT7Ta0TEY0X6TfLzFYBDgJMr5S/TV7V7fMzMOnEwbdYzZ0l6P6nP5SfpGHwIaUaGmh/QcYOYtwP3SrqE1Mo3nNRKuEV+vgYwS9JqwLeA/Sp5vk3S1/Lzck7g4Xn5PRFxVUQ8K+mnpIFakGa7eEDSRaTZPMaSgvf9WbCPNqRL7f8DTpS0GbAzaUaGiyVtXLQaPkiaCg1g39wv+XlgV9LUe/XsBRwh6QbgYdJsHmNZcOaRmnby6G9vkvRmUp3YpVjeqjX5JGAnUivpysC/JV1MGkA6jHSVYnM6ppnrbvedlyNiNnCRpFNJLbECzpW0UW1GD0lfIc2OUnYl+WUX9j8JmE9HN8LTJG1IGiy4BwtO91dzNqm+1/q9fxnYRNL1pCs76wPvpSNYP400ALI2CPEkSVuTWt2XIf14XZHOreSldo+PmVknDqbN2jeNFOBUg11IXTleG0AXERfmVrmjSIHLGDqC3EbWInVFqPpGg/QjSF0Qzgauysu+TgpOakHqyAb7bGUPUjD7llyusyXtlFsNj6GjhXMI8JX8/AXgd8DHG+xzFJ1bIkvz6NxHu908+tO5dZbNp8WAwYi4RdJ+dMwzPZLGU9D11OGkLhfvI7XuXizp/RExh9R6XQbSl9K43/xrImJ6Hlham0lmNB1zhP+L1LXiXXW2e1HSdqR5z2utw5vSMX0fpCn2aumnStqJNFi1dsOeLemYDQbSbCiNtHV8zMyqPADRrH2vkFoGTyBN4/YqMBk4FtguIsoBdETE0aTL0r+iozV2Nqll8S/Ad4ENI2JybxUwIuZGxK6kFujfkW7MMYc0yO8R4BzSPMat9vM8KWCtzSTyMfJ0fxFxEall7w7STA+zgD8C7yH1b67nJlJf4IdI/crn5zI9CPwa2LTsctBmHouK/5F+eP0J2DIi/tRqg4g4i3QzoB8D95LemzmkH283k4La95G6OrQt19Hd6BjUujEd0znOBZ4kTeX4mYjYuc6A20a+AhxBqtuv5v2cQWpRbzR7DBFxN6kF+hukOjKL9MPqGdKc06dW0l9HutJzLGmKxOdy+hmkaR1/0YWydvv4mJmVVJl5yMyakDQB2D2/nBIRqy/EvLYgDQAE+FCrKbuUbhM9Fjg7IvZYWOUyM7NFy4YbbRw33PT3/i4GI4YNviMimt1IbLHklmkzMzMzsza5z7TZousJOmYneKIL6c8k9Xv9x0IrkZmZLZJ8B8T+42DabBGV7972tZYJO9IftxCLY2ZmZnW4m4dZN0TEHhGh/Fi9v8tjZmZm/cst02ZmZmYD2RJ+O+/+5pZpMzMzM7M2OZg2MzMzM2uTu3mYmZmZDWDKD+sfbpk2MzMzM2uTW6bNzMzMBjo3Tfcbt0ybmZmZmbXJwbSZmZmZWZvczcPMzMxsgPPtxPuPW6bNzMzMzNrklmkzMzOzAc53QOw/bpk2MzMzM2uTg2kzMzMzsza5m4eZmZnZAOdeHv3HLdNmZmZm1ueUfFLSZZKmSpoj6SlJ10naR1KvN/pKWlbSoZJukjRd0iuSpki6QNJH29mnW6bNzMzMrE9JGgFcDIyrrFolP8YBB0jaOSIe76U8N8x5rllZNSY/dpP0W2DPiJjb1f06mDYzMzMb6AZQPw9JrwP+AHwgL3oCOBOYBIwG9gLWATYCrpS0WUQ838M8xwJXAivnRbcB5wJPA+sD+wErAp8B5gOf7+q+HUybmZmZWV86gI5A+k5gy4iYVVsp6XTgUuCjwNuBI4HDe5jnqXQE0r8C9o2I+fn1/0n6GfBXUgv15ySdHxGXd2XH7jNtZmZmNsBpEfjXpXKmftDfzi8D+EIZSANExCvAF4CX8qIvS1qx7fdG2gDYKb98HDiwCKRreT5OCvJrxnd1/w6mzczMzKyvjANG5efXRcS99RJFxHTg/PxyGWDHHuT5yeL5mTlYr+dKUlcTgI0lrdWVnTuYNjMzM7O+8pHi+VUt0pbrt17YeUZEAH8uFnVpdg/3mTYzMzMbwMSAup34esXzO1qkvb3Bdl0maRBpMCPAPODu3s7TLdNmZmZm1lfWLp5PbpF2KvC//PwtUls/GUYDw/Lz/0TEvBbppxTP126YquCWaTMzM7MB7M477/jz0KU1sr/LAQyRVLbsnhkRZ1bSLF88f7rZziJinqTngRGkmHVZ4MVulqnL+WXPNNi2IQfTZmZmZgNYRPSkP3FfW6543mggYGk2KZgGeD3dD6bbya/m9V3JwN08zMzMzGxJEAtjpw6mzczMzKyvlC3LQ7qQfmjx/IUe5je0Yaoe5Odg2szMzMz6yrPF86Y3Ysk3eBmeX86j4yYuCyW/OmmebZSo5GDazMzMzPrKQ8Xz1VukHQ0slZ8/nOeB7q6pwMu1/eUAvZmxxfOHGqYqOJg2MzMzs75yT/F84xZpy/X3NEzVRL5t+P355WBgg97O08G0mZmZmfWV7txhsJylpNXdEnucZ57Hulz/50ZpO23XXou5mZmZmVn35G4WTwKjSLNrrB8R99ZJtxLwKGlu6VeA0RHxTDVdF/PcAPhnfvk48NaIWGCaPEnbApfnl7dHxLu7sn+3TJuZmZlZn8h3IPx/+aWAcySNKNNIGgKcTQqkAU5vFEhLmiAp8mN8gzzvBi7NL8cAp+fbjJf7GQOcUSyqu696fNMWMzMzM+tLZwAfBz4AbATcLennwCTSoMO9gXVy2vuA7/VCngcDmwEr5/2vJ+k3pDserg/sT8dMHudFxOX1dlKPg2kzMzMz6zMRMVfSjsDFwDhgNeoHzHcCO0fEc72Q5xRJ2+Q81wQ2zY+q3wJ7dWff7uZhZmZmZn0qImYBWwKfIvVTfhKYC0wDrgf2AzaNiMd7Mc+7gHcAhwG3AE8Dc4AngIuAbSLisxExtzv79QBEMzMzM7M2uWXazMzMzKxNDqbNzMzMzNrkYNrMzMzMrE0Ops3MzMzM2uRg2szMzMysTQ6mzczMzMza5GDazMzMzKxNDqbNzMzMzNrkYNrMzMzMrE0Ops3MzMzM2uRg2szMzMysTf8fajP7xlrq8G4AAAAASUVORK5CYII=\n",
      "text/plain": [
       "<Figure size 720x720 with 2 Axes>"
      ]
     },
     "metadata": {
      "needs_background": "light"
     },
     "output_type": "display_data"
    }
   ],
   "source": [
    "figure = plt.figure(figsize=(10, 10))\n",
    "plt.imshow(cm, interpolation='nearest', cmap=plt.cm.Blues)\n",
    "plt.title(\"Матрица ошибок\", fontsize=40, verticalalignment='center')\n",
    "plt.colorbar().ax.tick_params(labelsize=30)\n",
    "tick_marks = np.arange(3)\n",
    "plt.xticks(tick_marks, ['нейтральные', 'дезинфляционные', 'проинфляционные'], rotation=0, fontsize=15)\n",
    "plt.yticks(tick_marks, ['нейтральные', 'дезинфляционные', 'проинфляционные'], rotation=90, verticalalignment='center',fontsize=15)\n",
    "\n",
    "# Normalize the confusion matrix.\n",
    "cm = np.around(cm.astype('float') / cm.sum(axis=1)[:, np.newaxis], decimals=2)\n",
    "\n",
    "# Use white text if squares are dark; otherwise black.\n",
    "threshold = cm.max() / 2.\n",
    "\n",
    "for i, j in itertools.product(range(cm.shape[0]), range(cm.shape[1])):\n",
    "    color = \"white\" if cm[i, j] > threshold else \"black\"\n",
    "    plt.text(j, i, cm[i, j], horizontalalignment=\"center\", fontsize=20, fontweight='bold', color=color)\n",
    "\n",
    "plt.tight_layout()\n",
    "plt.ylabel('Исходные классы',fontweight='bold', loc='center', fontsize=20)\n",
    "plt.xlabel('Предсказанные классы', fontweight='bold', loc='center', fontsize=20)\n"
   ]
  }
 ],
 "metadata": {
  "kernelspec": {
   "display_name": "Python 3",
   "language": "python",
   "name": "python3"
  },
  "language_info": {
   "codemirror_mode": {
    "name": "ipython",
    "version": 3
   },
   "file_extension": ".py",
   "mimetype": "text/x-python",
   "name": "python",
   "nbconvert_exporter": "python",
   "pygments_lexer": "ipython3",
   "version": "3.8.5"
  }
 },
 "nbformat": 4,
 "nbformat_minor": 4
}
