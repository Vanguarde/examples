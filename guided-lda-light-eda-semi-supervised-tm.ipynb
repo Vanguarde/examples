{
 "cells": [
  {
   "cell_type": "markdown",
   "id": "13ba06e2",
   "metadata": {
    "papermill": {
     "duration": 0.037458,
     "end_time": "2022-02-14T07:09:16.059559",
     "exception": false,
     "start_time": "2022-02-14T07:09:16.022101",
     "status": "completed"
    },
    "tags": []
   },
   "source": [
    "## **<span style=\"color:#023e8a\"><center> 📊Guided LDA. Semi-supervised TM.</center></span>**\n",
    "## **<center><span style=\"color:#FEF1FE;background-color:#023e8a;border-radius: 5px;padding: 5px\">If you find this notebook useful or interesting, please, support with an upvote :)</span></center>**\n",
    "\n",
    "## **<span style=\"color:#023e8a;font-size:1000%\"><center>NLP</center></span><span style=\"color:#023e8a;font-size:200%\"><center>Topic Modeling. Guided LDA.</center></span>**\n",
    ">**<span style=\"color:#023e8a;\">Hello everyone!</span>**  \n",
    ">**<span style=\"color:#023e8a;\">I hope that this notebook will be interesting and useful for you. Guided LDA gives more opportunities to work with topic comparing with original LDA.</span>**  \n",
    ">**<span style=\"color:#023e8a;\">it can be helpful in other competitions and here like new feature. Anyway, here, I try to show how it uses.</span>**"
   ]
  },
  {
   "cell_type": "markdown",
   "id": "d8ce6f53",
   "metadata": {
    "papermill": {
     "duration": 0.035958,
     "end_time": "2022-02-14T07:09:16.131568",
     "exception": false,
     "start_time": "2022-02-14T07:09:16.095610",
     "status": "completed"
    },
    "tags": []
   },
   "source": [
    "# **<a id=\"Content\" style=\"color:#023e8a;\">Table of Content</a>**\n",
    "* [**<span style=\"color:#023e8a;\">1. Loading data</span>**](#Loading)  \n",
    "* [**<span style=\"color:#023e8a;\">2. Text desc and cloud of words</span>**](#Cloud) \n",
    "* [**<span style=\"color:#023e8a;\">3. Data prep and stemming</span>**](#Data)  \n",
    "* [**<span style=\"color:#023e8a;\">4. Modeling</span>**](#Modeling)  \n",
    "* [**<span style=\"color:#023e8a;\">5. References</span>**](#References)  "
   ]
  },
  {
   "cell_type": "markdown",
   "id": "5682c52d",
   "metadata": {
    "papermill": {
     "duration": 0.036958,
     "end_time": "2022-02-14T07:09:16.203957",
     "exception": false,
     "start_time": "2022-02-14T07:09:16.166999",
     "status": "completed"
    },
    "tags": []
   },
   "source": [
    "# **<span style=\"color:#023e8a;\">Imports</span>**"
   ]
  },
  {
   "cell_type": "code",
   "execution_count": 1,
   "id": "1f4c387a",
   "metadata": {
    "execution": {
     "iopub.execute_input": "2022-02-14T07:09:16.281117Z",
     "iopub.status.busy": "2022-02-14T07:09:16.279343Z",
     "iopub.status.idle": "2022-02-14T07:09:18.306732Z",
     "shell.execute_reply": "2022-02-14T07:09:18.305951Z",
     "shell.execute_reply.started": "2022-02-14T06:39:50.692731Z"
    },
    "papermill": {
     "duration": 2.067538,
     "end_time": "2022-02-14T07:09:18.306901",
     "exception": false,
     "start_time": "2022-02-14T07:09:16.239363",
     "status": "completed"
    },
    "tags": []
   },
   "outputs": [],
   "source": [
    "import os\n",
    "import pandas as pd\n",
    "from tqdm.notebook import tqdm\n",
    "import matplotlib.pyplot as plt\n",
    "from sklearn.feature_extraction.text import TfidfVectorizer\n",
    "from nltk.stem import PorterStemmer\n",
    "from nltk import word_tokenize\n",
    "import numpy as np\n",
    "from gensim.models.ldamulticore import LdaMulticore\n",
    "import gensim\n",
    "from nltk.corpus import stopwords\n",
    "stops = stopwords.words(\"english\")"
   ]
  },
  {
   "cell_type": "markdown",
   "id": "6be2fe1c",
   "metadata": {
    "papermill": {
     "duration": 0.03633,
     "end_time": "2022-02-14T07:09:18.381763",
     "exception": false,
     "start_time": "2022-02-14T07:09:18.345433",
     "status": "completed"
    },
    "tags": []
   },
   "source": [
    "# **<span id=\"Loading\" style=\"color:#023e8a;\">1. Loading data</span>**"
   ]
  },
  {
   "cell_type": "markdown",
   "id": "3bd7dd73",
   "metadata": {
    "papermill": {
     "duration": 0.036434,
     "end_time": "2022-02-14T07:09:18.453915",
     "exception": false,
     "start_time": "2022-02-14T07:09:18.417481",
     "status": "completed"
    },
    "tags": []
   },
   "source": [
    "[**<span style=\"color:#FEF1FE;background-color:#023e8a;border-radius: 5px;padding: 2px\">Go to Table of Content</span>**](#Content)"
   ]
  },
  {
   "cell_type": "markdown",
   "id": "2d237c1c",
   "metadata": {
    "papermill": {
     "duration": 0.035637,
     "end_time": "2022-02-14T07:09:18.525363",
     "exception": false,
     "start_time": "2022-02-14T07:09:18.489726",
     "status": "completed"
    },
    "tags": []
   },
   "source": [
    "Topic modeling is an integral part of `NLP`. If used correctly, it could give a sufficient boost to any analysis. Along with the classical LDA there is a semi-supervised alghorithm - `Guided (Seeded) LDA`."
   ]
  },
  {
   "cell_type": "code",
   "execution_count": 2,
   "id": "ee2eb402",
   "metadata": {
    "execution": {
     "iopub.execute_input": "2022-02-14T07:09:18.601083Z",
     "iopub.status.busy": "2022-02-14T07:09:18.600098Z",
     "iopub.status.idle": "2022-02-14T07:10:12.314236Z",
     "shell.execute_reply": "2022-02-14T07:10:12.314743Z",
     "shell.execute_reply.started": "2022-02-14T06:39:52.916386Z"
    },
    "papermill": {
     "duration": 53.753454,
     "end_time": "2022-02-14T07:10:12.314914",
     "exception": false,
     "start_time": "2022-02-14T07:09:18.561460",
     "status": "completed"
    },
    "tags": []
   },
   "outputs": [
    {
     "data": {
      "application/vnd.jupyter.widget-view+json": {
       "model_id": "bf055d8f8f9b4a7680246cef6eb0cc94",
       "version_major": 2,
       "version_minor": 0
      },
      "text/plain": [
       "  0%|          | 0/15594 [00:00<?, ?it/s]"
      ]
     },
     "metadata": {},
     "output_type": "display_data"
    },
    {
     "data": {
      "text/html": [
       "<div>\n",
       "<style scoped>\n",
       "    .dataframe tbody tr th:only-of-type {\n",
       "        vertical-align: middle;\n",
       "    }\n",
       "\n",
       "    .dataframe tbody tr th {\n",
       "        vertical-align: top;\n",
       "    }\n",
       "\n",
       "    .dataframe thead th {\n",
       "        text-align: right;\n",
       "    }\n",
       "</style>\n",
       "<table border=\"1\" class=\"dataframe\">\n",
       "  <thead>\n",
       "    <tr style=\"text-align: right;\">\n",
       "      <th></th>\n",
       "      <th>id</th>\n",
       "      <th>text</th>\n",
       "    </tr>\n",
       "  </thead>\n",
       "  <tbody>\n",
       "    <tr>\n",
       "      <th>0</th>\n",
       "      <td>62C57C524CD2</td>\n",
       "      <td>I think we should be able to play in a sport i...</td>\n",
       "    </tr>\n",
       "    <tr>\n",
       "      <th>1</th>\n",
       "      <td>80667AD3FFD8</td>\n",
       "      <td>Some schools require summer projects for stude...</td>\n",
       "    </tr>\n",
       "    <tr>\n",
       "      <th>2</th>\n",
       "      <td>21868C40B94F</td>\n",
       "      <td>Driverless cars have been argued and talked ab...</td>\n",
       "    </tr>\n",
       "    <tr>\n",
       "      <th>3</th>\n",
       "      <td>87A6EF3113C6</td>\n",
       "      <td>The author of \"The Challenge of Exploring Venu...</td>\n",
       "    </tr>\n",
       "    <tr>\n",
       "      <th>4</th>\n",
       "      <td>24687D08CFDA</td>\n",
       "      <td>Wow, from the mar really look like humans face...</td>\n",
       "    </tr>\n",
       "  </tbody>\n",
       "</table>\n",
       "</div>"
      ],
      "text/plain": [
       "             id                                               text\n",
       "0  62C57C524CD2  I think we should be able to play in a sport i...\n",
       "1  80667AD3FFD8  Some schools require summer projects for stude...\n",
       "2  21868C40B94F  Driverless cars have been argued and talked ab...\n",
       "3  87A6EF3113C6  The author of \"The Challenge of Exploring Venu...\n",
       "4  24687D08CFDA  Wow, from the mar really look like humans face..."
      ]
     },
     "execution_count": 2,
     "metadata": {},
     "output_type": "execute_result"
    }
   ],
   "source": [
    "def load_df():\n",
    "    train_names, train_texts = [], []\n",
    "    for f in tqdm(list(os.listdir('../input/feedback-prize-2021/train'))):\n",
    "        train_names.append(f.replace('.txt', ''))\n",
    "        train_texts.append(open('../input/feedback-prize-2021/train/' + f, 'r').read())\n",
    "    train_text_df = pd.DataFrame({'id': train_names, 'text': train_texts})\n",
    "    return train_text_df\n",
    "\n",
    "df = load_df()\n",
    "df.head()"
   ]
  },
  {
   "cell_type": "markdown",
   "id": "9135177e",
   "metadata": {
    "papermill": {
     "duration": 0.036889,
     "end_time": "2022-02-14T07:10:12.389387",
     "exception": false,
     "start_time": "2022-02-14T07:10:12.352498",
     "status": "completed"
    },
    "tags": []
   },
   "source": [
    "For more efficient work of `LDA` we need to lemmatize text. `Lemmatization` is necessary to bring words to their initial form. That is helpful to consider words \"student\" and, for instance, \"students\" as the same word. However, `stemming` (that is the procedure consisting in separating the root of the word only) is a is an appropriate tool for English too and in terms of the speed it is much more beneficial than `lemmatization`.\n",
    "\n",
    "**Learn more**: https://nlp.stanford.edu/IR-book/html/htmledition/stemming-and-lemmatization-1.html"
   ]
  },
  {
   "cell_type": "markdown",
   "id": "36faf67f",
   "metadata": {
    "papermill": {
     "duration": 0.036646,
     "end_time": "2022-02-14T07:10:12.463358",
     "exception": false,
     "start_time": "2022-02-14T07:10:12.426712",
     "status": "completed"
    },
    "tags": []
   },
   "source": [
    "# **<span id=\"Cloud\" style=\"color:#023e8a;\">2. Text desc and cloud of Words</span>**"
   ]
  },
  {
   "cell_type": "code",
   "execution_count": 3,
   "id": "d13090ff",
   "metadata": {
    "execution": {
     "iopub.execute_input": "2022-02-14T07:10:12.542139Z",
     "iopub.status.busy": "2022-02-14T07:10:12.541121Z",
     "iopub.status.idle": "2022-02-14T07:10:12.670197Z",
     "shell.execute_reply": "2022-02-14T07:10:12.669627Z",
     "shell.execute_reply.started": "2022-02-14T06:53:36.986900Z"
    },
    "papermill": {
     "duration": 0.169392,
     "end_time": "2022-02-14T07:10:12.670361",
     "exception": false,
     "start_time": "2022-02-14T07:10:12.500969",
     "status": "completed"
    },
    "tags": []
   },
   "outputs": [],
   "source": [
    "from wordcloud import WordCloud, STOPWORDS\n",
    "from PIL import Image\n",
    "import seaborn as sns"
   ]
  },
  {
   "cell_type": "code",
   "execution_count": 4,
   "id": "95a42de2",
   "metadata": {
    "execution": {
     "iopub.execute_input": "2022-02-14T07:10:12.753615Z",
     "iopub.status.busy": "2022-02-14T07:10:12.752606Z",
     "iopub.status.idle": "2022-02-14T07:10:13.857390Z",
     "shell.execute_reply": "2022-02-14T07:10:13.856703Z",
     "shell.execute_reply.started": "2022-02-14T06:52:02.734540Z"
    },
    "papermill": {
     "duration": 1.150562,
     "end_time": "2022-02-14T07:10:13.857548",
     "exception": false,
     "start_time": "2022-02-14T07:10:12.706986",
     "status": "completed"
    },
    "tags": []
   },
   "outputs": [],
   "source": [
    "df['len_text'] = df['text'].apply(len)\n",
    "df['text_split'] = df['text'].str.split()\n",
    "df['len_words'] = df['text_split'].apply(len)"
   ]
  },
  {
   "cell_type": "markdown",
   "id": "ad38dbcb",
   "metadata": {
    "papermill": {
     "duration": 0.038126,
     "end_time": "2022-02-14T07:10:13.934278",
     "exception": false,
     "start_time": "2022-02-14T07:10:13.896152",
     "status": "completed"
    },
    "tags": []
   },
   "source": [
    "**<span style=\"color:#023e8a;\">Histograms of word and text lens</span>**"
   ]
  },
  {
   "cell_type": "code",
   "execution_count": 5,
   "id": "b1441a7b",
   "metadata": {
    "execution": {
     "iopub.execute_input": "2022-02-14T07:10:14.019771Z",
     "iopub.status.busy": "2022-02-14T07:10:14.018698Z",
     "iopub.status.idle": "2022-02-14T07:10:14.406582Z",
     "shell.execute_reply": "2022-02-14T07:10:14.405946Z",
     "shell.execute_reply.started": "2022-02-14T07:07:59.374890Z"
    },
    "papermill": {
     "duration": 0.435217,
     "end_time": "2022-02-14T07:10:14.406751",
     "exception": false,
     "start_time": "2022-02-14T07:10:13.971534",
     "status": "completed"
    },
    "tags": []
   },
   "outputs": [
    {
     "data": {
      "image/png": "[encoded data removed]",
      "text/plain": [
       "<Figure size 720x360 with 1 Axes>"
      ]
     },
     "metadata": {},
     "output_type": "display_data"
    }
   ],
   "source": [
    "sns.set_style(\"darkgrid\")\n",
    "f, ax = plt.subplots(figsize=(10,5))\n",
    "ax = sns.histplot(data=df, x='len_text', bins=30, color='orange')\n",
    "ax.set_xlabel('length of text in symbols')\n",
    "plt.show()"
   ]
  },
  {
   "cell_type": "code",
   "execution_count": 6,
   "id": "1178ba45",
   "metadata": {
    "execution": {
     "iopub.execute_input": "2022-02-14T07:10:14.516494Z",
     "iopub.status.busy": "2022-02-14T07:10:14.515387Z",
     "iopub.status.idle": "2022-02-14T07:10:14.822209Z",
     "shell.execute_reply": "2022-02-14T07:10:14.821556Z",
     "shell.execute_reply.started": "2022-02-14T07:08:01.106619Z"
    },
    "papermill": {
     "duration": 0.376228,
     "end_time": "2022-02-14T07:10:14.822357",
     "exception": false,
     "start_time": "2022-02-14T07:10:14.446129",
     "status": "completed"
    },
    "tags": []
   },
   "outputs": [
    {
     "data": {
      "image/png": "[encoded data removed]",
      "text/plain": [
       "<Figure size 720x360 with 1 Axes>"
      ]
     },
     "metadata": {},
     "output_type": "display_data"
    }
   ],
   "source": [
    "sns.set_style(\"darkgrid\")\n",
    "f, ax = plt.subplots(figsize=(10,5))\n",
    "ax = sns.histplot(data=df, x='len_words', bins=30, color='orange')\n",
    "ax.set_xlabel('length of text in words')\n",
    "plt.show()"
   ]
  },
  {
   "cell_type": "markdown",
   "id": "d949efce",
   "metadata": {
    "papermill": {
     "duration": 0.039183,
     "end_time": "2022-02-14T07:10:14.900403",
     "exception": false,
     "start_time": "2022-02-14T07:10:14.861220",
     "status": "completed"
    },
    "tags": []
   },
   "source": [
    "**<span style=\"color:#023e8a;\">Both statistics have a significant right tale.</span>**"
   ]
  },
  {
   "cell_type": "code",
   "execution_count": 7,
   "id": "0182bcd1",
   "metadata": {
    "execution": {
     "iopub.execute_input": "2022-02-14T07:10:14.985826Z",
     "iopub.status.busy": "2022-02-14T07:10:14.984666Z",
     "iopub.status.idle": "2022-02-14T07:10:15.007351Z",
     "shell.execute_reply": "2022-02-14T07:10:15.006650Z",
     "shell.execute_reply.started": "2022-02-14T07:08:03.401066Z"
    },
    "papermill": {
     "duration": 0.067976,
     "end_time": "2022-02-14T07:10:15.007506",
     "exception": false,
     "start_time": "2022-02-14T07:10:14.939530",
     "status": "completed"
    },
    "tags": []
   },
   "outputs": [
    {
     "data": {
      "text/html": [
       "<div>\n",
       "<style scoped>\n",
       "    .dataframe tbody tr th:only-of-type {\n",
       "        vertical-align: middle;\n",
       "    }\n",
       "\n",
       "    .dataframe tbody tr th {\n",
       "        vertical-align: top;\n",
       "    }\n",
       "\n",
       "    .dataframe thead th {\n",
       "        text-align: right;\n",
       "    }\n",
       "</style>\n",
       "<table border=\"1\" class=\"dataframe\">\n",
       "  <thead>\n",
       "    <tr style=\"text-align: right;\">\n",
       "      <th></th>\n",
       "      <th>len_text</th>\n",
       "      <th>len_words</th>\n",
       "    </tr>\n",
       "  </thead>\n",
       "  <tbody>\n",
       "    <tr>\n",
       "      <th>count</th>\n",
       "      <td>15594.000000</td>\n",
       "      <td>15594.000000</td>\n",
       "    </tr>\n",
       "    <tr>\n",
       "      <th>mean</th>\n",
       "      <td>2364.097986</td>\n",
       "      <td>421.258048</td>\n",
       "    </tr>\n",
       "    <tr>\n",
       "      <th>std</th>\n",
       "      <td>1132.463751</td>\n",
       "      <td>191.065363</td>\n",
       "    </tr>\n",
       "    <tr>\n",
       "      <th>min</th>\n",
       "      <td>691.000000</td>\n",
       "      <td>144.000000</td>\n",
       "    </tr>\n",
       "    <tr>\n",
       "      <th>25%</th>\n",
       "      <td>1528.000000</td>\n",
       "      <td>278.000000</td>\n",
       "    </tr>\n",
       "    <tr>\n",
       "      <th>50%</th>\n",
       "      <td>2135.000000</td>\n",
       "      <td>384.000000</td>\n",
       "    </tr>\n",
       "    <tr>\n",
       "      <th>75%</th>\n",
       "      <td>2930.000000</td>\n",
       "      <td>520.000000</td>\n",
       "    </tr>\n",
       "    <tr>\n",
       "      <th>max</th>\n",
       "      <td>18322.000000</td>\n",
       "      <td>1656.000000</td>\n",
       "    </tr>\n",
       "  </tbody>\n",
       "</table>\n",
       "</div>"
      ],
      "text/plain": [
       "           len_text     len_words\n",
       "count  15594.000000  15594.000000\n",
       "mean    2364.097986    421.258048\n",
       "std     1132.463751    191.065363\n",
       "min      691.000000    144.000000\n",
       "25%     1528.000000    278.000000\n",
       "50%     2135.000000    384.000000\n",
       "75%     2930.000000    520.000000\n",
       "max    18322.000000   1656.000000"
      ]
     },
     "execution_count": 7,
     "metadata": {},
     "output_type": "execute_result"
    }
   ],
   "source": [
    "df[['len_text', 'len_words']].describe()"
   ]
  },
  {
   "cell_type": "markdown",
   "id": "2fd1c912",
   "metadata": {
    "papermill": {
     "duration": 0.039489,
     "end_time": "2022-02-14T07:10:15.086884",
     "exception": false,
     "start_time": "2022-02-14T07:10:15.047395",
     "status": "completed"
    },
    "tags": []
   },
   "source": [
    "**<span style=\"color:#023e8a;\">Pay attention to text with max of symbols (>> then mean).</span>**"
   ]
  },
  {
   "cell_type": "code",
   "execution_count": 8,
   "id": "a7ecebec",
   "metadata": {
    "execution": {
     "iopub.execute_input": "2022-02-14T07:10:15.175004Z",
     "iopub.status.busy": "2022-02-14T07:10:15.173958Z",
     "iopub.status.idle": "2022-02-14T07:10:15.178873Z",
     "shell.execute_reply": "2022-02-14T07:10:15.179401Z",
     "shell.execute_reply.started": "2022-02-14T07:08:13.416329Z"
    },
    "papermill": {
     "duration": 0.052639,
     "end_time": "2022-02-14T07:10:15.179572",
     "exception": false,
     "start_time": "2022-02-14T07:10:15.126933",
     "status": "completed"
    },
    "tags": []
   },
   "outputs": [
    {
     "data": {
      "text/plain": [
       "array(['if we look back at time in the united states young people were thrilled to be able to drive. but in more recent years studies show that the young in the united states dont really have the same thrill anymore actually there really not interested at all they find alternative ways to get to were there going like public transportation carpooling biking or just good old walking and really its not a bad idea at all if we can get others in the US to limiting the use if there cars it could do the world a lotta good\\n\\nIf you take a look at Colombia for instience they have a day where in bogota 7 million people are banned using there cars for a day they find alternatives to get around like biking hiking walking busses and taxi cabs doing this is a good way to stop air polluion and also to promote alternatives transportation and if people violate it theres a fine of $25 a bussiness man by the name of Carlos Arturo Plaza says \"its a good opportunity to take away stress and lower air pollution\"\\n\\nin Germany theres one suburb that carry on\\'s with lives without cars street parking driveways and home garages are grenrally forbidden Vaubans streets are completly car free except the main thoroughfare where theres a tram that takes them downtown in this expermintal upscale town on the outskirts of freiburg car ownership is actually allowed but theres only 2 places to park there are large garages at the edge of the development where a car onwer buys a space for $40,000 along with a home due to the outrageous price 70 percent of the families that live in Vauban dont own cars and 57 percent sold there cars to move Vauban in clousion i think if we could all take a page from everybodys book i truely think we could spread awareness and maybe cut down or even get rid of most of the air polution not just in the united states or columbia or in germany...but get rid of air pollution in the whole intire world       \\xa0       \\xa0       \\xa0       \\xa0       \\xa0       \\xa0       \\xa0       \\xa0       \\xa0       \\xa0       \\xa0       \\xa0       \\xa0       \\xa0       \\xa0       \\xa0       \\xa0       \\xa0       \\xa0       \\xa0       \\xa0       \\xa0       \\xa0       \\xa0       \\xa0       \\xa0       \\xa0       \\xa0       \\xa0       \\xa0       \\xa0       \\xa0       \\xa0       \\xa0       \\xa0       \\xa0       \\xa0       \\xa0       \\xa0       \\xa0       \\xa0       \\xa0       \\xa0       \\xa0       \\xa0       \\xa0       \\xa0       \\xa0       \\xa0       \\xa0       \\xa0       \\xa0       \\xa0       \\xa0       \\xa0       \\xa0       \\xa0       \\xa0       \\xa0       \\xa0       \\xa0       \\xa0       \\xa0       \\xa0       \\xa0       \\xa0       \\xa0       \\xa0       \\xa0       \\xa0       \\xa0       \\xa0       \\xa0       \\xa0       \\xa0       \\xa0       \\xa0       \\xa0       \\xa0       \\xa0       \\xa0       \\xa0       \\xa0       \\xa0       \\xa0       \\xa0       \\xa0       \\xa0       \\xa0       \\xa0       \\xa0       \\xa0       \\xa0       \\xa0       \\xa0       \\xa0       \\xa0       \\xa0       \\xa0       \\xa0       \\xa0       \\xa0       \\xa0       \\xa0       \\xa0       \\xa0       \\xa0       \\xa0       \\xa0       \\xa0       \\xa0       \\xa0       \\xa0       \\xa0       \\xa0       \\xa0       \\xa0       \\xa0       \\xa0       \\xa0       \\xa0       \\xa0       \\xa0       \\xa0       \\xa0       \\xa0       \\xa0       \\xa0       \\xa0       \\xa0       \\xa0       \\xa0       \\xa0       \\xa0       \\xa0       \\xa0       \\xa0       \\xa0       \\xa0       \\xa0       \\xa0       \\xa0       \\xa0       \\xa0       \\xa0       \\xa0       \\xa0       \\xa0       \\xa0       \\xa0       \\xa0       \\xa0       \\xa0       \\xa0       \\xa0       \\xa0       \\xa0       \\xa0       \\xa0       \\xa0       \\xa0       \\xa0       \\xa0       \\xa0       \\xa0       \\xa0       \\xa0       \\xa0       \\xa0       \\xa0       \\xa0       \\xa0       \\xa0       \\xa0       \\xa0       \\xa0       \\xa0       \\xa0       \\xa0       \\xa0       \\xa0       \\xa0       \\xa0       \\xa0       \\xa0       \\xa0       \\xa0       \\xa0       \\xa0       \\xa0       \\xa0       \\xa0       \\xa0       \\xa0       \\xa0       \\xa0       \\xa0       \\xa0       \\xa0       \\xa0       \\xa0       \\xa0       \\xa0       \\xa0       \\xa0       \\xa0       \\xa0       \\xa0       \\xa0       \\xa0       \\xa0       \\xa0       \\xa0       \\xa0       \\xa0       \\xa0       \\xa0       \\xa0       \\xa0       \\xa0       \\xa0       \\xa0       \\xa0       \\xa0       \\xa0       \\xa0       \\xa0       \\xa0       \\xa0       \\xa0       \\xa0       \\xa0       \\xa0       \\xa0       \\xa0       \\xa0       \\xa0       \\xa0       \\xa0       \\xa0       \\xa0       \\xa0       \\xa0       \\xa0       \\xa0       \\xa0       \\xa0       \\xa0       \\xa0       \\xa0       \\xa0       \\xa0       \\xa0       \\xa0       \\xa0       \\xa0       \\xa0       \\xa0       \\xa0       \\xa0       \\xa0       \\xa0       \\xa0       \\xa0       \\xa0       \\xa0       \\xa0       \\xa0       \\xa0       \\xa0       \\xa0       \\xa0       \\xa0       \\xa0       \\xa0       \\xa0       \\xa0       \\xa0       \\xa0       \\xa0       \\xa0       \\xa0       \\xa0       \\xa0       \\xa0       \\xa0       \\xa0       \\xa0       \\xa0       \\xa0       \\xa0       \\xa0       \\xa0       \\xa0       \\xa0       \\xa0       \\xa0       \\xa0       \\xa0       \\xa0       \\xa0       \\xa0       \\xa0       \\xa0       \\xa0       \\xa0       \\xa0       \\xa0       \\xa0       \\xa0       \\xa0       \\xa0       \\xa0       \\xa0       \\xa0       \\xa0       \\xa0       \\xa0       \\xa0       \\xa0       \\xa0       \\xa0       \\xa0       \\xa0       \\xa0       \\xa0       \\xa0       \\xa0       \\xa0       \\xa0       \\xa0       \\xa0       \\xa0       \\xa0       \\xa0       \\xa0       \\xa0       \\xa0       \\xa0       \\xa0       \\xa0       \\xa0       \\xa0       \\xa0       \\xa0       \\xa0       \\xa0       \\xa0       \\xa0       \\xa0       \\xa0       \\xa0       \\xa0       \\xa0       \\xa0       \\xa0       \\xa0       \\xa0       \\xa0       \\xa0       \\xa0       \\xa0       \\xa0       \\xa0       \\xa0       \\xa0       \\xa0       \\xa0       \\xa0       \\xa0       \\xa0       \\xa0       \\xa0       \\xa0       \\xa0       \\xa0       \\xa0       \\xa0       \\xa0       \\xa0       \\xa0       \\xa0       \\xa0       \\xa0       \\xa0       \\xa0       \\xa0       \\xa0       \\xa0       \\xa0       \\xa0       \\xa0       \\xa0       \\xa0       \\xa0       \\xa0       \\xa0       \\xa0       \\xa0       \\xa0       \\xa0       \\xa0       \\xa0       \\xa0       \\xa0       \\xa0       \\xa0       \\xa0       \\xa0       \\xa0       \\xa0       \\xa0       \\xa0       \\xa0       \\xa0       \\xa0       \\xa0       \\xa0       \\xa0       \\xa0       \\xa0       \\xa0       \\xa0       \\xa0       \\xa0       \\xa0       \\xa0       \\xa0       \\xa0       \\xa0       \\xa0       \\xa0       \\xa0       \\xa0       \\xa0       \\xa0       \\xa0       \\xa0       \\xa0       \\xa0       \\xa0       \\xa0       \\xa0       \\xa0       \\xa0       \\xa0       \\xa0       \\xa0       \\xa0       \\xa0       \\xa0       \\xa0       \\xa0       \\xa0       \\xa0       \\xa0       \\xa0       \\xa0       \\xa0       \\xa0       \\xa0       \\xa0       \\xa0       \\xa0       \\xa0       \\xa0       \\xa0       \\xa0       \\xa0       \\xa0       \\xa0       \\xa0       \\xa0       \\xa0       \\xa0       \\xa0       \\xa0       \\xa0       \\xa0       \\xa0       \\xa0       \\xa0       \\xa0       \\xa0       \\xa0       \\xa0       \\xa0       \\xa0       \\xa0       \\xa0       \\xa0       \\xa0       \\xa0       \\xa0       \\xa0       \\xa0       \\xa0       \\xa0       \\xa0       \\xa0       \\xa0       \\xa0       \\xa0       \\xa0       \\xa0       \\xa0       \\xa0       \\xa0       \\xa0       \\xa0       \\xa0       \\xa0       \\xa0       \\xa0       \\xa0       \\xa0       \\xa0       \\xa0       \\xa0       \\xa0       \\xa0       \\xa0       \\xa0       \\xa0       \\xa0       \\xa0       \\xa0       \\xa0       \\xa0       \\xa0       \\xa0       \\xa0       \\xa0       \\xa0       \\xa0       \\xa0       \\xa0       \\xa0       \\xa0       \\xa0       \\xa0       \\xa0       \\xa0       \\xa0       \\xa0       \\xa0       \\xa0       \\xa0       \\xa0       \\xa0       \\xa0       \\xa0       \\xa0       \\xa0       \\xa0       \\xa0       \\xa0       \\xa0       \\xa0       \\xa0       \\xa0       \\xa0       \\xa0       \\xa0       \\xa0       \\xa0       \\xa0       \\xa0       \\xa0       \\xa0       \\xa0       \\xa0       \\xa0       \\xa0       \\xa0       \\xa0       \\xa0       \\xa0       \\xa0       \\xa0       \\xa0       \\xa0       \\xa0       \\xa0       \\xa0       \\xa0       \\xa0       \\xa0       \\xa0       \\xa0       \\xa0       \\xa0       \\xa0       \\xa0       \\xa0       \\xa0       \\xa0       \\xa0       \\xa0       \\xa0       \\xa0       \\xa0       \\xa0       \\xa0       \\xa0       \\xa0       \\xa0       \\xa0       \\xa0       \\xa0       \\xa0       \\xa0       \\xa0       \\xa0       \\xa0       \\xa0       \\xa0       \\xa0       \\xa0       \\xa0       \\xa0       \\xa0       \\xa0       \\xa0       \\xa0       \\xa0       \\xa0       \\xa0       \\xa0       \\xa0       \\xa0       \\xa0       \\xa0       \\xa0       \\xa0       \\xa0       \\xa0       \\xa0       \\xa0       \\xa0       \\xa0       \\xa0       \\xa0       \\xa0       \\xa0       \\xa0       \\xa0       \\xa0       \\xa0       \\xa0       \\xa0       \\xa0       \\xa0       \\xa0       \\xa0       \\xa0       \\xa0       \\xa0       \\xa0       \\xa0       \\xa0       \\xa0       \\xa0       \\xa0       \\xa0       \\xa0       \\xa0       \\xa0       \\xa0       \\xa0       \\xa0       \\xa0       \\xa0       \\xa0       \\xa0       \\xa0       \\xa0       \\xa0       \\xa0       \\xa0       \\xa0       \\xa0       \\xa0       \\xa0       \\xa0       \\xa0       \\xa0       \\xa0       \\xa0       \\xa0       \\xa0       \\xa0       \\xa0       \\xa0       \\xa0       \\xa0       \\xa0       \\xa0       \\xa0       \\xa0       \\xa0       \\xa0       \\xa0       \\xa0       \\xa0       \\xa0       \\xa0       \\xa0       \\xa0       \\xa0       \\xa0       \\xa0       \\xa0       \\xa0       \\xa0       \\xa0       \\xa0       \\xa0       \\xa0       \\xa0       \\xa0       \\xa0       \\xa0       \\xa0       \\xa0       \\xa0       \\xa0       \\xa0       \\xa0       \\xa0       \\xa0       \\xa0       \\xa0       \\xa0       \\xa0       \\xa0       \\xa0       \\xa0       \\xa0       \\xa0       \\xa0       \\xa0       \\xa0       \\xa0       \\xa0       \\xa0       \\xa0       \\xa0       \\xa0       \\xa0       \\xa0       \\xa0       \\xa0       \\xa0       \\xa0       \\xa0       \\xa0       \\xa0       \\xa0       \\xa0       \\xa0       \\xa0       \\xa0       \\xa0       \\xa0       \\xa0       \\xa0       \\xa0       \\xa0       \\xa0       \\xa0       \\xa0       \\xa0       \\xa0       \\xa0       \\xa0       \\xa0       \\xa0       \\xa0       \\xa0       \\xa0       \\xa0       \\xa0       \\xa0       \\xa0       \\xa0       \\xa0       \\xa0       \\xa0       \\xa0       \\xa0       \\xa0       \\xa0       \\xa0       \\xa0       \\xa0       \\xa0       \\xa0       \\xa0       \\xa0       \\xa0       \\xa0       \\xa0       \\xa0       \\xa0       \\xa0       \\xa0       \\xa0       \\xa0       \\xa0       \\xa0       \\xa0       \\xa0       \\xa0       \\xa0       \\xa0       \\xa0       \\xa0       \\xa0       \\xa0       \\xa0       \\xa0       \\xa0       \\xa0       \\xa0       \\xa0       \\xa0       \\xa0       \\xa0       \\xa0       \\xa0       \\xa0       \\xa0       \\xa0       \\xa0       \\xa0       \\xa0       \\xa0       \\xa0       \\xa0       \\xa0       \\xa0       \\xa0       \\xa0       \\xa0       \\xa0       \\xa0       \\xa0       \\xa0       \\xa0       \\xa0       \\xa0       \\xa0       \\xa0       \\xa0       \\xa0       \\xa0       \\xa0       \\xa0       \\xa0       \\xa0       \\xa0       \\xa0       \\xa0       \\xa0       \\xa0       \\xa0       \\xa0       \\xa0       \\xa0       \\xa0       \\xa0       \\xa0       \\xa0       \\xa0       \\xa0       \\xa0       \\xa0       \\xa0       \\xa0       \\xa0       \\xa0       \\xa0       \\xa0       \\xa0       \\xa0       \\xa0       \\xa0       \\xa0       \\xa0       \\xa0       \\xa0       \\xa0       \\xa0       \\xa0       \\xa0       \\xa0       \\xa0       \\xa0       \\xa0       \\xa0       \\xa0       \\xa0       \\xa0       \\xa0       \\xa0       \\xa0       \\xa0       \\xa0       \\xa0       \\xa0       \\xa0       \\xa0       \\xa0       \\xa0       \\xa0       \\xa0       \\xa0       \\xa0       \\xa0       \\xa0       \\xa0       \\xa0       \\xa0       \\xa0       \\xa0       \\xa0       \\xa0       \\xa0       \\xa0       \\xa0       \\xa0       \\xa0       \\xa0       \\xa0       \\xa0       \\xa0       \\xa0       \\xa0       \\xa0       \\xa0       \\xa0       \\xa0       \\xa0       \\xa0       \\xa0       \\xa0       \\xa0       \\xa0       \\xa0       \\xa0       \\xa0       \\xa0       \\xa0       \\xa0       \\xa0       \\xa0       \\xa0       \\xa0       \\xa0       \\xa0       \\xa0       \\xa0       \\xa0       \\xa0       \\xa0       \\xa0       \\xa0       \\xa0       \\xa0       \\xa0       \\xa0       \\xa0       \\xa0       \\xa0       \\xa0       \\xa0       \\xa0       \\xa0       \\xa0       \\xa0       \\xa0       \\xa0       \\xa0       \\xa0       \\xa0       \\xa0       \\xa0       \\xa0       \\xa0       \\xa0       \\xa0       \\xa0       \\xa0       \\xa0       \\xa0       \\xa0       \\xa0       \\xa0       \\xa0       \\xa0       \\xa0       \\xa0       \\xa0       \\xa0       \\xa0       \\xa0       \\xa0       \\xa0       \\xa0       \\xa0       \\xa0       \\xa0       \\xa0       \\xa0       \\xa0       \\xa0       \\xa0       \\xa0       \\xa0       \\xa0       \\xa0       \\xa0       \\xa0       \\xa0       \\xa0       \\xa0       \\xa0       \\xa0       \\xa0       \\xa0       \\xa0       \\xa0       \\xa0       \\xa0       \\xa0       \\xa0       \\xa0       \\xa0       \\xa0       \\xa0       \\xa0       \\xa0       \\xa0       \\xa0       \\xa0       \\xa0       \\xa0       \\xa0       \\xa0       \\xa0       \\xa0       \\xa0       \\xa0       \\xa0       \\xa0       \\xa0       \\xa0       \\xa0       \\xa0       \\xa0       \\xa0       \\xa0       \\xa0       \\xa0       \\xa0       \\xa0       \\xa0       \\xa0       \\xa0       \\xa0       \\xa0       \\xa0       \\xa0       \\xa0       \\xa0       \\xa0       \\xa0       \\xa0       \\xa0       \\xa0       \\xa0       \\xa0       \\xa0       \\xa0       \\xa0       \\xa0       \\xa0       \\xa0       \\xa0       \\xa0       \\xa0       \\xa0       \\xa0       \\xa0       \\xa0       \\xa0       \\xa0       \\xa0       \\xa0       \\xa0       \\xa0       \\xa0       \\xa0       \\xa0       \\xa0       \\xa0       \\xa0       \\xa0       \\xa0       \\xa0       \\xa0       \\xa0       \\xa0       \\xa0       \\xa0       \\xa0       \\xa0       \\xa0       \\xa0       \\xa0       \\xa0       \\xa0       \\xa0       \\xa0       \\xa0       \\xa0       \\xa0       \\xa0       \\xa0       \\xa0       \\xa0       \\xa0       \\xa0       \\xa0       \\xa0       \\xa0       \\xa0       \\xa0       \\xa0       \\xa0       \\xa0       \\xa0       \\xa0       \\xa0       \\xa0       \\xa0       \\xa0       \\xa0       \\xa0       \\xa0       \\xa0       \\xa0       \\xa0       \\xa0       \\xa0       \\xa0       \\xa0       \\xa0       \\xa0       \\xa0       \\xa0       \\xa0       \\xa0       \\xa0       \\xa0       \\xa0       \\xa0       \\xa0       \\xa0       \\xa0       \\xa0       \\xa0       \\xa0       \\xa0       \\xa0       \\xa0       \\xa0       \\xa0       \\xa0       \\xa0       \\xa0       \\xa0       \\xa0       \\xa0       \\xa0       \\xa0       \\xa0       \\xa0       \\xa0       \\xa0       \\xa0       \\xa0       \\xa0       \\xa0       \\xa0       \\xa0       \\xa0       \\xa0       \\xa0       \\xa0       \\xa0       \\xa0       \\xa0       \\xa0       \\xa0       \\xa0       \\xa0       \\xa0       \\xa0       \\xa0       \\xa0       \\xa0       \\xa0       \\xa0       \\xa0       \\xa0       \\xa0       \\xa0       \\xa0       \\xa0       \\xa0       \\xa0       \\xa0       \\xa0       \\xa0       \\xa0       \\xa0       \\xa0       \\xa0       \\xa0       \\xa0       \\xa0       \\xa0       \\xa0       \\xa0       \\xa0       \\xa0       \\xa0       \\xa0       \\xa0       \\xa0       \\xa0       \\xa0       \\xa0       \\xa0       \\xa0       \\xa0       \\xa0       \\xa0       \\xa0       \\xa0       \\xa0       \\xa0       \\xa0       \\xa0       \\xa0       \\xa0       \\xa0       \\xa0       \\xa0       \\xa0       \\xa0       \\xa0       \\xa0       \\xa0       \\xa0       \\xa0       \\xa0       \\xa0       \\xa0       \\xa0       \\xa0       \\xa0       \\xa0       \\xa0       \\xa0       \\xa0       \\xa0       \\xa0       \\xa0       \\xa0       \\xa0       \\xa0       \\xa0       \\xa0       \\xa0       \\xa0       \\xa0       \\xa0       \\xa0       \\xa0       \\xa0       \\xa0       \\xa0       \\xa0       \\xa0       \\xa0       \\xa0       \\xa0       \\xa0       \\xa0       \\xa0       \\xa0       \\xa0       \\xa0       \\xa0       \\xa0       \\xa0       \\xa0       \\xa0       \\xa0       \\xa0       \\xa0       \\xa0       \\xa0       \\xa0       \\xa0       \\xa0       \\xa0       \\xa0       \\xa0       \\xa0       \\xa0       \\xa0       \\xa0       \\xa0       \\xa0       \\xa0       \\xa0       \\xa0       \\xa0       \\xa0       \\xa0       \\xa0       \\xa0       \\xa0       \\xa0       \\xa0       \\xa0       \\xa0       \\xa0       \\xa0       \\xa0       \\xa0       \\xa0       \\xa0       \\xa0       \\xa0       \\xa0       \\xa0       \\xa0       \\xa0       \\xa0       \\xa0       \\xa0       \\xa0       \\xa0       \\xa0       \\xa0       \\xa0       \\xa0       \\xa0       \\xa0       \\xa0       \\xa0       \\xa0       \\xa0       \\xa0       \\xa0       \\xa0       \\xa0       \\xa0       \\xa0       \\xa0       \\xa0       \\xa0       \\xa0       \\xa0       \\xa0       \\xa0       \\xa0       \\xa0       \\xa0       \\xa0       \\xa0       \\xa0       \\xa0       \\xa0       \\xa0       \\xa0       \\xa0       \\xa0       \\xa0       \\xa0       \\xa0       \\xa0       \\xa0       \\xa0       \\xa0       \\xa0       \\xa0       \\xa0       \\xa0       \\xa0       \\xa0       \\xa0       \\xa0       \\xa0       \\xa0       \\xa0       \\xa0       \\xa0       \\xa0       \\xa0       \\xa0       \\xa0       \\xa0       \\xa0       \\xa0       \\xa0       \\xa0       \\xa0       \\xa0       \\xa0       \\xa0       \\xa0       \\xa0       \\xa0       \\xa0       \\xa0       \\xa0       \\xa0       \\xa0       \\xa0       \\xa0       \\xa0       \\xa0       \\xa0       \\xa0       \\xa0       \\xa0       \\xa0       \\xa0       \\xa0       \\xa0       \\xa0       \\xa0       \\xa0       \\xa0       \\xa0       \\xa0       \\xa0       \\xa0       \\xa0       \\xa0       \\xa0       \\xa0       \\xa0       \\xa0       \\xa0       \\xa0       \\xa0       \\xa0       \\xa0       \\xa0       \\xa0       \\xa0       \\xa0       \\xa0       \\xa0       \\xa0       \\xa0       \\xa0       \\xa0       \\xa0       \\xa0       \\xa0       \\xa0       \\xa0       \\xa0       \\xa0       \\xa0       \\xa0       \\xa0       \\xa0       \\xa0       \\xa0       \\xa0       \\xa0       \\xa0       \\xa0       \\xa0       \\xa0       \\xa0       \\xa0       \\xa0       \\xa0       \\xa0       \\xa0       \\xa0       \\xa0       \\xa0       \\xa0       \\xa0       \\xa0       \\xa0       \\xa0       \\xa0       \\xa0       \\xa0       \\xa0       \\xa0       \\xa0       \\xa0       \\xa0       \\xa0       \\xa0       \\xa0       \\xa0       \\xa0       \\xa0       \\xa0       \\xa0       \\xa0       \\xa0       \\xa0       \\xa0       \\xa0       \\xa0       \\xa0       \\xa0       \\xa0       \\xa0       \\xa0       \\xa0       \\xa0       \\xa0       \\xa0       \\xa0       \\xa0       \\xa0       \\xa0       \\xa0       \\xa0       \\xa0       \\xa0       \\xa0       \\xa0       \\xa0       \\xa0       \\xa0       \\xa0       \\xa0       \\xa0       \\xa0       \\xa0       \\xa0       \\xa0       \\xa0       \\xa0       \\xa0       \\xa0       \\xa0       \\xa0       \\xa0       \\xa0       \\xa0       \\xa0       \\xa0       \\xa0       \\xa0       \\xa0       \\xa0       \\xa0       \\xa0       \\xa0       \\xa0       \\xa0       \\xa0       \\xa0       \\xa0       \\xa0       \\xa0       \\xa0       \\xa0       \\xa0       \\xa0       \\xa0       \\xa0       \\xa0       \\xa0       \\xa0       \\xa0       \\xa0       \\xa0       \\xa0       \\xa0       \\xa0       \\xa0       \\xa0       \\xa0       \\xa0       \\xa0       \\xa0       \\xa0       \\xa0       \\xa0       \\xa0       \\xa0       \\xa0       \\xa0       \\xa0       \\xa0       \\xa0       \\xa0       \\xa0       \\xa0       \\xa0       \\xa0       \\xa0       \\xa0       \\xa0       \\xa0       \\xa0       \\xa0       \\xa0       \\xa0       \\xa0       \\xa0       \\xa0       \\xa0       \\xa0       \\xa0       \\xa0       \\xa0       \\xa0       \\xa0       \\xa0       \\xa0       \\xa0       \\xa0       \\xa0       \\xa0       \\xa0       \\xa0       \\xa0       \\xa0       \\xa0       \\xa0       \\xa0       \\xa0       \\xa0       \\xa0       \\xa0       \\xa0       \\xa0       \\xa0       \\xa0       \\xa0       \\xa0       \\xa0       \\xa0       \\xa0       \\xa0       \\xa0       \\xa0       \\xa0       \\xa0       \\xa0       \\xa0       \\xa0       \\xa0       \\xa0       \\xa0       \\xa0       \\xa0       \\xa0       \\xa0       \\xa0       \\xa0       \\xa0       \\xa0       \\xa0       \\xa0       \\xa0       \\xa0       \\xa0       \\xa0       \\xa0       \\xa0       \\xa0       \\xa0       \\xa0       \\xa0       \\xa0       \\xa0       \\xa0       \\xa0       \\xa0       \\xa0       \\xa0       \\xa0       \\xa0       \\xa0       \\xa0       \\xa0       \\xa0       \\xa0       \\xa0       \\xa0       \\xa0       \\xa0       \\xa0       \\xa0       \\xa0       \\xa0       \\xa0       \\xa0       \\xa0       \\xa0       \\xa0       \\xa0       \\xa0       \\xa0       \\xa0       \\xa0       \\xa0       \\xa0       \\xa0       \\xa0       \\xa0       \\xa0       \\xa0       \\xa0       \\xa0       \\xa0       \\xa0       \\xa0       \\xa0       \\xa0       \\xa0       \\xa0       \\xa0       \\xa0       \\xa0       \\xa0       \\xa0       \\xa0       \\xa0       \\xa0       \\xa0       \\xa0       \\xa0       \\xa0       \\xa0       \\xa0       \\xa0       \\xa0       \\xa0       \\xa0       \\xa0       \\xa0       \\xa0       \\xa0       \\xa0       \\xa0       \\xa0       \\xa0       \\xa0       \\xa0       \\xa0       \\xa0       \\xa0       \\xa0       \\xa0       \\xa0       \\xa0       \\xa0       \\xa0       \\xa0       \\xa0       \\xa0       \\xa0       \\xa0       \\xa0       \\xa0       \\xa0       \\xa0       \\xa0       \\xa0       \\xa0       \\xa0       \\xa0       \\xa0       \\xa0       \\xa0       \\xa0       \\xa0       \\xa0       \\xa0       \\xa0       \\xa0       \\xa0       \\xa0       \\xa0       \\xa0       \\xa0       \\xa0       \\xa0       \\xa0       \\xa0       \\xa0       \\xa0       \\xa0       \\xa0       \\xa0       \\xa0       \\xa0       \\xa0       \\xa0       \\xa0       \\xa0       \\xa0       \\xa0       \\xa0       \\xa0       \\xa0       \\xa0       \\xa0       \\xa0       \\xa0       \\xa0       \\xa0       \\xa0       \\xa0       \\xa0       \\xa0       \\xa0       \\xa0       \\xa0       \\xa0       \\xa0       \\xa0       \\xa0       \\xa0       \\xa0       \\xa0       \\xa0       \\xa0       \\xa0       \\xa0       \\xa0       \\xa0       \\xa0       \\xa0       \\xa0       \\xa0       \\xa0       \\xa0       \\xa0       \\xa0       \\xa0       \\xa0       \\xa0       \\xa0       \\xa0       \\xa0       \\xa0       \\xa0       \\xa0       \\xa0       \\xa0       \\xa0       \\xa0       \\xa0       \\xa0       \\xa0       \\xa0       \\xa0       \\xa0       \\xa0       \\xa0       \\xa0       \\xa0       \\xa0       \\xa0       \\xa0       \\xa0       \\xa0       \\xa0       \\xa0       \\xa0       \\xa0       \\xa0       \\xa0       \\xa0       \\xa0       \\xa0       \\xa0       \\xa0       \\xa0       \\xa0       \\xa0       \\xa0       \\xa0       \\xa0       \\xa0       \\xa0       \\xa0       \\xa0       \\xa0       \\xa0       \\xa0       \\xa0       \\xa0       \\xa0       \\xa0       \\xa0       \\xa0       \\xa0       \\xa0       \\xa0       \\xa0       \\xa0       \\xa0       \\xa0       \\xa0       \\xa0       \\xa0       \\xa0       \\xa0       \\xa0       \\xa0       \\xa0       \\xa0       \\xa0       \\xa0       \\xa0       \\xa0       \\xa0       \\xa0       \\xa0       \\xa0       \\xa0       \\xa0       \\xa0       \\xa0       \\xa0       \\xa0       \\xa0       \\xa0       \\xa0       \\xa0       \\xa0       \\xa0       \\xa0       \\xa0       \\xa0       \\xa0       \\xa0       \\xa0       \\xa0       \\xa0       \\xa0       \\xa0       \\xa0       \\xa0       \\xa0       \\xa0       \\xa0       \\xa0       \\xa0       \\xa0       \\xa0       \\xa0       \\xa0       \\xa0       \\xa0       \\xa0       \\xa0       \\xa0       \\xa0       \\xa0       \\xa0       \\xa0       \\xa0       \\xa0       \\xa0       \\xa0       \\xa0       \\xa0       \\xa0       \\xa0       \\xa0       \\xa0       \\xa0       \\xa0       \\xa0       \\xa0       \\xa0       \\xa0       \\xa0       \\xa0       \\xa0       \\xa0       \\xa0       \\xa0       \\xa0       \\xa0       \\xa0       \\xa0       \\xa0       \\xa0       \\xa0       \\xa0       \\xa0       \\xa0       \\xa0       \\xa0       \\xa0       \\xa0       \\xa0       \\xa0       \\xa0       \\xa0       \\xa0       \\xa0       \\xa0       \\xa0       \\xa0       \\xa0       \\xa0       \\xa0       \\xa0       \\xa0       \\xa0       \\xa0       \\xa0       \\xa0       \\xa0       \\xa0       \\xa0       \\xa0       \\xa0       \\xa0       \\xa0       \\xa0       \\xa0       \\xa0       \\xa0    '],\n",
       "      dtype=object)"
      ]
     },
     "execution_count": 8,
     "metadata": {},
     "output_type": "execute_result"
    }
   ],
   "source": [
    "df[df['len_text'] == 18322].text.values"
   ]
  },
  {
   "cell_type": "markdown",
   "id": "27ac448d",
   "metadata": {
    "papermill": {
     "duration": 0.040123,
     "end_time": "2022-02-14T07:10:15.260926",
     "exception": false,
     "start_time": "2022-02-14T07:10:15.220803",
     "status": "completed"
    },
    "tags": []
   },
   "source": [
    "**<span style=\"color:#023e8a;\">This text contains many spaces (\\xa0). Remove it.</span>**"
   ]
  },
  {
   "cell_type": "code",
   "execution_count": 9,
   "id": "8cef69c5",
   "metadata": {
    "execution": {
     "iopub.execute_input": "2022-02-14T07:10:15.354771Z",
     "iopub.status.busy": "2022-02-14T07:10:15.353827Z",
     "iopub.status.idle": "2022-02-14T07:10:16.452778Z",
     "shell.execute_reply": "2022-02-14T07:10:16.453299Z",
     "shell.execute_reply.started": "2022-02-14T07:03:31.811676Z"
    },
    "papermill": {
     "duration": 1.150445,
     "end_time": "2022-02-14T07:10:16.453491",
     "exception": false,
     "start_time": "2022-02-14T07:10:15.303046",
     "status": "completed"
    },
    "tags": []
   },
   "outputs": [],
   "source": [
    "df['text'] = df['text'].str.replace('\\xa0', '')\n",
    "df['text'] = df['text'].str.strip()\n",
    "\n",
    "df['len_text'] = df['text'].apply(len)\n",
    "df['text_split'] = df['text'].str.split()\n",
    "df['len_words'] = df['text_split'].apply(len)"
   ]
  },
  {
   "cell_type": "code",
   "execution_count": 10,
   "id": "66df27be",
   "metadata": {
    "execution": {
     "iopub.execute_input": "2022-02-14T07:10:16.539688Z",
     "iopub.status.busy": "2022-02-14T07:10:16.538950Z",
     "iopub.status.idle": "2022-02-14T07:10:16.555506Z",
     "shell.execute_reply": "2022-02-14T07:10:16.554835Z",
     "shell.execute_reply.started": "2022-02-14T07:03:40.628301Z"
    },
    "papermill": {
     "duration": 0.060929,
     "end_time": "2022-02-14T07:10:16.555662",
     "exception": false,
     "start_time": "2022-02-14T07:10:16.494733",
     "status": "completed"
    },
    "tags": []
   },
   "outputs": [
    {
     "data": {
      "text/html": [
       "<div>\n",
       "<style scoped>\n",
       "    .dataframe tbody tr th:only-of-type {\n",
       "        vertical-align: middle;\n",
       "    }\n",
       "\n",
       "    .dataframe tbody tr th {\n",
       "        vertical-align: top;\n",
       "    }\n",
       "\n",
       "    .dataframe thead th {\n",
       "        text-align: right;\n",
       "    }\n",
       "</style>\n",
       "<table border=\"1\" class=\"dataframe\">\n",
       "  <thead>\n",
       "    <tr style=\"text-align: right;\">\n",
       "      <th></th>\n",
       "      <th>len_text</th>\n",
       "      <th>len_words</th>\n",
       "    </tr>\n",
       "  </thead>\n",
       "  <tbody>\n",
       "    <tr>\n",
       "      <th>count</th>\n",
       "      <td>15594.000000</td>\n",
       "      <td>15594.000000</td>\n",
       "    </tr>\n",
       "    <tr>\n",
       "      <th>mean</th>\n",
       "      <td>2346.489611</td>\n",
       "      <td>420.614659</td>\n",
       "    </tr>\n",
       "    <tr>\n",
       "      <th>std</th>\n",
       "      <td>1108.842308</td>\n",
       "      <td>190.518856</td>\n",
       "    </tr>\n",
       "    <tr>\n",
       "      <th>min</th>\n",
       "      <td>691.000000</td>\n",
       "      <td>144.000000</td>\n",
       "    </tr>\n",
       "    <tr>\n",
       "      <th>25%</th>\n",
       "      <td>1515.000000</td>\n",
       "      <td>277.000000</td>\n",
       "    </tr>\n",
       "    <tr>\n",
       "      <th>50%</th>\n",
       "      <td>2120.500000</td>\n",
       "      <td>384.000000</td>\n",
       "    </tr>\n",
       "    <tr>\n",
       "      <th>75%</th>\n",
       "      <td>2912.750000</td>\n",
       "      <td>519.000000</td>\n",
       "    </tr>\n",
       "    <tr>\n",
       "      <th>max</th>\n",
       "      <td>8533.000000</td>\n",
       "      <td>1656.000000</td>\n",
       "    </tr>\n",
       "  </tbody>\n",
       "</table>\n",
       "</div>"
      ],
      "text/plain": [
       "           len_text     len_words\n",
       "count  15594.000000  15594.000000\n",
       "mean    2346.489611    420.614659\n",
       "std     1108.842308    190.518856\n",
       "min      691.000000    144.000000\n",
       "25%     1515.000000    277.000000\n",
       "50%     2120.500000    384.000000\n",
       "75%     2912.750000    519.000000\n",
       "max     8533.000000   1656.000000"
      ]
     },
     "execution_count": 10,
     "metadata": {},
     "output_type": "execute_result"
    }
   ],
   "source": [
    "df[['len_text', 'len_words']].describe()"
   ]
  },
  {
   "cell_type": "markdown",
   "id": "4db42ec7",
   "metadata": {
    "papermill": {
     "duration": 0.039906,
     "end_time": "2022-02-14T07:10:16.636155",
     "exception": false,
     "start_time": "2022-02-14T07:10:16.596249",
     "status": "completed"
    },
    "tags": []
   },
   "source": [
    "**<span style=\"color:#023e8a;\">Now tails are less.</span>**"
   ]
  },
  {
   "cell_type": "code",
   "execution_count": 11,
   "id": "2d36d3d3",
   "metadata": {
    "execution": {
     "iopub.execute_input": "2022-02-14T07:10:16.792910Z",
     "iopub.status.busy": "2022-02-14T07:10:16.791812Z",
     "iopub.status.idle": "2022-02-14T07:10:17.102154Z",
     "shell.execute_reply": "2022-02-14T07:10:17.101497Z",
     "shell.execute_reply.started": "2022-02-14T07:03:55.952579Z"
    },
    "papermill": {
     "duration": 0.426174,
     "end_time": "2022-02-14T07:10:17.102332",
     "exception": false,
     "start_time": "2022-02-14T07:10:16.676158",
     "status": "completed"
    },
    "tags": []
   },
   "outputs": [
    {
     "data": {
      "image/png": "[encoded data removed]",
      "text/plain": [
       "<Figure size 720x360 with 1 Axes>"
      ]
     },
     "metadata": {},
     "output_type": "display_data"
    }
   ],
   "source": [
    "sns.set_style(\"darkgrid\")\n",
    "f, ax = plt.subplots(figsize=(10,5))\n",
    "ax = sns.histplot(data=df, x='len_text', bins=30, color='orange')\n",
    "ax.set_xlabel('length of text in symbols')\n",
    "plt.show()"
   ]
  },
  {
   "cell_type": "code",
   "execution_count": 12,
   "id": "eb1c56a4",
   "metadata": {
    "execution": {
     "iopub.execute_input": "2022-02-14T07:10:17.210658Z",
     "iopub.status.busy": "2022-02-14T07:10:17.208882Z",
     "iopub.status.idle": "2022-02-14T07:10:17.513423Z",
     "shell.execute_reply": "2022-02-14T07:10:17.512480Z",
     "shell.execute_reply.started": "2022-02-14T07:04:10.077571Z"
    },
    "papermill": {
     "duration": 0.36939,
     "end_time": "2022-02-14T07:10:17.513577",
     "exception": false,
     "start_time": "2022-02-14T07:10:17.144187",
     "status": "completed"
    },
    "tags": []
   },
   "outputs": [
    {
     "data": {
      "image/png": "[encoded data removed]",
      "text/plain": [
       "<Figure size 720x360 with 1 Axes>"
      ]
     },
     "metadata": {},
     "output_type": "display_data"
    }
   ],
   "source": [
    "sns.set_style(\"darkgrid\")\n",
    "f, ax = plt.subplots(figsize=(10,5))\n",
    "ax = sns.histplot(data=df, x='len_words', bins=30, color='orange')\n",
    "ax.set_xlabel('length of text in words')\n",
    "plt.show()"
   ]
  },
  {
   "cell_type": "markdown",
   "id": "7abed227",
   "metadata": {
    "papermill": {
     "duration": 0.042885,
     "end_time": "2022-02-14T07:10:17.599575",
     "exception": false,
     "start_time": "2022-02-14T07:10:17.556690",
     "status": "completed"
    },
    "tags": []
   },
   "source": [
    "**<span style=\"color:#023e8a;\">Using words from our data create Wordcloud</span>**"
   ]
  },
  {
   "cell_type": "code",
   "execution_count": 13,
   "id": "17d7511c",
   "metadata": {
    "execution": {
     "iopub.execute_input": "2022-02-14T07:10:20.537034Z",
     "iopub.status.busy": "2022-02-14T07:10:20.531713Z",
     "iopub.status.idle": "2022-02-14T07:10:38.952803Z",
     "shell.execute_reply": "2022-02-14T07:10:38.953314Z",
     "shell.execute_reply.started": "2022-02-14T07:08:21.917263Z"
    },
    "papermill": {
     "duration": 21.311799,
     "end_time": "2022-02-14T07:10:38.953490",
     "exception": false,
     "start_time": "2022-02-14T07:10:17.641691",
     "status": "completed"
    },
    "tags": []
   },
   "outputs": [
    {
     "data": {
      "image/png": "[encoded data removed]",
      "text/plain": [
       "<Figure size 576x576 with 1 Axes>"
      ]
     },
     "metadata": {},
     "output_type": "display_data"
    }
   ],
   "source": [
    "cloud = WordCloud(background_color=\"white\", max_words=50, stopwords=set(STOPWORDS), width=600, height=300)\n",
    "f, ax = plt.subplots(figsize=(8, 8))\n",
    "f.suptitle('WordCloud', fontsize=14)\n",
    "cloud = cloud.generate(' '.join(df.text.tolist()))\n",
    "ax.imshow(cloud, interpolation='bilinear')\n",
    "ax.axis('off')\n",
    "f.show()"
   ]
  },
  {
   "cell_type": "markdown",
   "id": "17066fbf",
   "metadata": {
    "papermill": {
     "duration": 0.044989,
     "end_time": "2022-02-14T07:10:39.044083",
     "exception": false,
     "start_time": "2022-02-14T07:10:38.999094",
     "status": "completed"
    },
    "tags": []
   },
   "source": [
    "# **<span id=\"Data\" style=\"color:#023e8a;\">3. Data prep and stemming</span>**"
   ]
  },
  {
   "cell_type": "markdown",
   "id": "dad21443",
   "metadata": {
    "papermill": {
     "duration": 0.04511,
     "end_time": "2022-02-14T07:10:39.134774",
     "exception": false,
     "start_time": "2022-02-14T07:10:39.089664",
     "status": "completed"
    },
    "tags": []
   },
   "source": [
    "[**<span style=\"color:#FEF1FE;background-color:#023e8a;border-radius: 5px;padding: 2px\">Go to Table of Content</span>**](#Content)"
   ]
  },
  {
   "cell_type": "code",
   "execution_count": 14,
   "id": "66a97747",
   "metadata": {
    "execution": {
     "iopub.execute_input": "2022-02-14T07:10:39.240111Z",
     "iopub.status.busy": "2022-02-14T07:10:39.234428Z",
     "iopub.status.idle": "2022-02-14T07:10:39.988976Z",
     "shell.execute_reply": "2022-02-14T07:10:39.989551Z"
    },
    "papermill": {
     "duration": 0.80968,
     "end_time": "2022-02-14T07:10:39.989786",
     "exception": false,
     "start_time": "2022-02-14T07:10:39.180106",
     "status": "completed"
    },
    "tags": []
   },
   "outputs": [],
   "source": [
    "text = [t.split() for t in df.text.tolist()]"
   ]
  },
  {
   "cell_type": "code",
   "execution_count": 15,
   "id": "a77bea51",
   "metadata": {
    "execution": {
     "iopub.execute_input": "2022-02-14T07:10:40.110589Z",
     "iopub.status.busy": "2022-02-14T07:10:40.109894Z",
     "iopub.status.idle": "2022-02-14T07:13:30.471560Z",
     "shell.execute_reply": "2022-02-14T07:13:30.470945Z",
     "shell.execute_reply.started": "2022-01-31T11:05:07.532764Z"
    },
    "papermill": {
     "duration": 170.436175,
     "end_time": "2022-02-14T07:13:30.471710",
     "exception": false,
     "start_time": "2022-02-14T07:10:40.035535",
     "status": "completed"
    },
    "tags": []
   },
   "outputs": [
    {
     "data": {
      "application/vnd.jupyter.widget-view+json": {
       "model_id": "2b2985ffca4a41c290b05d6fe8a1eb2b",
       "version_major": 2,
       "version_minor": 0
      },
      "text/plain": [
       "  0%|          | 0/15594 [00:00<?, ?it/s]"
      ]
     },
     "metadata": {},
     "output_type": "display_data"
    }
   ],
   "source": [
    "stemmed_text = []\n",
    "ps = PorterStemmer()\n",
    "for sentence in tqdm(text):\n",
    "    sent = []\n",
    "    for word in sentence:\n",
    "        sent.append(ps.stem(word))\n",
    "    stemmed_text.append(sent)"
   ]
  },
  {
   "cell_type": "markdown",
   "id": "4ff2e64a",
   "metadata": {
    "papermill": {
     "duration": 0.046948,
     "end_time": "2022-02-14T07:13:30.565677",
     "exception": false,
     "start_time": "2022-02-14T07:13:30.518729",
     "status": "completed"
    },
    "tags": []
   },
   "source": [
    "Just compare original text and stemmed one."
   ]
  },
  {
   "cell_type": "code",
   "execution_count": 16,
   "id": "024e411b",
   "metadata": {
    "execution": {
     "iopub.execute_input": "2022-02-14T07:13:30.672825Z",
     "iopub.status.busy": "2022-02-14T07:13:30.672040Z",
     "iopub.status.idle": "2022-02-14T07:13:30.684791Z",
     "shell.execute_reply": "2022-02-14T07:13:30.684123Z",
     "shell.execute_reply.started": "2022-01-31T11:08:59.455516Z"
    },
    "papermill": {
     "duration": 0.071204,
     "end_time": "2022-02-14T07:13:30.684930",
     "exception": false,
     "start_time": "2022-02-14T07:13:30.613726",
     "status": "completed"
    },
    "tags": []
   },
   "outputs": [
    {
     "name": "stdout",
     "output_type": "stream",
     "text": [
      "how would you feel if your child stop go to school and start from home? school are offer distanc learn\n",
      "How would you feel if your child stopped going to school and started from home? Schools are offering distance learning\n"
     ]
    }
   ],
   "source": [
    "print(*stemmed_text[5][:20])\n",
    "print(*text[5][:20])"
   ]
  },
  {
   "cell_type": "markdown",
   "id": "212cd411",
   "metadata": {
    "papermill": {
     "duration": 0.046365,
     "end_time": "2022-02-14T07:13:30.778031",
     "exception": false,
     "start_time": "2022-02-14T07:13:30.731666",
     "status": "completed"
    },
    "tags": []
   },
   "source": [
    "After that, we need to bring the words to a numerical expression. For this you can use:\n",
    "* `Countvectorizer`\n",
    "* `Tf-idf`\n",
    "* `Embeddings`"
   ]
  },
  {
   "cell_type": "markdown",
   "id": "6d26aeab",
   "metadata": {
    "papermill": {
     "duration": 0.046888,
     "end_time": "2022-02-14T07:13:30.872255",
     "exception": false,
     "start_time": "2022-02-14T07:13:30.825367",
     "status": "completed"
    },
    "tags": []
   },
   "source": [
    "`Countvectorizer` gives matrix num_words X texts where each number is a number of count in all texts."
   ]
  },
  {
   "cell_type": "markdown",
   "id": "bb572c30",
   "metadata": {
    "papermill": {
     "duration": 0.046772,
     "end_time": "2022-02-14T07:13:30.965608",
     "exception": false,
     "start_time": "2022-02-14T07:13:30.918836",
     "status": "completed"
    },
    "tags": []
   },
   "source": [
    "`TF-IDF` is an abbreviation standing for frequency–inverse document frequency,which is a numerical statistics that are aimed to reflect how important a word is for a document in a collection or corpus. \n",
    "\n",
    "**Learn more**: https://towardsdatascience.com/tf-idf-for-document-ranking-from-scratch-in-python-on-real-world-dataset-796d339a4089"
   ]
  },
  {
   "cell_type": "markdown",
   "id": "eaeab17d",
   "metadata": {
    "papermill": {
     "duration": 0.046882,
     "end_time": "2022-02-14T07:13:31.058966",
     "exception": false,
     "start_time": "2022-02-14T07:13:31.012084",
     "status": "completed"
    },
    "tags": []
   },
   "source": [
    "`Gensim` allows to get bow by method `doc2bow`. This method converts document (a list of words) into the bag-of-words format = list of (token_id, token_count) 2-tuples. "
   ]
  },
  {
   "cell_type": "code",
   "execution_count": 17,
   "id": "18d51bbd",
   "metadata": {
    "execution": {
     "iopub.execute_input": "2022-02-14T07:13:31.186963Z",
     "iopub.status.busy": "2022-02-14T07:13:31.166242Z",
     "iopub.status.idle": "2022-02-14T07:13:39.198277Z",
     "shell.execute_reply": "2022-02-14T07:13:39.197570Z",
     "shell.execute_reply.started": "2022-01-31T12:06:44.600691Z"
    },
    "papermill": {
     "duration": 8.09185,
     "end_time": "2022-02-14T07:13:39.198421",
     "exception": false,
     "start_time": "2022-02-14T07:13:31.106571",
     "status": "completed"
    },
    "tags": []
   },
   "outputs": [],
   "source": [
    "dictionary = gensim.corpora.Dictionary(stemmed_text)"
   ]
  },
  {
   "cell_type": "markdown",
   "id": "7068898f",
   "metadata": {
    "papermill": {
     "duration": 0.046282,
     "end_time": "2022-02-14T07:13:39.291094",
     "exception": false,
     "start_time": "2022-02-14T07:13:39.244812",
     "status": "completed"
    },
    "tags": []
   },
   "source": [
    "Filter dictionary by stopwords and most common words (more than in 70% of texts) and not frequently used words (<20 counts)."
   ]
  },
  {
   "cell_type": "code",
   "execution_count": 18,
   "id": "162bc51f",
   "metadata": {
    "execution": {
     "iopub.execute_input": "2022-02-14T07:13:39.392737Z",
     "iopub.status.busy": "2022-02-14T07:13:39.386824Z",
     "iopub.status.idle": "2022-02-14T07:13:43.617212Z",
     "shell.execute_reply": "2022-02-14T07:13:43.616092Z",
     "shell.execute_reply.started": "2022-01-31T12:07:50.659198Z"
    },
    "papermill": {
     "duration": 4.279775,
     "end_time": "2022-02-14T07:13:43.617356",
     "exception": false,
     "start_time": "2022-02-14T07:13:39.337581",
     "status": "completed"
    },
    "tags": []
   },
   "outputs": [
    {
     "data": {
      "application/vnd.jupyter.widget-view+json": {
       "model_id": "d3a18e6f04ea484287de4c04621288d9",
       "version_major": 2,
       "version_minor": 0
      },
      "text/plain": [
       "  0%|          | 0/15594 [00:00<?, ?it/s]"
      ]
     },
     "metadata": {},
     "output_type": "display_data"
    }
   ],
   "source": [
    "stopword_ids = map(dictionary.token2id.get, stops)\n",
    "dictionary.filter_tokens(bad_ids=stopword_ids)\n",
    "dictionary.filter_extremes(no_below=20, no_above=0.7, keep_n=None)\n",
    "dictionary.compactify() # remove gaps in id sequence\n",
    "bow = [dictionary.doc2bow(line) for line in tqdm(stemmed_text)]"
   ]
  },
  {
   "cell_type": "markdown",
   "id": "9e5c23bc",
   "metadata": {
    "papermill": {
     "duration": 0.046248,
     "end_time": "2022-02-14T07:13:43.710903",
     "exception": false,
     "start_time": "2022-02-14T07:13:43.664655",
     "status": "completed"
    },
    "tags": []
   },
   "source": [
    "`Seeded (or Guided) LDA` is a method that allows to add apriori information about the distribution of words in topics. Thus, we can get a desired topic with the given dictionary and do not depend only on the black box results.\n",
    "\n",
    "\n",
    "**Learn more**: https://nlp.stanford.edu/pubs/llda-emnlp09.pdf"
   ]
  },
  {
   "cell_type": "markdown",
   "id": "aa838da0",
   "metadata": {
    "papermill": {
     "duration": 0.047151,
     "end_time": "2022-02-14T07:13:43.806052",
     "exception": false,
     "start_time": "2022-02-14T07:13:43.758901",
     "status": "completed"
    },
    "tags": []
   },
   "source": [
    "Just let us consider \"cars\" as our first topic. The second one will be politics and the last one will be devoted to school life."
   ]
  },
  {
   "cell_type": "code",
   "execution_count": 19,
   "id": "bc2a5fe5",
   "metadata": {
    "collapsed": true,
    "execution": {
     "iopub.execute_input": "2022-02-14T07:13:43.903948Z",
     "iopub.status.busy": "2022-02-14T07:13:43.902876Z",
     "iopub.status.idle": "2022-02-14T07:13:43.911636Z",
     "shell.execute_reply": "2022-02-14T07:13:43.912190Z",
     "shell.execute_reply.started": "2022-02-05T10:52:28.24327Z"
    },
    "jupyter": {
     "outputs_hidden": true
    },
    "papermill": {
     "duration": 0.059327,
     "end_time": "2022-02-14T07:13:43.912365",
     "exception": false,
     "start_time": "2022-02-14T07:13:43.853038",
     "status": "completed"
    },
    "tags": []
   },
   "outputs": [],
   "source": [
    "cars = ['saloon', 'sedan', 'car', 'automobile', 'corvette', 'motor', 'wheel', 'vehicle', 'roadster', 'supercar', 'driver', 'garage', 'traffic',\n",
    "       'hybrid', 'engine', 'license']\n",
    "politics = ['senate', 'democracy', 'negotiation', 'power', 'party', 'government', 'convention', 'delegate', 'political', 'state']\n",
    "school = ['student', 'teacher', 'principal', 'project', 'subject', 'cirriculum', 'mark', 'assesment', 'test', 'discipline', 'graduation']\n",
    "\n",
    "school = [ps.stem(word) for word in school]\n",
    "politics = [ps.stem(word) for word in politics]\n",
    "cars = [ps.stem(word) for word in cars]"
   ]
  },
  {
   "cell_type": "markdown",
   "id": "f5edad29",
   "metadata": {
    "papermill": {
     "duration": 0.047335,
     "end_time": "2022-02-14T07:13:44.006350",
     "exception": false,
     "start_time": "2022-02-14T07:13:43.959015",
     "status": "completed"
    },
    "tags": []
   },
   "source": [
    "Prepare topics with topic words."
   ]
  },
  {
   "cell_type": "code",
   "execution_count": 20,
   "id": "1d7b2c84",
   "metadata": {
    "execution": {
     "iopub.execute_input": "2022-02-14T07:13:44.105732Z",
     "iopub.status.busy": "2022-02-14T07:13:44.104808Z",
     "iopub.status.idle": "2022-02-14T07:13:44.107898Z",
     "shell.execute_reply": "2022-02-14T07:13:44.107286Z",
     "shell.execute_reply.started": "2022-01-31T12:13:31.197957Z"
    },
    "papermill": {
     "duration": 0.054828,
     "end_time": "2022-02-14T07:13:44.108034",
     "exception": false,
     "start_time": "2022-02-14T07:13:44.053206",
     "status": "completed"
    },
    "tags": []
   },
   "outputs": [],
   "source": [
    "seed_topics = {}\n",
    "for word in cars:\n",
    "    seed_topics[word] = 0\n",
    "for word in politics:\n",
    "    seed_topics[word] = 1\n",
    "for word in school:\n",
    "    seed_topics[word] = 2"
   ]
  },
  {
   "cell_type": "markdown",
   "id": "b624eec8",
   "metadata": {
    "papermill": {
     "duration": 0.047165,
     "end_time": "2022-02-14T07:13:44.203098",
     "exception": false,
     "start_time": "2022-02-14T07:13:44.155933",
     "status": "completed"
    },
    "tags": []
   },
   "source": [
    "Create_eta function gives eta matrix with apriori words in topics."
   ]
  },
  {
   "cell_type": "code",
   "execution_count": 21,
   "id": "a9319623",
   "metadata": {
    "execution": {
     "iopub.execute_input": "2022-02-14T07:13:44.302371Z",
     "iopub.status.busy": "2022-02-14T07:13:44.301387Z",
     "iopub.status.idle": "2022-02-14T07:13:44.308973Z",
     "shell.execute_reply": "2022-02-14T07:13:44.308470Z",
     "shell.execute_reply.started": "2022-01-31T12:13:34.356715Z"
    },
    "papermill": {
     "duration": 0.058064,
     "end_time": "2022-02-14T07:13:44.309109",
     "exception": false,
     "start_time": "2022-02-14T07:13:44.251045",
     "status": "completed"
    },
    "tags": []
   },
   "outputs": [],
   "source": [
    "def create_eta(priors, etadict, ntopics):\n",
    "    eta = np.full(shape=(ntopics, len(etadict)), fill_value=1) # create a (ntopics, nterms) matrix and fill with 1\n",
    "    for word, topic in priors.items(): # for each word in the list of priors\n",
    "        keyindex = [index for index,term in etadict.items() if term==word] # look up the word in the dictionary\n",
    "        if (len(keyindex)>0): # if it's in the dictionary\n",
    "            eta[topic,keyindex[0]] = 1e7  # put a large number in there\n",
    "    eta = np.divide(eta, eta.sum(axis=0)) # normalize so that the probabilities sum to 1 over all topics\n",
    "    return eta"
   ]
  },
  {
   "cell_type": "markdown",
   "id": "bde12c86",
   "metadata": {
    "papermill": {
     "duration": 0.046357,
     "end_time": "2022-02-14T07:13:44.402124",
     "exception": false,
     "start_time": "2022-02-14T07:13:44.355767",
     "status": "completed"
    },
    "tags": []
   },
   "source": [
    "Number of topics = 4:\n",
    "* `cars`\n",
    "* `politics`\n",
    "* `school life`\n",
    "* `common topic`"
   ]
  },
  {
   "cell_type": "markdown",
   "id": "d13b3f5a",
   "metadata": {
    "papermill": {
     "duration": 0.046559,
     "end_time": "2022-02-14T07:13:44.495704",
     "exception": false,
     "start_time": "2022-02-14T07:13:44.449145",
     "status": "completed"
    },
    "tags": []
   },
   "source": [
    "# **<span id=\"Modeling\" style=\"color:#023e8a;\">4. Modeling</span>**"
   ]
  },
  {
   "cell_type": "markdown",
   "id": "645679d4",
   "metadata": {
    "papermill": {
     "duration": 0.046137,
     "end_time": "2022-02-14T07:13:44.588210",
     "exception": false,
     "start_time": "2022-02-14T07:13:44.542073",
     "status": "completed"
    },
    "tags": []
   },
   "source": [
    "[**<span style=\"color:#FEF1FE;background-color:#023e8a;border-radius: 5px;padding: 2px\">Go to Table of Content</span>**](#Content)"
   ]
  },
  {
   "cell_type": "code",
   "execution_count": 22,
   "id": "c9da07df",
   "metadata": {
    "execution": {
     "iopub.execute_input": "2022-02-14T07:13:44.685851Z",
     "iopub.status.busy": "2022-02-14T07:13:44.684858Z",
     "iopub.status.idle": "2022-02-14T07:13:45.055582Z",
     "shell.execute_reply": "2022-02-14T07:13:45.054865Z",
     "shell.execute_reply.started": "2022-01-31T12:13:37.077401Z"
    },
    "papermill": {
     "duration": 0.420655,
     "end_time": "2022-02-14T07:13:45.055732",
     "exception": false,
     "start_time": "2022-02-14T07:13:44.635077",
     "status": "completed"
    },
    "tags": []
   },
   "outputs": [],
   "source": [
    "eta = create_eta(seed_topics, dictionary, 4)"
   ]
  },
  {
   "cell_type": "code",
   "execution_count": 23,
   "id": "f351a6fa",
   "metadata": {
    "execution": {
     "iopub.execute_input": "2022-02-14T07:13:45.156914Z",
     "iopub.status.busy": "2022-02-14T07:13:45.156006Z",
     "iopub.status.idle": "2022-02-14T07:14:43.002104Z",
     "shell.execute_reply": "2022-02-14T07:14:43.001522Z",
     "shell.execute_reply.started": "2022-01-31T12:13:38.865265Z"
    },
    "papermill": {
     "duration": 57.899961,
     "end_time": "2022-02-14T07:14:43.002305",
     "exception": false,
     "start_time": "2022-02-14T07:13:45.102344",
     "status": "completed"
    },
    "tags": []
   },
   "outputs": [],
   "source": [
    "lda_model = LdaMulticore(corpus=bow,\n",
    "                         id2word=dictionary,\n",
    "                         num_topics=4,\n",
    "                         eta=eta,\n",
    "                         chunksize=2000,\n",
    "                         passes=5,\n",
    "                         random_state=42,\n",
    "                         alpha='symmetric',\n",
    "                         per_word_topics=True)"
   ]
  },
  {
   "cell_type": "markdown",
   "id": "6da9dbcf",
   "metadata": {
    "papermill": {
     "duration": 0.04711,
     "end_time": "2022-02-14T07:14:43.097437",
     "exception": false,
     "start_time": "2022-02-14T07:14:43.050327",
     "status": "completed"
    },
    "tags": []
   },
   "source": [
    "You may change the number of topics and check `Coherence` for model selection. Moreover, you may set initially more words in topics for better results."
   ]
  },
  {
   "cell_type": "markdown",
   "id": "1b922686",
   "metadata": {
    "papermill": {
     "duration": 0.046589,
     "end_time": "2022-02-14T07:14:43.190995",
     "exception": false,
     "start_time": "2022-02-14T07:14:43.144406",
     "status": "completed"
    },
    "tags": []
   },
   "source": [
    "Topics which are concerned with cars, politics and school are easy to detect."
   ]
  },
  {
   "cell_type": "code",
   "execution_count": 24,
   "id": "8d032867",
   "metadata": {
    "execution": {
     "iopub.execute_input": "2022-02-14T07:14:43.289508Z",
     "iopub.status.busy": "2022-02-14T07:14:43.288477Z",
     "iopub.status.idle": "2022-02-14T07:14:43.296529Z",
     "shell.execute_reply": "2022-02-14T07:14:43.295861Z",
     "shell.execute_reply.started": "2022-01-31T12:14:35.702803Z"
    },
    "papermill": {
     "duration": 0.058934,
     "end_time": "2022-02-14T07:14:43.296670",
     "exception": false,
     "start_time": "2022-02-14T07:14:43.237736",
     "status": "completed"
    },
    "tags": []
   },
   "outputs": [
    {
     "name": "stdout",
     "output_type": "stream",
     "text": [
      "0: 0.045*\"car\" + 0.018*\"drive\" + 0.015*\"peopl\" + 0.012*\"use\" + 0.011*\"phone\" + 0.011*\"driverless\" + 0.009*\"driver\" + 0.008*\"get\" + 0.007*\"could\" + 0.007*\"I\"\n",
      "\n",
      "1: 0.033*\"elector\" + 0.032*\"vote\" + 0.017*\"colleg\" + 0.015*\"state\" + 0.013*\"peopl\" + 0.012*\"venu\" + 0.010*\"presid\" + 0.010*\"I\" + 0.010*\"elect\" + 0.008*\"popular\"\n",
      "\n",
      "2: 0.049*\"student\" + 0.023*\"school\" + 0.014*\"I\" + 0.012*\"learn\" + 0.011*\"get\" + 0.011*\"class\" + 0.010*\"teacher\" + 0.010*\"project\" + 0.010*\"help\" + 0.009*\"work\"\n",
      "\n",
      "3: 0.023*\"peopl\" + 0.016*\"I\" + 0.016*\"ask\" + 0.015*\"help\" + 0.015*\"make\" + 0.013*\"one\" + 0.013*\"advic\" + 0.012*\"wa\" + 0.011*\"get\" + 0.011*\"could\"\n",
      "\n"
     ]
    }
   ],
   "source": [
    "for num, params in lda_model.print_topics():\n",
    "    print(f'{num}: {params}\\n')"
   ]
  },
  {
   "cell_type": "markdown",
   "id": "4b8f8021",
   "metadata": {
    "papermill": {
     "duration": 0.047145,
     "end_time": "2022-02-14T07:14:43.391817",
     "exception": false,
     "start_time": "2022-02-14T07:14:43.344672",
     "status": "completed"
    },
    "tags": []
   },
   "source": [
    "May all of you be lucky in the competition. Hopefully, this notebook will be useful for you."
   ]
  },
  {
   "cell_type": "markdown",
   "id": "468bc48b",
   "metadata": {
    "papermill": {
     "duration": 0.053041,
     "end_time": "2022-02-14T07:14:43.492161",
     "exception": false,
     "start_time": "2022-02-14T07:14:43.439120",
     "status": "completed"
    },
    "tags": []
   },
   "source": [
    "# **<span id=\"References\" style=\"color:#023e8a;\">5. References</span>**"
   ]
  },
  {
   "cell_type": "markdown",
   "id": "407935c2",
   "metadata": {
    "papermill": {
     "duration": 0.046902,
     "end_time": "2022-02-14T07:14:43.587277",
     "exception": false,
     "start_time": "2022-02-14T07:14:43.540375",
     "status": "completed"
    },
    "tags": []
   },
   "source": [
    "https://www.kaggle.com/raghavendrakotala/fine-tunned-on-roberta-base-as-ner-problem-0-533  \n",
    "https://www.kaggle.com/julian3833/topic-modeling-with-lda"
   ]
  },
  {
   "cell_type": "markdown",
   "id": "761ed7c1",
   "metadata": {
    "papermill": {
     "duration": 0.047481,
     "end_time": "2022-02-14T07:14:43.682117",
     "exception": false,
     "start_time": "2022-02-14T07:14:43.634636",
     "status": "completed"
    },
    "tags": []
   },
   "source": [
    "## **<center><span style=\"color:#FEF1FE;background-color:#023e8a;border-radius: 5px;padding: 5px\">Thanks for reading! If you find this notebook useful or interesting, please, support with an upvote :)</span></center>**"
   ]
  }
 ],
 "metadata": {
  "kernelspec": {
   "display_name": "Python 3",
   "language": "python",
   "name": "python3"
  },
  "language_info": {
   "codemirror_mode": {
    "name": "ipython",
    "version": 3
   },
   "file_extension": ".py",
   "mimetype": "text/x-python",
   "name": "python",
   "nbconvert_exporter": "python",
   "pygments_lexer": "ipython3",
   "version": "3.7.12"
  },
  "papermill": {
   "default_parameters": {},
   "duration": 340.413823,
   "end_time": "2022-02-14T07:14:46.153119",
   "environment_variables": {},
   "exception": null,
   "input_path": "__notebook__.ipynb",
   "output_path": "__notebook__.ipynb",
   "parameters": {},
   "start_time": "2022-02-14T07:09:05.739296",
   "version": "2.3.3"
  },
  "widgets": {
   "application/vnd.jupyter.widget-state+json": {
    "state": {
     "0ce85344c9f44d61a01892831e24b28b": {
      "model_module": "@jupyter-widgets/controls",
      "model_module_version": "1.5.0",
      "model_name": "FloatProgressModel",
      "state": {
       "_dom_classes": [],
       "_model_module": "@jupyter-widgets/controls",
       "_model_module_version": "1.5.0",
       "_model_name": "FloatProgressModel",
       "_view_count": null,
       "_view_module": "@jupyter-widgets/controls",
       "_view_module_version": "1.5.0",
       "_view_name": "ProgressView",
       "bar_style": "success",
       "description": "",
       "description_tooltip": null,
       "layout": "IPY_MODEL_501acc3cd7f84423b966c3e837cf2966",
       "max": 15594.0,
       "min": 0.0,
       "orientation": "horizontal",
       "style": "IPY_MODEL_79edbc51e5d74261a8fa2a53d551b19c",
       "value": 15594.0
      }
     },
     "1e731f9488c24c24ac890e1d10fe2c69": {
      "model_module": "@jupyter-widgets/base",
      "model_module_version": "1.2.0",
      "model_name": "LayoutModel",
      "state": {
       "_model_module": "@jupyter-widgets/base",
       "_model_module_version": "1.2.0",
       "_model_name": "LayoutModel",
       "_view_count": null,
       "_view_module": "@jupyter-widgets/base",
       "_view_module_version": "1.2.0",
       "_view_name": "LayoutView",
       "align_content": null,
       "align_items": null,
       "align_self": null,
       "border": null,
       "bottom": null,
       "display": null,
       "flex": null,
       "flex_flow": null,
       "grid_area": null,
       "grid_auto_columns": null,
       "grid_auto_flow": null,
       "grid_auto_rows": null,
       "grid_column": null,
       "grid_gap": null,
       "grid_row": null,
       "grid_template_areas": null,
       "grid_template_columns": null,
       "grid_template_rows": null,
       "height": null,
       "justify_content": null,
       "justify_items": null,
       "left": null,
       "margin": null,
       "max_height": null,
       "max_width": null,
       "min_height": null,
       "min_width": null,
       "object_fit": null,
       "object_position": null,
       "order": null,
       "overflow": null,
       "overflow_x": null,
       "overflow_y": null,
       "padding": null,
       "right": null,
       "top": null,
       "visibility": null,
       "width": null
      }
     },
     "230bdcbc8c48473ca4442454a396d084": {
      "model_module": "@jupyter-widgets/base",
      "model_module_version": "1.2.0",
      "model_name": "LayoutModel",
      "state": {
       "_model_module": "@jupyter-widgets/base",
       "_model_module_version": "1.2.0",
       "_model_name": "LayoutModel",
       "_view_count": null,
       "_view_module": "@jupyter-widgets/base",
       "_view_module_version": "1.2.0",
       "_view_name": "LayoutView",
       "align_content": null,
       "align_items": null,
       "align_self": null,
       "border": null,
       "bottom": null,
       "display": null,
       "flex": null,
       "flex_flow": null,
       "grid_area": null,
       "grid_auto_columns": null,
       "grid_auto_flow": null,
       "grid_auto_rows": null,
       "grid_column": null,
       "grid_gap": null,
       "grid_row": null,
       "grid_template_areas": null,
       "grid_template_columns": null,
       "grid_template_rows": null,
       "height": null,
       "justify_content": null,
       "justify_items": null,
       "left": null,
       "margin": null,
       "max_height": null,
       "max_width": null,
       "min_height": null,
       "min_width": null,
       "object_fit": null,
       "object_position": null,
       "order": null,
       "overflow": null,
       "overflow_x": null,
       "overflow_y": null,
       "padding": null,
       "right": null,
       "top": null,
       "visibility": null,
       "width": null
      }
     },
     "237fdb053e6a4896b80716bc02495a56": {
      "model_module": "@jupyter-widgets/controls",
      "model_module_version": "1.5.0",
      "model_name": "DescriptionStyleModel",
      "state": {
       "_model_module": "@jupyter-widgets/controls",
       "_model_module_version": "1.5.0",
       "_model_name": "DescriptionStyleModel",
       "_view_count": null,
       "_view_module": "@jupyter-widgets/base",
       "_view_module_version": "1.2.0",
       "_view_name": "StyleView",
       "description_width": ""
      }
     },
     "25133919d12d41ed90a24226423ee3ef": {
      "model_module": "@jupyter-widgets/controls",
      "model_module_version": "1.5.0",
      "model_name": "HTMLModel",
      "state": {
       "_dom_classes": [],
       "_model_module": "@jupyter-widgets/controls",
       "_model_module_version": "1.5.0",
       "_model_name": "HTMLModel",
       "_view_count": null,
       "_view_module": "@jupyter-widgets/controls",
       "_view_module_version": "1.5.0",
       "_view_name": "HTMLView",
       "description": "",
       "description_tooltip": null,
       "layout": "IPY_MODEL_e280e8e5610e49d68235c6b5a2a07882",
       "placeholder": "​",
       "style": "IPY_MODEL_95917e1dac7a4205969805c7ba6eb322",
       "value": "100%"
      }
     },
     "2b2985ffca4a41c290b05d6fe8a1eb2b": {
      "model_module": "@jupyter-widgets/controls",
      "model_module_version": "1.5.0",
      "model_name": "HBoxModel",
      "state": {
       "_dom_classes": [],
       "_model_module": "@jupyter-widgets/controls",
       "_model_module_version": "1.5.0",
       "_model_name": "HBoxModel",
       "_view_count": null,
       "_view_module": "@jupyter-widgets/controls",
       "_view_module_version": "1.5.0",
       "_view_name": "HBoxView",
       "box_style": "",
       "children": [
        "IPY_MODEL_e7557679d326436abf23b985e9f3aa57",
        "IPY_MODEL_3e805127ac3642ef92798307c66fec24",
        "IPY_MODEL_f470f9a8124d4df58fe7c45ad66a4b9d"
       ],
       "layout": "IPY_MODEL_558d63e391c5479187da3035dc3e1a53"
      }
     },
     "331c2873193641608d6543ccf747e8e2": {
      "model_module": "@jupyter-widgets/base",
      "model_module_version": "1.2.0",
      "model_name": "LayoutModel",
      "state": {
       "_model_module": "@jupyter-widgets/base",
       "_model_module_version": "1.2.0",
       "_model_name": "LayoutModel",
       "_view_count": null,
       "_view_module": "@jupyter-widgets/base",
       "_view_module_version": "1.2.0",
       "_view_name": "LayoutView",
       "align_content": null,
       "align_items": null,
       "align_self": null,
       "border": null,
       "bottom": null,
       "display": null,
       "flex": null,
       "flex_flow": null,
       "grid_area": null,
       "grid_auto_columns": null,
       "grid_auto_flow": null,
       "grid_auto_rows": null,
       "grid_column": null,
       "grid_gap": null,
       "grid_row": null,
       "grid_template_areas": null,
       "grid_template_columns": null,
       "grid_template_rows": null,
       "height": null,
       "justify_content": null,
       "justify_items": null,
       "left": null,
       "margin": null,
       "max_height": null,
       "max_width": null,
       "min_height": null,
       "min_width": null,
       "object_fit": null,
       "object_position": null,
       "order": null,
       "overflow": null,
       "overflow_x": null,
       "overflow_y": null,
       "padding": null,
       "right": null,
       "top": null,
       "visibility": null,
       "width": null
      }
     },
     "3e805127ac3642ef92798307c66fec24": {
      "model_module": "@jupyter-widgets/controls",
      "model_module_version": "1.5.0",
      "model_name": "FloatProgressModel",
      "state": {
       "_dom_classes": [],
       "_model_module": "@jupyter-widgets/controls",
       "_model_module_version": "1.5.0",
       "_model_name": "FloatProgressModel",
       "_view_count": null,
       "_view_module": "@jupyter-widgets/controls",
       "_view_module_version": "1.5.0",
       "_view_name": "ProgressView",
       "bar_style": "success",
       "description": "",
       "description_tooltip": null,
       "layout": "IPY_MODEL_4040d7b72b7748cbb10b455ced1e18c1",
       "max": 15594.0,
       "min": 0.0,
       "orientation": "horizontal",
       "style": "IPY_MODEL_bef28e7ddcb64053ae7e90d6d8b3c48b",
       "value": 15594.0
      }
     },
     "4040d7b72b7748cbb10b455ced1e18c1": {
      "model_module": "@jupyter-widgets/base",
      "model_module_version": "1.2.0",
      "model_name": "LayoutModel",
      "state": {
       "_model_module": "@jupyter-widgets/base",
       "_model_module_version": "1.2.0",
       "_model_name": "LayoutModel",
       "_view_count": null,
       "_view_module": "@jupyter-widgets/base",
       "_view_module_version": "1.2.0",
       "_view_name": "LayoutView",
       "align_content": null,
       "align_items": null,
       "align_self": null,
       "border": null,
       "bottom": null,
       "display": null,
       "flex": null,
       "flex_flow": null,
       "grid_area": null,
       "grid_auto_columns": null,
       "grid_auto_flow": null,
       "grid_auto_rows": null,
       "grid_column": null,
       "grid_gap": null,
       "grid_row": null,
       "grid_template_areas": null,
       "grid_template_columns": null,
       "grid_template_rows": null,
       "height": null,
       "justify_content": null,
       "justify_items": null,
       "left": null,
       "margin": null,
       "max_height": null,
       "max_width": null,
       "min_height": null,
       "min_width": null,
       "object_fit": null,
       "object_position": null,
       "order": null,
       "overflow": null,
       "overflow_x": null,
       "overflow_y": null,
       "padding": null,
       "right": null,
       "top": null,
       "visibility": null,
       "width": null
      }
     },
     "44050e0ab4e44aa9bb7a9ced4b7de790": {
      "model_module": "@jupyter-widgets/base",
      "model_module_version": "1.2.0",
      "model_name": "LayoutModel",
      "state": {
       "_model_module": "@jupyter-widgets/base",
       "_model_module_version": "1.2.0",
       "_model_name": "LayoutModel",
       "_view_count": null,
       "_view_module": "@jupyter-widgets/base",
       "_view_module_version": "1.2.0",
       "_view_name": "LayoutView",
       "align_content": null,
       "align_items": null,
       "align_self": null,
       "border": null,
       "bottom": null,
       "display": null,
       "flex": null,
       "flex_flow": null,
       "grid_area": null,
       "grid_auto_columns": null,
       "grid_auto_flow": null,
       "grid_auto_rows": null,
       "grid_column": null,
       "grid_gap": null,
       "grid_row": null,
       "grid_template_areas": null,
       "grid_template_columns": null,
       "grid_template_rows": null,
       "height": null,
       "justify_content": null,
       "justify_items": null,
       "left": null,
       "margin": null,
       "max_height": null,
       "max_width": null,
       "min_height": null,
       "min_width": null,
       "object_fit": null,
       "object_position": null,
       "order": null,
       "overflow": null,
       "overflow_x": null,
       "overflow_y": null,
       "padding": null,
       "right": null,
       "top": null,
       "visibility": null,
       "width": null
      }
     },
     "4f74ef785e4849a19bed8ff17c2d01ce": {
      "model_module": "@jupyter-widgets/base",
      "model_module_version": "1.2.0",
      "model_name": "LayoutModel",
      "state": {
       "_model_module": "@jupyter-widgets/base",
       "_model_module_version": "1.2.0",
       "_model_name": "LayoutModel",
       "_view_count": null,
       "_view_module": "@jupyter-widgets/base",
       "_view_module_version": "1.2.0",
       "_view_name": "LayoutView",
       "align_content": null,
       "align_items": null,
       "align_self": null,
       "border": null,
       "bottom": null,
       "display": null,
       "flex": null,
       "flex_flow": null,
       "grid_area": null,
       "grid_auto_columns": null,
       "grid_auto_flow": null,
       "grid_auto_rows": null,
       "grid_column": null,
       "grid_gap": null,
       "grid_row": null,
       "grid_template_areas": null,
       "grid_template_columns": null,
       "grid_template_rows": null,
       "height": null,
       "justify_content": null,
       "justify_items": null,
       "left": null,
       "margin": null,
       "max_height": null,
       "max_width": null,
       "min_height": null,
       "min_width": null,
       "object_fit": null,
       "object_position": null,
       "order": null,
       "overflow": null,
       "overflow_x": null,
       "overflow_y": null,
       "padding": null,
       "right": null,
       "top": null,
       "visibility": null,
       "width": null
      }
     },
     "501acc3cd7f84423b966c3e837cf2966": {
      "model_module": "@jupyter-widgets/base",
      "model_module_version": "1.2.0",
      "model_name": "LayoutModel",
      "state": {
       "_model_module": "@jupyter-widgets/base",
       "_model_module_version": "1.2.0",
       "_model_name": "LayoutModel",
       "_view_count": null,
       "_view_module": "@jupyter-widgets/base",
       "_view_module_version": "1.2.0",
       "_view_name": "LayoutView",
       "align_content": null,
       "align_items": null,
       "align_self": null,
       "border": null,
       "bottom": null,
       "display": null,
       "flex": null,
       "flex_flow": null,
       "grid_area": null,
       "grid_auto_columns": null,
       "grid_auto_flow": null,
       "grid_auto_rows": null,
       "grid_column": null,
       "grid_gap": null,
       "grid_row": null,
       "grid_template_areas": null,
       "grid_template_columns": null,
       "grid_template_rows": null,
       "height": null,
       "justify_content": null,
       "justify_items": null,
       "left": null,
       "margin": null,
       "max_height": null,
       "max_width": null,
       "min_height": null,
       "min_width": null,
       "object_fit": null,
       "object_position": null,
       "order": null,
       "overflow": null,
       "overflow_x": null,
       "overflow_y": null,
       "padding": null,
       "right": null,
       "top": null,
       "visibility": null,
       "width": null
      }
     },
     "558d63e391c5479187da3035dc3e1a53": {
      "model_module": "@jupyter-widgets/base",
      "model_module_version": "1.2.0",
      "model_name": "LayoutModel",
      "state": {
       "_model_module": "@jupyter-widgets/base",
       "_model_module_version": "1.2.0",
       "_model_name": "LayoutModel",
       "_view_count": null,
       "_view_module": "@jupyter-widgets/base",
       "_view_module_version": "1.2.0",
       "_view_name": "LayoutView",
       "align_content": null,
       "align_items": null,
       "align_self": null,
       "border": null,
       "bottom": null,
       "display": null,
       "flex": null,
       "flex_flow": null,
       "grid_area": null,
       "grid_auto_columns": null,
       "grid_auto_flow": null,
       "grid_auto_rows": null,
       "grid_column": null,
       "grid_gap": null,
       "grid_row": null,
       "grid_template_areas": null,
       "grid_template_columns": null,
       "grid_template_rows": null,
       "height": null,
       "justify_content": null,
       "justify_items": null,
       "left": null,
       "margin": null,
       "max_height": null,
       "max_width": null,
       "min_height": null,
       "min_width": null,
       "object_fit": null,
       "object_position": null,
       "order": null,
       "overflow": null,
       "overflow_x": null,
       "overflow_y": null,
       "padding": null,
       "right": null,
       "top": null,
       "visibility": null,
       "width": null
      }
     },
     "610fc6e5afc44d42864a679f7789df12": {
      "model_module": "@jupyter-widgets/controls",
      "model_module_version": "1.5.0",
      "model_name": "DescriptionStyleModel",
      "state": {
       "_model_module": "@jupyter-widgets/controls",
       "_model_module_version": "1.5.0",
       "_model_name": "DescriptionStyleModel",
       "_view_count": null,
       "_view_module": "@jupyter-widgets/base",
       "_view_module_version": "1.2.0",
       "_view_name": "StyleView",
       "description_width": ""
      }
     },
     "641a6622c5f8463ba95514de68e19f7c": {
      "model_module": "@jupyter-widgets/base",
      "model_module_version": "1.2.0",
      "model_name": "LayoutModel",
      "state": {
       "_model_module": "@jupyter-widgets/base",
       "_model_module_version": "1.2.0",
       "_model_name": "LayoutModel",
       "_view_count": null,
       "_view_module": "@jupyter-widgets/base",
       "_view_module_version": "1.2.0",
       "_view_name": "LayoutView",
       "align_content": null,
       "align_items": null,
       "align_self": null,
       "border": null,
       "bottom": null,
       "display": null,
       "flex": null,
       "flex_flow": null,
       "grid_area": null,
       "grid_auto_columns": null,
       "grid_auto_flow": null,
       "grid_auto_rows": null,
       "grid_column": null,
       "grid_gap": null,
       "grid_row": null,
       "grid_template_areas": null,
       "grid_template_columns": null,
       "grid_template_rows": null,
       "height": null,
       "justify_content": null,
       "justify_items": null,
       "left": null,
       "margin": null,
       "max_height": null,
       "max_width": null,
       "min_height": null,
       "min_width": null,
       "object_fit": null,
       "object_position": null,
       "order": null,
       "overflow": null,
       "overflow_x": null,
       "overflow_y": null,
       "padding": null,
       "right": null,
       "top": null,
       "visibility": null,
       "width": null
      }
     },
     "79edbc51e5d74261a8fa2a53d551b19c": {
      "model_module": "@jupyter-widgets/controls",
      "model_module_version": "1.5.0",
      "model_name": "ProgressStyleModel",
      "state": {
       "_model_module": "@jupyter-widgets/controls",
       "_model_module_version": "1.5.0",
       "_model_name": "ProgressStyleModel",
       "_view_count": null,
       "_view_module": "@jupyter-widgets/base",
       "_view_module_version": "1.2.0",
       "_view_name": "StyleView",
       "bar_color": null,
       "description_width": ""
      }
     },
     "87554b12219341449f495393b3981c80": {
      "model_module": "@jupyter-widgets/controls",
      "model_module_version": "1.5.0",
      "model_name": "DescriptionStyleModel",
      "state": {
       "_model_module": "@jupyter-widgets/controls",
       "_model_module_version": "1.5.0",
       "_model_name": "DescriptionStyleModel",
       "_view_count": null,
       "_view_module": "@jupyter-widgets/base",
       "_view_module_version": "1.2.0",
       "_view_name": "StyleView",
       "description_width": ""
      }
     },
     "95917e1dac7a4205969805c7ba6eb322": {
      "model_module": "@jupyter-widgets/controls",
      "model_module_version": "1.5.0",
      "model_name": "DescriptionStyleModel",
      "state": {
       "_model_module": "@jupyter-widgets/controls",
       "_model_module_version": "1.5.0",
       "_model_name": "DescriptionStyleModel",
       "_view_count": null,
       "_view_module": "@jupyter-widgets/base",
       "_view_module_version": "1.2.0",
       "_view_name": "StyleView",
       "description_width": ""
      }
     },
     "a3ac24609a0047f78f6312ef77c16911": {
      "model_module": "@jupyter-widgets/controls",
      "model_module_version": "1.5.0",
      "model_name": "DescriptionStyleModel",
      "state": {
       "_model_module": "@jupyter-widgets/controls",
       "_model_module_version": "1.5.0",
       "_model_name": "DescriptionStyleModel",
       "_view_count": null,
       "_view_module": "@jupyter-widgets/base",
       "_view_module_version": "1.2.0",
       "_view_name": "StyleView",
       "description_width": ""
      }
     },
     "a51b2d7c008446f485691db423adfd97": {
      "model_module": "@jupyter-widgets/controls",
      "model_module_version": "1.5.0",
      "model_name": "HTMLModel",
      "state": {
       "_dom_classes": [],
       "_model_module": "@jupyter-widgets/controls",
       "_model_module_version": "1.5.0",
       "_model_name": "HTMLModel",
       "_view_count": null,
       "_view_module": "@jupyter-widgets/controls",
       "_view_module_version": "1.5.0",
       "_view_name": "HTMLView",
       "description": "",
       "description_tooltip": null,
       "layout": "IPY_MODEL_f9fc195ac4424fab8586996e2f81567b",
       "placeholder": "​",
       "style": "IPY_MODEL_a3ac24609a0047f78f6312ef77c16911",
       "value": "100%"
      }
     },
     "aa08f3e13e4b4825b2e2a77efb5a4d47": {
      "model_module": "@jupyter-widgets/controls",
      "model_module_version": "1.5.0",
      "model_name": "HTMLModel",
      "state": {
       "_dom_classes": [],
       "_model_module": "@jupyter-widgets/controls",
       "_model_module_version": "1.5.0",
       "_model_name": "HTMLModel",
       "_view_count": null,
       "_view_module": "@jupyter-widgets/controls",
       "_view_module_version": "1.5.0",
       "_view_name": "HTMLView",
       "description": "",
       "description_tooltip": null,
       "layout": "IPY_MODEL_4f74ef785e4849a19bed8ff17c2d01ce",
       "placeholder": "​",
       "style": "IPY_MODEL_f97af0f55fc34b7198025021ba850003",
       "value": " 15594/15594 [00:03&lt;00:00, 4233.64it/s]"
      }
     },
     "bef28e7ddcb64053ae7e90d6d8b3c48b": {
      "model_module": "@jupyter-widgets/controls",
      "model_module_version": "1.5.0",
      "model_name": "ProgressStyleModel",
      "state": {
       "_model_module": "@jupyter-widgets/controls",
       "_model_module_version": "1.5.0",
       "_model_name": "ProgressStyleModel",
       "_view_count": null,
       "_view_module": "@jupyter-widgets/base",
       "_view_module_version": "1.2.0",
       "_view_name": "StyleView",
       "bar_color": null,
       "description_width": ""
      }
     },
     "bf055d8f8f9b4a7680246cef6eb0cc94": {
      "model_module": "@jupyter-widgets/controls",
      "model_module_version": "1.5.0",
      "model_name": "HBoxModel",
      "state": {
       "_dom_classes": [],
       "_model_module": "@jupyter-widgets/controls",
       "_model_module_version": "1.5.0",
       "_model_name": "HBoxModel",
       "_view_count": null,
       "_view_module": "@jupyter-widgets/controls",
       "_view_module_version": "1.5.0",
       "_view_name": "HBoxView",
       "box_style": "",
       "children": [
        "IPY_MODEL_a51b2d7c008446f485691db423adfd97",
        "IPY_MODEL_0ce85344c9f44d61a01892831e24b28b",
        "IPY_MODEL_d584471ffdc749d4bb4bde770c1521e6"
       ],
       "layout": "IPY_MODEL_641a6622c5f8463ba95514de68e19f7c"
      }
     },
     "c07610fb3d974f2ca3c0071d900c4319": {
      "model_module": "@jupyter-widgets/controls",
      "model_module_version": "1.5.0",
      "model_name": "ProgressStyleModel",
      "state": {
       "_model_module": "@jupyter-widgets/controls",
       "_model_module_version": "1.5.0",
       "_model_name": "ProgressStyleModel",
       "_view_count": null,
       "_view_module": "@jupyter-widgets/base",
       "_view_module_version": "1.2.0",
       "_view_name": "StyleView",
       "bar_color": null,
       "description_width": ""
      }
     },
     "d3a18e6f04ea484287de4c04621288d9": {
      "model_module": "@jupyter-widgets/controls",
      "model_module_version": "1.5.0",
      "model_name": "HBoxModel",
      "state": {
       "_dom_classes": [],
       "_model_module": "@jupyter-widgets/controls",
       "_model_module_version": "1.5.0",
       "_model_name": "HBoxModel",
       "_view_count": null,
       "_view_module": "@jupyter-widgets/controls",
       "_view_module_version": "1.5.0",
       "_view_name": "HBoxView",
       "box_style": "",
       "children": [
        "IPY_MODEL_25133919d12d41ed90a24226423ee3ef",
        "IPY_MODEL_dfa1ec5c730d40d8b1c045a520e9c82a",
        "IPY_MODEL_aa08f3e13e4b4825b2e2a77efb5a4d47"
       ],
       "layout": "IPY_MODEL_230bdcbc8c48473ca4442454a396d084"
      }
     },
     "d584471ffdc749d4bb4bde770c1521e6": {
      "model_module": "@jupyter-widgets/controls",
      "model_module_version": "1.5.0",
      "model_name": "HTMLModel",
      "state": {
       "_dom_classes": [],
       "_model_module": "@jupyter-widgets/controls",
       "_model_module_version": "1.5.0",
       "_model_name": "HTMLModel",
       "_view_count": null,
       "_view_module": "@jupyter-widgets/controls",
       "_view_module_version": "1.5.0",
       "_view_name": "HTMLView",
       "description": "",
       "description_tooltip": null,
       "layout": "IPY_MODEL_44050e0ab4e44aa9bb7a9ced4b7de790",
       "placeholder": "​",
       "style": "IPY_MODEL_87554b12219341449f495393b3981c80",
       "value": " 15594/15594 [00:53&lt;00:00, 289.46it/s]"
      }
     },
     "dfa1ec5c730d40d8b1c045a520e9c82a": {
      "model_module": "@jupyter-widgets/controls",
      "model_module_version": "1.5.0",
      "model_name": "FloatProgressModel",
      "state": {
       "_dom_classes": [],
       "_model_module": "@jupyter-widgets/controls",
       "_model_module_version": "1.5.0",
       "_model_name": "FloatProgressModel",
       "_view_count": null,
       "_view_module": "@jupyter-widgets/controls",
       "_view_module_version": "1.5.0",
       "_view_name": "ProgressView",
       "bar_style": "success",
       "description": "",
       "description_tooltip": null,
       "layout": "IPY_MODEL_331c2873193641608d6543ccf747e8e2",
       "max": 15594.0,
       "min": 0.0,
       "orientation": "horizontal",
       "style": "IPY_MODEL_c07610fb3d974f2ca3c0071d900c4319",
       "value": 15594.0
      }
     },
     "e280e8e5610e49d68235c6b5a2a07882": {
      "model_module": "@jupyter-widgets/base",
      "model_module_version": "1.2.0",
      "model_name": "LayoutModel",
      "state": {
       "_model_module": "@jupyter-widgets/base",
       "_model_module_version": "1.2.0",
       "_model_name": "LayoutModel",
       "_view_count": null,
       "_view_module": "@jupyter-widgets/base",
       "_view_module_version": "1.2.0",
       "_view_name": "LayoutView",
       "align_content": null,
       "align_items": null,
       "align_self": null,
       "border": null,
       "bottom": null,
       "display": null,
       "flex": null,
       "flex_flow": null,
       "grid_area": null,
       "grid_auto_columns": null,
       "grid_auto_flow": null,
       "grid_auto_rows": null,
       "grid_column": null,
       "grid_gap": null,
       "grid_row": null,
       "grid_template_areas": null,
       "grid_template_columns": null,
       "grid_template_rows": null,
       "height": null,
       "justify_content": null,
       "justify_items": null,
       "left": null,
       "margin": null,
       "max_height": null,
       "max_width": null,
       "min_height": null,
       "min_width": null,
       "object_fit": null,
       "object_position": null,
       "order": null,
       "overflow": null,
       "overflow_x": null,
       "overflow_y": null,
       "padding": null,
       "right": null,
       "top": null,
       "visibility": null,
       "width": null
      }
     },
     "e7557679d326436abf23b985e9f3aa57": {
      "model_module": "@jupyter-widgets/controls",
      "model_module_version": "1.5.0",
      "model_name": "HTMLModel",
      "state": {
       "_dom_classes": [],
       "_model_module": "@jupyter-widgets/controls",
       "_model_module_version": "1.5.0",
       "_model_name": "HTMLModel",
       "_view_count": null,
       "_view_module": "@jupyter-widgets/controls",
       "_view_module_version": "1.5.0",
       "_view_name": "HTMLView",
       "description": "",
       "description_tooltip": null,
       "layout": "IPY_MODEL_ee4d955ca52a41ee8d5cd8ce040a8cbb",
       "placeholder": "​",
       "style": "IPY_MODEL_237fdb053e6a4896b80716bc02495a56",
       "value": "100%"
      }
     },
     "ee4d955ca52a41ee8d5cd8ce040a8cbb": {
      "model_module": "@jupyter-widgets/base",
      "model_module_version": "1.2.0",
      "model_name": "LayoutModel",
      "state": {
       "_model_module": "@jupyter-widgets/base",
       "_model_module_version": "1.2.0",
       "_model_name": "LayoutModel",
       "_view_count": null,
       "_view_module": "@jupyter-widgets/base",
       "_view_module_version": "1.2.0",
       "_view_name": "LayoutView",
       "align_content": null,
       "align_items": null,
       "align_self": null,
       "border": null,
       "bottom": null,
       "display": null,
       "flex": null,
       "flex_flow": null,
       "grid_area": null,
       "grid_auto_columns": null,
       "grid_auto_flow": null,
       "grid_auto_rows": null,
       "grid_column": null,
       "grid_gap": null,
       "grid_row": null,
       "grid_template_areas": null,
       "grid_template_columns": null,
       "grid_template_rows": null,
       "height": null,
       "justify_content": null,
       "justify_items": null,
       "left": null,
       "margin": null,
       "max_height": null,
       "max_width": null,
       "min_height": null,
       "min_width": null,
       "object_fit": null,
       "object_position": null,
       "order": null,
       "overflow": null,
       "overflow_x": null,
       "overflow_y": null,
       "padding": null,
       "right": null,
       "top": null,
       "visibility": null,
       "width": null
      }
     },
     "f470f9a8124d4df58fe7c45ad66a4b9d": {
      "model_module": "@jupyter-widgets/controls",
      "model_module_version": "1.5.0",
      "model_name": "HTMLModel",
      "state": {
       "_dom_classes": [],
       "_model_module": "@jupyter-widgets/controls",
       "_model_module_version": "1.5.0",
       "_model_name": "HTMLModel",
       "_view_count": null,
       "_view_module": "@jupyter-widgets/controls",
       "_view_module_version": "1.5.0",
       "_view_name": "HTMLView",
       "description": "",
       "description_tooltip": null,
       "layout": "IPY_MODEL_1e731f9488c24c24ac890e1d10fe2c69",
       "placeholder": "​",
       "style": "IPY_MODEL_610fc6e5afc44d42864a679f7789df12",
       "value": " 15594/15594 [02:50&lt;00:00, 97.10it/s]"
      }
     },
     "f97af0f55fc34b7198025021ba850003": {
      "model_module": "@jupyter-widgets/controls",
      "model_module_version": "1.5.0",
      "model_name": "DescriptionStyleModel",
      "state": {
       "_model_module": "@jupyter-widgets/controls",
       "_model_module_version": "1.5.0",
       "_model_name": "DescriptionStyleModel",
       "_view_count": null,
       "_view_module": "@jupyter-widgets/base",
       "_view_module_version": "1.2.0",
       "_view_name": "StyleView",
       "description_width": ""
      }
     },
     "f9fc195ac4424fab8586996e2f81567b": {
      "model_module": "@jupyter-widgets/base",
      "model_module_version": "1.2.0",
      "model_name": "LayoutModel",
      "state": {
       "_model_module": "@jupyter-widgets/base",
       "_model_module_version": "1.2.0",
       "_model_name": "LayoutModel",
       "_view_count": null,
       "_view_module": "@jupyter-widgets/base",
       "_view_module_version": "1.2.0",
       "_view_name": "LayoutView",
       "align_content": null,
       "align_items": null,
       "align_self": null,
       "border": null,
       "bottom": null,
       "display": null,
       "flex": null,
       "flex_flow": null,
       "grid_area": null,
       "grid_auto_columns": null,
       "grid_auto_flow": null,
       "grid_auto_rows": null,
       "grid_column": null,
       "grid_gap": null,
       "grid_row": null,
       "grid_template_areas": null,
       "grid_template_columns": null,
       "grid_template_rows": null,
       "height": null,
       "justify_content": null,
       "justify_items": null,
       "left": null,
       "margin": null,
       "max_height": null,
       "max_width": null,
       "min_height": null,
       "min_width": null,
       "object_fit": null,
       "object_position": null,
       "order": null,
       "overflow": null,
       "overflow_x": null,
       "overflow_y": null,
       "padding": null,
       "right": null,
       "top": null,
       "visibility": null,
       "width": null
      }
     }
    },
    "version_major": 2,
    "version_minor": 0
   }
  }
 },
 "nbformat": 4,
 "nbformat_minor": 5
}
