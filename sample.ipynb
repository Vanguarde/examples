{
 "cells": [
  {
   "cell_type": "markdown",
   "metadata": {
    "ExecuteTime": {
     "end_time": "2021-09-21T18:32:05.702610Z",
     "start_time": "2021-09-21T18:32:05.698889Z"
    },
    "heading_collapsed": true
   },
   "source": [
    "# Imports"
   ]
  },
  {
   "cell_type": "code",
   "execution_count": 4,
   "metadata": {
    "ExecuteTime": {
     "end_time": "2021-09-21T18:33:42.410421Z",
     "start_time": "2021-09-21T18:32:50.683742Z"
    },
    "hidden": true
   },
   "outputs": [
    {
     "name": "stderr",
     "output_type": "stream",
     "text": [
      "Using TensorFlow backend.\n"
     ]
    }
   ],
   "source": [
    "import pandas as pd\n",
    "import nltk\n",
    "from nltk.corpus import stopwords\n",
    "import numpy as np\n",
    "from sklearn.model_selection import train_test_split\n",
    "from numpy import array\n",
    "from keras.preprocessing.text import one_hot\n",
    "from keras.preprocessing.sequence import pad_sequences\n",
    "from keras.models import Sequential, Model\n",
    "from keras.layers.core import Activation, Dropout, Dense\n",
    "from keras.layers import Flatten, Input, concatenate\n",
    "from keras.layers import GlobalMaxPooling1D, Conv1D\n",
    "from keras.layers.embeddings import Embedding\n",
    "from sklearn.model_selection import train_test_split\n",
    "from keras.preprocessing.text import Tokenizer\n",
    "import gensim\n",
    "from gensim.models import Word2Vec\n",
    "from navec import Navec\n",
    "from sklearn.metrics import classification_report\n",
    "from IPython.display import Image\n",
    "from IPython.core.display import HTML \n",
    "\n",
    "from sklearn.svm import SVC\n",
    "from sklearn.model_selection import cross_val_score, ShuffleSplit, GridSearchCV, train_test_split, RandomizedSearchCV\n",
    "from sklearn.feature_extraction.text import TfidfVectorizer \n",
    "from sklearn.naive_bayes import MultinomialNB\n",
    "\n",
    "from sklearn.utils import class_weight\n",
    "\n",
    "from matplotlib import pyplot as plt\n",
    "\n",
    "import io\n",
    "\n",
    "import seaborn as sns"
   ]
  },
  {
   "cell_type": "markdown",
   "metadata": {
    "ExecuteTime": {
     "end_time": "2021-09-21T18:34:19.522394Z",
     "start_time": "2021-09-21T18:34:19.512365Z"
    },
    "heading_collapsed": true
   },
   "source": [
    "# EDA"
   ]
  },
  {
   "cell_type": "markdown",
   "metadata": {
    "ExecuteTime": {
     "end_time": "2021-09-21T19:52:34.001539Z",
     "start_time": "2021-09-21T19:52:33.991639Z"
    },
    "hidden": true
   },
   "source": [
    "Исходная база - 4730 уникальных кусочков, посвященных инфляции. Данные уже изначально были лемматизированы и почищены"
   ]
  },
  {
   "cell_type": "markdown",
   "metadata": {
    "ExecuteTime": {
     "end_time": "2021-09-21T20:30:53.987482Z",
     "start_time": "2021-09-21T20:30:53.976003Z"
    },
    "hidden": true
   },
   "source": [
    "О задаче: предсказание проинфляционности новости,  \n",
    "+ 2 - проинфляционные\n",
    "+ 1 - дезинфляционные\n",
    "+ 0 - нейтральные"
   ]
  },
  {
   "cell_type": "code",
   "execution_count": 252,
   "metadata": {
    "ExecuteTime": {
     "end_time": "2021-09-21T20:45:21.244434Z",
     "start_time": "2021-09-21T20:45:21.230307Z"
    },
    "hidden": true
   },
   "outputs": [],
   "source": [
    "pd.set_option('max_colwidth', 400)"
   ]
  },
  {
   "cell_type": "code",
   "execution_count": 253,
   "metadata": {
    "ExecuteTime": {
     "end_time": "2021-09-21T20:45:21.617936Z",
     "start_time": "2021-09-21T20:45:21.421179Z"
    },
    "hidden": true
   },
   "outputs": [],
   "source": [
    "df = pd.read_excel('3cat.xlsx')\n",
    "df = df.drop_duplicates()\n",
    "df.columns = ['news', 'class']"
   ]
  },
  {
   "cell_type": "markdown",
   "metadata": {
    "ExecuteTime": {
     "end_time": "2021-09-21T19:55:47.386864Z",
     "start_time": "2021-09-21T19:55:47.374357Z"
    },
    "hidden": true
   },
   "source": [
    "количество объектов и фич"
   ]
  },
  {
   "cell_type": "code",
   "execution_count": 254,
   "metadata": {
    "ExecuteTime": {
     "end_time": "2021-09-21T20:45:21.787945Z",
     "start_time": "2021-09-21T20:45:21.773400Z"
    },
    "hidden": true
   },
   "outputs": [
    {
     "data": {
      "text/plain": [
       "(4730, 2)"
      ]
     },
     "execution_count": 254,
     "metadata": {},
     "output_type": "execute_result"
    }
   ],
   "source": [
    "df.shape"
   ]
  },
  {
   "cell_type": "markdown",
   "metadata": {
    "ExecuteTime": {
     "end_time": "2021-09-21T20:29:18.545644Z",
     "start_time": "2021-09-21T20:29:18.533216Z"
    },
    "hidden": true
   },
   "source": [
    "классы немного несбалансированы"
   ]
  },
  {
   "cell_type": "code",
   "execution_count": 255,
   "metadata": {
    "ExecuteTime": {
     "end_time": "2021-09-21T20:45:22.206753Z",
     "start_time": "2021-09-21T20:45:22.109398Z"
    },
    "hidden": true
   },
   "outputs": [
    {
     "data": {
      "text/plain": [
       "<AxesSubplot:xlabel='class', ylabel='count'>"
      ]
     },
     "execution_count": 255,
     "metadata": {},
     "output_type": "execute_result"
    },
    {
     "data": {
      "image/png": "[encoded data removed]",
      "text/plain": [
       "<Figure size 432x288 with 1 Axes>"
      ]
     },
     "metadata": {
      "needs_background": "light"
     },
     "output_type": "display_data"
    }
   ],
   "source": [
    "import seaborn as sns\n",
    "\n",
    "sns.countplot(x='class', data=df)"
   ]
  },
  {
   "cell_type": "markdown",
   "metadata": {
    "ExecuteTime": {
     "end_time": "2021-09-21T19:55:59.797366Z",
     "start_time": "2021-09-21T19:55:59.783044Z"
    },
    "hidden": true
   },
   "source": [
    "проверка на пропуски"
   ]
  },
  {
   "cell_type": "code",
   "execution_count": 256,
   "metadata": {
    "ExecuteTime": {
     "end_time": "2021-09-21T20:45:22.550317Z",
     "start_time": "2021-09-21T20:45:22.529813Z"
    },
    "hidden": true
   },
   "outputs": [
    {
     "data": {
      "text/plain": [
       "news     0\n",
       "class    0\n",
       "dtype: int64"
      ]
     },
     "execution_count": 256,
     "metadata": {},
     "output_type": "execute_result"
    }
   ],
   "source": [
    "df.isnull().sum()"
   ]
  },
  {
   "cell_type": "code",
   "execution_count": 257,
   "metadata": {
    "ExecuteTime": {
     "end_time": "2021-09-21T20:45:22.936809Z",
     "start_time": "2021-09-21T20:45:22.921826Z"
    },
    "hidden": true
   },
   "outputs": [
    {
     "data": {
      "text/html": [
       "<div>\n",
       "<style scoped>\n",
       "    .dataframe tbody tr th:only-of-type {\n",
       "        vertical-align: middle;\n",
       "    }\n",
       "\n",
       "    .dataframe tbody tr th {\n",
       "        vertical-align: top;\n",
       "    }\n",
       "\n",
       "    .dataframe thead th {\n",
       "        text-align: right;\n",
       "    }\n",
       "</style>\n",
       "<table border=\"1\" class=\"dataframe\">\n",
       "  <thead>\n",
       "    <tr style=\"text-align: right;\">\n",
       "      <th></th>\n",
       "      <th>news</th>\n",
       "      <th>class</th>\n",
       "    </tr>\n",
       "  </thead>\n",
       "  <tbody>\n",
       "    <tr>\n",
       "      <th>0</th>\n",
       "      <td>республика  это рассказывать  сайт гтрк чувашия цена  поезд  новый год житель чувашия смочь покупать</td>\n",
       "      <td>0</td>\n",
       "    </tr>\n",
       "    <tr>\n",
       "      <th>1</th>\n",
       "      <td>открываться  долг приходиться оплачивать  текущий тариф ипосколька  платный парковка  центр город большой</td>\n",
       "      <td>0</td>\n",
       "    </tr>\n",
       "    <tr>\n",
       "      <th>2</th>\n",
       "      <td>тема становиться изменение уровень потребительский цена  тариф жкх  подчеркивать глава республика михаил</td>\n",
       "      <td>0</td>\n",
       "    </tr>\n",
       "    <tr>\n",
       "      <th>3</th>\n",
       "      <td>составлять  объем потребление коммунальный услуга  тариф  соответствующий услуга объяснять  сайт тариф</td>\n",
       "      <td>0</td>\n",
       "    </tr>\n",
       "    <tr>\n",
       "      <th>4</th>\n",
       "      <td>республика должный составлять около  учет инфляция    доход значительно низко средний государство</td>\n",
       "      <td>0</td>\n",
       "    </tr>\n",
       "  </tbody>\n",
       "</table>\n",
       "</div>"
      ],
      "text/plain": [
       "                                                                                                           news  \\\n",
       "0         республика  это рассказывать  сайт гтрк чувашия цена  поезд  новый год житель чувашия смочь покупать    \n",
       "1    открываться  долг приходиться оплачивать  текущий тариф ипосколька  платный парковка  центр город большой    \n",
       "2     тема становиться изменение уровень потребительский цена  тариф жкх  подчеркивать глава республика михаил    \n",
       "3      составлять  объем потребление коммунальный услуга  тариф  соответствующий услуга объяснять  сайт тариф     \n",
       "4            республика должный составлять около  учет инфляция    доход значительно низко средний государство    \n",
       "\n",
       "   class  \n",
       "0      0  \n",
       "1      0  \n",
       "2      0  \n",
       "3      0  \n",
       "4      0  "
      ]
     },
     "execution_count": 257,
     "metadata": {},
     "output_type": "execute_result"
    }
   ],
   "source": [
    "df.head()"
   ]
  },
  {
   "cell_type": "markdown",
   "metadata": {
    "ExecuteTime": {
     "end_time": "2021-09-21T19:51:55.055497Z",
     "start_time": "2021-09-21T19:51:55.035626Z"
    },
    "hidden": true
   },
   "source": [
    "Убираю все символы, кроме киррилицы и пробелов."
   ]
  },
  {
   "cell_type": "code",
   "execution_count": 258,
   "metadata": {
    "ExecuteTime": {
     "end_time": "2021-09-21T20:45:24.543272Z",
     "start_time": "2021-09-21T20:45:24.530310Z"
    },
    "hidden": true
   },
   "outputs": [],
   "source": [
    "df['news'] = df['news'].str.replace('?', '', regex=False)\n",
    "df['news'] = df['news'].str.replace('[a-zA-Z]', '')"
   ]
  },
  {
   "cell_type": "code",
   "execution_count": 259,
   "metadata": {
    "ExecuteTime": {
     "end_time": "2021-09-21T20:45:24.949484Z",
     "start_time": "2021-09-21T20:45:24.881380Z"
    },
    "hidden": true
   },
   "outputs": [],
   "source": [
    "X = data_test['news'].to_list()\n",
    "y = data_test['class'].to_list()\n",
    "fdist = nltk.FreqDist()\n",
    "X_proc = []\n",
    "for sent in X:\n",
    "    sent = sent.split()\n",
    "    for word in sent:\n",
    "        fdist[word.lower()] += 1\n",
    "    sent = ' '.join(sent)\n",
    "    X_proc.append(sent)\n",
    "\n",
    "X_train, X_test, y_train, y_test = train_test_split(X_proc, y, test_size=0.2, random_state=42)"
   ]
  },
  {
   "cell_type": "markdown",
   "metadata": {
    "ExecuteTime": {
     "end_time": "2021-09-21T20:21:16.391209Z",
     "start_time": "2021-09-21T20:21:16.375740Z"
    },
    "hidden": true
   },
   "source": [
    "График частотности слов. Словарь специфичен (основа - экономические термины), так как состоит только лишь из кусочков новостей, посвященных инфляции"
   ]
  },
  {
   "cell_type": "code",
   "execution_count": 260,
   "metadata": {
    "ExecuteTime": {
     "end_time": "2021-09-21T20:45:26.108084Z",
     "start_time": "2021-09-21T20:45:25.853291Z"
    },
    "hidden": true
   },
   "outputs": [
    {
     "data": {
      "image/png": "[encoded data removed]",
      "text/plain": [
       "<Figure size 432x288 with 1 Axes>"
      ]
     },
     "metadata": {
      "needs_background": "light"
     },
     "output_type": "display_data"
    },
    {
     "data": {
      "text/plain": [
       "<AxesSubplot:xlabel='Samples', ylabel='Counts'>"
      ]
     },
     "execution_count": 260,
     "metadata": {},
     "output_type": "execute_result"
    }
   ],
   "source": [
    "fdist.plot(30,cumulative=False)"
   ]
  },
  {
   "cell_type": "markdown",
   "metadata": {
    "ExecuteTime": {
     "end_time": "2021-09-21T19:58:44.586783Z",
     "start_time": "2021-09-21T19:58:44.569299Z"
    },
    "hidden": true
   },
   "source": [
    "tf-idf для кусочков"
   ]
  },
  {
   "cell_type": "code",
   "execution_count": 261,
   "metadata": {
    "ExecuteTime": {
     "end_time": "2021-09-21T20:45:28.647584Z",
     "start_time": "2021-09-21T20:45:28.520898Z"
    },
    "hidden": true
   },
   "outputs": [],
   "source": [
    "Tfidf_vect = TfidfVectorizer()\n",
    "Tfidf_vect.fit(X_train)\n",
    "X_train_tfidf = Tfidf_vect.transform(X_train)\n",
    "X_test_tfidf = Tfidf_vect.transform(X_test)"
   ]
  },
  {
   "cell_type": "markdown",
   "metadata": {
    "ExecuteTime": {
     "end_time": "2021-09-21T19:59:36.681009Z",
     "start_time": "2021-09-21T19:59:36.671796Z"
    },
    "hidden": true
   },
   "source": [
    "получаем разреженную матрицу, словарь - 5769 слов. Здесь ограничения на min и max частоту, либо абсолют не накладывались"
   ]
  },
  {
   "cell_type": "code",
   "execution_count": 262,
   "metadata": {
    "ExecuteTime": {
     "end_time": "2021-09-21T20:45:29.277831Z",
     "start_time": "2021-09-21T20:45:29.272845Z"
    },
    "hidden": true
   },
   "outputs": [
    {
     "data": {
      "text/plain": [
       "(3784, 5769)"
      ]
     },
     "execution_count": 262,
     "metadata": {},
     "output_type": "execute_result"
    }
   ],
   "source": [
    "X_train_tfidf.shape"
   ]
  },
  {
   "cell_type": "markdown",
   "metadata": {
    "ExecuteTime": {
     "end_time": "2021-09-21T20:42:19.170862Z",
     "start_time": "2021-09-21T20:42:19.151695Z"
    },
    "hidden": true
   },
   "source": [
    "Кросс-валидация по 5 фолдам с перемешиванием"
   ]
  },
  {
   "cell_type": "code",
   "execution_count": 263,
   "metadata": {
    "ExecuteTime": {
     "end_time": "2021-09-21T20:45:33.564943Z",
     "start_time": "2021-09-21T20:45:33.557315Z"
    },
    "hidden": true
   },
   "outputs": [],
   "source": [
    "cv = ShuffleSplit(n_splits=5, test_size=0.1, random_state=42)"
   ]
  },
  {
   "cell_type": "markdown",
   "metadata": {
    "ExecuteTime": {
     "end_time": "2021-09-21T21:41:57.123726Z",
     "start_time": "2021-09-21T21:41:57.109175Z"
    }
   },
   "source": [
    "# Estimation"
   ]
  },
  {
   "cell_type": "markdown",
   "metadata": {
    "ExecuteTime": {
     "end_time": "2021-09-21T20:32:20.119167Z",
     "start_time": "2021-09-21T20:32:20.102799Z"
    },
    "heading_collapsed": true
   },
   "source": [
    "## Naive Bayes"
   ]
  },
  {
   "cell_type": "markdown",
   "metadata": {
    "ExecuteTime": {
     "end_time": "2021-09-21T20:33:13.452231Z",
     "start_time": "2021-09-21T20:33:13.447219Z"
    },
    "hidden": true
   },
   "source": [
    "Baseline - Naive Bayes. Хоть и наивный (слова пораждаются независимо по наивному предположению), но неплохо работает. Multinomial Naive Bayes как раз подходит для целей NLP"
   ]
  },
  {
   "cell_type": "code",
   "execution_count": 271,
   "metadata": {
    "ExecuteTime": {
     "end_time": "2021-09-21T20:45:56.884216Z",
     "start_time": "2021-09-21T20:45:56.868437Z"
    },
    "hidden": true
   },
   "outputs": [],
   "source": [
    "Naive = MultinomialNB()"
   ]
  },
  {
   "cell_type": "markdown",
   "metadata": {
    "ExecuteTime": {
     "end_time": "2021-09-21T20:37:16.219397Z",
     "start_time": "2021-09-21T20:37:16.208880Z"
    },
    "hidden": true
   },
   "source": [
    "Сделаем поиск по сетке по гиперпараметку $\\alpha$"
   ]
  },
  {
   "cell_type": "code",
   "execution_count": 272,
   "metadata": {
    "ExecuteTime": {
     "end_time": "2021-09-21T20:45:59.007883Z",
     "start_time": "2021-09-21T20:45:58.873255Z"
    },
    "hidden": true
   },
   "outputs": [
    {
     "data": {
      "text/plain": [
       "GridSearchCV(cv=ShuffleSplit(n_splits=5, random_state=42, test_size=0.1, train_size=None),\n",
       "             estimator=MultinomialNB(),\n",
       "             param_grid={'alpha': (1, 0.1, 0.01, 0.001, 0.0001, 1e-05)},\n",
       "             scoring='f1_weighted')"
      ]
     },
     "execution_count": 272,
     "metadata": {},
     "output_type": "execute_result"
    }
   ],
   "source": [
    "from sklearn.model_selection import GridSearchCV\n",
    "parameters = {  \n",
    "'alpha': (1, 0.1, 0.01, 0.001, 0.0001, 0.00001)  \n",
    "}  \n",
    "grid_search= GridSearchCV(Naive, parameters, cv=cv, scoring='f1_weighted')\n",
    "grid_search.fit(X_train_tfidf,y_train)"
   ]
  },
  {
   "cell_type": "code",
   "execution_count": 273,
   "metadata": {
    "ExecuteTime": {
     "end_time": "2021-09-21T20:45:59.321163Z",
     "start_time": "2021-09-21T20:45:59.306186Z"
    },
    "hidden": true
   },
   "outputs": [
    {
     "data": {
      "text/plain": [
       "MultinomialNB(alpha=0.1)"
      ]
     },
     "execution_count": 273,
     "metadata": {},
     "output_type": "execute_result"
    }
   ],
   "source": [
    "grid_search.best_estimator_"
   ]
  },
  {
   "cell_type": "code",
   "execution_count": 284,
   "metadata": {
    "ExecuteTime": {
     "end_time": "2021-09-21T21:36:03.460345Z",
     "start_time": "2021-09-21T21:36:03.450799Z"
    },
    "hidden": true
   },
   "outputs": [
    {
     "name": "stdout",
     "output_type": "stream",
     "text": [
      "              precision    recall  f1-score   support\n",
      "\n",
      "           0       0.64      0.55      0.59       283\n",
      "           1       0.81      0.52      0.63       212\n",
      "           2       0.70      0.88      0.78       451\n",
      "\n",
      "    accuracy                           0.70       946\n",
      "   macro avg       0.72      0.65      0.67       946\n",
      "weighted avg       0.71      0.70      0.69       946\n",
      "\n"
     ]
    }
   ],
   "source": [
    "y_pred_naive = grid_search.predict(X_test_tfidf)\n",
    "print(classification_report(y_test, y_pred_naive))"
   ]
  },
  {
   "cell_type": "markdown",
   "metadata": {
    "ExecuteTime": {
     "end_time": "2021-09-21T20:37:41.820354Z",
     "start_time": "2021-09-21T20:37:41.815334Z"
    },
    "hidden": true
   },
   "source": [
    "F-weighted = 0.7, что будет являться базовым качеством."
   ]
  },
  {
   "cell_type": "markdown",
   "metadata": {
    "ExecuteTime": {
     "end_time": "2021-09-21T20:38:13.875664Z",
     "start_time": "2021-09-21T20:38:13.858948Z"
    },
    "heading_collapsed": true
   },
   "source": [
    "## SVM"
   ]
  },
  {
   "cell_type": "markdown",
   "metadata": {
    "ExecuteTime": {
     "end_time": "2021-09-21T21:37:30.232131Z",
     "start_time": "2021-09-21T21:37:30.213072Z"
    },
    "hidden": true
   },
   "source": [
    "SVM - мейнстрим для решения задач классификации текстов."
   ]
  },
  {
   "cell_type": "code",
   "execution_count": 282,
   "metadata": {
    "ExecuteTime": {
     "end_time": "2021-09-21T20:51:16.038042Z",
     "start_time": "2021-09-21T20:51:16.024543Z"
    },
    "hidden": true
   },
   "outputs": [],
   "source": [
    "clf = SVC(class_weight='balanced', probability=True, kernel='linear') # здесь балансируем классы в самой модели"
   ]
  },
  {
   "cell_type": "markdown",
   "metadata": {
    "ExecuteTime": {
     "end_time": "2021-09-21T20:50:53.656373Z",
     "start_time": "2021-09-21T20:50:53.637561Z"
    },
    "hidden": true
   },
   "source": [
    "Опять же поиск по сетке. Для целей NLP конечно необходимо именно линейное ядро"
   ]
  },
  {
   "cell_type": "code",
   "execution_count": 283,
   "metadata": {
    "ExecuteTime": {
     "end_time": "2021-09-21T20:53:54.678682Z",
     "start_time": "2021-09-21T20:51:17.014738Z"
    },
    "hidden": true
   },
   "outputs": [
    {
     "data": {
      "text/plain": [
       "GridSearchCV(cv=ShuffleSplit(n_splits=5, random_state=42, test_size=0.1, train_size=None),\n",
       "             estimator=SVC(class_weight='balanced', kernel='linear',\n",
       "                           probability=True),\n",
       "             n_jobs=-1,\n",
       "             param_grid=({'C': [1, 10, 100, 1000, 10000],\n",
       "                          'gamma': [0.01, 0.001, 0.0001, 1e-05]},),\n",
       "             scoring='f1_weighted')"
      ]
     },
     "execution_count": 283,
     "metadata": {},
     "output_type": "execute_result"
    }
   ],
   "source": [
    "grid = {'gamma': [1e-2, 1e-3, 1e-4, 1e-5],\n",
    "        'C': [1, 10, 100, 1000, 10000]},\n",
    "svm_model = GridSearchCV(estimator=clf, param_grid=grid, cv=cv, scoring='f1_weighted', n_jobs=-1)\n",
    "svm_model.fit(X_train_tfidf, y_train)"
   ]
  },
  {
   "cell_type": "code",
   "execution_count": 285,
   "metadata": {
    "ExecuteTime": {
     "end_time": "2021-09-21T21:36:32.629237Z",
     "start_time": "2021-09-21T21:36:32.369079Z"
    },
    "hidden": true
   },
   "outputs": [
    {
     "name": "stdout",
     "output_type": "stream",
     "text": [
      "              precision    recall  f1-score   support\n",
      "\n",
      "           0       0.84      0.89      0.86       283\n",
      "           1       0.91      0.88      0.89       212\n",
      "           2       0.95      0.93      0.94       451\n",
      "\n",
      "    accuracy                           0.91       946\n",
      "   macro avg       0.90      0.90      0.90       946\n",
      "weighted avg       0.91      0.91      0.91       946\n",
      "\n"
     ]
    }
   ],
   "source": [
    "y_pred_svm = svm_model.predict(X_test_tfidf)\n",
    "print(classification_report(y_test, y_pred_svm))"
   ]
  },
  {
   "cell_type": "markdown",
   "metadata": {
    "ExecuteTime": {
     "end_time": "2021-09-21T21:37:08.398843Z",
     "start_time": "2021-09-21T21:37:08.393856Z"
    },
    "hidden": true
   },
   "source": [
    "F-weighted = 0.91, что уже является сильным приростом, по сравнению с Naive Bayes"
   ]
  },
  {
   "cell_type": "markdown",
   "metadata": {
    "ExecuteTime": {
     "end_time": "2021-09-21T21:37:46.430660Z",
     "start_time": "2021-09-21T21:37:46.412715Z"
    }
   },
   "source": [
    "## Xgboost"
   ]
  },
  {
   "cell_type": "markdown",
   "metadata": {
    "ExecuteTime": {
     "end_time": "2021-09-21T21:38:24.106678Z",
     "start_time": "2021-09-21T21:38:24.099120Z"
    }
   },
   "source": [
    "Из ансамблевых моделей также стоит попробовать градиентный бустинг, который может тоже показать хороший результат на данных."
   ]
  },
  {
   "cell_type": "code",
   "execution_count": 294,
   "metadata": {
    "ExecuteTime": {
     "end_time": "2021-09-21T21:42:48.471299Z",
     "start_time": "2021-09-21T21:42:39.400864Z"
    }
   },
   "outputs": [
    {
     "name": "stdout",
     "output_type": "stream",
     "text": [
      "Fitting 5 folds for each of 5 candidates, totalling 25 fits\n"
     ]
    },
    {
     "name": "stderr",
     "output_type": "stream",
     "text": [
      "D:\\Anaconda3\\lib\\site-packages\\xgboost\\sklearn.py:888: UserWarning: The use of label encoder in XGBClassifier is deprecated and will be removed in a future release. To remove this warning, do the following: 1) Pass option use_label_encoder=False when constructing XGBClassifier object; and 2) Encode your labels (y) as integers starting with 0, i.e. 0, 1, 2, ..., [num_class - 1].\n",
      "  warnings.warn(label_encoder_deprecation_msg, UserWarning)\n"
     ]
    },
    {
     "name": "stdout",
     "output_type": "stream",
     "text": [
      "[00:42:45] WARNING: C:/Users/Administrator/workspace/xgboost-win64_release_1.3.0/src/learner.cc:1061: Starting in XGBoost 1.3.0, the default evaluation metric used with the objective 'multi:softprob' was changed from 'merror' to 'mlogloss'. Explicitly set eval_metric if you'd like to restore the old behavior.\n"
     ]
    },
    {
     "data": {
      "text/plain": [
       "RandomizedSearchCV(cv=ShuffleSplit(n_splits=5, random_state=42, test_size=0.1, train_size=None),\n",
       "                   error_score=0,\n",
       "                   estimator=XGBClassifier(base_score=None, booster=None,\n",
       "                                           colsample_bylevel=None,\n",
       "                                           colsample_bynode=None,\n",
       "                                           colsample_bytree=None, gamma=None,\n",
       "                                           gpu_id=None, importance_type='gain',\n",
       "                                           interaction_constraints=None,\n",
       "                                           learning_rate=None,\n",
       "                                           max_delta_step=None, max_depth...\n",
       "                                        'gamma': [0, 0.1, 0.3, 0.4],\n",
       "                                        'learning_rate': <scipy.stats._distn_infrastructure.rv_frozen object at 0x000001DFA89A68E0>,\n",
       "                                        'max_depth': [3, 4, 5, 6, 7, 8, 9],\n",
       "                                        'min_child_weight': [1, 2, 3, 4],\n",
       "                                        'n_estimators': <scipy.stats._distn_infrastructure.rv_frozen object at 0x000001DFA89ACDF0>,\n",
       "                                        'subsample': <scipy.stats._distn_infrastructure.rv_frozen object at 0x000001DFA89ACE20>},\n",
       "                   scoring='f1_weighted', verbose=3)"
      ]
     },
     "execution_count": 294,
     "metadata": {},
     "output_type": "execute_result"
    }
   ],
   "source": [
    "from sklearn.model_selection import KFold\n",
    "from scipy import stats\n",
    "import xgboost\n",
    "\n",
    "#здесь уже перехожу к RandomizedSearchCV для более эффективного поиска на сетке\n",
    "model = xgboost.XGBClassifier(nthread=4, objective='binary:logistic', random_state=1)\n",
    "param_dist = {'n_estimators': stats.randint(20, 500),\n",
    "              \"colsample_bytree\": [0.6, 0.8, 1.0],\n",
    "              'learning_rate': stats.uniform(0.01, 0.6),\n",
    "              'subsample': stats.uniform(0.3, 0.8),\n",
    "              'max_depth': [3, 4, 5, 6, 7, 8, 9],\n",
    "              'colsample_bytree': stats.uniform(0.5, 0.9),\n",
    "              'min_child_weight': [1, 2, 3, 4],\n",
    "              \"gamma\": [0, 0.1, 0.3,0.4],\n",
    "             }\n",
    "numFolds = 5\n",
    "clf = RandomizedSearchCV(model, \n",
    "                         param_distributions = param_dist,\n",
    "                         cv = cv,  \n",
    "                         n_iter = 5,\n",
    "                         scoring = 'f1_weighted', \n",
    "                         error_score = 0, \n",
    "                         verbose = 3, \n",
    "                         n_jobs = -1)\n",
    "\n",
    "clf.fit(X_train_tfidf, y_train)"
   ]
  },
  {
   "cell_type": "code",
   "execution_count": 295,
   "metadata": {
    "ExecuteTime": {
     "end_time": "2021-09-21T21:42:51.560875Z",
     "start_time": "2021-09-21T21:42:51.323738Z"
    }
   },
   "outputs": [
    {
     "name": "stdout",
     "output_type": "stream",
     "text": [
      "              precision    recall  f1-score   support\n",
      "\n",
      "           0       0.84      0.89      0.86       283\n",
      "           1       0.91      0.88      0.89       212\n",
      "           2       0.95      0.93      0.94       451\n",
      "\n",
      "    accuracy                           0.91       946\n",
      "   macro avg       0.90      0.90      0.90       946\n",
      "weighted avg       0.91      0.91      0.91       946\n",
      "\n"
     ]
    }
   ],
   "source": [
    "y_pred_xg = svm_model.predict(X_test_tfidf)\n",
    "print(classification_report(y_test, y_pred_xg))"
   ]
  },
  {
   "cell_type": "markdown",
   "metadata": {
    "ExecuteTime": {
     "end_time": "2021-09-21T21:41:16.497151Z",
     "start_time": "2021-09-21T21:41:16.488597Z"
    }
   },
   "source": [
    "Результат оказался сопоставим с SVM. Однако в пользу бустинга говорит то, что он является более быстрым методом, чем SVM."
   ]
  }
 ],
 "metadata": {
  "kernelspec": {
   "display_name": "Python 3",
   "language": "python",
   "name": "python3"
  },
  "language_info": {
   "codemirror_mode": {
    "name": "ipython",
    "version": 3
   },
   "file_extension": ".py",
   "mimetype": "text/x-python",
   "name": "python",
   "nbconvert_exporter": "python",
   "pygments_lexer": "ipython3",
   "version": "3.8.5"
  }
 },
 "nbformat": 4,
 "nbformat_minor": 4
}
